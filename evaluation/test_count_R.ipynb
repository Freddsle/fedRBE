{
 "cells": [
  {
   "cell_type": "code",
   "execution_count": 2,
   "metadata": {
    "vscode": {
     "languageId": "r"
    }
   },
   "outputs": [],
   "source": [
    "library(tidyverse)\n",
    "library(sva)\n",
    "library(edgeR)"
   ]
  },
  {
   "cell_type": "code",
   "execution_count": 20,
   "metadata": {
    "vscode": {
     "languageId": "r"
    }
   },
   "outputs": [],
   "source": [
    "pca_plot <- function(df, batch_info, title, path) {\n",
    "  pca <- prcomp(t(na.omit(df)))\n",
    "  # Plot PCA\n",
    "  pca_df <-\n",
    "    pca$x %>%\n",
    "    as.data.frame() %>%\n",
    "    rownames_to_column(\"sample_id\") %>% \n",
    "    left_join(batch_info,  by = \"sample_id\") \n",
    "  # add % of explained variance\n",
    "  var_expl <- pca$sdev^2 / sum(pca$sdev^2)\n",
    "  names(var_expl) <- paste0(\"PC\", 1:length(var_expl))\n",
    "  # Add the label for the specific point\n",
    "  pca_plot <- pca_df %>%\n",
    "    ggplot(aes(PC1, PC2)) +\n",
    "    geom_point(aes(col=lab, shape=Lum), size=2) +\n",
    "    theme_classic() +\n",
    "    labs(title = title,\n",
    "         x = glue::glue(\"PC1 [{round(var_expl['PC1']*100, 2)}%]\"),\n",
    "         y = glue::glue(\"PC2 [{round(var_expl['PC2']*100, 2)}%]\"))\n",
    "\n",
    "  if(path != \"\") {ggsave(path, pca_plot)}\n",
    "  return(pca_plot)\n",
    "}"
   ]
  },
  {
   "cell_type": "code",
   "execution_count": 11,
   "metadata": {
    "vscode": {
     "languageId": "r"
    }
   },
   "outputs": [],
   "source": [
    "labs_list = c('GSE129508', 'GSE149276', 'GSE58135')  \n",
    "data_matrix <- NULL\n",
    "meta_info <- NULL\n",
    "\n",
    "for (name in labs_list) {\n",
    "  file_name_prefix <- paste0('/home/yuliya/repos/cosybio/removeBatch/test_data/counts/')\n",
    "\n",
    "  if(is.null(data_matrix)){\n",
    "    data_matrix <- read.csv(paste0(file_name_prefix, 'raw/', name, '.counts.tsv'), check.names = FALSE, sep=\"\\t\") \n",
    "    meta_info <- read.csv(paste0(file_name_prefix, name, '.sample_info.tsv'), check.names = FALSE, sep=\"\\t\")\n",
    "    # add new column with name\n",
    "    meta_info$lab <- name\n",
    "  } else {\n",
    "    data_matrix <- full_join(data_matrix, \n",
    "                       read.csv(paste0(file_name_prefix, 'raw/', name, '.counts.tsv'), check.names = FALSE, sep=\"\\t\"),\n",
    "                       by = \"gene_id\")\n",
    "    meta_info <- rbind(meta_info, read.csv(paste0(file_name_prefix, name, '.sample_info.tsv'), check.names = FALSE, sep=\"\\t\") %>% mutate(lab = name))\n",
    "  }\n",
    "}\n",
    "\n",
    "rownames(meta_info) <- meta_info$sample_id\n",
    "meta_info <- meta_info %>% mutate(is_LumA = as.factor(is_LumA), lab = as.factor(lab))\n",
    "data_matrix <- data_matrix %>% column_to_rownames(\"gene_id\")\n",
    "#data_matrix <- data_matrix[, rownames(meta_info)]\n",
    "\n",
    "meta_plots <- meta_info"
   ]
  },
  {
   "cell_type": "code",
   "execution_count": 12,
   "metadata": {
    "vscode": {
     "languageId": "r"
    }
   },
   "outputs": [
    {
     "data": {
      "text/html": [
       "<style>\n",
       ".list-inline {list-style: none; margin:0; padding: 0}\n",
       ".list-inline>li {display: inline-block}\n",
       ".list-inline>li:not(:last-child)::after {content: \"\\00b7\"; padding: 0 .5ex}\n",
       "</style>\n",
       "<ol class=list-inline><li>35238</li><li>132</li></ol>\n"
      ],
      "text/latex": [
       "\\begin{enumerate*}\n",
       "\\item 35238\n",
       "\\item 132\n",
       "\\end{enumerate*}\n"
      ],
      "text/markdown": [
       "1. 35238\n",
       "2. 132\n",
       "\n",
       "\n"
      ],
      "text/plain": [
       "[1] 35238   132"
      ]
     },
     "metadata": {},
     "output_type": "display_data"
    },
    {
     "data": {
      "text/html": [
       "<table class=\"dataframe\">\n",
       "<caption>A data.frame: 6 × 132</caption>\n",
       "<thead>\n",
       "\t<tr><th></th><th scope=col>GSM3714577</th><th scope=col>GSM3714579</th><th scope=col>GSM3714581</th><th scope=col>GSM3714585</th><th scope=col>GSM3714587</th><th scope=col>GSM3714589</th><th scope=col>GSM3714591</th><th scope=col>GSM3714595</th><th scope=col>GSM3714597</th><th scope=col>GSM3714599</th><th scope=col>⋯</th><th scope=col>GSM1401714</th><th scope=col>GSM1401725</th><th scope=col>GSM1401692</th><th scope=col>GSM1401689</th><th scope=col>GSM1401752</th><th scope=col>GSM1401719</th><th scope=col>GSM1401736</th><th scope=col>GSM1401744</th><th scope=col>GSM1401681</th><th scope=col>GSM1401723</th></tr>\n",
       "\t<tr><th></th><th scope=col>&lt;int&gt;</th><th scope=col>&lt;int&gt;</th><th scope=col>&lt;int&gt;</th><th scope=col>&lt;int&gt;</th><th scope=col>&lt;int&gt;</th><th scope=col>&lt;int&gt;</th><th scope=col>&lt;int&gt;</th><th scope=col>&lt;int&gt;</th><th scope=col>&lt;int&gt;</th><th scope=col>&lt;int&gt;</th><th scope=col>⋯</th><th scope=col>&lt;int&gt;</th><th scope=col>&lt;int&gt;</th><th scope=col>&lt;int&gt;</th><th scope=col>&lt;int&gt;</th><th scope=col>&lt;int&gt;</th><th scope=col>&lt;int&gt;</th><th scope=col>&lt;int&gt;</th><th scope=col>&lt;int&gt;</th><th scope=col>&lt;int&gt;</th><th scope=col>&lt;int&gt;</th></tr>\n",
       "</thead>\n",
       "<tbody>\n",
       "\t<tr><th scope=row>A1BG</th><td>  363</td><td>  732</td><td>  650</td><td>  379</td><td>  912</td><td>   98</td><td>  376</td><td>   88</td><td>  506</td><td>  184</td><td>⋯</td><td>1914</td><td>  425</td><td> 1051</td><td> 1034</td><td>2422</td><td>1147</td><td>  634</td><td> 2498</td><td>1179</td><td>   760</td></tr>\n",
       "\t<tr><th scope=row>A1CF</th><td>    5</td><td>   16</td><td>    0</td><td>    7</td><td>   15</td><td>    0</td><td>    3</td><td>    4</td><td>    2</td><td>   10</td><td>⋯</td><td> 110</td><td>    9</td><td>   33</td><td>   38</td><td> 205</td><td>  76</td><td>   26</td><td>   83</td><td>  26</td><td>    41</td></tr>\n",
       "\t<tr><th scope=row>A2M</th><td>19059</td><td>16821</td><td>15554</td><td>14844</td><td>31897</td><td>10656</td><td>15895</td><td>32102</td><td>26985</td><td>20846</td><td>⋯</td><td>5048</td><td>11582</td><td>16842</td><td>19400</td><td>1912</td><td>4247</td><td>48515</td><td>18468</td><td>2978</td><td>256904</td></tr>\n",
       "\t<tr><th scope=row>A2ML1</th><td>   52</td><td>   31</td><td>   11</td><td>   44</td><td>  101</td><td>   64</td><td>  121</td><td>   62</td><td>   51</td><td> 1300</td><td>⋯</td><td>1218</td><td> 4266</td><td>  219</td><td>  141</td><td> 248</td><td> 933</td><td> 9083</td><td>  793</td><td> 121</td><td>   291</td></tr>\n",
       "\t<tr><th scope=row>A2MP1</th><td>    1</td><td>    0</td><td>    0</td><td>    0</td><td>    1</td><td>    0</td><td>    0</td><td>    0</td><td>    1</td><td>    0</td><td>⋯</td><td>  39</td><td>    8</td><td>   34</td><td>   74</td><td>  19</td><td>  14</td><td>   21</td><td>   19</td><td>   6</td><td>    67</td></tr>\n",
       "\t<tr><th scope=row>A3GALT2</th><td>    1</td><td>    0</td><td>    2</td><td>    1</td><td>    7</td><td>    0</td><td>    1</td><td>    1</td><td>    3</td><td>    2</td><td>⋯</td><td>  43</td><td>    9</td><td>    6</td><td>   11</td><td>  23</td><td>  63</td><td>    9</td><td>   34</td><td>   6</td><td>    12</td></tr>\n",
       "</tbody>\n",
       "</table>\n"
      ],
      "text/latex": [
       "A data.frame: 6 × 132\n",
       "\\begin{tabular}{r|lllllllllllllllllllll}\n",
       "  & GSM3714577 & GSM3714579 & GSM3714581 & GSM3714585 & GSM3714587 & GSM3714589 & GSM3714591 & GSM3714595 & GSM3714597 & GSM3714599 & ⋯ & GSM1401714 & GSM1401725 & GSM1401692 & GSM1401689 & GSM1401752 & GSM1401719 & GSM1401736 & GSM1401744 & GSM1401681 & GSM1401723\\\\\n",
       "  & <int> & <int> & <int> & <int> & <int> & <int> & <int> & <int> & <int> & <int> & ⋯ & <int> & <int> & <int> & <int> & <int> & <int> & <int> & <int> & <int> & <int>\\\\\n",
       "\\hline\n",
       "\tA1BG &   363 &   732 &   650 &   379 &   912 &    98 &   376 &    88 &   506 &   184 & ⋯ & 1914 &   425 &  1051 &  1034 & 2422 & 1147 &   634 &  2498 & 1179 &    760\\\\\n",
       "\tA1CF &     5 &    16 &     0 &     7 &    15 &     0 &     3 &     4 &     2 &    10 & ⋯ &  110 &     9 &    33 &    38 &  205 &   76 &    26 &    83 &   26 &     41\\\\\n",
       "\tA2M & 19059 & 16821 & 15554 & 14844 & 31897 & 10656 & 15895 & 32102 & 26985 & 20846 & ⋯ & 5048 & 11582 & 16842 & 19400 & 1912 & 4247 & 48515 & 18468 & 2978 & 256904\\\\\n",
       "\tA2ML1 &    52 &    31 &    11 &    44 &   101 &    64 &   121 &    62 &    51 &  1300 & ⋯ & 1218 &  4266 &   219 &   141 &  248 &  933 &  9083 &   793 &  121 &    291\\\\\n",
       "\tA2MP1 &     1 &     0 &     0 &     0 &     1 &     0 &     0 &     0 &     1 &     0 & ⋯ &   39 &     8 &    34 &    74 &   19 &   14 &    21 &    19 &    6 &     67\\\\\n",
       "\tA3GALT2 &     1 &     0 &     2 &     1 &     7 &     0 &     1 &     1 &     3 &     2 & ⋯ &   43 &     9 &     6 &    11 &   23 &   63 &     9 &    34 &    6 &     12\\\\\n",
       "\\end{tabular}\n"
      ],
      "text/markdown": [
       "\n",
       "A data.frame: 6 × 132\n",
       "\n",
       "| <!--/--> | GSM3714577 &lt;int&gt; | GSM3714579 &lt;int&gt; | GSM3714581 &lt;int&gt; | GSM3714585 &lt;int&gt; | GSM3714587 &lt;int&gt; | GSM3714589 &lt;int&gt; | GSM3714591 &lt;int&gt; | GSM3714595 &lt;int&gt; | GSM3714597 &lt;int&gt; | GSM3714599 &lt;int&gt; | ⋯ ⋯ | GSM1401714 &lt;int&gt; | GSM1401725 &lt;int&gt; | GSM1401692 &lt;int&gt; | GSM1401689 &lt;int&gt; | GSM1401752 &lt;int&gt; | GSM1401719 &lt;int&gt; | GSM1401736 &lt;int&gt; | GSM1401744 &lt;int&gt; | GSM1401681 &lt;int&gt; | GSM1401723 &lt;int&gt; |\n",
       "|---|---|---|---|---|---|---|---|---|---|---|---|---|---|---|---|---|---|---|---|---|---|\n",
       "| A1BG |   363 |   732 |   650 |   379 |   912 |    98 |   376 |    88 |   506 |   184 | ⋯ | 1914 |   425 |  1051 |  1034 | 2422 | 1147 |   634 |  2498 | 1179 |    760 |\n",
       "| A1CF |     5 |    16 |     0 |     7 |    15 |     0 |     3 |     4 |     2 |    10 | ⋯ |  110 |     9 |    33 |    38 |  205 |   76 |    26 |    83 |   26 |     41 |\n",
       "| A2M | 19059 | 16821 | 15554 | 14844 | 31897 | 10656 | 15895 | 32102 | 26985 | 20846 | ⋯ | 5048 | 11582 | 16842 | 19400 | 1912 | 4247 | 48515 | 18468 | 2978 | 256904 |\n",
       "| A2ML1 |    52 |    31 |    11 |    44 |   101 |    64 |   121 |    62 |    51 |  1300 | ⋯ | 1218 |  4266 |   219 |   141 |  248 |  933 |  9083 |   793 |  121 |    291 |\n",
       "| A2MP1 |     1 |     0 |     0 |     0 |     1 |     0 |     0 |     0 |     1 |     0 | ⋯ |   39 |     8 |    34 |    74 |   19 |   14 |    21 |    19 |    6 |     67 |\n",
       "| A3GALT2 |     1 |     0 |     2 |     1 |     7 |     0 |     1 |     1 |     3 |     2 | ⋯ |   43 |     9 |     6 |    11 |   23 |   63 |     9 |    34 |    6 |     12 |\n",
       "\n"
      ],
      "text/plain": [
       "        GSM3714577 GSM3714579 GSM3714581 GSM3714585 GSM3714587 GSM3714589\n",
       "A1BG      363        732        650        379        912         98     \n",
       "A1CF        5         16          0          7         15          0     \n",
       "A2M     19059      16821      15554      14844      31897      10656     \n",
       "A2ML1      52         31         11         44        101         64     \n",
       "A2MP1       1          0          0          0          1          0     \n",
       "A3GALT2     1          0          2          1          7          0     \n",
       "        GSM3714591 GSM3714595 GSM3714597 GSM3714599 ⋯ GSM1401714 GSM1401725\n",
       "A1BG      376         88        506        184      ⋯ 1914         425     \n",
       "A1CF        3          4          2         10      ⋯  110           9     \n",
       "A2M     15895      32102      26985      20846      ⋯ 5048       11582     \n",
       "A2ML1     121         62         51       1300      ⋯ 1218        4266     \n",
       "A2MP1       0          0          1          0      ⋯   39           8     \n",
       "A3GALT2     1          1          3          2      ⋯   43           9     \n",
       "        GSM1401692 GSM1401689 GSM1401752 GSM1401719 GSM1401736 GSM1401744\n",
       "A1BG     1051       1034      2422       1147         634       2498     \n",
       "A1CF       33         38       205         76          26         83     \n",
       "A2M     16842      19400      1912       4247       48515      18468     \n",
       "A2ML1     219        141       248        933        9083        793     \n",
       "A2MP1      34         74        19         14          21         19     \n",
       "A3GALT2     6         11        23         63           9         34     \n",
       "        GSM1401681 GSM1401723\n",
       "A1BG    1179          760    \n",
       "A1CF      26           41    \n",
       "A2M     2978       256904    \n",
       "A2ML1    121          291    \n",
       "A2MP1      6           67    \n",
       "A3GALT2    6           12    "
      ]
     },
     "metadata": {},
     "output_type": "display_data"
    }
   ],
   "source": [
    "dim(data_matrix)\n",
    "head(data_matrix)"
   ]
  },
  {
   "cell_type": "code",
   "execution_count": 13,
   "metadata": {
    "vscode": {
     "languageId": "r"
    }
   },
   "outputs": [
    {
     "data": {
      "text/html": [
       "<style>\n",
       ".list-inline {list-style: none; margin:0; padding: 0}\n",
       ".list-inline>li {display: inline-block}\n",
       ".list-inline>li:not(:last-child)::after {content: \"\\00b7\"; padding: 0 .5ex}\n",
       "</style>\n",
       "<ol class=list-inline><li>132</li><li>5</li></ol>\n"
      ],
      "text/latex": [
       "\\begin{enumerate*}\n",
       "\\item 132\n",
       "\\item 5\n",
       "\\end{enumerate*}\n"
      ],
      "text/markdown": [
       "1. 132\n",
       "2. 5\n",
       "\n",
       "\n"
      ],
      "text/plain": [
       "[1] 132   5"
      ]
     },
     "metadata": {},
     "output_type": "display_data"
    },
    {
     "data": {
      "text/html": [
       "<table class=\"dataframe\">\n",
       "<caption>A data.frame: 6 × 5</caption>\n",
       "<thead>\n",
       "\t<tr><th></th><th scope=col>sample_id</th><th scope=col>Lum</th><th scope=col>Basal</th><th scope=col>is_LumA</th><th scope=col>lab</th></tr>\n",
       "\t<tr><th></th><th scope=col>&lt;chr&gt;</th><th scope=col>&lt;int&gt;</th><th scope=col>&lt;int&gt;</th><th scope=col>&lt;fct&gt;</th><th scope=col>&lt;fct&gt;</th></tr>\n",
       "</thead>\n",
       "<tbody>\n",
       "\t<tr><th scope=row>GSM3714577</th><td>GSM3714577</td><td>1</td><td>0</td><td>1</td><td>GSE129508</td></tr>\n",
       "\t<tr><th scope=row>GSM3714579</th><td>GSM3714579</td><td>1</td><td>0</td><td>0</td><td>GSE129508</td></tr>\n",
       "\t<tr><th scope=row>GSM3714581</th><td>GSM3714581</td><td>1</td><td>0</td><td>0</td><td>GSE129508</td></tr>\n",
       "\t<tr><th scope=row>GSM3714585</th><td>GSM3714585</td><td>1</td><td>0</td><td>1</td><td>GSE129508</td></tr>\n",
       "\t<tr><th scope=row>GSM3714587</th><td>GSM3714587</td><td>1</td><td>0</td><td>1</td><td>GSE129508</td></tr>\n",
       "\t<tr><th scope=row>GSM3714589</th><td>GSM3714589</td><td>1</td><td>0</td><td>0</td><td>GSE129508</td></tr>\n",
       "</tbody>\n",
       "</table>\n"
      ],
      "text/latex": [
       "A data.frame: 6 × 5\n",
       "\\begin{tabular}{r|lllll}\n",
       "  & sample\\_id & Lum & Basal & is\\_LumA & lab\\\\\n",
       "  & <chr> & <int> & <int> & <fct> & <fct>\\\\\n",
       "\\hline\n",
       "\tGSM3714577 & GSM3714577 & 1 & 0 & 1 & GSE129508\\\\\n",
       "\tGSM3714579 & GSM3714579 & 1 & 0 & 0 & GSE129508\\\\\n",
       "\tGSM3714581 & GSM3714581 & 1 & 0 & 0 & GSE129508\\\\\n",
       "\tGSM3714585 & GSM3714585 & 1 & 0 & 1 & GSE129508\\\\\n",
       "\tGSM3714587 & GSM3714587 & 1 & 0 & 1 & GSE129508\\\\\n",
       "\tGSM3714589 & GSM3714589 & 1 & 0 & 0 & GSE129508\\\\\n",
       "\\end{tabular}\n"
      ],
      "text/markdown": [
       "\n",
       "A data.frame: 6 × 5\n",
       "\n",
       "| <!--/--> | sample_id &lt;chr&gt; | Lum &lt;int&gt; | Basal &lt;int&gt; | is_LumA &lt;fct&gt; | lab &lt;fct&gt; |\n",
       "|---|---|---|---|---|---|\n",
       "| GSM3714577 | GSM3714577 | 1 | 0 | 1 | GSE129508 |\n",
       "| GSM3714579 | GSM3714579 | 1 | 0 | 0 | GSE129508 |\n",
       "| GSM3714581 | GSM3714581 | 1 | 0 | 0 | GSE129508 |\n",
       "| GSM3714585 | GSM3714585 | 1 | 0 | 1 | GSE129508 |\n",
       "| GSM3714587 | GSM3714587 | 1 | 0 | 1 | GSE129508 |\n",
       "| GSM3714589 | GSM3714589 | 1 | 0 | 0 | GSE129508 |\n",
       "\n"
      ],
      "text/plain": [
       "           sample_id  Lum Basal is_LumA lab      \n",
       "GSM3714577 GSM3714577 1   0     1       GSE129508\n",
       "GSM3714579 GSM3714579 1   0     0       GSE129508\n",
       "GSM3714581 GSM3714581 1   0     0       GSE129508\n",
       "GSM3714585 GSM3714585 1   0     1       GSE129508\n",
       "GSM3714587 GSM3714587 1   0     1       GSE129508\n",
       "GSM3714589 GSM3714589 1   0     0       GSE129508"
      ]
     },
     "metadata": {},
     "output_type": "display_data"
    }
   ],
   "source": [
    "dim(meta_info)\n",
    "head(meta_info)"
   ]
  },
  {
   "cell_type": "markdown",
   "metadata": {},
   "source": [
    "# on raw"
   ]
  },
  {
   "cell_type": "code",
   "execution_count": 14,
   "metadata": {
    "vscode": {
     "languageId": "r"
    }
   },
   "outputs": [
    {
     "data": {
      "text/html": [
       "<table class=\"dataframe\">\n",
       "<caption>A data.frame: 3 × 5</caption>\n",
       "<thead>\n",
       "\t<tr><th></th><th scope=col>sample_id</th><th scope=col>Lum</th><th scope=col>Basal</th><th scope=col>is_LumA</th><th scope=col>lab</th></tr>\n",
       "\t<tr><th></th><th scope=col>&lt;chr&gt;</th><th scope=col>&lt;int&gt;</th><th scope=col>&lt;int&gt;</th><th scope=col>&lt;fct&gt;</th><th scope=col>&lt;fct&gt;</th></tr>\n",
       "</thead>\n",
       "<tbody>\n",
       "\t<tr><th scope=row>GSM3714577</th><td>GSM3714577</td><td>1</td><td>0</td><td>1</td><td>GSE129508</td></tr>\n",
       "\t<tr><th scope=row>GSM3714579</th><td>GSM3714579</td><td>1</td><td>0</td><td>0</td><td>GSE129508</td></tr>\n",
       "\t<tr><th scope=row>GSM3714581</th><td>GSM3714581</td><td>1</td><td>0</td><td>0</td><td>GSE129508</td></tr>\n",
       "</tbody>\n",
       "</table>\n"
      ],
      "text/latex": [
       "A data.frame: 3 × 5\n",
       "\\begin{tabular}{r|lllll}\n",
       "  & sample\\_id & Lum & Basal & is\\_LumA & lab\\\\\n",
       "  & <chr> & <int> & <int> & <fct> & <fct>\\\\\n",
       "\\hline\n",
       "\tGSM3714577 & GSM3714577 & 1 & 0 & 1 & GSE129508\\\\\n",
       "\tGSM3714579 & GSM3714579 & 1 & 0 & 0 & GSE129508\\\\\n",
       "\tGSM3714581 & GSM3714581 & 1 & 0 & 0 & GSE129508\\\\\n",
       "\\end{tabular}\n"
      ],
      "text/markdown": [
       "\n",
       "A data.frame: 3 × 5\n",
       "\n",
       "| <!--/--> | sample_id &lt;chr&gt; | Lum &lt;int&gt; | Basal &lt;int&gt; | is_LumA &lt;fct&gt; | lab &lt;fct&gt; |\n",
       "|---|---|---|---|---|---|\n",
       "| GSM3714577 | GSM3714577 | 1 | 0 | 1 | GSE129508 |\n",
       "| GSM3714579 | GSM3714579 | 1 | 0 | 0 | GSE129508 |\n",
       "| GSM3714581 | GSM3714581 | 1 | 0 | 0 | GSE129508 |\n",
       "\n"
      ],
      "text/plain": [
       "           sample_id  Lum Basal is_LumA lab      \n",
       "GSM3714577 GSM3714577 1   0     1       GSE129508\n",
       "GSM3714579 GSM3714579 1   0     0       GSE129508\n",
       "GSM3714581 GSM3714581 1   0     0       GSE129508"
      ]
     },
     "metadata": {},
     "output_type": "display_data"
    }
   ],
   "source": []
  },
  {
   "cell_type": "code",
   "execution_count": 15,
   "metadata": {
    "vscode": {
     "languageId": "r"
    }
   },
   "outputs": [
    {
     "name": "stdout",
     "output_type": "stream",
     "text": [
      "Found 6394 genes with uniform expression within a single batch (all zeros); these will not be adjusted for batch.\n"
     ]
    },
    {
     "name": "stderr",
     "output_type": "stream",
     "text": [
      "Found3batches\n",
      "\n",
      "Adjusting for1covariate(s) or covariate level(s)\n",
      "\n",
      "Standardizing Data across genes\n",
      "\n",
      "Fitting L/S model and finding priors\n",
      "\n",
      "Finding parametric adjustments\n",
      "\n",
      "Adjusting the Data\n",
      "\n",
      "\n"
     ]
    }
   ],
   "source": [
    "mod_covariates <- model.matrix(~ Lum, data=meta_info)\n",
    "batch <- as.numeric(meta_info$lab) - 1\n",
    "\n",
    "# Run ComBat\n",
    "batch_corrected_raw <- ComBat(data_matrix, batch=batch, mod=mod_covariates)"
   ]
  },
  {
   "cell_type": "markdown",
   "metadata": {},
   "source": [
    "# on normalized"
   ]
  },
  {
   "cell_type": "code",
   "execution_count": 16,
   "metadata": {
    "vscode": {
     "languageId": "r"
    }
   },
   "outputs": [
    {
     "name": "stdout",
     "output_type": "stream",
     "text": [
      "Genes passed filterByExprs: 19861"
     ]
    },
    {
     "data": {
      "text/html": [
       "<table class=\"dataframe\">\n",
       "<caption>A matrix: 3 × 132 of type dbl</caption>\n",
       "<thead>\n",
       "\t<tr><th></th><th scope=col>GSM3714577</th><th scope=col>GSM3714579</th><th scope=col>GSM3714581</th><th scope=col>GSM3714585</th><th scope=col>GSM3714587</th><th scope=col>GSM3714589</th><th scope=col>GSM3714591</th><th scope=col>GSM3714595</th><th scope=col>GSM3714597</th><th scope=col>GSM3714599</th><th scope=col>⋯</th><th scope=col>GSM1401714</th><th scope=col>GSM1401725</th><th scope=col>GSM1401692</th><th scope=col>GSM1401689</th><th scope=col>GSM1401752</th><th scope=col>GSM1401719</th><th scope=col>GSM1401736</th><th scope=col>GSM1401744</th><th scope=col>GSM1401681</th><th scope=col>GSM1401723</th></tr>\n",
       "</thead>\n",
       "<tbody>\n",
       "\t<tr><th scope=row>A1BG</th><td> 3.427972</td><td> 4.6818628</td><td> 4.394393</td><td> 4.032185</td><td> 4.661398</td><td> 1.935841</td><td> 3.785306</td><td> 1.127351</td><td> 3.705522</td><td> 2.864899</td><td>⋯</td><td>6.021296</td><td> 2.689867</td><td> 4.4189874</td><td> 4.475718</td><td>5.965890</td><td>5.334068</td><td> 3.044363</td><td>5.466796</td><td> 4.7461815</td><td> 3.4646067</td></tr>\n",
       "\t<tr><th scope=row>A1CF</th><td>-2.334306</td><td>-0.7115367</td><td>-4.300637</td><td>-1.506405</td><td>-1.101217</td><td>-4.300637</td><td>-2.640736</td><td>-2.758910</td><td>-3.291839</td><td>-1.171689</td><td>⋯</td><td>1.918648</td><td>-2.424217</td><td>-0.4722795</td><td>-0.206615</td><td>2.415998</td><td>1.443697</td><td>-1.369657</td><td>0.602655</td><td>-0.6405645</td><td>-0.6358548</td></tr>\n",
       "\t<tr><th scope=row>A2M</th><td> 9.135644</td><td> 9.2014082</td><td> 8.971756</td><td> 9.319356</td><td> 9.786829</td><td> 8.681425</td><td> 9.181809</td><td> 9.604483</td><td> 9.436882</td><td> 9.678825</td><td>⋯</td><td>7.419717</td><td> 7.447174</td><td> 8.4180041</td><td> 8.702348</td><td>5.625086</td><td>7.221321</td><td> 9.293383</td><td>8.351546</td><td> 6.0813127</td><td>11.8589939</td></tr>\n",
       "</tbody>\n",
       "</table>\n"
      ],
      "text/latex": [
       "A matrix: 3 × 132 of type dbl\n",
       "\\begin{tabular}{r|lllllllllllllllllllll}\n",
       "  & GSM3714577 & GSM3714579 & GSM3714581 & GSM3714585 & GSM3714587 & GSM3714589 & GSM3714591 & GSM3714595 & GSM3714597 & GSM3714599 & ⋯ & GSM1401714 & GSM1401725 & GSM1401692 & GSM1401689 & GSM1401752 & GSM1401719 & GSM1401736 & GSM1401744 & GSM1401681 & GSM1401723\\\\\n",
       "\\hline\n",
       "\tA1BG &  3.427972 &  4.6818628 &  4.394393 &  4.032185 &  4.661398 &  1.935841 &  3.785306 &  1.127351 &  3.705522 &  2.864899 & ⋯ & 6.021296 &  2.689867 &  4.4189874 &  4.475718 & 5.965890 & 5.334068 &  3.044363 & 5.466796 &  4.7461815 &  3.4646067\\\\\n",
       "\tA1CF & -2.334306 & -0.7115367 & -4.300637 & -1.506405 & -1.101217 & -4.300637 & -2.640736 & -2.758910 & -3.291839 & -1.171689 & ⋯ & 1.918648 & -2.424217 & -0.4722795 & -0.206615 & 2.415998 & 1.443697 & -1.369657 & 0.602655 & -0.6405645 & -0.6358548\\\\\n",
       "\tA2M &  9.135644 &  9.2014082 &  8.971756 &  9.319356 &  9.786829 &  8.681425 &  9.181809 &  9.604483 &  9.436882 &  9.678825 & ⋯ & 7.419717 &  7.447174 &  8.4180041 &  8.702348 & 5.625086 & 7.221321 &  9.293383 & 8.351546 &  6.0813127 & 11.8589939\\\\\n",
       "\\end{tabular}\n"
      ],
      "text/markdown": [
       "\n",
       "A matrix: 3 × 132 of type dbl\n",
       "\n",
       "| <!--/--> | GSM3714577 | GSM3714579 | GSM3714581 | GSM3714585 | GSM3714587 | GSM3714589 | GSM3714591 | GSM3714595 | GSM3714597 | GSM3714599 | ⋯ | GSM1401714 | GSM1401725 | GSM1401692 | GSM1401689 | GSM1401752 | GSM1401719 | GSM1401736 | GSM1401744 | GSM1401681 | GSM1401723 |\n",
       "|---|---|---|---|---|---|---|---|---|---|---|---|---|---|---|---|---|---|---|---|---|---|\n",
       "| A1BG |  3.427972 |  4.6818628 |  4.394393 |  4.032185 |  4.661398 |  1.935841 |  3.785306 |  1.127351 |  3.705522 |  2.864899 | ⋯ | 6.021296 |  2.689867 |  4.4189874 |  4.475718 | 5.965890 | 5.334068 |  3.044363 | 5.466796 |  4.7461815 |  3.4646067 |\n",
       "| A1CF | -2.334306 | -0.7115367 | -4.300637 | -1.506405 | -1.101217 | -4.300637 | -2.640736 | -2.758910 | -3.291839 | -1.171689 | ⋯ | 1.918648 | -2.424217 | -0.4722795 | -0.206615 | 2.415998 | 1.443697 | -1.369657 | 0.602655 | -0.6405645 | -0.6358548 |\n",
       "| A2M |  9.135644 |  9.2014082 |  8.971756 |  9.319356 |  9.786829 |  8.681425 |  9.181809 |  9.604483 |  9.436882 |  9.678825 | ⋯ | 7.419717 |  7.447174 |  8.4180041 |  8.702348 | 5.625086 | 7.221321 |  9.293383 | 8.351546 |  6.0813127 | 11.8589939 |\n",
       "\n"
      ],
      "text/plain": [
       "     GSM3714577 GSM3714579 GSM3714581 GSM3714585 GSM3714587 GSM3714589\n",
       "A1BG  3.427972   4.6818628  4.394393   4.032185   4.661398   1.935841 \n",
       "A1CF -2.334306  -0.7115367 -4.300637  -1.506405  -1.101217  -4.300637 \n",
       "A2M   9.135644   9.2014082  8.971756   9.319356   9.786829   8.681425 \n",
       "     GSM3714591 GSM3714595 GSM3714597 GSM3714599 ⋯ GSM1401714 GSM1401725\n",
       "A1BG  3.785306   1.127351   3.705522   2.864899  ⋯ 6.021296    2.689867 \n",
       "A1CF -2.640736  -2.758910  -3.291839  -1.171689  ⋯ 1.918648   -2.424217 \n",
       "A2M   9.181809   9.604483   9.436882   9.678825  ⋯ 7.419717    7.447174 \n",
       "     GSM1401692 GSM1401689 GSM1401752 GSM1401719 GSM1401736 GSM1401744\n",
       "A1BG  4.4189874  4.475718  5.965890   5.334068    3.044363  5.466796  \n",
       "A1CF -0.4722795 -0.206615  2.415998   1.443697   -1.369657  0.602655  \n",
       "A2M   8.4180041  8.702348  5.625086   7.221321    9.293383  8.351546  \n",
       "     GSM1401681 GSM1401723\n",
       "A1BG  4.7461815  3.4646067\n",
       "A1CF -0.6405645 -0.6358548\n",
       "A2M   6.0813127 11.8589939"
      ]
     },
     "metadata": {},
     "output_type": "display_data"
    }
   ],
   "source": [
    "raw_exprs <- DGEList(data_matrix)\n",
    "\n",
    "# normalize \n",
    "all_groups <- c(group1, group2)\n",
    "group = as.factor(apply(meta_info[, all_groups], 1, function(x) {\n",
    "  all_groups[as.logical(x)]\n",
    "}))\n",
    "keep_exprs <- filterByExpr(raw_exprs, group=group)\n",
    "\n",
    "cat(paste0(\"Genes passed filterByExprs: \",length(keep_exprs[keep_exprs])))\n",
    "raw_exprs_filtered <- raw_exprs[keep_exprs,, keep.lib.sizes=FALSE]\n",
    "\n",
    "raw_exprs <- calcNormFactors(raw_exprs_filtered, method = \"upperquartile\") # TMM\n",
    "\n",
    "raw_exprs_normalized <- cpm(raw_exprs, log=TRUE)\n",
    "head(raw_exprs_normalized, 3)"
   ]
  },
  {
   "cell_type": "code",
   "execution_count": 17,
   "metadata": {
    "vscode": {
     "languageId": "r"
    }
   },
   "outputs": [
    {
     "name": "stderr",
     "output_type": "stream",
     "text": [
      "Found3batches\n",
      "\n",
      "Adjusting for1covariate(s) or covariate level(s)\n",
      "\n",
      "Standardizing Data across genes\n",
      "\n",
      "Fitting L/S model and finding priors\n",
      "\n",
      "Finding parametric adjustments\n",
      "\n",
      "Adjusting the Data\n",
      "\n",
      "\n"
     ]
    }
   ],
   "source": [
    "mod_covariates <- model.matrix(~ Lum, data=meta_info)\n",
    "batch <- as.numeric(meta_info$lab) - 1\n",
    "\n",
    "# Run ComBat\n",
    "batch_corrected_normalized <- ComBat(raw_exprs_normalized, batch=batch, mod=mod_covariates)"
   ]
  },
  {
   "cell_type": "markdown",
   "metadata": {},
   "source": [
    "# plots"
   ]
  },
  {
   "cell_type": "code",
   "execution_count": 23,
   "metadata": {
    "vscode": {
     "languageId": "r"
    }
   },
   "outputs": [],
   "source": [
    "meta_plots$Lum <- as.factor(meta_plots$Lum)"
   ]
  },
  {
   "cell_type": "markdown",
   "metadata": {},
   "source": [
    "on raw"
   ]
  },
  {
   "cell_type": "code",
   "execution_count": 24,
   "metadata": {
    "vscode": {
     "languageId": "r"
    }
   },
   "outputs": [
    {
     "data": {
      "image/png": "[encoded data removed]",
      "text/plain": [
       "plot without title"
      ]
     },
     "metadata": {
      "image/png": {
       "height": 270,
       "width": 300
      }
     },
     "output_type": "display_data"
    }
   ],
   "source": [
    "# raw normalized\n",
    "options(repr.plot.width =  5, repr.plot.height = 4.5)\n",
    "pca_plot(log2(data_matrix + 1), meta_plots, \"Raw\", \"\")"
   ]
  },
  {
   "cell_type": "code",
   "execution_count": 25,
   "metadata": {
    "vscode": {
     "languageId": "r"
    }
   },
   "outputs": [
    {
     "name": "stderr",
     "output_type": "stream",
     "text": [
      "Warning message in na.omit(df):\n",
      "“NaNs produced”\n"
     ]
    },
    {
     "data": {
      "image/png": "[encoded data removed]",
      "text/plain": [
       "plot without title"
      ]
     },
     "metadata": {
      "image/png": {
       "height": 270,
       "width": 300
      }
     },
     "output_type": "display_data"
    }
   ],
   "source": [
    "# raw normalized\n",
    "options(repr.plot.width =  5, repr.plot.height = 4.5)\n",
    "pca_plot(log2(batch_corrected_raw + 1), meta_plots, \"Raw corrected\", \"\")"
   ]
  },
  {
   "cell_type": "markdown",
   "metadata": {},
   "source": [
    "on normalized"
   ]
  },
  {
   "cell_type": "code",
   "execution_count": 26,
   "metadata": {
    "vscode": {
     "languageId": "r"
    }
   },
   "outputs": [
    {
     "data": {
      "image/png": "[encoded data removed]",
      "text/plain": [
       "plot without title"
      ]
     },
     "metadata": {
      "image/png": {
       "height": 270,
       "width": 300
      }
     },
     "output_type": "display_data"
    }
   ],
   "source": [
    "# raw normalized\n",
    "options(repr.plot.width =  5, repr.plot.height = 4.5)\n",
    "pca_plot(raw_exprs_normalized, meta_plots, \"Raw normalized\", \"\")"
   ]
  },
  {
   "cell_type": "code",
   "execution_count": 28,
   "metadata": {
    "vscode": {
     "languageId": "r"
    }
   },
   "outputs": [
    {
     "data": {
      "image/png": "[encoded data removed]",
      "text/plain": [
       "plot without title"
      ]
     },
     "metadata": {
      "image/png": {
       "height": 270,
       "width": 300
      }
     },
     "output_type": "display_data"
    }
   ],
   "source": [
    "# raw normalized\n",
    "options(repr.plot.width =  5, repr.plot.height = 4.5)\n",
    "pca_plot(batch_corrected_normalized, meta_plots, \"Normalized corrected\", \"\")"
   ]
  },
  {
   "cell_type": "markdown",
   "metadata": {},
   "source": [
    "# save to file"
   ]
  },
  {
   "cell_type": "code",
   "execution_count": 30,
   "metadata": {
    "vscode": {
     "languageId": "r"
    }
   },
   "outputs": [],
   "source": [
    "# save to file\n",
    "write.table(batch_corrected_normalized, file = \"/home/yuliya/repos/cosybio/removeBatch/test_data/processed_counts/batch_corrected_normalized.tsv\", sep = \"\\t\", quote = FALSE, row.names = TRUE, col.names = TRUE)"
   ]
  },
  {
   "cell_type": "code",
   "execution_count": 31,
   "metadata": {
    "vscode": {
     "languageId": "r"
    }
   },
   "outputs": [],
   "source": [
    "# save to file\n",
    "write.table(raw_exprs_normalized, file = \"/home/yuliya/repos/cosybio/removeBatch/test_data/processed_counts/raw_exprs_normalized.tsv\", sep = \"\\t\", quote = FALSE, row.names = TRUE, col.names = TRUE)"
   ]
  },
  {
   "cell_type": "code",
   "execution_count": 33,
   "metadata": {
    "vscode": {
     "languageId": "r"
    }
   },
   "outputs": [],
   "source": [
    "\n",
    "# save to file\n",
    "write.table(data_matrix, file = \"/home/yuliya/repos/cosybio/removeBatch/test_data/processed_counts/data_matrix.tsv\", sep = \"\\t\", quote = FALSE, row.names = TRUE, col.names = TRUE)"
   ]
  },
  {
   "cell_type": "code",
   "execution_count": 32,
   "metadata": {
    "vscode": {
     "languageId": "r"
    }
   },
   "outputs": [],
   "source": [
    "\n",
    "\n",
    "# save to file\n",
    "write.table(batch_corrected_raw, file = \"/home/yuliya/repos/cosybio/removeBatch/test_data/processed_counts/batch_corrected_raw.tsv\", sep = \"\\t\", quote = FALSE, row.names = TRUE, col.names = TRUE)"
   ]
  },
  {
   "cell_type": "code",
   "execution_count": 34,
   "metadata": {
    "vscode": {
     "languageId": "r"
    }
   },
   "outputs": [],
   "source": [
    "# meta\n",
    "write.table(meta_info, file = \"/home/yuliya/repos/cosybio/removeBatch/test_data/processed_counts/meta_info.tsv\", sep = \"\\t\", quote = FALSE, row.names = TRUE, col.names = TRUE)"
   ]
  },
  {
   "cell_type": "code",
   "execution_count": null,
   "metadata": {
    "vscode": {
     "languageId": "r"
    }
   },
   "outputs": [],
   "source": []
  }
 ],
 "metadata": {
  "kernelspec": {
   "display_name": "R",
   "language": "R",
   "name": "ir"
  },
  "language_info": {
   "codemirror_mode": "r",
   "file_extension": ".r",
   "mimetype": "text/x-r-source",
   "name": "R",
   "pygments_lexer": "r",
   "version": "4.3.2"
  }
 },
 "nbformat": 4,
 "nbformat_minor": 2
}
