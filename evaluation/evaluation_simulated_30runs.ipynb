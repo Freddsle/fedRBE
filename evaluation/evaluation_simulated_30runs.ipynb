{
 "cells": [
  {
   "cell_type": "code",
   "execution_count": 1,
   "metadata": {
    "vscode": {
     "languageId": "r"
    }
   },
   "outputs": [
    {
     "name": "stderr",
     "output_type": "stream",
     "text": [
      "── \u001b[1mAttaching core tidyverse packages\u001b[22m ──────────────────────── tidyverse 2.0.0 ──\n",
      "\u001b[32m✔\u001b[39m \u001b[34mdplyr    \u001b[39m 1.1.4     \u001b[32m✔\u001b[39m \u001b[34mreadr    \u001b[39m 2.1.5\n",
      "\u001b[32m✔\u001b[39m \u001b[34mforcats  \u001b[39m 1.0.0     \u001b[32m✔\u001b[39m \u001b[34mstringr  \u001b[39m 1.5.1\n",
      "\u001b[32m✔\u001b[39m \u001b[34mggplot2  \u001b[39m 3.5.1     \u001b[32m✔\u001b[39m \u001b[34mtibble   \u001b[39m 3.2.1\n",
      "\u001b[32m✔\u001b[39m \u001b[34mlubridate\u001b[39m 1.9.3     \u001b[32m✔\u001b[39m \u001b[34mtidyr    \u001b[39m 1.3.1\n",
      "\u001b[32m✔\u001b[39m \u001b[34mpurrr    \u001b[39m 1.0.2     \n",
      "── \u001b[1mConflicts\u001b[22m ────────────────────────────────────────── tidyverse_conflicts() ──\n",
      "\u001b[31m✖\u001b[39m \u001b[34mdplyr\u001b[39m::\u001b[32mfilter()\u001b[39m masks \u001b[34mstats\u001b[39m::filter()\n",
      "\u001b[31m✖\u001b[39m \u001b[34mdplyr\u001b[39m::\u001b[32mlag()\u001b[39m    masks \u001b[34mstats\u001b[39m::lag()\n",
      "\u001b[36mℹ\u001b[39m Use the conflicted package (\u001b[3m\u001b[34m<http://conflicted.r-lib.org/>\u001b[39m\u001b[23m) to force all conflicts to become errors\n",
      "\n",
      "Attaching package: ‘gridExtra’\n",
      "\n",
      "\n",
      "The following object is masked from ‘package:dplyr’:\n",
      "\n",
      "    combine\n",
      "\n",
      "\n",
      "Loading required package: viridisLite\n",
      "\n",
      "Loading required package: limma\n",
      "\n",
      "Loading required package: BiocParallel\n",
      "\n",
      "\n",
      "Attaching package: ‘variancePartition’\n",
      "\n",
      "\n",
      "The following object is masked from ‘package:limma’:\n",
      "\n",
      "    topTable\n",
      "\n",
      "\n"
     ]
    }
   ],
   "source": [
    "library(tidyverse)\n",
    "\n",
    "library(grid)\n",
    "library(gridExtra)\n",
    "library(patchwork)\n",
    "\n",
    "source(\"../evaluation_utils/plots_eda.R\")\n",
    "source(\"../evaluation_utils/evaluation_funcs.R\")"
   ]
  },
  {
   "cell_type": "code",
   "execution_count": 2,
   "metadata": {
    "vscode": {
     "languageId": "r"
    }
   },
   "outputs": [
    {
     "data": {
      "text/html": [
       "'R version 4.3.3 (2024-02-29)'"
      ],
      "text/latex": [
       "'R version 4.3.3 (2024-02-29)'"
      ],
      "text/markdown": [
       "'R version 4.3.3 (2024-02-29)'"
      ],
      "text/plain": [
       "[1] \"R version 4.3.3 (2024-02-29)\""
      ]
     },
     "metadata": {},
     "output_type": "display_data"
    }
   ],
   "source": [
    "# R version\n",
    "R.version.string"
   ]
  },
  {
   "cell_type": "code",
   "execution_count": 3,
   "metadata": {
    "vscode": {
     "languageId": "r"
    }
   },
   "outputs": [],
   "source": [
    "cbPalette <- c(\"#CC79A7\", \"#56B4E9\", \"#009E73\", \"#F0E442\", \"#0072B2\", \"#D55E00\")"
   ]
  },
  {
   "cell_type": "markdown",
   "metadata": {},
   "source": [
    "# Load data"
   ]
  },
  {
   "cell_type": "code",
   "execution_count": 4,
   "metadata": {
    "vscode": {
     "languageId": "r"
    }
   },
   "outputs": [],
   "source": [
    "path_to_data <- \"../evaluation_data/simulated/\"\n",
    "n_runs <- 30\n"
   ]
  },
  {
   "cell_type": "code",
   "execution_count": 19,
   "metadata": {
    "vscode": {
     "languageId": "r"
    }
   },
   "outputs": [],
   "source": [
    "for(mode in c(\"balanced\", \"mild_imbalanced\", \"strong_imbalanced\")){\n",
    "    differences_table <- data.frame(\n",
    "        min = numeric(),\n",
    "        max = numeric(),\n",
    "        mean = numeric(),\n",
    "        mean_sd = numeric()\n",
    "    )\n",
    "    # error_expr_levels_table <- data.frame(\n",
    "    #     min = numeric(),\n",
    "    #     max = numeric(),\n",
    "    #     mean = numeric()\n",
    "    # )\n",
    "\n",
    "    print(paste0(\"Processing mode: \", mode))\n",
    "\n",
    "    metadata <- read.csv(paste0(path_to_data, mode, \"/all_metadata.tsv\"), sep = \"\\t\") %>%\n",
    "        as.data.frame()\n",
    "    rownames(metadata) <- metadata$file\n",
    "\n",
    "    for(j in 1:n_runs){\n",
    "        fedsim_results <- read.csv(\n",
    "                paste0(path_to_data, mode, \"/after/runs/\", j, \"_FedSim_corrected.tsv\"), \n",
    "                sep = \"\\t\") %>%\n",
    "            as.data.frame() %>% column_to_rownames(\"rowname\")\n",
    "        fedsim_results <- fedsim_results[, metadata$file]\n",
    "\n",
    "        r_corrected <- read.csv(\n",
    "                paste0(path_to_data, mode, \"/after/runs/\", j, \"_R_corrected.tsv\"), \n",
    "                sep = \"\\t\") %>%\n",
    "            as.data.frame() %>% column_to_rownames(\"rowname\")\n",
    "\n",
    "        # if size of r_corrected is different from fedsim_results, print a warning\n",
    "        if(nrow(r_corrected) != nrow(fedsim_results)){\n",
    "            print(paste0(\"Warning: size of R_corrected is different from FedSim_corrected for run \", j))\n",
    "        } else if (ncol(r_corrected) != ncol(fedsim_results)){\n",
    "            print(paste0(\"Warning: number of samples in R_corrected is different from FedSim_corrected for run \", j))\n",
    "        }\n",
    "        \n",
    "        r_corrected <- r_corrected[, metadata$file]\n",
    "        fedsim_results <- fedsim_results[rownames(r_corrected), colnames(r_corrected)]\n",
    "\n",
    "        # calcualte differences\n",
    "        differences <- as.matrix(abs(r_corrected - fedsim_results))\n",
    "        min_max_mean <- c(min(differences, na.rm = TRUE), max(differences, na.rm = TRUE), mean(differences, na.rm = TRUE))\n",
    "        # sd for mean values\n",
    "        sd_value <- sd(differences, na.rm = TRUE)\n",
    "        differences_table[j, ] <- c(min_max_mean, sd_value)\n",
    "\n",
    "        # # differences divided by expression level in r_corrected\n",
    "        # error_expr_levels <- abs(differences * 100 / as.matrix(r_corrected))\n",
    "        # min_max_mean_expr_levels <- c(min(error_expr_levels, na.rm = TRUE), \n",
    "        #                               max(error_expr_levels, na.rm = TRUE), \n",
    "        #                               mean(error_expr_levels, na.rm = TRUE))\n",
    "        # error_expr_levels_table[j, ] <- min_max_mean_expr_levels\n",
    "\n",
    "        \n",
    "        # form <- ~ condition + lab\n",
    "        # # calculate after correction LMPV\n",
    "        # after_correction_lmpv <- lmpv_plot(fedsim_results, metadata, \n",
    "        #                                    form = form, only_table = TRUE)\n",
    "        # # write to file\n",
    "        # write.table(after_correction_lmpv, \n",
    "        #             paste0(\"eval_simulation/\", mode, \"/lmvp/\", j, \"_after_correction_lmpv.tsv\"),\n",
    "        #             sep = \"\\t\", quote = FALSE, row.names = FALSE)\n",
    "    }\n",
    "\n",
    "    # write differences to file with max, min, mean colnames\n",
    "    write.table(differences_table %>% rownames_to_column(\"run\"),\n",
    "                paste0(\"eval_simulation/\", mode, \"/differences_fedRBE_R.tsv\"),\n",
    "                sep = \"\\t\", quote = FALSE, row.names = FALSE)\n",
    "\n",
    "    # # write differences to file with max, min, mean colnames\n",
    "    # write.table(error_expr_levels_table %>% rownames_to_column(\"run\"),\n",
    "    #             paste0(\"eval_simulation/\", mode, \"/error_expr_levels_fedRBE_R.tsv\"),\n",
    "    #             sep = \"\\t\", quote = FALSE, row.names = FALSE)\n",
    "}"
   ]
  },
  {
   "cell_type": "markdown",
   "metadata": {},
   "source": [
    "error calcualtion but faster"
   ]
  },
  {
   "cell_type": "code",
   "execution_count": 10,
   "metadata": {
    "vscode": {
     "languageId": "r"
    }
   },
   "outputs": [
    {
     "name": "stderr",
     "output_type": "stream",
     "text": [
      "Warning message in fread(paste0(path_to_data, mode, \"/all_metadata.tsv\"), sep = \"\\t\"):\n",
      "“Detected 3 column names but the data has 4 columns (i.e. invalid file). Added 1 extra default column name for the first column which is guessed to be row names or an index. Use setnames() afterwards if this guess is not correct, or fix the file write command that created the file to create a valid file.”\n",
      "Warning message in FUN(X[[i]], ...):\n",
      "“Detected 4 columns; expected 3. Adjusting...”\n",
      "Warning message in fread(paste0(path_to_data, mode, \"/all_metadata.tsv\"), sep = \"\\t\"):\n",
      "“Detected 3 column names but the data has 4 columns (i.e. invalid file). Added 1 extra default column name for the first column which is guessed to be row names or an index. Use setnames() afterwards if this guess is not correct, or fix the file write command that created the file to create a valid file.”\n",
      "Warning message in FUN(X[[i]], ...):\n",
      "“Detected 4 columns; expected 3. Adjusting...”\n",
      "Warning message in fread(paste0(path_to_data, mode, \"/all_metadata.tsv\"), sep = \"\\t\"):\n",
      "“Detected 3 column names but the data has 4 columns (i.e. invalid file). Added 1 extra default column name for the first column which is guessed to be row names or an index. Use setnames() afterwards if this guess is not correct, or fix the file write command that created the file to create a valid file.”\n",
      "Warning message in FUN(X[[i]], ...):\n",
      "“Detected 4 columns; expected 3. Adjusting...”\n"
     ]
    },
    {
     "name": "stdout",
     "output_type": "stream",
     "text": [
      "[1] \"Processing mode: balanced\"\n",
      "[1] \"Processing mode: mild_imbalanced\"\n",
      "[1] \"Processing mode: strong_imbalanced\"\n"
     ]
    }
   ],
   "source": [
    "library(data.table)\n",
    "library(parallel)\n",
    "\n",
    "# Cache metadata once for all modes\n",
    "metadata_list <- lapply(c(\"balanced\", \"mild_imbalanced\", \"strong_imbalanced\"), function(mode) {\n",
    "  metadata <- fread(paste0(path_to_data, mode, \"/all_metadata.tsv\"), sep = \"\\t\")\n",
    "  \n",
    "  # Handle unexpected columns in the metadata\n",
    "  expected_columns <- 3  # Assuming you expect 3 columns\n",
    "  if (ncol(metadata) > expected_columns) {\n",
    "    warning(paste0(\"Detected \", ncol(metadata), \" columns; expected \", expected_columns, \". Adjusting...\"))\n",
    "    metadata <- metadata[, .SD, .SDcols = 2:(expected_columns + 1)]  # Adjust column selection as needed\n",
    "  }\n",
    "  \n",
    "  setDT(metadata, key = \"file\")\n",
    "  list(mode = mode, metadata = metadata)\n",
    "})\n",
    "\n",
    "for (metadata_info in metadata_list) {\n",
    "  mode <- metadata_info$mode\n",
    "  metadata <- metadata_info$metadata\n",
    "  \n",
    "  differences_table <- data.frame(\n",
    "    min = numeric(n_runs),\n",
    "    max = numeric(n_runs),\n",
    "    mean = numeric(n_runs),\n",
    "    mean_sd = numeric(n_runs)\n",
    "  )\n",
    "  \n",
    "  print(paste0(\"Processing mode: \", mode))\n",
    "\n",
    "  # Parallelize the loop over runs\n",
    "  results <- mclapply(1:n_runs, function(j) {\n",
    "    fedsim_path <- paste0(path_to_data, mode, \"/after/runs/\", j, \"_FedSim_corrected.tsv\")\n",
    "    r_corrected_path <- paste0(path_to_data, mode, \"/after/runs/\", j, \"_R_corrected.tsv\")\n",
    "    \n",
    "    # Read FedSim and R-corrected files\n",
    "    fedsim_results <- fread(fedsim_path, sep = \"\\t\")\n",
    "    r_corrected <- fread(r_corrected_path, sep = \"\\t\")\n",
    "\n",
    "    # Check for size mismatch\n",
    "    if (nrow(r_corrected) != nrow(fedsim_results) || ncol(r_corrected) != ncol(fedsim_results)) {\n",
    "      warning(paste0(\"Size mismatch for run \", j, \" in mode \", mode))\n",
    "      return(NULL)\n",
    "    }\n",
    "\n",
    "    # Align column and row order\n",
    "    setkeyv(r_corrected, \"rowname\")\n",
    "    setkeyv(fedsim_results, \"rowname\")\n",
    "    fedsim_results <- fedsim_results[, metadata$file, with = FALSE]\n",
    "    r_corrected <- r_corrected[, metadata$file, with = FALSE]\n",
    "    \n",
    "    # Calculate differences\n",
    "    differences <- abs(as.matrix(r_corrected) - as.matrix(fedsim_results))\n",
    "    c(min(differences, na.rm = TRUE), \n",
    "      max(differences, na.rm = TRUE), \n",
    "      mean(differences, na.rm = TRUE), \n",
    "      sd(differences, na.rm = TRUE))\n",
    "  }, mc.cores = 5)\n",
    "\n",
    "  # Combine results and write to output\n",
    "  differences_table <- do.call(rbind, results)\n",
    "  # add colnames\n",
    "  colnames(differences_table) <- c(\"min\", \"max\", \"mean\", \"mean_sd\")\n",
    "  output_path <- paste0(\"eval_simulation/\", mode, \"/differences_fedRBE_R.tsv\")\n",
    "  fwrite(data.frame(run = 1:n_runs, differences_table), output_path, sep = \"\\t\")\n",
    "}\n"
   ]
  },
  {
   "cell_type": "markdown",
   "metadata": {},
   "source": [
    "before correctuin lmpv"
   ]
  },
  {
   "cell_type": "code",
   "execution_count": 52,
   "metadata": {
    "vscode": {
     "languageId": "r"
    }
   },
   "outputs": [
    {
     "name": "stdout",
     "output_type": "stream",
     "text": [
      "[1] \"Processing mode: balanced\"\n",
      "[1] \"Processing mode: mild_imbalanced\"\n",
      "[1] \"Processing mode: strong_imbalanced\"\n"
     ]
    }
   ],
   "source": [
    "for(mode in c(\n",
    "    \"balanced\",  \"mild_imbalanced\", \"strong_imbalanced\"\n",
    ")){\n",
    "    print(paste0(\"Processing mode: \", mode))\n",
    "\n",
    "    metadata <- read.csv(paste0(path_to_data, mode, \"/all_metadata.tsv\"), sep = \"\\t\") %>%\n",
    "        as.data.frame()\n",
    "    rownames(metadata) <- metadata$file\n",
    "\n",
    "    for(j in 1:n_runs){\n",
    "        before_corr <- read.csv(\n",
    "                paste0(path_to_data, mode, \"/before/intermediate/\", j, \"_intensities_data.tsv\"), \n",
    "                sep = \"\\t\") %>%\n",
    "            as.data.frame() %>% column_to_rownames(\"rowname\")\n",
    "        before_corr <- before_corr[, metadata$file]\n",
    "\n",
    "\n",
    "        form <- ~ condition + lab\n",
    "        # calculate after correction LMPV\n",
    "        before_correction_lmpv <- lmpv_plot(before_corr, metadata, \n",
    "                                           form = form, only_table = TRUE)\n",
    "        # write to file\n",
    "        write.table(before_correction_lmpv, \n",
    "                    paste0(\"eval_simulation/\", mode, \"/lmvp/\", j, \"_before_correction_lmpv.tsv\"),\n",
    "                    sep = \"\\t\", quote = FALSE, row.names = FALSE)\n",
    "    }\n",
    "}"
   ]
  },
  {
   "cell_type": "markdown",
   "metadata": {},
   "source": [
    "# Evaluation errors"
   ]
  },
  {
   "cell_type": "code",
   "execution_count": 46,
   "metadata": {
    "vscode": {
     "languageId": "r"
    }
   },
   "outputs": [],
   "source": [
    "library(tidyverse)"
   ]
  },
  {
   "cell_type": "code",
   "execution_count": 52,
   "metadata": {
    "vscode": {
     "languageId": "r"
    }
   },
   "outputs": [
    {
     "name": "stdout",
     "output_type": "stream",
     "text": [
      "[1] \"Processing mode: balanced\"\n",
      "[1] \"Processing mode: mild_imbalanced\"\n",
      "[1] \"Processing mode: strong_imbalanced\"\n"
     ]
    },
    {
     "data": {
      "image/png": "[encoded data removed]",
      "text/plain": [
       "plot without title"
      ]
     },
     "metadata": {
      "image/png": {
       "height": 240,
       "width": 900
      }
     },
     "output_type": "display_data"
    }
   ],
   "source": [
    "library(ggplot2)\n",
    "library(dplyr)\n",
    "\n",
    "# List of modes to iterate over\n",
    "modes <- c(\"balanced\", \"mild_imbalanced\", \"strong_imbalanced\")\n",
    "combined_df <- data.frame() # Initialize an empty data frame for combining data\n",
    "\n",
    "# Read and combine data for all modes\n",
    "for (mode in modes) {\n",
    "    print(paste0(\"Processing mode: \", mode))\n",
    "    errors_df <- read.table(paste0(\"eval_simulation/\", mode, \"/differences_fedRBE_R.tsv\"), sep = \"\\t\", header = TRUE)\n",
    "    errors_df$mode <- ifelse(mode == \"balanced\", \"Balanced\", ifelse(mode == \"mild_imbalanced\", \"Mild Imbalanced\", \"Strong Imbalanced\")) # Add a column for the mode\n",
    "    combined_df <- rbind(combined_df, errors_df) # Combine data\n",
    "}\n",
    "\n",
    "# Calculate the maximum value for each mode\n",
    "max_values_df <- combined_df %>% \n",
    "    group_by(mode) %>% \n",
    "    summarise(max_value = max(max, na.rm = TRUE))\n",
    "\n",
    "# Merge the max values back into the combined dataframe for plotting\n",
    "combined_df <- combined_df %>% \n",
    "    left_join(max_values_df, by = \"mode\")\n",
    "\n",
    "options(repr.plot.width = 15, repr.plot.height = 4, dpi = 600)\n",
    "# Plotting using ggplot2\n",
    "ggplot(combined_df, aes(x = run)) +\n",
    "    geom_ribbon(aes(ymin = pmax(0, mean - mean_sd), ymax = mean + mean_sd, fill = \"Mean ± SD\"), alpha = 0.2) +\n",
    "    geom_line(aes(y = mean, color = \"Mean Error\"), size = 1, linetype = \"dashed\") +\n",
    "    geom_line(aes(y = max, color = \"Max Error\"), size = 2, linetype = \"dashed\") +\n",
    "    geom_line(aes(y = min, color = \"Min Error\"), size = 2, linetype = \"dotted\") +\n",
    "    facet_wrap(~ mode, nrow = 1, scales = \"fixed\") + # One row, fixed y-axis\n",
    "    geom_text(data = max_values_df, \n",
    "          aes(x = Inf, y = Inf, label = paste0(\"Maximum absolute difference for all runs: \", scales::scientific(max_value, digits = 2))), \n",
    "          hjust = 1.1, vjust = 1.1, size = 4, color = \"black\") +\n",
    "    labs(\n",
    "        title = \"Absolute differences (errors) between fedRBE-corrected and removeBatchEffect() corrected data\",\n",
    "        x = \"Run\",\n",
    "        y = \"Error (absolute difference)\"\n",
    "    ) +\n",
    "    scale_color_manual(values = c(\"Max Error\" = \"red\", \"Mean Error\" = \"blue\", \"Min Error\" = \"green\")) +\n",
    "    scale_fill_manual(values = c(\"Mean ± SD\" = \"blue\")) + # Color for the shaded area\n",
    "    theme_minimal() +\n",
    "    theme(\n",
    "        strip.text = element_text(size = 14), # Make mode names larger and bold\n",
    "        axis.text.x = element_text(size = 12), # Make x-axis labels larger\n",
    "        axis.text.y = element_text(size = 12), # Make y-axis labels larger\n",
    "        plot.title = element_text(size = 18), # Make plot title larger\n",
    "        # make legend text larger\n",
    "        legend.text = element_text(size = 12),\n",
    "        legend.title = element_blank(),\n",
    "        legend.position = \"bottom\" # Adjust legend position for clarity\n",
    "    )\n"
   ]
  },
  {
   "cell_type": "code",
   "execution_count": 4,
   "metadata": {
    "vscode": {
     "languageId": "r"
    }
   },
   "outputs": [
    {
     "name": "stdout",
     "output_type": "stream",
     "text": [
      "[1] \"Processing mode: balanced\"\n",
      "[1] \"Processing mode: mild_imbalanced\"\n",
      "[1] \"Processing mode: strong_imbalanced\"\n"
     ]
    },
    {
     "data": {
      "text/html": [
       "<table class=\"dataframe\">\n",
       "<caption>A tibble: 3 × 3</caption>\n",
       "<thead>\n",
       "\t<tr><th scope=col>mode</th><th scope=col>mean_value</th><th scope=col>max_value</th></tr>\n",
       "\t<tr><th scope=col>&lt;chr&gt;</th><th scope=col>&lt;dbl&gt;</th><th scope=col>&lt;dbl&gt;</th></tr>\n",
       "</thead>\n",
       "<tbody>\n",
       "\t<tr><td>Balanced         </td><td>2.018134e-15</td><td>3.552714e-13</td></tr>\n",
       "\t<tr><td>Mild Imbalanced  </td><td>2.255777e-15</td><td>5.684342e-14</td></tr>\n",
       "\t<tr><td>Strong Imbalanced</td><td>2.035043e-15</td><td>2.700062e-13</td></tr>\n",
       "</tbody>\n",
       "</table>\n"
      ],
      "text/latex": [
       "A tibble: 3 × 3\n",
       "\\begin{tabular}{lll}\n",
       " mode & mean\\_value & max\\_value\\\\\n",
       " <chr> & <dbl> & <dbl>\\\\\n",
       "\\hline\n",
       "\t Balanced          & 2.018134e-15 & 3.552714e-13\\\\\n",
       "\t Mild Imbalanced   & 2.255777e-15 & 5.684342e-14\\\\\n",
       "\t Strong Imbalanced & 2.035043e-15 & 2.700062e-13\\\\\n",
       "\\end{tabular}\n"
      ],
      "text/markdown": [
       "\n",
       "A tibble: 3 × 3\n",
       "\n",
       "| mode &lt;chr&gt; | mean_value &lt;dbl&gt; | max_value &lt;dbl&gt; |\n",
       "|---|---|---|\n",
       "| Balanced          | 2.018134e-15 | 3.552714e-13 |\n",
       "| Mild Imbalanced   | 2.255777e-15 | 5.684342e-14 |\n",
       "| Strong Imbalanced | 2.035043e-15 | 2.700062e-13 |\n",
       "\n"
      ],
      "text/plain": [
       "  mode              mean_value   max_value   \n",
       "1 Balanced          2.018134e-15 3.552714e-13\n",
       "2 Mild Imbalanced   2.255777e-15 5.684342e-14\n",
       "3 Strong Imbalanced 2.035043e-15 2.700062e-13"
      ]
     },
     "metadata": {},
     "output_type": "display_data"
    }
   ],
   "source": [
    "library(ggplot2)\n",
    "library(dplyr)\n",
    "\n",
    "# List of modes to iterate over\n",
    "modes <- c(\"balanced\", \"mild_imbalanced\", \"strong_imbalanced\")\n",
    "combined_df <- data.frame() # Initialize an empty data frame for combining data\n",
    "\n",
    "# Read and combine data for all modes\n",
    "for (mode in modes) {\n",
    "    print(paste0(\"Processing mode: \", mode))\n",
    "    errors_df <- read.table(paste0(\"eval_simulation/\", mode, \"/differences_fedRBE_R.tsv\"), sep = \"\\t\", header = TRUE)\n",
    "    errors_df$mode <- ifelse(mode == \"balanced\", \"Balanced\", ifelse(mode == \"mild_imbalanced\", \"Mild Imbalanced\", \"Strong Imbalanced\")) # Add a column for the mode\n",
    "    combined_df <- rbind(combined_df, errors_df) # Combine data\n",
    "}\n",
    "\n",
    "# Calculate the maximum value for each mode\n",
    "mean_values_df <- combined_df %>% \n",
    "    group_by(mode) %>% \n",
    "    summarise(mean_value = mean(mean, na.rm = TRUE),\n",
    "              max_value = max(max, na.rm = TRUE))\n",
    "\n",
    "mean_values_df"
   ]
  },
  {
   "cell_type": "code",
   "execution_count": null,
   "metadata": {
    "vscode": {
     "languageId": "r"
    }
   },
   "outputs": [],
   "source": []
  }
 ],
 "metadata": {
  "kernelspec": {
   "display_name": "R",
   "language": "R",
   "name": "ir"
  },
  "language_info": {
   "codemirror_mode": "r",
   "file_extension": ".r",
   "mimetype": "text/x-r-source",
   "name": "R",
   "pygments_lexer": "r",
   "version": "4.3.3"
  }
 },
 "nbformat": 4,
 "nbformat_minor": 2
}
