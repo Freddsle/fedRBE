{
 "cells": [
  {
   "cell_type": "code",
   "execution_count": 48,
   "metadata": {
    "vscode": {
     "languageId": "r"
    }
   },
   "outputs": [],
   "source": [
    "library(tidyverse)\n",
    "\n",
    "library(grid)\n",
    "library(gridExtra)\n",
    "library(patchwork)\n",
    "\n",
    "source(\"../evaluation_utils/plots_eda.R\")\n",
    "source(\"../evaluation_utils/evaluation_funcs.R\")"
   ]
  },
  {
   "cell_type": "code",
   "execution_count": 49,
   "metadata": {
    "vscode": {
     "languageId": "r"
    }
   },
   "outputs": [
    {
     "data": {
      "text/html": [
       "'R version 4.3.3 (2024-02-29)'"
      ],
      "text/latex": [
       "'R version 4.3.3 (2024-02-29)'"
      ],
      "text/markdown": [
       "'R version 4.3.3 (2024-02-29)'"
      ],
      "text/plain": [
       "[1] \"R version 4.3.3 (2024-02-29)\""
      ]
     },
     "metadata": {},
     "output_type": "display_data"
    }
   ],
   "source": [
    "# R version\n",
    "R.version.string"
   ]
  },
  {
   "cell_type": "code",
   "execution_count": 50,
   "metadata": {
    "vscode": {
     "languageId": "r"
    }
   },
   "outputs": [],
   "source": [
    "cbPalette <- c(\"#CC79A7\", \"#56B4E9\", \"#009E73\", \"#F0E442\", \"#0072B2\", \"#D55E00\")"
   ]
  },
  {
   "cell_type": "markdown",
   "metadata": {},
   "source": [
    "# Load data"
   ]
  },
  {
   "cell_type": "code",
   "execution_count": 51,
   "metadata": {
    "vscode": {
     "languageId": "r"
    }
   },
   "outputs": [],
   "source": [
    "path_to_data <- \"../evaluation_data/simulated/\"\n",
    "n_runs <- 30\n"
   ]
  },
  {
   "cell_type": "code",
   "execution_count": 53,
   "metadata": {
    "vscode": {
     "languageId": "r"
    }
   },
   "outputs": [
    {
     "name": "stdout",
     "output_type": "stream",
     "text": [
      "[1] \"Processing mode: balanced\"\n",
      "[1] \"Processing mode: mild_imbalanced\"\n",
      "[1] \"Processing mode: strong_imbalanced\"\n"
     ]
    }
   ],
   "source": [
    "for(mode in c(\"balanced\", \"mild_imbalanced\", \"strong_imbalanced\"\n",
    ")){\n",
    "    differences_table <- data.frame(\n",
    "        min = numeric(),\n",
    "        max = numeric(),\n",
    "        mean = numeric()\n",
    "    )\n",
    "    error_expr_levels_table <- data.frame(\n",
    "        min = numeric(),\n",
    "        max = numeric(),\n",
    "        mean = numeric()\n",
    "    )\n",
    "\n",
    "    print(paste0(\"Processing mode: \", mode))\n",
    "\n",
    "    metadata <- read.csv(paste0(path_to_data, mode, \"/all_metadata.tsv\"), sep = \"\\t\") %>%\n",
    "        as.data.frame()\n",
    "    rownames(metadata) <- metadata$file\n",
    "\n",
    "    for(j in 1:n_runs){\n",
    "        fedsim_results <- read.csv(\n",
    "                paste0(path_to_data, mode, \"/after/runs/\", j, \"_FedSim_corrected.tsv\"), \n",
    "                sep = \"\\t\") %>%\n",
    "            as.data.frame() %>% column_to_rownames(\"rowname\")\n",
    "        fedsim_results <- fedsim_results[, metadata$file]\n",
    "\n",
    "        r_corrected <- read.csv(\n",
    "                paste0(path_to_data, mode, \"/after/runs/\", j, \"_R_corrected.tsv\"), \n",
    "                sep = \"\\t\") %>%\n",
    "            as.data.frame() %>% column_to_rownames(\"rowname\")\n",
    "\n",
    "        # if size of r_corrected is different from fedsim_results, print a warning\n",
    "        if(nrow(r_corrected) != nrow(fedsim_results)){\n",
    "            print(paste0(\"Warning: size of R_corrected is different from FedSim_corrected for run \", j))\n",
    "        } else if (ncol(r_corrected) != ncol(fedsim_results)){\n",
    "            print(paste0(\"Warning: number of samples in R_corrected is different from FedSim_corrected for run \", j))\n",
    "        }\n",
    "        \n",
    "        r_corrected <- r_corrected[, metadata$file]\n",
    "        fedsim_results <- fedsim_results[rownames(r_corrected), colnames(r_corrected)]\n",
    "\n",
    "        # calcualte differences\n",
    "        differences <- as.matrix(abs(r_corrected - fedsim_results))\n",
    "        min_max_mean <- c(min(differences, na.rm = TRUE), max(differences, na.rm = TRUE), mean(differences, na.rm = TRUE))\n",
    "        differences_table[j, ] <- min_max_mean\n",
    "\n",
    "        # differences divided by expression level in r_corrected\n",
    "        error_expr_levels <- abs(differences * 100 / as.matrix(r_corrected))\n",
    "        min_max_mean_expr_levels <- c(min(error_expr_levels, na.rm = TRUE), \n",
    "                                      max(error_expr_levels, na.rm = TRUE), \n",
    "                                      mean(error_expr_levels, na.rm = TRUE))\n",
    "        error_expr_levels_table[j, ] <- min_max_mean_expr_levels\n",
    "\n",
    "        \n",
    "        form <- ~ condition + lab\n",
    "        # calculate after correction LMPV\n",
    "        after_correction_lmpv <- lmpv_plot(fedsim_results, metadata, \n",
    "                                           form = form, only_table = TRUE)\n",
    "        # write to file\n",
    "        write.table(after_correction_lmpv, \n",
    "                    paste0(\"eval_simulation/\", mode, \"/lmvp/\", j, \"_after_correction_lmpv.tsv\"),\n",
    "                    sep = \"\\t\", quote = FALSE, row.names = FALSE)\n",
    "    }\n",
    "\n",
    "    # write differences to file with max, min, mean colnames\n",
    "    write.table(differences_table %>% rownames_to_column(\"run\"),\n",
    "                paste0(\"eval_simulation/\", mode, \"/differences_fedRBE_R.tsv\"),\n",
    "                sep = \"\\t\", quote = FALSE, row.names = FALSE)\n",
    "\n",
    "    # write differences to file with max, min, mean colnames\n",
    "    write.table(error_expr_levels_table %>% rownames_to_column(\"run\"),\n",
    "                paste0(\"eval_simulation/\", mode, \"/error_expr_levels_fedRBE_R.tsv\"),\n",
    "                sep = \"\\t\", quote = FALSE, row.names = FALSE)\n",
    "}"
   ]
  },
  {
   "cell_type": "markdown",
   "metadata": {},
   "source": [
    "before correctuin lmpv"
   ]
  },
  {
   "cell_type": "code",
   "execution_count": 52,
   "metadata": {
    "vscode": {
     "languageId": "r"
    }
   },
   "outputs": [
    {
     "name": "stdout",
     "output_type": "stream",
     "text": [
      "[1] \"Processing mode: balanced\"\n",
      "[1] \"Processing mode: mild_imbalanced\"\n",
      "[1] \"Processing mode: strong_imbalanced\"\n"
     ]
    }
   ],
   "source": [
    "for(mode in c(\n",
    "    \"balanced\",  \"mild_imbalanced\", \"strong_imbalanced\"\n",
    ")){\n",
    "    print(paste0(\"Processing mode: \", mode))\n",
    "\n",
    "    metadata <- read.csv(paste0(path_to_data, mode, \"/all_metadata.tsv\"), sep = \"\\t\") %>%\n",
    "        as.data.frame()\n",
    "    rownames(metadata) <- metadata$file\n",
    "\n",
    "    for(j in 1:n_runs){\n",
    "        before_corr <- read.csv(\n",
    "                paste0(path_to_data, mode, \"/before/intermediate/\", j, \"_intensities_data.tsv\"), \n",
    "                sep = \"\\t\") %>%\n",
    "            as.data.frame() %>% column_to_rownames(\"rowname\")\n",
    "        before_corr <- before_corr[, metadata$file]\n",
    "\n",
    "\n",
    "        form <- ~ condition + lab\n",
    "        # calculate after correction LMPV\n",
    "        before_correction_lmpv <- lmpv_plot(before_corr, metadata, \n",
    "                                           form = form, only_table = TRUE)\n",
    "        # write to file\n",
    "        write.table(before_correction_lmpv, \n",
    "                    paste0(\"eval_simulation/\", mode, \"/lmvp/\", j, \"_before_correction_lmpv.tsv\"),\n",
    "                    sep = \"\\t\", quote = FALSE, row.names = FALSE)\n",
    "    }\n",
    "}"
   ]
  },
  {
   "cell_type": "code",
   "execution_count": null,
   "metadata": {
    "vscode": {
     "languageId": "r"
    }
   },
   "outputs": [],
   "source": []
  }
 ],
 "metadata": {
  "kernelspec": {
   "display_name": "R",
   "language": "R",
   "name": "ir"
  },
  "language_info": {
   "codemirror_mode": "r",
   "file_extension": ".r",
   "mimetype": "text/x-r-source",
   "name": "R",
   "pygments_lexer": "r",
   "version": "4.3.3"
  }
 },
 "nbformat": 4,
 "nbformat_minor": 2
}
