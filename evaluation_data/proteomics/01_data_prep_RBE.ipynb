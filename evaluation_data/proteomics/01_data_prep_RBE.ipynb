{
 "cells": [
  {
   "cell_type": "code",
   "execution_count": 114,
   "metadata": {
    "vscode": {
     "languageId": "r"
    }
   },
   "outputs": [],
   "source": [
    "library(tidyverse)\n",
    "library(grid)\n",
    "library(gridExtra)\n",
    "\n",
    "source(\"../../evaluation_utils/plots_eda.R\")\n",
    "source(\"../../evaluation_utils/filtering.R\")"
   ]
  },
  {
   "cell_type": "code",
   "execution_count": 115,
   "metadata": {
    "vscode": {
     "languageId": "r"
    }
   },
   "outputs": [],
   "source": [
    "plots_multiple <- function(intensities, metadata, name){\n",
    "    pca_plot_study <- pca_plot(\n",
    "        intensities, metadata, \n",
    "        title = name,\n",
    "        quantitative_col_name = 'file',\n",
    "        col_col = \"lab\", shape_col = \"condition\")\n",
    "\n",
    "    pca_plot_class <- pca_plot(\n",
    "        intensities, metadata, \n",
    "        title = name,\n",
    "        quantitative_col_name = 'file',\n",
    "        shape_col = \"lab\", col_col = \"condition\")\n",
    "\n",
    "    boxplot <- boxplot_plot(\n",
    "        intensities, metadata, \n",
    "        title = name,\n",
    "        color_col = 'lab', quantitativeColumnName = 'file', \n",
    "        path = '')\n",
    "\n",
    "    density_plot <- plotIntensityDensity(\n",
    "        intensities, metadata, \n",
    "        quantitativeColumnName = 'file', \n",
    "        colorColumnName = 'lab',\n",
    "        title = name)\n",
    "\n",
    "    layout <- (pca_plot_class | pca_plot_study) /\n",
    "                boxplot /\n",
    "                density_plot\n",
    "\n",
    "    return(layout)\n",
    "}\n"
   ]
  },
  {
   "cell_type": "markdown",
   "metadata": {},
   "source": [
    "## Load data"
   ]
  },
  {
   "cell_type": "code",
   "execution_count": 116,
   "metadata": {
    "vscode": {
     "languageId": "r"
    }
   },
   "outputs": [
    {
     "data": {
      "text/html": [
       "<style>\n",
       ".list-inline {list-style: none; margin:0; padding: 0}\n",
       ".list-inline>li {display: inline-block}\n",
       ".list-inline>li:not(:last-child)::after {content: \"\\00b7\"; padding: 0 .5ex}\n",
       "</style>\n",
       "<ol class=list-inline><li>118</li><li>3</li></ol>\n"
      ],
      "text/latex": [
       "\\begin{enumerate*}\n",
       "\\item 118\n",
       "\\item 3\n",
       "\\end{enumerate*}\n"
      ],
      "text/markdown": [
       "1. 118\n",
       "2. 3\n",
       "\n",
       "\n"
      ],
      "text/plain": [
       "[1] 118   3"
      ]
     },
     "metadata": {},
     "output_type": "display_data"
    },
    {
     "data": {
      "text/html": [
       "<style>\n",
       ".list-inline {list-style: none; margin:0; padding: 0}\n",
       ".list-inline>li {display: inline-block}\n",
       ".list-inline>li:not(:last-child)::after {content: \"\\00b7\"; padding: 0 .5ex}\n",
       "</style>\n",
       "<ol class=list-inline><li>3059</li><li>118</li></ol>\n"
      ],
      "text/latex": [
       "\\begin{enumerate*}\n",
       "\\item 3059\n",
       "\\item 118\n",
       "\\end{enumerate*}\n"
      ],
      "text/markdown": [
       "1. 3059\n",
       "2. 118\n",
       "\n",
       "\n"
      ],
      "text/plain": [
       "[1] 3059  118"
      ]
     },
     "metadata": {},
     "output_type": "display_data"
    },
    {
     "data": {
      "text/html": [
       "<style>\n",
       ".list-inline {list-style: none; margin:0; padding: 0}\n",
       ".list-inline>li {display: inline-block}\n",
       ".list-inline>li:not(:last-child)::after {content: \"\\00b7\"; padding: 0 .5ex}\n",
       "</style>\n",
       "<ol class=list-inline><li>3059</li><li>118</li></ol>\n"
      ],
      "text/latex": [
       "\\begin{enumerate*}\n",
       "\\item 3059\n",
       "\\item 118\n",
       "\\end{enumerate*}\n"
      ],
      "text/markdown": [
       "1. 3059\n",
       "2. 118\n",
       "\n",
       "\n"
      ],
      "text/plain": [
       "[1] 3059  118"
      ]
     },
     "metadata": {},
     "output_type": "display_data"
    }
   ],
   "source": [
    "path_to_data <- paste0(\"before/\")\n",
    "\n",
    "metadata <- read.csv(paste0(path_to_data, \"initial_data/central_batch_info.tsv\"), sep = \"\\t\") %>%\n",
    "    column_to_rownames('rowname') %>% \n",
    "    as.data.frame() #%>%\n",
    "    # mutate(file = gsub(\"X\", \"\", file))\n",
    "dim(metadata)\n",
    "rownames(metadata) <- metadata$file\n",
    "\n",
    "intensities <- read.csv(paste0(path_to_data, \"initial_data/central_intensities.tsv\"), sep = \"\\t\", row.names = 1)\n",
    "# change X in the beginning of the column names to empty string\n",
    "colnames(intensities) <- gsub(\"^X\", \"\", colnames(intensities))\n",
    "colnames(intensities) <- gsub(\"\\\\.\", \"-\", colnames(intensities))\n",
    "intensities <- intensities %>% as.data.frame()\n",
    "\n",
    "dim(intensities)\n",
    "intensities_raw <- intensities[, metadata$file]\n",
    "intensities <- log2(intensities_raw)\n",
    "dim(intensities)\n",
    "\n",
    "write.table(intensities %>% rownames_to_column(\"Protein\"), file = paste0(path_to_data, \"/central_intensities_log_UNION.tsv\"), sep = \"\\t\", quote = T, row.names = F)"
   ]
  },
  {
   "cell_type": "code",
   "execution_count": 117,
   "metadata": {
    "vscode": {
     "languageId": "r"
    }
   },
   "outputs": [
    {
     "data": {
      "text/html": [
       "<table class=\"dataframe\">\n",
       "<caption>A tibble: 5 × 2</caption>\n",
       "<thead>\n",
       "\t<tr><th scope=col>lab</th><th scope=col>n</th></tr>\n",
       "\t<tr><th scope=col>&lt;chr&gt;</th><th scope=col>&lt;int&gt;</th></tr>\n",
       "</thead>\n",
       "<tbody>\n",
       "\t<tr><td>lab_A</td><td>24</td></tr>\n",
       "\t<tr><td>lab_B</td><td>23</td></tr>\n",
       "\t<tr><td>lab_C</td><td>23</td></tr>\n",
       "\t<tr><td>lab_D</td><td>24</td></tr>\n",
       "\t<tr><td>lab_E</td><td>24</td></tr>\n",
       "</tbody>\n",
       "</table>\n"
      ],
      "text/latex": [
       "A tibble: 5 × 2\n",
       "\\begin{tabular}{ll}\n",
       " lab & n\\\\\n",
       " <chr> & <int>\\\\\n",
       "\\hline\n",
       "\t lab\\_A & 24\\\\\n",
       "\t lab\\_B & 23\\\\\n",
       "\t lab\\_C & 23\\\\\n",
       "\t lab\\_D & 24\\\\\n",
       "\t lab\\_E & 24\\\\\n",
       "\\end{tabular}\n"
      ],
      "text/markdown": [
       "\n",
       "A tibble: 5 × 2\n",
       "\n",
       "| lab &lt;chr&gt; | n &lt;int&gt; |\n",
       "|---|---|\n",
       "| lab_A | 24 |\n",
       "| lab_B | 23 |\n",
       "| lab_C | 23 |\n",
       "| lab_D | 24 |\n",
       "| lab_E | 24 |\n",
       "\n"
      ],
      "text/plain": [
       "  lab   n \n",
       "1 lab_A 24\n",
       "2 lab_B 23\n",
       "3 lab_C 23\n",
       "4 lab_D 24\n",
       "5 lab_E 24"
      ]
     },
     "metadata": {},
     "output_type": "display_data"
    }
   ],
   "source": [
    "metadata %>% \n",
    "    select(lab, condition) %>%\n",
    "    group_by(lab) %>%\n",
    "    summarise(n = n()) "
   ]
  },
  {
   "cell_type": "code",
   "execution_count": 118,
   "metadata": {
    "vscode": {
     "languageId": "r"
    }
   },
   "outputs": [
    {
     "name": "stderr",
     "output_type": "stream",
     "text": [
      "\u001b[1m\u001b[22m`summarise()` has grouped output by 'lab'. You can override using the `.groups`\n",
      "argument.\n"
     ]
    },
    {
     "data": {
      "text/html": [
       "<table class=\"dataframe\">\n",
       "<caption>A grouped_df: 10 × 3</caption>\n",
       "<thead>\n",
       "\t<tr><th scope=col>lab</th><th scope=col>condition</th><th scope=col>n</th></tr>\n",
       "\t<tr><th scope=col>&lt;chr&gt;</th><th scope=col>&lt;chr&gt;</th><th scope=col>&lt;int&gt;</th></tr>\n",
       "</thead>\n",
       "<tbody>\n",
       "\t<tr><td>lab_A</td><td>Glu</td><td>12</td></tr>\n",
       "\t<tr><td>lab_A</td><td>Pyr</td><td>12</td></tr>\n",
       "\t<tr><td>lab_B</td><td>Glu</td><td>11</td></tr>\n",
       "\t<tr><td>lab_B</td><td>Pyr</td><td>12</td></tr>\n",
       "\t<tr><td>lab_C</td><td>Glu</td><td>12</td></tr>\n",
       "\t<tr><td>lab_C</td><td>Pyr</td><td>11</td></tr>\n",
       "\t<tr><td>lab_D</td><td>Glu</td><td>12</td></tr>\n",
       "\t<tr><td>lab_D</td><td>Pyr</td><td>12</td></tr>\n",
       "\t<tr><td>lab_E</td><td>Glu</td><td>12</td></tr>\n",
       "\t<tr><td>lab_E</td><td>Pyr</td><td>12</td></tr>\n",
       "</tbody>\n",
       "</table>\n"
      ],
      "text/latex": [
       "A grouped\\_df: 10 × 3\n",
       "\\begin{tabular}{lll}\n",
       " lab & condition & n\\\\\n",
       " <chr> & <chr> & <int>\\\\\n",
       "\\hline\n",
       "\t lab\\_A & Glu & 12\\\\\n",
       "\t lab\\_A & Pyr & 12\\\\\n",
       "\t lab\\_B & Glu & 11\\\\\n",
       "\t lab\\_B & Pyr & 12\\\\\n",
       "\t lab\\_C & Glu & 12\\\\\n",
       "\t lab\\_C & Pyr & 11\\\\\n",
       "\t lab\\_D & Glu & 12\\\\\n",
       "\t lab\\_D & Pyr & 12\\\\\n",
       "\t lab\\_E & Glu & 12\\\\\n",
       "\t lab\\_E & Pyr & 12\\\\\n",
       "\\end{tabular}\n"
      ],
      "text/markdown": [
       "\n",
       "A grouped_df: 10 × 3\n",
       "\n",
       "| lab &lt;chr&gt; | condition &lt;chr&gt; | n &lt;int&gt; |\n",
       "|---|---|---|\n",
       "| lab_A | Glu | 12 |\n",
       "| lab_A | Pyr | 12 |\n",
       "| lab_B | Glu | 11 |\n",
       "| lab_B | Pyr | 12 |\n",
       "| lab_C | Glu | 12 |\n",
       "| lab_C | Pyr | 11 |\n",
       "| lab_D | Glu | 12 |\n",
       "| lab_D | Pyr | 12 |\n",
       "| lab_E | Glu | 12 |\n",
       "| lab_E | Pyr | 12 |\n",
       "\n"
      ],
      "text/plain": [
       "   lab   condition n \n",
       "1  lab_A Glu       12\n",
       "2  lab_A Pyr       12\n",
       "3  lab_B Glu       11\n",
       "4  lab_B Pyr       12\n",
       "5  lab_C Glu       12\n",
       "6  lab_C Pyr       11\n",
       "7  lab_D Glu       12\n",
       "8  lab_D Pyr       12\n",
       "9  lab_E Glu       12\n",
       "10 lab_E Pyr       12"
      ]
     },
     "metadata": {},
     "output_type": "display_data"
    }
   ],
   "source": [
    "metadata %>% \n",
    "    select(lab, condition) %>%\n",
    "    group_by(lab, condition) %>%\n",
    "    summarise(n = n()) "
   ]
  },
  {
   "cell_type": "code",
   "execution_count": 119,
   "metadata": {
    "vscode": {
     "languageId": "r"
    }
   },
   "outputs": [
    {
     "name": "stdout",
     "output_type": "stream",
     "text": [
      "Center:  lab_A  removed  510  rows with all NA values\n",
      "Before:  3059  After:  2549 \n",
      "Center:  lab_B  removed  213  rows with all NA values\n",
      "Before:  3059  After:  2846 \n",
      "Center:  lab_C  removed  239  rows with all NA values\n",
      "Before:  3059  After:  2820 \n",
      "Center:  lab_D  removed  246  rows with all NA values\n",
      "Before:  3059  After:  2813 \n",
      "Center:  lab_E  removed  658  rows with all NA values\n",
      "Before:  3059  After:  2401 \n",
      "Joint intensities:  3059 119 \n"
     ]
    }
   ],
   "source": [
    "joint_intensities <- NULL\n",
    "\n",
    "\n",
    "for(center in unique(metadata$lab)){\n",
    "    center_metadata <- metadata[metadata$lab == center,]\n",
    "    center_intensities <- intensities[, center_metadata$file]\n",
    "\n",
    "    # remove rows with all values NA\n",
    "    intens_filtered <- center_intensities[!apply(is.na(center_intensities), 1, all),]\n",
    "    cat(\"Center: \", center, \" removed \", nrow(center_intensities) - nrow(intens_filtered), \" rows with all NA values\\n\")\n",
    "    cat(\"Before: \", nrow(center_intensities), \" After: \", nrow(intens_filtered), \"\\n\")\n",
    "  \n",
    "    center_intensities_filtered <- intens_filtered[, center_metadata$file]\n",
    "   \n",
    "    path_before <- paste(path_to_data, center, \"/\", sep = \"\")\n",
    "\n",
    "    if(!dir.exists(path_before)){\n",
    "        dir.create(path_before)\n",
    "    }\n",
    "    write.table(center_metadata,\n",
    "        file = paste0(path_before, \"/intermediate/metadata.tsv\"), sep = \"\\t\", quote = T, row.names = F, col.names = T)\n",
    "    write.table(center_intensities_filtered %>% rownames_to_column('rowname'),\n",
    "        file = paste0(path_before, \"intensities_log_UNION.tsv\"), sep = \"\\t\", quote = T, row.names = F, col.names = T)\n",
    "\n",
    "    if(is.null(joint_intensities)){\n",
    "        joint_intensities <- center_intensities_filtered\n",
    "        joint_intensities <- joint_intensities %>% rownames_to_column(\"rowname\")\n",
    "    } else {\n",
    "        center_intensities_filtered <- center_intensities_filtered %>% rownames_to_column(\"rowname\")\n",
    "        \n",
    "        # Union or full join by rownames (index)\n",
    "        joint_intensities <- merge(joint_intensities, center_intensities_filtered, \n",
    "                                   by = \"rowname\", all = TRUE)\n",
    "    }\n",
    "}\n",
    "cat(\"Joint intensities: \", dim(joint_intensities), \"\\n\")\n",
    "intensities <- joint_intensities %>%\n",
    "    column_to_rownames(\"rowname\")"
   ]
  },
  {
   "cell_type": "code",
   "execution_count": 120,
   "metadata": {
    "vscode": {
     "languageId": "r"
    }
   },
   "outputs": [],
   "source": [
    "# intensities_filteres <- filter_per_center(intensities, metadata, 'file', unique(metadata$lab), 'lab')\n",
    "# dim(intensities_filteres)\n",
    "# # save before\n",
    "# write.table(intensities_filteres %>% rownames_to_column(\"Protein\"), \n",
    "#     file = paste0(path_to_data, \"central_intensities_log_filtered.tsv\"), sep = \"\\t\", quote = T, row.names = F, col.names = T)\n"
   ]
  },
  {
   "cell_type": "code",
   "execution_count": 121,
   "metadata": {
    "vscode": {
     "languageId": "r"
    }
   },
   "outputs": [
    {
     "name": "stdout",
     "output_type": "stream",
     "text": [
      "[1] \"Number of features removed: 350\"\n"
     ]
    }
   ],
   "source": [
    "# Count the number of labs where each feature is not NA\n",
    "feature_counts_per_lab <- intensities %>% t() %>% as.data.frame() %>%\n",
    "  rownames_to_column('file')  %>%\n",
    "  gather('feature', 'value', -file) %>%\n",
    "  left_join(metadata, by = \"file\") %>% na.omit() %>%\n",
    "  select(-c(file, value, condition)) %>%\n",
    "  # keep only unique rows\n",
    "  unique() %>% \n",
    "  group_by(feature) %>%\n",
    "  summarise(n = n())\n",
    "\n",
    "# remove features where n is less than 3\n",
    "features_to_remove <- feature_counts_per_lab %>% filter(n < 3) %>% pull(feature)\n",
    "\n",
    "# remove this rows!!! not columns!! using index\n",
    "intensities <- intensities[-which(rownames(intensities) %in% features_to_remove),]\n",
    "print(paste(\"Number of features removed:\", length(features_to_remove)))"
   ]
  },
  {
   "cell_type": "code",
   "execution_count": 122,
   "metadata": {
    "vscode": {
     "languageId": "r"
    }
   },
   "outputs": [
    {
     "name": "stdout",
     "output_type": "stream",
     "text": [
      "Filtering by  lab  - two not-NA per lab \n",
      "\tBefore filtering: 2499 24 \n",
      "\tAfter filtering: 2498 24 \n",
      "Center:  lab_A  replaced  211  features with NAs\n",
      "Filtering by  lab  - two not-NA per lab \n",
      "\tBefore filtering: 2670 23 \n",
      "\tAfter filtering: 2670 23 \n",
      "Center:  lab_B  replaced  39  features with NAs\n",
      "Filtering by  lab  - two not-NA per lab \n",
      "\tBefore filtering: 2684 23 \n",
      "\tAfter filtering: 2684 23 \n",
      "Center:  lab_C  replaced  25  features with NAs\n",
      "Filtering by  lab  - two not-NA per lab \n",
      "\tBefore filtering: 2690 24 \n",
      "\tAfter filtering: 2690 24 \n",
      "Center:  lab_D  replaced  19  features with NAs\n",
      "Filtering by  lab  - two not-NA per lab \n",
      "\tBefore filtering: 2378 24 \n",
      "\tAfter filtering: 2378 24 \n",
      "Center:  lab_E  replaced  331  features with NAs\n"
     ]
    }
   ],
   "source": [
    "for(center in unique(metadata$lab)){\n",
    "    center_metadata <- metadata[metadata$lab == center,]\n",
    "    center_intensities <- intensities[, center_metadata$file]\n",
    "\n",
    "    intens_filtered <- center_intensities[!apply(is.na(center_intensities), 1, all),]\n",
    "\n",
    "    intens_filtered <- filter_per_center(intens_filtered, center_metadata, 'file', unique(center_metadata$lab), 'lab')\n",
    "\n",
    "    # get names of features that got removed and put all NA for them in center_intensities\n",
    "    features_removed <- setdiff(rownames(center_intensities), rownames(intens_filtered))\n",
    "    center_intensities[features_removed,] <- NA\n",
    "    # add center intensities to intensities using index and column names\n",
    "    intensities[rownames(center_intensities), center_metadata$file] <- center_intensities[, center_metadata$file]\n",
    "    # print rows number difference\n",
    "    cat(\"Center: \", center, \" replaced \", nrow(center_intensities) - nrow(intens_filtered), \" features with NAs\\n\")\n",
    "}\n",
    "    "
   ]
  },
  {
   "cell_type": "code",
   "execution_count": 123,
   "metadata": {
    "vscode": {
     "languageId": "r"
    }
   },
   "outputs": [
    {
     "name": "stdout",
     "output_type": "stream",
     "text": [
      "Filtering by  lab  - two not-NA per lab \n",
      "\tBefore filtering: 2709 118 \n",
      "\tAfter filtering: 2272 118 \n",
      "[1] \"Number of features removed: 437\"\n"
     ]
    },
    {
     "data": {
      "text/html": [
       "<style>\n",
       ".list-inline {list-style: none; margin:0; padding: 0}\n",
       ".list-inline>li {display: inline-block}\n",
       ".list-inline>li:not(:last-child)::after {content: \"\\00b7\"; padding: 0 .5ex}\n",
       "</style>\n",
       "<ol class=list-inline><li>2272</li><li>118</li></ol>\n"
      ],
      "text/latex": [
       "\\begin{enumerate*}\n",
       "\\item 2272\n",
       "\\item 118\n",
       "\\end{enumerate*}\n"
      ],
      "text/markdown": [
       "1. 2272\n",
       "2. 118\n",
       "\n",
       "\n"
      ],
      "text/plain": [
       "[1] 2272  118"
      ]
     },
     "metadata": {},
     "output_type": "display_data"
    }
   ],
   "source": [
    "# check that there are no labs with less than n(desgin columns) = 6 features\n",
    "intensities_design_filtered <- filter_per_center(\n",
    "  intensities, metadata, 'file', unique(metadata$lab), 'lab', min_samples = 6)\n",
    "\n",
    "print(paste(\"Number of features removed:\", nrow(intensities) - nrow(intensities_design_filtered)))\n",
    "intensities <- intensities_design_filtered\n",
    "dim(intensities)\n"
   ]
  },
  {
   "cell_type": "code",
   "execution_count": 124,
   "metadata": {
    "vscode": {
     "languageId": "r"
    }
   },
   "outputs": [
    {
     "name": "stdout",
     "output_type": "stream",
     "text": [
      "[1] \"Number of rows removed: 0\"\n"
     ]
    }
   ],
   "source": [
    "# remove rows with all values NA\n",
    "intensities_design_filtered <- intersities[!apply(is.na(intersities), 1, all),]\n",
    "print(paste(\"Number of rows removed:\", nrow(intensities) - nrow(intensities_design_filtered)))"
   ]
  },
  {
   "cell_type": "code",
   "execution_count": 125,
   "metadata": {
    "vscode": {
     "languageId": "r"
    }
   },
   "outputs": [
    {
     "name": "stderr",
     "output_type": "stream",
     "text": [
      "No id variables; using all as measure variables\n",
      "\n",
      "Warning message:\n",
      "“\u001b[1m\u001b[22mRemoved 1719 rows containing non-finite outside the scale range\n",
      "(`stat_boxplot()`).”\n",
      "Warning message:\n",
      "“\u001b[1m\u001b[22mRemoved 1719 rows containing non-finite outside the scale range\n",
      "(`stat_summary()`).”\n",
      "Warning message:\n",
      "“\u001b[1m\u001b[22mRemoved 1719 rows containing non-finite outside the scale range\n",
      "(`stat_density()`).”\n"
     ]
    }
   ],
   "source": [
    "layout <- plots_multiple(intensities, metadata, \"Bacterial dataset, uncorrected\")\n",
    "ggsave(paste0(\"plots/data_plot.png\"), plot = layout, width = 12, height = 15)"
   ]
  },
  {
   "cell_type": "markdown",
   "metadata": {},
   "source": [
    "# Correction"
   ]
  },
  {
   "cell_type": "code",
   "execution_count": 126,
   "metadata": {
    "vscode": {
     "languageId": "r"
    }
   },
   "outputs": [
    {
     "name": "stdout",
     "output_type": "stream",
     "text": [
      "[1] 2272  118\n"
     ]
    }
   ],
   "source": [
    "# create design\n",
    "metadata <- metadata %>%\n",
    "    mutate(condition = factor(condition, levels = c(\"Glu\", \"Pyr\")))\n",
    "design= model.matrix(~condition, data = metadata)\n",
    "intensities <- intensities[, metadata$file]\n",
    "colnames(design) <- c(\"Intercept\", \"Pyr\")\n",
    "print(dim(intensities))\n",
    "intensities_corrected <- limma::removeBatchEffect(intensities, metadata$lab, design = design) %>% as.data.frame()\n"
   ]
  },
  {
   "cell_type": "code",
   "execution_count": 127,
   "metadata": {
    "vscode": {
     "languageId": "r"
    }
   },
   "outputs": [
    {
     "name": "stderr",
     "output_type": "stream",
     "text": [
      "No id variables; using all as measure variables\n",
      "\n",
      "Warning message:\n",
      "“\u001b[1m\u001b[22mRemoved 1719 rows containing non-finite outside the scale range\n",
      "(`stat_boxplot()`).”\n",
      "Warning message:\n",
      "“\u001b[1m\u001b[22mRemoved 1719 rows containing non-finite outside the scale range\n",
      "(`stat_summary()`).”\n",
      "Warning message:\n",
      "“\u001b[1m\u001b[22mRemoved 1719 rows containing non-finite outside the scale range\n",
      "(`stat_density()`).”\n"
     ]
    }
   ],
   "source": [
    "layout <- plots_multiple(intensities_corrected, metadata, \"Bacterial dataset, R corrected\")\n",
    "ggsave(paste0(\"plots/data_plot_Rcorrected.png\"), plot = layout, width = 12, height = 15)\n"
   ]
  },
  {
   "cell_type": "code",
   "execution_count": 129,
   "metadata": {
    "vscode": {
     "languageId": "r"
    }
   },
   "outputs": [],
   "source": [
    "design <- design %>% as.data.frame()\n",
    "path_to_after_data <- paste0(\"after/\")\n",
    "\n",
    "\n",
    "for(center in unique(metadata$lab)){\n",
    "    path_to_before <- paste0(path_to_data, center, \"/\")\n",
    "    path_to_after <- paste0(\"after/\", center, \"/\")\n",
    "\n",
    "    design_center = design[rownames(metadata[metadata$lab == center,]),]['Pyr']\n",
    "\n",
    "    # if(!dir.exists(path_to_after)){\n",
    "    #     dir.create(path_to_after)\n",
    "    # }\n",
    "\n",
    "    write.table(design_center %>% rownames_to_column('file'),\n",
    "        file = paste0(path_to_before, \"design.tsv\"), sep = \"\\t\", quote = T, row.names = F, col.names = T)\n",
    "}\n",
    "\n",
    "write.table(intensities_corrected %>% rownames_to_column('rowname'), \n",
    "    file = paste0(path_to_after_data, \"intensities_log_Rcorrected_UNION.tsv\"), sep = \"\\t\", quote = T, row.names = F, col.names = T)"
   ]
  },
  {
   "cell_type": "code",
   "execution_count": 130,
   "metadata": {
    "vscode": {
     "languageId": "r"
    }
   },
   "outputs": [
    {
     "data": {
      "text/html": [
       "<style>\n",
       ".list-inline {list-style: none; margin:0; padding: 0}\n",
       ".list-inline>li {display: inline-block}\n",
       ".list-inline>li:not(:last-child)::after {content: \"\\00b7\"; padding: 0 .5ex}\n",
       "</style>\n",
       "<ol class=list-inline><li>2272</li><li>118</li></ol>\n"
      ],
      "text/latex": [
       "\\begin{enumerate*}\n",
       "\\item 2272\n",
       "\\item 118\n",
       "\\end{enumerate*}\n"
      ],
      "text/markdown": [
       "1. 2272\n",
       "2. 118\n",
       "\n",
       "\n"
      ],
      "text/plain": [
       "[1] 2272  118"
      ]
     },
     "metadata": {},
     "output_type": "display_data"
    }
   ],
   "source": [
    "dim(intensities_corrected)"
   ]
  },
  {
   "cell_type": "code",
   "execution_count": null,
   "metadata": {
    "vscode": {
     "languageId": "r"
    }
   },
   "outputs": [],
   "source": []
  }
 ],
 "metadata": {
  "kernelspec": {
   "display_name": "R",
   "language": "R",
   "name": "ir"
  },
  "language_info": {
   "codemirror_mode": "r",
   "file_extension": ".r",
   "mimetype": "text/x-r-source",
   "name": "R",
   "pygments_lexer": "r",
   "version": "4.3.3"
  }
 },
 "nbformat": 4,
 "nbformat_minor": 2
}
