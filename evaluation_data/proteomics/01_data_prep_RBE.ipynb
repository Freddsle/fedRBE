{
 "cells": [
  {
   "cell_type": "code",
   "execution_count": 12,
   "metadata": {
    "vscode": {
     "languageId": "r"
    }
   },
   "outputs": [],
   "source": [
    "library(tidyverse)\n",
    "library(grid)\n",
    "library(gridExtra)\n",
    "\n",
    "source(\"../../evaluation_utils/plots_eda.R\")\n",
    "source(\"../../evaluation_utils/filtering.R\")"
   ]
  },
  {
   "cell_type": "markdown",
   "metadata": {},
   "source": [
    "# MODE"
   ]
  },
  {
   "cell_type": "code",
   "execution_count": 13,
   "metadata": {
    "vscode": {
     "languageId": "r"
    }
   },
   "outputs": [],
   "source": [
    "MODE <- 'balanced'\n",
    "# MODE <- 'imbalanced'"
   ]
  },
  {
   "cell_type": "markdown",
   "metadata": {},
   "source": [
    "## Load data"
   ]
  },
  {
   "cell_type": "code",
   "execution_count": 14,
   "metadata": {
    "vscode": {
     "languageId": "r"
    }
   },
   "outputs": [
    {
     "data": {
      "text/html": [
       "<style>\n",
       ".list-inline {list-style: none; margin:0; padding: 0}\n",
       ".list-inline>li {display: inline-block}\n",
       ".list-inline>li:not(:last-child)::after {content: \"\\00b7\"; padding: 0 .5ex}\n",
       "</style>\n",
       "<ol class=list-inline><li>118</li><li>3</li></ol>\n"
      ],
      "text/latex": [
       "\\begin{enumerate*}\n",
       "\\item 118\n",
       "\\item 3\n",
       "\\end{enumerate*}\n"
      ],
      "text/markdown": [
       "1. 118\n",
       "2. 3\n",
       "\n",
       "\n"
      ],
      "text/plain": [
       "[1] 118   3"
      ]
     },
     "metadata": {},
     "output_type": "display_data"
    },
    {
     "data": {
      "text/html": [
       "<style>\n",
       ".list-inline {list-style: none; margin:0; padding: 0}\n",
       ".list-inline>li {display: inline-block}\n",
       ".list-inline>li:not(:last-child)::after {content: \"\\00b7\"; padding: 0 .5ex}\n",
       "</style>\n",
       "<ol class=list-inline><li>3059</li><li>118</li></ol>\n"
      ],
      "text/latex": [
       "\\begin{enumerate*}\n",
       "\\item 3059\n",
       "\\item 118\n",
       "\\end{enumerate*}\n"
      ],
      "text/markdown": [
       "1. 3059\n",
       "2. 118\n",
       "\n",
       "\n"
      ],
      "text/plain": [
       "[1] 3059  118"
      ]
     },
     "metadata": {},
     "output_type": "display_data"
    },
    {
     "data": {
      "text/html": [
       "<style>\n",
       ".list-inline {list-style: none; margin:0; padding: 0}\n",
       ".list-inline>li {display: inline-block}\n",
       ".list-inline>li:not(:last-child)::after {content: \"\\00b7\"; padding: 0 .5ex}\n",
       "</style>\n",
       "<ol class=list-inline><li>3059</li><li>118</li></ol>\n"
      ],
      "text/latex": [
       "\\begin{enumerate*}\n",
       "\\item 3059\n",
       "\\item 118\n",
       "\\end{enumerate*}\n"
      ],
      "text/markdown": [
       "1. 3059\n",
       "2. 118\n",
       "\n",
       "\n"
      ],
      "text/plain": [
       "[1] 3059  118"
      ]
     },
     "metadata": {},
     "output_type": "display_data"
    }
   ],
   "source": [
    "path_to_data <- paste0(\"/home/yuliya/repos/other/removeBatch/evaluation_data/proteomics/before/\", MODE, \"/\")\n",
    "\n",
    "metadata <- read.csv(paste0(path_to_data, \"central_batch_info.tsv\"), sep = \"\\t\") %>%\n",
    "    column_to_rownames('rowname') %>% \n",
    "    as.data.frame() #%>%\n",
    "    # mutate(file = gsub(\"X\", \"\", file))\n",
    "dim(metadata)\n",
    "rownames(metadata) <- metadata$file\n",
    "\n",
    "intensities <- read.csv(paste0(path_to_data, \"central_intensities.tsv\"), sep = \"\\t\", row.names = 1)\n",
    "# change X in the beginning of the column names to empty string\n",
    "colnames(intensities) <- gsub(\"^X\", \"\", colnames(intensities))\n",
    "colnames(intensities) <- gsub(\"\\\\.\", \"-\", colnames(intensities))\n",
    "intensities <- intensities %>% as.data.frame()\n",
    "\n",
    "dim(intensities)\n",
    "intensities_raw <- intensities[, metadata$file]\n",
    "intensities <- log2(intensities_raw)\n",
    "dim(intensities)\n",
    "\n",
    "write.table(intensities %>% rownames_to_column(\"Protein\"), file = paste0(path_to_data, \"central_intensities_log_UNION.tsv\"), sep = \"\\t\", quote = T, row.names = F)"
   ]
  },
  {
   "cell_type": "code",
   "execution_count": 15,
   "metadata": {
    "vscode": {
     "languageId": "r"
    }
   },
   "outputs": [
    {
     "data": {
      "text/html": [
       "<table class=\"dataframe\">\n",
       "<caption>A tibble: 5 × 2</caption>\n",
       "<thead>\n",
       "\t<tr><th scope=col>lab</th><th scope=col>n</th></tr>\n",
       "\t<tr><th scope=col>&lt;chr&gt;</th><th scope=col>&lt;int&gt;</th></tr>\n",
       "</thead>\n",
       "<tbody>\n",
       "\t<tr><td>lab_A</td><td>24</td></tr>\n",
       "\t<tr><td>lab_B</td><td>23</td></tr>\n",
       "\t<tr><td>lab_C</td><td>23</td></tr>\n",
       "\t<tr><td>lab_D</td><td>24</td></tr>\n",
       "\t<tr><td>lab_E</td><td>24</td></tr>\n",
       "</tbody>\n",
       "</table>\n"
      ],
      "text/latex": [
       "A tibble: 5 × 2\n",
       "\\begin{tabular}{ll}\n",
       " lab & n\\\\\n",
       " <chr> & <int>\\\\\n",
       "\\hline\n",
       "\t lab\\_A & 24\\\\\n",
       "\t lab\\_B & 23\\\\\n",
       "\t lab\\_C & 23\\\\\n",
       "\t lab\\_D & 24\\\\\n",
       "\t lab\\_E & 24\\\\\n",
       "\\end{tabular}\n"
      ],
      "text/markdown": [
       "\n",
       "A tibble: 5 × 2\n",
       "\n",
       "| lab &lt;chr&gt; | n &lt;int&gt; |\n",
       "|---|---|\n",
       "| lab_A | 24 |\n",
       "| lab_B | 23 |\n",
       "| lab_C | 23 |\n",
       "| lab_D | 24 |\n",
       "| lab_E | 24 |\n",
       "\n"
      ],
      "text/plain": [
       "  lab   n \n",
       "1 lab_A 24\n",
       "2 lab_B 23\n",
       "3 lab_C 23\n",
       "4 lab_D 24\n",
       "5 lab_E 24"
      ]
     },
     "metadata": {},
     "output_type": "display_data"
    }
   ],
   "source": [
    "metadata %>% \n",
    "    select(lab, condition) %>%\n",
    "    group_by(lab) %>%\n",
    "    summarise(n = n()) "
   ]
  },
  {
   "cell_type": "code",
   "execution_count": 16,
   "metadata": {
    "vscode": {
     "languageId": "r"
    }
   },
   "outputs": [
    {
     "name": "stderr",
     "output_type": "stream",
     "text": [
      "\u001b[1m\u001b[22m`summarise()` has grouped output by 'lab'. You can override using the `.groups`\n",
      "argument.\n"
     ]
    },
    {
     "data": {
      "text/html": [
       "<table class=\"dataframe\">\n",
       "<caption>A grouped_df: 10 × 3</caption>\n",
       "<thead>\n",
       "\t<tr><th scope=col>lab</th><th scope=col>condition</th><th scope=col>n</th></tr>\n",
       "\t<tr><th scope=col>&lt;chr&gt;</th><th scope=col>&lt;chr&gt;</th><th scope=col>&lt;int&gt;</th></tr>\n",
       "</thead>\n",
       "<tbody>\n",
       "\t<tr><td>lab_A</td><td>Glu</td><td>12</td></tr>\n",
       "\t<tr><td>lab_A</td><td>Pyr</td><td>12</td></tr>\n",
       "\t<tr><td>lab_B</td><td>Glu</td><td>11</td></tr>\n",
       "\t<tr><td>lab_B</td><td>Pyr</td><td>12</td></tr>\n",
       "\t<tr><td>lab_C</td><td>Glu</td><td>12</td></tr>\n",
       "\t<tr><td>lab_C</td><td>Pyr</td><td>11</td></tr>\n",
       "\t<tr><td>lab_D</td><td>Glu</td><td>12</td></tr>\n",
       "\t<tr><td>lab_D</td><td>Pyr</td><td>12</td></tr>\n",
       "\t<tr><td>lab_E</td><td>Glu</td><td>12</td></tr>\n",
       "\t<tr><td>lab_E</td><td>Pyr</td><td>12</td></tr>\n",
       "</tbody>\n",
       "</table>\n"
      ],
      "text/latex": [
       "A grouped\\_df: 10 × 3\n",
       "\\begin{tabular}{lll}\n",
       " lab & condition & n\\\\\n",
       " <chr> & <chr> & <int>\\\\\n",
       "\\hline\n",
       "\t lab\\_A & Glu & 12\\\\\n",
       "\t lab\\_A & Pyr & 12\\\\\n",
       "\t lab\\_B & Glu & 11\\\\\n",
       "\t lab\\_B & Pyr & 12\\\\\n",
       "\t lab\\_C & Glu & 12\\\\\n",
       "\t lab\\_C & Pyr & 11\\\\\n",
       "\t lab\\_D & Glu & 12\\\\\n",
       "\t lab\\_D & Pyr & 12\\\\\n",
       "\t lab\\_E & Glu & 12\\\\\n",
       "\t lab\\_E & Pyr & 12\\\\\n",
       "\\end{tabular}\n"
      ],
      "text/markdown": [
       "\n",
       "A grouped_df: 10 × 3\n",
       "\n",
       "| lab &lt;chr&gt; | condition &lt;chr&gt; | n &lt;int&gt; |\n",
       "|---|---|---|\n",
       "| lab_A | Glu | 12 |\n",
       "| lab_A | Pyr | 12 |\n",
       "| lab_B | Glu | 11 |\n",
       "| lab_B | Pyr | 12 |\n",
       "| lab_C | Glu | 12 |\n",
       "| lab_C | Pyr | 11 |\n",
       "| lab_D | Glu | 12 |\n",
       "| lab_D | Pyr | 12 |\n",
       "| lab_E | Glu | 12 |\n",
       "| lab_E | Pyr | 12 |\n",
       "\n"
      ],
      "text/plain": [
       "   lab   condition n \n",
       "1  lab_A Glu       12\n",
       "2  lab_A Pyr       12\n",
       "3  lab_B Glu       11\n",
       "4  lab_B Pyr       12\n",
       "5  lab_C Glu       12\n",
       "6  lab_C Pyr       11\n",
       "7  lab_D Glu       12\n",
       "8  lab_D Pyr       12\n",
       "9  lab_E Glu       12\n",
       "10 lab_E Pyr       12"
      ]
     },
     "metadata": {},
     "output_type": "display_data"
    }
   ],
   "source": [
    "metadata %>% \n",
    "    select(lab, condition) %>%\n",
    "    group_by(lab, condition) %>%\n",
    "    summarise(n = n()) "
   ]
  },
  {
   "cell_type": "code",
   "execution_count": 17,
   "metadata": {
    "vscode": {
     "languageId": "r"
    }
   },
   "outputs": [],
   "source": [
    "# intensities_filteres <- filter_per_center(intensities, metadata, 'file', unique(metadata$lab), 'lab')\n",
    "# dim(intensities_filteres)\n",
    "# # save before\n",
    "# write.table(intensities_filteres %>% rownames_to_column(\"Protein\"), \n",
    "#     file = paste0(path_to_data, \"central_intensities_log_filtered.tsv\"), sep = \"\\t\", quote = T, row.names = F, col.names = T)\n"
   ]
  },
  {
   "cell_type": "code",
   "execution_count": 18,
   "metadata": {
    "vscode": {
     "languageId": "r"
    }
   },
   "outputs": [
    {
     "name": "stdout",
     "output_type": "stream",
     "text": [
      "Center:  lab_A  removed  510  rows with all NA values\n",
      "Before:  3059  After:  2549 \n",
      "Filtering by center - two not-NA per center\n",
      "\tBefore filtering: 2549 24 \n",
      "\tAfter filtering: 2548 24 \n",
      "Filtering by center - two not-NA per center\n",
      "\tBefore filtering: 2548 24 \n",
      "\tAfter filtering: 2525 24 \n",
      "Center:  lab_B  removed  213  rows with all NA values\n",
      "Before:  3059  After:  2846 \n",
      "Filtering by center - two not-NA per center\n",
      "\tBefore filtering: 2846 23 \n",
      "\tAfter filtering: 2846 23 \n",
      "Filtering by center - two not-NA per center\n",
      "\tBefore filtering: 2846 23 \n",
      "\tAfter filtering: 2828 23 \n",
      "Center:  lab_C  removed  239  rows with all NA values\n",
      "Before:  3059  After:  2820 \n",
      "Filtering by center - two not-NA per center\n",
      "\tBefore filtering: 2820 23 \n",
      "\tAfter filtering: 2819 23 \n",
      "Filtering by center - two not-NA per center\n",
      "\tBefore filtering: 2819 23 \n",
      "\tAfter filtering: 2775 23 \n",
      "Center:  lab_D  removed  246  rows with all NA values\n",
      "Before:  3059  After:  2813 \n",
      "Filtering by center - two not-NA per center\n",
      "\tBefore filtering: 2813 24 \n",
      "\tAfter filtering: 2813 24 \n",
      "Filtering by center - two not-NA per center\n",
      "\tBefore filtering: 2813 24 \n",
      "\tAfter filtering: 2785 24 \n",
      "Center:  lab_E  removed  658  rows with all NA values\n",
      "Before:  3059  After:  2401 \n",
      "Filtering by center - two not-NA per center\n",
      "\tBefore filtering: 2401 24 \n",
      "\tAfter filtering: 2401 24 \n",
      "Filtering by center - two not-NA per center\n",
      "\tBefore filtering: 2401 24 \n",
      "\tAfter filtering: 2363 24 \n",
      "Joint intensities:  3034 119 \n"
     ]
    }
   ],
   "source": [
    "joint_intensities <- NULL\n",
    "\n",
    "for(center in unique(metadata$lab)){\n",
    "    center_metadata <- metadata[metadata$lab == center,]\n",
    "    center_intensities <- intensities[, center_metadata$file]\n",
    "\n",
    "    # remove rows with all values NA\n",
    "    intens_filtered <- center_intensities[!apply(is.na(center_intensities), 1, all),]\n",
    "    cat(\"Center: \", center, \" removed \", nrow(center_intensities) - nrow(intens_filtered), \" rows with all NA values\\n\")\n",
    "    cat(\"Before: \", nrow(center_intensities), \" After: \", nrow(intens_filtered), \"\\n\")\n",
    "    \n",
    "    intens_filtered <- filter_per_center(intens_filtered, center_metadata, 'file', unique(center_metadata$lab), 'lab')\n",
    "    intens_filtered <- filter_per_center(intens_filtered, center_metadata, 'file', unique(center_metadata$condition), 'condition')\n",
    "    center_intensities_filtered <- intens_filtered[, center_metadata$file]\n",
    "    \n",
    "    path_before <- paste(path_to_data, center, \"/\", sep = \"\")\n",
    "\n",
    "    if(!dir.exists(path_before)){\n",
    "        dir.create(path_before)\n",
    "    }\n",
    "    write.table(center_metadata,\n",
    "        file = paste0(path_before, \"metadata.tsv\"), sep = \"\\t\", quote = T, row.names = F, col.names = T)\n",
    "    write.table(center_intensities_filtered %>% rownames_to_column('rowname'),\n",
    "        file = paste0(path_before, \"intensities_log_UNION.tsv\"), sep = \"\\t\", quote = T, row.names = F, col.names = T)\n",
    "\n",
    "    if(is.null(joint_intensities)){\n",
    "        joint_intensities <- center_intensities_filtered\n",
    "        joint_intensities <- joint_intensities %>% rownames_to_column(\"rowname\")\n",
    "    } else {\n",
    "        center_intensities_filtered <- center_intensities_filtered %>% rownames_to_column(\"rowname\")\n",
    "        \n",
    "        # Union or full join by rownames (index)\n",
    "        joint_intensities <- merge(joint_intensities, center_intensities_filtered, \n",
    "                                   by = \"rowname\", all = TRUE)\n",
    "    }\n",
    "}\n",
    "cat(\"Joint intensities: \", dim(joint_intensities), \"\\n\")\n",
    "intensities <- joint_intensities %>%\n",
    "    column_to_rownames(\"rowname\")"
   ]
  },
  {
   "cell_type": "code",
   "execution_count": 19,
   "metadata": {
    "vscode": {
     "languageId": "r"
    }
   },
   "outputs": [],
   "source": [
    "# pca_plot_study <- pca_plot(\n",
    "#     intensities, metadata, \n",
    "#     title = \"PCA plot BB\",\n",
    "#     quantitative_col_name = 'file',\n",
    "#     col_col = \"lab\", shape_col = \"condition\")\n",
    "\n",
    "# pca_plot_class <- pca_plot(\n",
    "#     intensities, metadata, \n",
    "#     title = \"PCA plot BB\",\n",
    "#     quantitative_col_name = 'file',\n",
    "#     shape_col = \"lab\", col_col = \"condition\")\n",
    "\n",
    "# layout <- (pca_plot_class | pca_plot_study)\n",
    "# options(repr.plot.width=11, repr.plot.height=6)\n",
    "# layout"
   ]
  },
  {
   "cell_type": "code",
   "execution_count": 20,
   "metadata": {
    "vscode": {
     "languageId": "r"
    }
   },
   "outputs": [
    {
     "name": "stdout",
     "output_type": "stream",
     "text": [
      "[1] 3034  118\n"
     ]
    },
    {
     "name": "stderr",
     "output_type": "stream",
     "text": [
      "Warning message:\n",
      "“Partial NA coefficients for 792 probe(s)”\n"
     ]
    }
   ],
   "source": [
    "# create design\n",
    "metadata <- metadata %>%\n",
    "    mutate(condition = factor(condition, levels = c(\"Glu\", \"Pyr\")))\n",
    "design= model.matrix(~condition, data = metadata)\n",
    "colnames(design) <- c(\"Intercept\", \"Pyr\")\n",
    "print(dim(intensities))\n",
    "intensities_corrected <- limma::removeBatchEffect(intensities, metadata$lab, design = design) %>% as.data.frame()\n"
   ]
  },
  {
   "cell_type": "code",
   "execution_count": 21,
   "metadata": {
    "vscode": {
     "languageId": "r"
    }
   },
   "outputs": [],
   "source": [
    "# pca_plot_study <- pca_plot(\n",
    "#     intensities_corrected, metadata, \n",
    "#     title = \"PCA plot BB\",\n",
    "#     quantitative_col_name = 'file',\n",
    "#     col_col = \"lab\", shape_col = \"condition\")\n",
    "\n",
    "# pca_plot_class <- pca_plot(\n",
    "#     intensities_corrected, metadata, \n",
    "#     title = \"PCA plot BB\",\n",
    "#     quantitative_col_name = 'file',\n",
    "#     shape_col = \"lab\", col_col = \"condition\")\n",
    "\n",
    "# layout <- (pca_plot_class | pca_plot_study)\n",
    "# options(repr.plot.width=11, repr.plot.height=6)\n",
    "# layout"
   ]
  },
  {
   "cell_type": "code",
   "execution_count": 22,
   "metadata": {
    "vscode": {
     "languageId": "r"
    }
   },
   "outputs": [],
   "source": [
    "design <- design %>% as.data.frame()\n",
    "path_to_after_data <- paste0(\"/home/yuliya/repos/other/removeBatch/evaluation_data/proteomics/after/\", MODE, \"/\")\n",
    "\n",
    "\n",
    "for(center in unique(metadata$lab)){\n",
    "    path_to_before <- paste0(path_to_data, center, \"/\")\n",
    "    path_to_after <- paste0(\"/home/yuliya/repos/other/removeBatch/evaluation_data/proteomics/after/\", MODE, \"/\", center, \"/\")\n",
    "\n",
    "    design_center = design[rownames(metadata[metadata$lab == center,]),]['Pyr']\n",
    "\n",
    "    # if(!dir.exists(path_to_after)){\n",
    "    #     dir.create(path_to_after)\n",
    "    # }\n",
    "\n",
    "    write.table(design_center %>% rownames_to_column('file'),\n",
    "        file = paste0(path_to_before, \"design.tsv\"), sep = \"\\t\", quote = T, row.names = F, col.names = T)\n",
    "}\n",
    "\n",
    "write.table(intensities_corrected %>% rownames_to_column('rowname'), \n",
    "    file = paste0(path_to_after_data, \"central_intensities_log_corrected_UNION.tsv\"), sep = \"\\t\", quote = T, row.names = F, col.names = T)\n",
    "write.table(metadata,\n",
    "    file = paste0(path_to_after_data, \"central_batch_info_corrected_UNION.tsv\"), sep = \"\\t\", quote = T, row.names = F, col.names = T)"
   ]
  },
  {
   "cell_type": "code",
   "execution_count": null,
   "metadata": {
    "vscode": {
     "languageId": "r"
    }
   },
   "outputs": [],
   "source": []
  }
 ],
 "metadata": {
  "kernelspec": {
   "display_name": "R",
   "language": "R",
   "name": "ir"
  },
  "language_info": {
   "codemirror_mode": "r",
   "file_extension": ".r",
   "mimetype": "text/x-r-source",
   "name": "R",
   "pygments_lexer": "r",
   "version": "4.2.0"
  }
 },
 "nbformat": 4,
 "nbformat_minor": 2
}
