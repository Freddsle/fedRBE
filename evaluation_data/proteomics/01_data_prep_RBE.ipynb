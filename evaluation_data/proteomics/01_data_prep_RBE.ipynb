{
 "cells": [
  {
   "cell_type": "code",
   "execution_count": 1,
   "metadata": {
    "vscode": {
     "languageId": "r"
    }
   },
   "outputs": [
    {
     "name": "stderr",
     "output_type": "stream",
     "text": [
      "Warning message:\n",
      "“package ‘tidyverse’ was built under R version 4.2.2”\n",
      "Warning message:\n",
      "“package ‘ggplot2’ was built under R version 4.2.3”\n",
      "Warning message:\n",
      "“package ‘tibble’ was built under R version 4.2.3”\n",
      "Warning message:\n",
      "“package ‘tidyr’ was built under R version 4.2.2”\n",
      "Warning message:\n",
      "“package ‘readr’ was built under R version 4.2.2”\n",
      "Warning message:\n",
      "“package ‘purrr’ was built under R version 4.2.3”\n",
      "Warning message:\n",
      "“package ‘dplyr’ was built under R version 4.2.3”\n",
      "Warning message:\n",
      "“package ‘stringr’ was built under R version 4.2.3”\n",
      "Warning message:\n",
      "“package ‘forcats’ was built under R version 4.2.2”\n",
      "Warning message:\n",
      "“package ‘lubridate’ was built under R version 4.2.2”\n",
      "── \u001b[1mAttaching core tidyverse packages\u001b[22m ──────────────────────── tidyverse 2.0.0 ──\n",
      "\u001b[32m✔\u001b[39m \u001b[34mdplyr    \u001b[39m 1.1.2     \u001b[32m✔\u001b[39m \u001b[34mreadr    \u001b[39m 2.1.4\n",
      "\u001b[32m✔\u001b[39m \u001b[34mforcats  \u001b[39m 1.0.0     \u001b[32m✔\u001b[39m \u001b[34mstringr  \u001b[39m 1.5.0\n",
      "\u001b[32m✔\u001b[39m \u001b[34mggplot2  \u001b[39m 3.4.2     \u001b[32m✔\u001b[39m \u001b[34mtibble   \u001b[39m 3.2.1\n",
      "\u001b[32m✔\u001b[39m \u001b[34mlubridate\u001b[39m 1.9.2     \u001b[32m✔\u001b[39m \u001b[34mtidyr    \u001b[39m 1.3.0\n",
      "\u001b[32m✔\u001b[39m \u001b[34mpurrr    \u001b[39m 1.0.1     \n",
      "── \u001b[1mConflicts\u001b[22m ────────────────────────────────────────── tidyverse_conflicts() ──\n",
      "\u001b[31m✖\u001b[39m \u001b[34mdplyr\u001b[39m::\u001b[32mfilter()\u001b[39m masks \u001b[34mstats\u001b[39m::filter()\n",
      "\u001b[31m✖\u001b[39m \u001b[34mdplyr\u001b[39m::\u001b[32mlag()\u001b[39m    masks \u001b[34mstats\u001b[39m::lag()\n",
      "\u001b[36mℹ\u001b[39m Use the conflicted package (\u001b[3m\u001b[34m<http://conflicted.r-lib.org/>\u001b[39m\u001b[23m) to force all conflicts to become errors\n",
      "Warning message:\n",
      "“package ‘gridExtra’ was built under R version 4.2.3”\n",
      "\n",
      "Attaching package: ‘gridExtra’\n",
      "\n",
      "\n",
      "The following object is masked from ‘package:dplyr’:\n",
      "\n",
      "    combine\n",
      "\n",
      "\n",
      "Warning message:\n",
      "“package ‘umap’ was built under R version 4.2.3”\n",
      "Warning message:\n",
      "“package ‘ggsci’ was built under R version 4.2.3”\n",
      "Warning message:\n",
      "“package ‘viridis’ was built under R version 4.2.3”\n",
      "Loading required package: viridisLite\n",
      "\n",
      "Warning message:\n",
      "“package ‘viridisLite’ was built under R version 4.2.3”\n",
      "Warning message:\n",
      "“package ‘data.table’ was built under R version 4.2.2”\n",
      "\n",
      "Attaching package: ‘data.table’\n",
      "\n",
      "\n",
      "The following objects are masked from ‘package:lubridate’:\n",
      "\n",
      "    hour, isoweek, mday, minute, month, quarter, second, wday, week,\n",
      "    yday, year\n",
      "\n",
      "\n",
      "The following objects are masked from ‘package:dplyr’:\n",
      "\n",
      "    between, first, last\n",
      "\n",
      "\n",
      "The following object is masked from ‘package:purrr’:\n",
      "\n",
      "    transpose\n",
      "\n",
      "\n"
     ]
    }
   ],
   "source": [
    "library(tidyverse)\n",
    "library(grid)\n",
    "library(gridExtra)\n",
    "\n",
    "source(\"../../evaluation_utils/plots_eda.R\")\n",
    "source(\"../../evaluation_utils/filtering.R\")"
   ]
  },
  {
   "cell_type": "markdown",
   "metadata": {},
   "source": [
    "# MODE"
   ]
  },
  {
   "cell_type": "code",
   "execution_count": 2,
   "metadata": {
    "vscode": {
     "languageId": "r"
    }
   },
   "outputs": [],
   "source": [
    "MODE <- 'balanced'\n",
    "# MODE <- 'imbalanced'"
   ]
  },
  {
   "cell_type": "markdown",
   "metadata": {},
   "source": [
    "## Load data"
   ]
  },
  {
   "cell_type": "code",
   "execution_count": 3,
   "metadata": {
    "vscode": {
     "languageId": "r"
    }
   },
   "outputs": [
    {
     "data": {
      "text/html": [
       "<style>\n",
       ".list-inline {list-style: none; margin:0; padding: 0}\n",
       ".list-inline>li {display: inline-block}\n",
       ".list-inline>li:not(:last-child)::after {content: \"\\00b7\"; padding: 0 .5ex}\n",
       "</style>\n",
       "<ol class=list-inline><li>73</li><li>3</li></ol>\n"
      ],
      "text/latex": [
       "\\begin{enumerate*}\n",
       "\\item 73\n",
       "\\item 3\n",
       "\\end{enumerate*}\n"
      ],
      "text/markdown": [
       "1. 73\n",
       "2. 3\n",
       "\n",
       "\n"
      ],
      "text/plain": [
       "[1] 73  3"
      ]
     },
     "metadata": {},
     "output_type": "display_data"
    },
    {
     "data": {
      "text/html": [
       "<style>\n",
       ".list-inline {list-style: none; margin:0; padding: 0}\n",
       ".list-inline>li {display: inline-block}\n",
       ".list-inline>li:not(:last-child)::after {content: \"\\00b7\"; padding: 0 .5ex}\n",
       "</style>\n",
       "<ol class=list-inline><li>3058</li><li>73</li></ol>\n"
      ],
      "text/latex": [
       "\\begin{enumerate*}\n",
       "\\item 3058\n",
       "\\item 73\n",
       "\\end{enumerate*}\n"
      ],
      "text/markdown": [
       "1. 3058\n",
       "2. 73\n",
       "\n",
       "\n"
      ],
      "text/plain": [
       "[1] 3058   73"
      ]
     },
     "metadata": {},
     "output_type": "display_data"
    },
    {
     "data": {
      "text/html": [
       "<style>\n",
       ".list-inline {list-style: none; margin:0; padding: 0}\n",
       ".list-inline>li {display: inline-block}\n",
       ".list-inline>li:not(:last-child)::after {content: \"\\00b7\"; padding: 0 .5ex}\n",
       "</style>\n",
       "<ol class=list-inline><li>3058</li><li>73</li></ol>\n"
      ],
      "text/latex": [
       "\\begin{enumerate*}\n",
       "\\item 3058\n",
       "\\item 73\n",
       "\\end{enumerate*}\n"
      ],
      "text/markdown": [
       "1. 3058\n",
       "2. 73\n",
       "\n",
       "\n"
      ],
      "text/plain": [
       "[1] 3058   73"
      ]
     },
     "metadata": {},
     "output_type": "display_data"
    }
   ],
   "source": [
    "path_to_data <- paste0(\"/home/yuliya/repos/other/removeBatch/evaluation_data/proteomics/before/\", MODE, \"/\")\n",
    "\n",
    "metadata <- read.csv(paste0(path_to_data, \"central_batch_info.tsv\"), sep = \"\\t\") %>%\n",
    "    column_to_rownames('rowname') %>% \n",
    "    as.data.frame() #%>%\n",
    "    # mutate(file = gsub(\"X\", \"\", file))\n",
    "dim(metadata)\n",
    "rownames(metadata) <- metadata$file\n",
    "\n",
    "intensities <- read.csv(paste0(path_to_data, \"central_intensities.tsv\"), sep = \"\\t\", row.names = 1)\n",
    "# change X in the beginning of the column names to empty string\n",
    "colnames(intensities) <- gsub(\"^X\", \"\", colnames(intensities))\n",
    "colnames(intensities) <- gsub(\"\\\\.\", \"-\", colnames(intensities))\n",
    "intensities <- intensities %>% as.data.frame()\n",
    "\n",
    "dim(intensities)\n",
    "intensities_raw <- intensities[, metadata$file]\n",
    "intensities <- log2(intensities_raw)\n",
    "dim(intensities)\n",
    "\n",
    "write.table(intensities %>% rownames_to_column(\"Protein\"), file = paste0(path_to_data, \"central_intensities_log_UNION.tsv\"), sep = \"\\t\", quote = T, row.names = F)"
   ]
  },
  {
   "cell_type": "code",
   "execution_count": 5,
   "metadata": {
    "vscode": {
     "languageId": "r"
    }
   },
   "outputs": [
    {
     "data": {
      "text/html": [
       "<table class=\"dataframe\">\n",
       "<caption>A tibble: 5 × 2</caption>\n",
       "<thead>\n",
       "\t<tr><th scope=col>lab</th><th scope=col>n</th></tr>\n",
       "\t<tr><th scope=col>&lt;chr&gt;</th><th scope=col>&lt;int&gt;</th></tr>\n",
       "</thead>\n",
       "<tbody>\n",
       "\t<tr><td>lab_A</td><td>16</td></tr>\n",
       "\t<tr><td>lab_B</td><td>13</td></tr>\n",
       "\t<tr><td>lab_C</td><td>14</td></tr>\n",
       "\t<tr><td>lab_D</td><td>15</td></tr>\n",
       "\t<tr><td>lab_E</td><td>15</td></tr>\n",
       "</tbody>\n",
       "</table>\n"
      ],
      "text/latex": [
       "A tibble: 5 × 2\n",
       "\\begin{tabular}{ll}\n",
       " lab & n\\\\\n",
       " <chr> & <int>\\\\\n",
       "\\hline\n",
       "\t lab\\_A & 16\\\\\n",
       "\t lab\\_B & 13\\\\\n",
       "\t lab\\_C & 14\\\\\n",
       "\t lab\\_D & 15\\\\\n",
       "\t lab\\_E & 15\\\\\n",
       "\\end{tabular}\n"
      ],
      "text/markdown": [
       "\n",
       "A tibble: 5 × 2\n",
       "\n",
       "| lab &lt;chr&gt; | n &lt;int&gt; |\n",
       "|---|---|\n",
       "| lab_A | 16 |\n",
       "| lab_B | 13 |\n",
       "| lab_C | 14 |\n",
       "| lab_D | 15 |\n",
       "| lab_E | 15 |\n",
       "\n"
      ],
      "text/plain": [
       "  lab   n \n",
       "1 lab_A 16\n",
       "2 lab_B 13\n",
       "3 lab_C 14\n",
       "4 lab_D 15\n",
       "5 lab_E 15"
      ]
     },
     "metadata": {},
     "output_type": "display_data"
    }
   ],
   "source": [
    "metadata %>% \n",
    "    select(lab, condition) %>%\n",
    "    group_by(lab) %>%\n",
    "    summarise(n = n()) "
   ]
  },
  {
   "cell_type": "code",
   "execution_count": 4,
   "metadata": {
    "vscode": {
     "languageId": "r"
    }
   },
   "outputs": [
    {
     "name": "stderr",
     "output_type": "stream",
     "text": [
      "\u001b[1m\u001b[22m`summarise()` has grouped output by 'lab'. You can override using the `.groups`\n",
      "argument.\n"
     ]
    },
    {
     "data": {
      "text/html": [
       "<table class=\"dataframe\">\n",
       "<caption>A grouped_df: 10 × 3</caption>\n",
       "<thead>\n",
       "\t<tr><th scope=col>lab</th><th scope=col>condition</th><th scope=col>n</th></tr>\n",
       "\t<tr><th scope=col>&lt;chr&gt;</th><th scope=col>&lt;chr&gt;</th><th scope=col>&lt;int&gt;</th></tr>\n",
       "</thead>\n",
       "<tbody>\n",
       "\t<tr><td>lab_A</td><td>Glu</td><td>12</td></tr>\n",
       "\t<tr><td>lab_A</td><td>Pyr</td><td> 4</td></tr>\n",
       "\t<tr><td>lab_B</td><td>Glu</td><td> 4</td></tr>\n",
       "\t<tr><td>lab_B</td><td>Pyr</td><td> 9</td></tr>\n",
       "\t<tr><td>lab_C</td><td>Glu</td><td> 3</td></tr>\n",
       "\t<tr><td>lab_C</td><td>Pyr</td><td>11</td></tr>\n",
       "\t<tr><td>lab_D</td><td>Glu</td><td>10</td></tr>\n",
       "\t<tr><td>lab_D</td><td>Pyr</td><td> 5</td></tr>\n",
       "\t<tr><td>lab_E</td><td>Glu</td><td> 5</td></tr>\n",
       "\t<tr><td>lab_E</td><td>Pyr</td><td>10</td></tr>\n",
       "</tbody>\n",
       "</table>\n"
      ],
      "text/latex": [
       "A grouped\\_df: 10 × 3\n",
       "\\begin{tabular}{lll}\n",
       " lab & condition & n\\\\\n",
       " <chr> & <chr> & <int>\\\\\n",
       "\\hline\n",
       "\t lab\\_A & Glu & 12\\\\\n",
       "\t lab\\_A & Pyr &  4\\\\\n",
       "\t lab\\_B & Glu &  4\\\\\n",
       "\t lab\\_B & Pyr &  9\\\\\n",
       "\t lab\\_C & Glu &  3\\\\\n",
       "\t lab\\_C & Pyr & 11\\\\\n",
       "\t lab\\_D & Glu & 10\\\\\n",
       "\t lab\\_D & Pyr &  5\\\\\n",
       "\t lab\\_E & Glu &  5\\\\\n",
       "\t lab\\_E & Pyr & 10\\\\\n",
       "\\end{tabular}\n"
      ],
      "text/markdown": [
       "\n",
       "A grouped_df: 10 × 3\n",
       "\n",
       "| lab &lt;chr&gt; | condition &lt;chr&gt; | n &lt;int&gt; |\n",
       "|---|---|---|\n",
       "| lab_A | Glu | 12 |\n",
       "| lab_A | Pyr |  4 |\n",
       "| lab_B | Glu |  4 |\n",
       "| lab_B | Pyr |  9 |\n",
       "| lab_C | Glu |  3 |\n",
       "| lab_C | Pyr | 11 |\n",
       "| lab_D | Glu | 10 |\n",
       "| lab_D | Pyr |  5 |\n",
       "| lab_E | Glu |  5 |\n",
       "| lab_E | Pyr | 10 |\n",
       "\n"
      ],
      "text/plain": [
       "   lab   condition n \n",
       "1  lab_A Glu       12\n",
       "2  lab_A Pyr        4\n",
       "3  lab_B Glu        4\n",
       "4  lab_B Pyr        9\n",
       "5  lab_C Glu        3\n",
       "6  lab_C Pyr       11\n",
       "7  lab_D Glu       10\n",
       "8  lab_D Pyr        5\n",
       "9  lab_E Glu        5\n",
       "10 lab_E Pyr       10"
      ]
     },
     "metadata": {},
     "output_type": "display_data"
    }
   ],
   "source": [
    "metadata %>% \n",
    "    select(lab, condition) %>%\n",
    "    group_by(lab, condition) %>%\n",
    "    summarise(n = n()) "
   ]
  },
  {
   "cell_type": "code",
   "execution_count": 15,
   "metadata": {
    "vscode": {
     "languageId": "r"
    }
   },
   "outputs": [],
   "source": [
    "# intensities_filteres <- filter_per_center(intensities, metadata, 'file', unique(metadata$lab), 'lab')\n",
    "\n",
    "# # save before\n",
    "# write.table(intensities_filteres %>% rownames_to_column(\"Protein\"), \n",
    "#     file = paste0(path_to_data, \"central_intensities_log_filtered.tsv\"), sep = \"\\t\", quote = T, row.names = F, col.names = T)\n"
   ]
  },
  {
   "cell_type": "code",
   "execution_count": 16,
   "metadata": {
    "vscode": {
     "languageId": "r"
    }
   },
   "outputs": [],
   "source": [
    "for(center in unique(metadata$lab)){\n",
    "    center_metadata <- metadata[metadata$lab == center,]\n",
    "    center_intensities <- intensities_raw[, center_metadata$file]\n",
    "    # center_intensities_filtered <- intensities_filteres[, center_metadata$file]\n",
    "    center_intensities_filtered <- intensities[, center_metadata$file]\n",
    "\n",
    "    path_before <- paste(path_to_data, center, \"/\", sep = \"\")\n",
    "\n",
    "    if(!dir.exists(path_before)){\n",
    "        dir.create(path_before)\n",
    "    }\n",
    "    # write.table(center_intensities %>% rownames_to_column('rowname'), \n",
    "    #     file = paste0(path_before, \"intensities_raw.tsv\"), sep = \"\\t\", quote = T, row.names = F, col.names = T)\n",
    "    write.table(center_metadata,\n",
    "        file = paste0(path_before, \"metadata.tsv\"), sep = \"\\t\", quote = T, row.names = F, col.names = T)\n",
    "    write.table(center_intensities_filtered %>% rownames_to_column('rowname'),\n",
    "        file = paste0(path_before, \"intensities_log_UNION.tsv\"), sep = \"\\t\", quote = T, row.names = F, col.names = T)\n",
    "}\n",
    "\n"
   ]
  },
  {
   "cell_type": "code",
   "execution_count": 17,
   "metadata": {
    "vscode": {
     "languageId": "r"
    }
   },
   "outputs": [],
   "source": [
    "# pca_plot_study <- pca_plot(\n",
    "#     intensities, metadata, \n",
    "#     title = \"PCA plot BB\",\n",
    "#     quantitative_col_name = 'file',\n",
    "#     col_col = \"lab\", shape_col = \"condition\")\n",
    "\n",
    "# pca_plot_class <- pca_plot(\n",
    "#     intensities, metadata, \n",
    "#     title = \"PCA plot BB\",\n",
    "#     quantitative_col_name = 'file',\n",
    "#     shape_col = \"lab\", col_col = \"condition\")\n",
    "\n",
    "# layout <- (pca_plot_class | pca_plot_study)\n",
    "# options(repr.plot.width=11, repr.plot.height=6)\n",
    "# layout"
   ]
  },
  {
   "cell_type": "code",
   "execution_count": 18,
   "metadata": {
    "vscode": {
     "languageId": "r"
    }
   },
   "outputs": [
    {
     "name": "stderr",
     "output_type": "stream",
     "text": [
      "Warning message:\n",
      "“Partial NA coefficients for 785 probe(s)”\n"
     ]
    }
   ],
   "source": [
    "# create design\n",
    "metadata <- metadata %>%\n",
    "    mutate(condition = factor(condition, levels = c(\"Glu\", \"Pyr\")))\n",
    "design= model.matrix(~condition, data = metadata)\n",
    "colnames(design) <- c(\"Intercept\", \"Pyr\")\n",
    "\n",
    "intensities_corrected <- limma::removeBatchEffect(intensities, metadata$lab, design = design) %>% as.data.frame()\n"
   ]
  },
  {
   "cell_type": "code",
   "execution_count": 19,
   "metadata": {
    "vscode": {
     "languageId": "r"
    }
   },
   "outputs": [],
   "source": [
    "# pca_plot_study <- pca_plot(\n",
    "#     intensities_corrected, metadata, \n",
    "#     title = \"PCA plot BB\",\n",
    "#     quantitative_col_name = 'file',\n",
    "#     col_col = \"lab\", shape_col = \"condition\")\n",
    "\n",
    "# pca_plot_class <- pca_plot(\n",
    "#     intensities_corrected, metadata, \n",
    "#     title = \"PCA plot BB\",\n",
    "#     quantitative_col_name = 'file',\n",
    "#     shape_col = \"lab\", col_col = \"condition\")\n",
    "\n",
    "# layout <- (pca_plot_class | pca_plot_study)\n",
    "# options(repr.plot.width=11, repr.plot.height=6)\n",
    "# layout"
   ]
  },
  {
   "cell_type": "code",
   "execution_count": 20,
   "metadata": {
    "vscode": {
     "languageId": "r"
    }
   },
   "outputs": [],
   "source": [
    "design <- design %>% as.data.frame()\n",
    "path_to_after_data <- paste0(\"/home/yuliya/repos/other/removeBatch/evaluation_data/proteomics/after/\", MODE, \"/\")\n",
    "\n",
    "\n",
    "for(center in unique(metadata$lab)){\n",
    "    path_to_before <- paste0(path_to_data, center, \"/\")\n",
    "    path_to_after <- paste0(\"/home/yuliya/repos/other/removeBatch/evaluation_data/proteomics/after/\", MODE, \"/\", center, \"/\")\n",
    "\n",
    "    design_center = design[rownames(metadata[metadata$lab == center,]),]['Pyr']\n",
    "\n",
    "    # if(!dir.exists(path_to_after)){\n",
    "    #     dir.create(path_to_after)\n",
    "    # }\n",
    "\n",
    "    write.table(design_center %>% rownames_to_column('file'),\n",
    "        file = paste0(path_to_before, \"design.tsv\"), sep = \"\\t\", quote = T, row.names = F, col.names = T)\n",
    "}\n",
    "\n",
    "write.table(intensities_corrected %>% rownames_to_column('rowname'), \n",
    "    file = paste0(path_to_after_data, \"central_intensities_log_corrected_UNION.tsv\"), sep = \"\\t\", quote = T, row.names = F, col.names = T)\n",
    "write.table(metadata,\n",
    "    file = paste0(path_to_after_data, \"central_batch_info_corrected_UNION.tsv\"), sep = \"\\t\", quote = T, row.names = F, col.names = T)"
   ]
  },
  {
   "cell_type": "code",
   "execution_count": null,
   "metadata": {
    "vscode": {
     "languageId": "r"
    }
   },
   "outputs": [],
   "source": []
  }
 ],
 "metadata": {
  "kernelspec": {
   "display_name": "R",
   "language": "R",
   "name": "ir"
  },
  "language_info": {
   "codemirror_mode": "r",
   "file_extension": ".r",
   "mimetype": "text/x-r-source",
   "name": "R",
   "pygments_lexer": "r",
   "version": "4.2.0"
  }
 },
 "nbformat": 4,
 "nbformat_minor": 2
}
