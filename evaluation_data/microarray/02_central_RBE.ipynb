{
 "cells": [
  {
   "cell_type": "code",
   "execution_count": 10,
   "metadata": {
    "vscode": {
     "languageId": "r"
    }
   },
   "outputs": [],
   "source": [
    "library(tidyverse)\n",
    "\n",
    "source(\"../../evaluation_utils/plots_eda.R\")"
   ]
  },
  {
   "cell_type": "code",
   "execution_count": 11,
   "metadata": {
    "vscode": {
     "languageId": "r"
    }
   },
   "outputs": [],
   "source": [
    "plots_normtumor <- function(expr, metadata, i, dataset){\n",
    "    pca_plot <- pca_plot(expr, metadata, \n",
    "        paste0(dataset , i, \", norm_vs_tumor\"),\n",
    "        col_col = 'Status', shape_col = \"Dataset\", quantitative_col_name = 'Sample_geo_ID')\n",
    "\n",
    "    boxplot <- boxplot_plot(expr, metadata, \n",
    "        title = paste0(dataset , i, \", norm_vs_tumor\"),\n",
    "        color_col = 'Status', quantitativeColumnName = 'Sample_geo_ID', \n",
    "        path = '')\n",
    "\n",
    "    density_plot <- plotIntensityDensity(expr, metadata, \n",
    "        quantitativeColumnName = 'Sample_geo_ID', \n",
    "        colorColumnName = 'Status',\n",
    "        title = paste0(dataset , i, \", norm_vs_tumor\"))\n",
    "\n",
    "    return(list(pca_plot, density_plot, boxplot))\n",
    "}\n"
   ]
  },
  {
   "cell_type": "markdown",
   "metadata": {},
   "source": [
    "# Load data"
   ]
  },
  {
   "cell_type": "code",
   "execution_count": 12,
   "metadata": {
    "vscode": {
     "languageId": "r"
    }
   },
   "outputs": [],
   "source": [
    "norm_vs_HGSC = c(\"GSE6008\", \"GSE26712\", \"GSE40595\", \"GSE69428\", \"GSE38666\", \"GSE14407\")"
   ]
  },
  {
   "cell_type": "code",
   "execution_count": 13,
   "metadata": {
    "vscode": {
     "languageId": "r"
    }
   },
   "outputs": [
    {
     "name": "stdout",
     "output_type": "stream",
     "text": [
      "[1] \"Processing dataset: GSE6008platform: GPL96\"\n",
      "[1] \"..plotting..\"\n"
     ]
    },
    {
     "name": "stderr",
     "output_type": "stream",
     "text": [
      "No id variables; using all as measure variables\n",
      "\n"
     ]
    },
    {
     "name": "stdout",
     "output_type": "stream",
     "text": [
      "[1] \"Processing dataset: GSE26712platform: GPL96\"\n",
      "[1] \"..plotting..\"\n"
     ]
    },
    {
     "name": "stderr",
     "output_type": "stream",
     "text": [
      "No id variables; using all as measure variables\n",
      "\n"
     ]
    },
    {
     "name": "stdout",
     "output_type": "stream",
     "text": [
      "[1] \"Processing dataset: GSE40595platform: GPL570\"\n",
      "[1] \"..plotting..\"\n"
     ]
    },
    {
     "name": "stderr",
     "output_type": "stream",
     "text": [
      "No id variables; using all as measure variables\n",
      "\n"
     ]
    },
    {
     "name": "stdout",
     "output_type": "stream",
     "text": [
      "[1] \"Processing dataset: GSE69428platform: GPL570\"\n",
      "[1] \"..plotting..\"\n"
     ]
    },
    {
     "name": "stderr",
     "output_type": "stream",
     "text": [
      "No id variables; using all as measure variables\n",
      "\n"
     ]
    },
    {
     "name": "stdout",
     "output_type": "stream",
     "text": [
      "[1] \"Processing dataset: GSE38666platform: GPL570\"\n",
      "[1] \"..plotting..\"\n"
     ]
    },
    {
     "name": "stderr",
     "output_type": "stream",
     "text": [
      "No id variables; using all as measure variables\n",
      "\n"
     ]
    },
    {
     "name": "stdout",
     "output_type": "stream",
     "text": [
      "[1] \"Processing dataset: GSE14407platform: GPL570\"\n",
      "[1] \"..plotting..\"\n"
     ]
    },
    {
     "name": "stderr",
     "output_type": "stream",
     "text": [
      "No id variables; using all as measure variables\n",
      "\n"
     ]
    }
   ],
   "source": [
    "all_expression <- NULL\n",
    "all_metadata <- NULL\n",
    "\n",
    "i <- 1\n",
    "for(dataset in norm_vs_HGSC){\n",
    "    metadata <- read.table(paste0(\"before/\", dataset, \"/intermediate/\", i, \"_metadata_short.tsv\"), header = TRUE, sep = \"\\t\")\n",
    "    expr_data <- read.table(paste0(\"before/\", dataset, \"/intermediate/expr_GBacc_MaxVar.tsv\"), header = TRUE, sep = \"\\t\") \n",
    "    print(paste0(\"Processing dataset: \", dataset, \"platform: \", metadata$platform_id[1]))\n",
    "    metadata <- metadata %>% mutate(Dataset = dataset) %>%\n",
    "        select(Sample_geo_ID, Status, HistSubtypes, Stage2, Grade2, ClinicopathologicSubtypes, Dataset) %>%\n",
    "\n",
    "        # outliers\n",
    "        filter(!(Sample_geo_ID %in% c(\"GSM1701038\", \"GSM898305\", \"GSM997639\")))\n",
    "\n",
    "    # for plots\n",
    "    plt_meta <- metadata #%>%\n",
    "        # filter((Status == \"ovarian tumour\" & HistSubtypes == \"high-grade serous carcinoma\" | \n",
    "                # Status == \"normal\"))\n",
    "\n",
    "    plt_expression <- expr_data %>% column_to_rownames(\"row_ID\")\n",
    "    plt_meta <- plt_meta[plt_meta$Sample_geo_ID %in% colnames(expr_data),]\n",
    "    plt_expression <- expr_data[,plt_meta$Sample_geo_ID]\n",
    "\n",
    "    # plots\n",
    "    print(\"..plotting..\")\n",
    "    #  plot\n",
    "    plot_res <- plots_normtumor(plt_expression[sample(1:nrow(plt_expression), 10000),], plt_meta, dataset, ', norm_vs_tumor')\n",
    "    layout <- (plot_res[[1]] + plot_res[[2]] ) / \n",
    "            (plot_res[[3]] )\n",
    "    ggsave(paste0(\"before/\", dataset, \"/intermediate/norm_vs_tumor_plot.png\"), \n",
    "                plot = layout, width = 12, height = 12)\n",
    "\n",
    "    if(is.null(all_metadata)){\n",
    "        all_metadata <- metadata\n",
    "        all_expression <- expr_data\n",
    "    } else {\n",
    "        \n",
    "        all_metadata <- rbind(all_metadata, metadata)\n",
    "\n",
    "        # shared features analysis:\n",
    "        # all_expression <- inner_join(all_expression, expr_data, by = \"row_ID\")\n",
    "\n",
    "        # all features analysis (union):\n",
    "        all_expression <- full_join(all_expression, expr_data, by = \"row_ID\")\n",
    "    }\n",
    "}"
   ]
  },
  {
   "cell_type": "code",
   "execution_count": 14,
   "metadata": {
    "vscode": {
     "languageId": "r"
    }
   },
   "outputs": [
    {
     "name": "stderr",
     "output_type": "stream",
     "text": [
      "\u001b[1m\u001b[22m`summarise()` has grouped output by 'Dataset'. You can override using the\n",
      "`.groups` argument.\n"
     ]
    },
    {
     "data": {
      "text/html": [
       "<table class=\"dataframe\">\n",
       "<caption>A grouped_df: 12 × 3</caption>\n",
       "<thead>\n",
       "\t<tr><th scope=col>Dataset</th><th scope=col>Status</th><th scope=col>n()</th></tr>\n",
       "\t<tr><th scope=col>&lt;chr&gt;</th><th scope=col>&lt;chr&gt;</th><th scope=col>&lt;int&gt;</th></tr>\n",
       "</thead>\n",
       "<tbody>\n",
       "\t<tr><td>GSE14407</td><td>normal        </td><td> 12</td></tr>\n",
       "\t<tr><td>GSE14407</td><td>ovarian tumour</td><td> 12</td></tr>\n",
       "\t<tr><td>GSE26712</td><td>normal        </td><td> 10</td></tr>\n",
       "\t<tr><td>GSE26712</td><td>ovarian tumour</td><td>185</td></tr>\n",
       "\t<tr><td>GSE38666</td><td>normal        </td><td> 12</td></tr>\n",
       "\t<tr><td>GSE38666</td><td>ovarian tumour</td><td> 18</td></tr>\n",
       "\t<tr><td>GSE40595</td><td>normal        </td><td>  6</td></tr>\n",
       "\t<tr><td>GSE40595</td><td>ovarian tumour</td><td> 31</td></tr>\n",
       "\t<tr><td>GSE6008 </td><td>normal        </td><td>  4</td></tr>\n",
       "\t<tr><td>GSE6008 </td><td>ovarian tumour</td><td> 99</td></tr>\n",
       "\t<tr><td>GSE69428</td><td>normal        </td><td>  9</td></tr>\n",
       "\t<tr><td>GSE69428</td><td>ovarian tumour</td><td> 10</td></tr>\n",
       "</tbody>\n",
       "</table>\n"
      ],
      "text/latex": [
       "A grouped\\_df: 12 × 3\n",
       "\\begin{tabular}{lll}\n",
       " Dataset & Status & n()\\\\\n",
       " <chr> & <chr> & <int>\\\\\n",
       "\\hline\n",
       "\t GSE14407 & normal         &  12\\\\\n",
       "\t GSE14407 & ovarian tumour &  12\\\\\n",
       "\t GSE26712 & normal         &  10\\\\\n",
       "\t GSE26712 & ovarian tumour & 185\\\\\n",
       "\t GSE38666 & normal         &  12\\\\\n",
       "\t GSE38666 & ovarian tumour &  18\\\\\n",
       "\t GSE40595 & normal         &   6\\\\\n",
       "\t GSE40595 & ovarian tumour &  31\\\\\n",
       "\t GSE6008  & normal         &   4\\\\\n",
       "\t GSE6008  & ovarian tumour &  99\\\\\n",
       "\t GSE69428 & normal         &   9\\\\\n",
       "\t GSE69428 & ovarian tumour &  10\\\\\n",
       "\\end{tabular}\n"
      ],
      "text/markdown": [
       "\n",
       "A grouped_df: 12 × 3\n",
       "\n",
       "| Dataset &lt;chr&gt; | Status &lt;chr&gt; | n() &lt;int&gt; |\n",
       "|---|---|---|\n",
       "| GSE14407 | normal         |  12 |\n",
       "| GSE14407 | ovarian tumour |  12 |\n",
       "| GSE26712 | normal         |  10 |\n",
       "| GSE26712 | ovarian tumour | 185 |\n",
       "| GSE38666 | normal         |  12 |\n",
       "| GSE38666 | ovarian tumour |  18 |\n",
       "| GSE40595 | normal         |   6 |\n",
       "| GSE40595 | ovarian tumour |  31 |\n",
       "| GSE6008  | normal         |   4 |\n",
       "| GSE6008  | ovarian tumour |  99 |\n",
       "| GSE69428 | normal         |   9 |\n",
       "| GSE69428 | ovarian tumour |  10 |\n",
       "\n"
      ],
      "text/plain": [
       "   Dataset  Status         n()\n",
       "1  GSE14407 normal          12\n",
       "2  GSE14407 ovarian tumour  12\n",
       "3  GSE26712 normal          10\n",
       "4  GSE26712 ovarian tumour 185\n",
       "5  GSE38666 normal          12\n",
       "6  GSE38666 ovarian tumour  18\n",
       "7  GSE40595 normal           6\n",
       "8  GSE40595 ovarian tumour  31\n",
       "9  GSE6008  normal           4\n",
       "10 GSE6008  ovarian tumour  99\n",
       "11 GSE69428 normal           9\n",
       "12 GSE69428 ovarian tumour  10"
      ]
     },
     "metadata": {},
     "output_type": "display_data"
    }
   ],
   "source": [
    "all_metadata %>%\n",
    "    group_by(Dataset, Status) %>% summarise(n())"
   ]
  },
  {
   "cell_type": "code",
   "execution_count": 15,
   "metadata": {
    "vscode": {
     "languageId": "r"
    }
   },
   "outputs": [
    {
     "name": "stderr",
     "output_type": "stream",
     "text": [
      "\u001b[1m\u001b[22m`summarise()` has grouped output by 'Dataset', 'Status'. You can override using\n",
      "the `.groups` argument.\n"
     ]
    },
    {
     "data": {
      "text/html": [
       "<table class=\"dataframe\">\n",
       "<caption>A grouped_df: 17 × 4</caption>\n",
       "<thead>\n",
       "\t<tr><th scope=col>Dataset</th><th scope=col>Status</th><th scope=col>HistSubtypes</th><th scope=col>n()</th></tr>\n",
       "\t<tr><th scope=col>&lt;chr&gt;</th><th scope=col>&lt;chr&gt;</th><th scope=col>&lt;chr&gt;</th><th scope=col>&lt;int&gt;</th></tr>\n",
       "</thead>\n",
       "<tbody>\n",
       "\t<tr><td>GSE14407</td><td>normal        </td><td>NA                         </td><td> 12</td></tr>\n",
       "\t<tr><td>GSE14407</td><td>ovarian tumour</td><td>high-grade serous carcinoma</td><td> 12</td></tr>\n",
       "\t<tr><td>GSE26712</td><td>normal        </td><td>NA                         </td><td> 10</td></tr>\n",
       "\t<tr><td>GSE26712</td><td>ovarian tumour</td><td>high-grade serous carcinoma</td><td>185</td></tr>\n",
       "\t<tr><td>GSE38666</td><td>normal        </td><td>NA                         </td><td> 12</td></tr>\n",
       "\t<tr><td>GSE38666</td><td>ovarian tumour</td><td>high-grade serous carcinoma</td><td> 18</td></tr>\n",
       "\t<tr><td>GSE40595</td><td>normal        </td><td>NA                         </td><td>  6</td></tr>\n",
       "\t<tr><td>GSE40595</td><td>ovarian tumour</td><td>high-grade serous carcinoma</td><td> 31</td></tr>\n",
       "\t<tr><td>GSE6008 </td><td>normal        </td><td>NA                         </td><td>  4</td></tr>\n",
       "\t<tr><td>GSE6008 </td><td>ovarian tumour</td><td>clear cell carcinoma       </td><td>  8</td></tr>\n",
       "\t<tr><td>GSE6008 </td><td>ovarian tumour</td><td>endometrioid carcinoma     </td><td> 37</td></tr>\n",
       "\t<tr><td>GSE6008 </td><td>ovarian tumour</td><td>high-grade serous carcinoma</td><td> 23</td></tr>\n",
       "\t<tr><td>GSE6008 </td><td>ovarian tumour</td><td>low-grade serous carcinoma </td><td>  2</td></tr>\n",
       "\t<tr><td>GSE6008 </td><td>ovarian tumour</td><td>mucinous carcinoma         </td><td> 13</td></tr>\n",
       "\t<tr><td>GSE6008 </td><td>ovarian tumour</td><td>serous carcinoma           </td><td> 16</td></tr>\n",
       "\t<tr><td>GSE69428</td><td>normal        </td><td>NA                         </td><td>  9</td></tr>\n",
       "\t<tr><td>GSE69428</td><td>ovarian tumour</td><td>high-grade serous carcinoma</td><td> 10</td></tr>\n",
       "</tbody>\n",
       "</table>\n"
      ],
      "text/latex": [
       "A grouped\\_df: 17 × 4\n",
       "\\begin{tabular}{llll}\n",
       " Dataset & Status & HistSubtypes & n()\\\\\n",
       " <chr> & <chr> & <chr> & <int>\\\\\n",
       "\\hline\n",
       "\t GSE14407 & normal         & NA                          &  12\\\\\n",
       "\t GSE14407 & ovarian tumour & high-grade serous carcinoma &  12\\\\\n",
       "\t GSE26712 & normal         & NA                          &  10\\\\\n",
       "\t GSE26712 & ovarian tumour & high-grade serous carcinoma & 185\\\\\n",
       "\t GSE38666 & normal         & NA                          &  12\\\\\n",
       "\t GSE38666 & ovarian tumour & high-grade serous carcinoma &  18\\\\\n",
       "\t GSE40595 & normal         & NA                          &   6\\\\\n",
       "\t GSE40595 & ovarian tumour & high-grade serous carcinoma &  31\\\\\n",
       "\t GSE6008  & normal         & NA                          &   4\\\\\n",
       "\t GSE6008  & ovarian tumour & clear cell carcinoma        &   8\\\\\n",
       "\t GSE6008  & ovarian tumour & endometrioid carcinoma      &  37\\\\\n",
       "\t GSE6008  & ovarian tumour & high-grade serous carcinoma &  23\\\\\n",
       "\t GSE6008  & ovarian tumour & low-grade serous carcinoma  &   2\\\\\n",
       "\t GSE6008  & ovarian tumour & mucinous carcinoma          &  13\\\\\n",
       "\t GSE6008  & ovarian tumour & serous carcinoma            &  16\\\\\n",
       "\t GSE69428 & normal         & NA                          &   9\\\\\n",
       "\t GSE69428 & ovarian tumour & high-grade serous carcinoma &  10\\\\\n",
       "\\end{tabular}\n"
      ],
      "text/markdown": [
       "\n",
       "A grouped_df: 17 × 4\n",
       "\n",
       "| Dataset &lt;chr&gt; | Status &lt;chr&gt; | HistSubtypes &lt;chr&gt; | n() &lt;int&gt; |\n",
       "|---|---|---|---|\n",
       "| GSE14407 | normal         | NA                          |  12 |\n",
       "| GSE14407 | ovarian tumour | high-grade serous carcinoma |  12 |\n",
       "| GSE26712 | normal         | NA                          |  10 |\n",
       "| GSE26712 | ovarian tumour | high-grade serous carcinoma | 185 |\n",
       "| GSE38666 | normal         | NA                          |  12 |\n",
       "| GSE38666 | ovarian tumour | high-grade serous carcinoma |  18 |\n",
       "| GSE40595 | normal         | NA                          |   6 |\n",
       "| GSE40595 | ovarian tumour | high-grade serous carcinoma |  31 |\n",
       "| GSE6008  | normal         | NA                          |   4 |\n",
       "| GSE6008  | ovarian tumour | clear cell carcinoma        |   8 |\n",
       "| GSE6008  | ovarian tumour | endometrioid carcinoma      |  37 |\n",
       "| GSE6008  | ovarian tumour | high-grade serous carcinoma |  23 |\n",
       "| GSE6008  | ovarian tumour | low-grade serous carcinoma  |   2 |\n",
       "| GSE6008  | ovarian tumour | mucinous carcinoma          |  13 |\n",
       "| GSE6008  | ovarian tumour | serous carcinoma            |  16 |\n",
       "| GSE69428 | normal         | NA                          |   9 |\n",
       "| GSE69428 | ovarian tumour | high-grade serous carcinoma |  10 |\n",
       "\n"
      ],
      "text/plain": [
       "   Dataset  Status         HistSubtypes                n()\n",
       "1  GSE14407 normal         NA                           12\n",
       "2  GSE14407 ovarian tumour high-grade serous carcinoma  12\n",
       "3  GSE26712 normal         NA                           10\n",
       "4  GSE26712 ovarian tumour high-grade serous carcinoma 185\n",
       "5  GSE38666 normal         NA                           12\n",
       "6  GSE38666 ovarian tumour high-grade serous carcinoma  18\n",
       "7  GSE40595 normal         NA                            6\n",
       "8  GSE40595 ovarian tumour high-grade serous carcinoma  31\n",
       "9  GSE6008  normal         NA                            4\n",
       "10 GSE6008  ovarian tumour clear cell carcinoma          8\n",
       "11 GSE6008  ovarian tumour endometrioid carcinoma       37\n",
       "12 GSE6008  ovarian tumour high-grade serous carcinoma  23\n",
       "13 GSE6008  ovarian tumour low-grade serous carcinoma    2\n",
       "14 GSE6008  ovarian tumour mucinous carcinoma           13\n",
       "15 GSE6008  ovarian tumour serous carcinoma             16\n",
       "16 GSE69428 normal         NA                            9\n",
       "17 GSE69428 ovarian tumour high-grade serous carcinoma  10"
      ]
     },
     "metadata": {},
     "output_type": "display_data"
    }
   ],
   "source": [
    "all_metadata %>%\n",
    "    group_by(Dataset, Status, HistSubtypes) %>% summarise(n())"
   ]
  },
  {
   "cell_type": "code",
   "execution_count": 16,
   "metadata": {
    "vscode": {
     "languageId": "r"
    }
   },
   "outputs": [
    {
     "name": "stdout",
     "output_type": "stream",
     "text": [
      "[1] \"Number of samples in type_1_early_vs_late: 408\"\n",
      "[1] \"Number of genes in type_1_early_vs_late: 51276\"\n"
     ]
    }
   ],
   "source": [
    "all_metadata <- all_metadata %>%\n",
    "    mutate(Status = as.factor(Status),\n",
    "             Stage2 = as.factor(Stage2),\n",
    "             Grade2 = as.factor(Grade2),\n",
    "             ClinicopathologicSubtypes = as.factor(ClinicopathologicSubtypes),\n",
    "             Dataset = as.factor(Dataset))\n",
    "\n",
    "all_expression <- all_expression %>% column_to_rownames(\"row_ID\")\n",
    "all_metadata <- all_metadata[all_metadata$Sample_geo_ID %in% colnames(all_expression),]\n",
    "all_expression <- all_expression[,all_metadata$Sample_geo_ID]\n",
    "\n",
    "print(paste0(\"Number of samples in type_1_early_vs_late: \", ncol(all_expression)))\n",
    "print(paste0(\"Number of genes in type_1_early_vs_late: \", nrow(all_expression)))"
   ]
  },
  {
   "cell_type": "code",
   "execution_count": 17,
   "metadata": {
    "vscode": {
     "languageId": "r"
    }
   },
   "outputs": [
    {
     "name": "stderr",
     "output_type": "stream",
     "text": [
      "No id variables; using all as measure variables\n",
      "\n",
      "Warning message:\n",
      "“\u001b[1m\u001b[22mRemoved 1767140 rows containing non-finite values (`stat_density()`).”\n",
      "Warning message:\n",
      "“\u001b[1m\u001b[22mRemoved 1767140 rows containing non-finite values (`stat_boxplot()`).”\n",
      "Warning message:\n",
      "“\u001b[1m\u001b[22mRemoved 1767140 rows containing non-finite values (`stat_summary()`).”\n"
     ]
    }
   ],
   "source": [
    "#  plot\n",
    "plot_res <- plots_normtumor(all_expression[sample(1:nrow(all_expression), 10000),], \n",
    "                            all_metadata, \"\", 'norm_vs_tumor')\n",
    "layout <- (plot_res[[1]] + plot_res[[2]] ) / \n",
    "         (plot_res[[3]] )\n",
    "# ggsave(\"before/plots/norm_vs_HGSC_plot.png\", \n",
    "#              plot = layout, width = 14, height = 12)\n",
    "ggsave(\"before/plots/norm_vs_tumor_plot_UNION.png\", \n",
    "             plot = layout, width = 14, height = 12)\n",
    "\n"
   ]
  },
  {
   "cell_type": "code",
   "execution_count": 18,
   "metadata": {
    "vscode": {
     "languageId": "r"
    }
   },
   "outputs": [
    {
     "name": "stderr",
     "output_type": "stream",
     "text": [
      "Warning message:\n",
      "“Partial NA coefficients for 30148 probe(s)”\n",
      "No id variables; using all as measure variables\n",
      "\n",
      "Warning message:\n",
      "“\u001b[1m\u001b[22mRemoved 1744194 rows containing non-finite values (`stat_density()`).”\n",
      "Warning message:\n",
      "“\u001b[1m\u001b[22mRemoved 1744194 rows containing non-finite values (`stat_boxplot()`).”\n",
      "Warning message:\n",
      "“\u001b[1m\u001b[22mRemoved 1744194 rows containing non-finite values (`stat_summary()`).”\n"
     ]
    }
   ],
   "source": [
    "# remove batch effect from GSE68928\n",
    "design <- model.matrix(~all_metadata$Status)\n",
    "colnames(design) <- c(\"Intercept\", \"HGSC\")\n",
    "corrected_expr <- limma::removeBatchEffect(all_expression, batch = all_metadata$Dataset, design = design) %>% as.data.frame()\n",
    "\n",
    "# save corrected data to after\n",
    "write.table(corrected_expr %>% rownames_to_column(\"Gene\"), \"after/central_corrected_UNION.tsv\", sep = \"\\t\", quote = FALSE, row.names = FALSE)\n",
    "\n",
    "\n",
    "# # plot plots for norm_vs_tumor\n",
    "plot_res <- plots_normtumor(\n",
    "    # take random 10000 rows \n",
    "    corrected_expr[sample(1:nrow(corrected_expr), 10000),], all_metadata, \" \", \"norm_vs_tumor\")\n",
    "layout <- (plot_res[[1]] + plot_res[[2]] ) / \n",
    "    (plot_res[[3]] )\n",
    "ggsave(\"before/plots/norm_vs_tumor_plot_Rcorrected_UNION.png\", \n",
    "             plot = layout, width = 14, height = 12)\n"
   ]
  },
  {
   "cell_type": "code",
   "execution_count": 19,
   "metadata": {
    "vscode": {
     "languageId": "r"
    }
   },
   "outputs": [],
   "source": [
    "# save expression and metadata in folder\n",
    "# all in one file\n",
    "write.table(all_metadata, \"before/all_metadata.tsv\", sep = \"\\t\", quote = FALSE, row.names = FALSE)\n",
    "# write.table(all_expression %>% rownames_to_column(\"Gene\"), \"before/all_expression.tsv\", sep = \"\\t\", quote = FALSE, row.names = FALSE)\n",
    "write.table(all_expression %>% rownames_to_column(\"Gene\"), \"before/all_expression_UNION.tsv\", sep = \"\\t\", quote = FALSE, row.names = FALSE)\n"
   ]
  },
  {
   "cell_type": "code",
   "execution_count": 21,
   "metadata": {
    "vscode": {
     "languageId": "r"
    }
   },
   "outputs": [
    {
     "name": "stdout",
     "output_type": "stream",
     "text": [
      "[1] \"GSE6008\"\n",
      "[1] 51276   103\n",
      "[1] \"GSE26712\"\n",
      "[1] 51276   195\n",
      "[1] \"GSE40595\"\n",
      "[1] 51276    37\n",
      "[1] \"GSE69428\"\n",
      "[1] 51276    19\n",
      "[1] \"GSE38666\"\n",
      "[1] 51276    30\n",
      "[1] \"GSE14407\"\n",
      "[1] 51276    24\n"
     ]
    }
   ],
   "source": [
    "path_to_after_data <- \"after\"\n",
    "\n",
    "design <- design %>% as.data.frame()\n",
    "rownames(design) <- all_metadata$Sample_geo_ID\n",
    "\n",
    "for(center in unique(all_metadata$Dataset)){\n",
    "    print(center)\n",
    "    path_to_before <- paste0(\"before/\", center, \"/\")\n",
    "\n",
    "    design_center = design[all_metadata[all_metadata$Dataset == center,]$Sample_geo_ID,]['HGSC']\n",
    "\n",
    "    # if(!dir.exists(path_to_after)){\n",
    "    #     dir.create(path_to_after)\n",
    "    # }\n",
    "\n",
    "    write.table(design_center %>% rownames_to_column('file'),\n",
    "        file = paste0(path_to_before, \"design.tsv\"), sep = \"\\t\", quote = F, row.names = F, col.names = T)\n",
    "\n",
    "    # take also the expression data\n",
    "    expr_center <- all_expression[,all_metadata$Sample_geo_ID[all_metadata$Dataset == center]]\n",
    "    print(dim(expr_center))\n",
    "    write.table(expr_center %>% rownames_to_column(\"Gene\"), file = paste0(path_to_before, \"expr_for_correction_UNION.tsv\"), sep = \"\\t\", quote = F, row.names = F, col.names = T)\n",
    "}"
   ]
  }
 ],
 "metadata": {
  "kernelspec": {
   "display_name": "R",
   "language": "R",
   "name": "ir"
  },
  "language_info": {
   "codemirror_mode": "r",
   "file_extension": ".r",
   "mimetype": "text/x-r-source",
   "name": "R",
   "pygments_lexer": "r",
   "version": "4.3.2"
  }
 },
 "nbformat": 4,
 "nbformat_minor": 2
}
