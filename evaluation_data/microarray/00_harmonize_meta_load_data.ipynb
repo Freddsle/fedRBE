{
 "cells": [
  {
   "cell_type": "markdown",
   "metadata": {},
   "source": [
    "# Prepare the datatsets\n",
    "\n",
    "Rerun this script only if you want to re-create the datasets.  \n",
    "Otherwise, you can skip this script and go directly to the data correction one."
   ]
  },
  {
   "cell_type": "markdown",
   "metadata": {},
   "source": [
    "# Harmonize metafiles"
   ]
  },
  {
   "cell_type": "code",
   "execution_count": 1,
   "metadata": {
    "vscode": {
     "languageId": "r"
    }
   },
   "outputs": [
    {
     "name": "stderr",
     "output_type": "stream",
     "text": [
      "── \u001b[1mAttaching core tidyverse packages\u001b[22m ──────────────────────── tidyverse 2.0.0 ──\n",
      "\u001b[32m✔\u001b[39m \u001b[34mdplyr    \u001b[39m 1.1.4     \u001b[32m✔\u001b[39m \u001b[34mreadr    \u001b[39m 2.1.4\n",
      "\u001b[32m✔\u001b[39m \u001b[34mforcats  \u001b[39m 1.0.0     \u001b[32m✔\u001b[39m \u001b[34mstringr  \u001b[39m 1.5.0\n",
      "\u001b[32m✔\u001b[39m \u001b[34mggplot2  \u001b[39m 3.4.4     \u001b[32m✔\u001b[39m \u001b[34mtibble   \u001b[39m 3.2.1\n",
      "\u001b[32m✔\u001b[39m \u001b[34mlubridate\u001b[39m 1.9.3     \u001b[32m✔\u001b[39m \u001b[34mtidyr    \u001b[39m 1.3.0\n",
      "\u001b[32m✔\u001b[39m \u001b[34mpurrr    \u001b[39m 1.0.2     \n",
      "── \u001b[1mConflicts\u001b[22m ────────────────────────────────────────── tidyverse_conflicts() ──\n",
      "\u001b[31m✖\u001b[39m \u001b[34mdplyr\u001b[39m::\u001b[32mfilter()\u001b[39m masks \u001b[34mstats\u001b[39m::filter()\n",
      "\u001b[31m✖\u001b[39m \u001b[34mdplyr\u001b[39m::\u001b[32mlag()\u001b[39m    masks \u001b[34mstats\u001b[39m::lag()\n",
      "\u001b[36mℹ\u001b[39m Use the conflicted package (\u001b[3m\u001b[34m<http://conflicted.r-lib.org/>\u001b[39m\u001b[23m) to force all conflicts to become errors\n",
      "Loading required package: Biobase\n",
      "\n",
      "Loading required package: BiocGenerics\n",
      "\n",
      "\n",
      "Attaching package: ‘BiocGenerics’\n",
      "\n",
      "\n",
      "The following objects are masked from ‘package:lubridate’:\n",
      "\n",
      "    intersect, setdiff, union\n",
      "\n",
      "\n",
      "The following objects are masked from ‘package:dplyr’:\n",
      "\n",
      "    combine, intersect, setdiff, union\n",
      "\n",
      "\n",
      "The following objects are masked from ‘package:stats’:\n",
      "\n",
      "    IQR, mad, sd, var, xtabs\n",
      "\n",
      "\n",
      "The following objects are masked from ‘package:base’:\n",
      "\n",
      "    anyDuplicated, aperm, append, as.data.frame, basename, cbind,\n",
      "    colnames, dirname, do.call, duplicated, eval, evalq, Filter, Find,\n",
      "    get, grep, grepl, intersect, is.unsorted, lapply, Map, mapply,\n",
      "    match, mget, order, paste, pmax, pmax.int, pmin, pmin.int,\n",
      "    Position, rank, rbind, Reduce, rownames, sapply, setdiff, sort,\n",
      "    table, tapply, union, unique, unsplit, which.max, which.min\n",
      "\n",
      "\n",
      "Welcome to Bioconductor\n",
      "\n",
      "    Vignettes contain introductory material; view with\n",
      "    'browseVignettes()'. To cite Bioconductor, see\n",
      "    'citation(\"Biobase\")', and for packages 'citation(\"pkgname\")'.\n",
      "\n",
      "\n",
      "Setting options('download.file.method.GEOquery'='auto')\n",
      "\n",
      "Setting options('GEOquery.inmemory.gpl'=FALSE)\n",
      "\n"
     ]
    }
   ],
   "source": [
    "library(tidyverse)\n",
    "library(GEOquery)"
   ]
  },
  {
   "cell_type": "markdown",
   "metadata": {},
   "source": [
    "## Load metadata\n",
    "\n",
    "i - to check if some dataset contains the data from several sources/platforms"
   ]
  },
  {
   "cell_type": "code",
   "execution_count": 4,
   "metadata": {
    "vscode": {
     "languageId": "r"
    }
   },
   "outputs": [
    {
     "name": "stderr",
     "output_type": "stream",
     "text": [
      "Found 1 file(s)\n",
      "\n",
      "GSE6008_series_matrix.txt.gz\n",
      "\n",
      "Using locally cached version: /tmp/RtmpP8bGJq/GSE6008_series_matrix.txt.gz\n",
      "\n",
      "Found 1 file(s)\n",
      "\n",
      "GSE26712_series_matrix.txt.gz\n",
      "\n",
      "Using locally cached version: /tmp/RtmpP8bGJq/GSE26712_series_matrix.txt.gz\n",
      "\n",
      "Found 1 file(s)\n",
      "\n",
      "GSE40595_series_matrix.txt.gz\n",
      "\n",
      "Using locally cached version: /tmp/RtmpP8bGJq/GSE40595_series_matrix.txt.gz\n",
      "\n",
      "Found 1 file(s)\n",
      "\n",
      "GSE69428_series_matrix.txt.gz\n",
      "\n",
      "Using locally cached version: /tmp/RtmpP8bGJq/GSE69428_series_matrix.txt.gz\n",
      "\n",
      "Found 1 file(s)\n",
      "\n",
      "GSE38666_series_matrix.txt.gz\n",
      "\n",
      "Found 1 file(s)\n",
      "\n",
      "GSE14407_series_matrix.txt.gz\n",
      "\n"
     ]
    }
   ],
   "source": [
    "options(timeout = max(300, getOption(\"timeout\")))\n",
    "options(download.file.method.GEOquery = \"wget\")\n",
    "\n",
    "metadata_files <- list()\n",
    "samples_IDs <- NULL\n",
    "\n",
    "for(dataset in c(\n",
    "    \"GSE6008\", \"GSE26712\", \"GSE40595\", \"GSE69428\", \"GSE38666\", \"GSE14407\"\n",
    "    )){\n",
    "\n",
    "    # check if dir exists\n",
    "    if(!dir.exists(paste0(\"before/\", dataset))){\n",
    "        dir.create(paste0(\"before/\", dataset))\n",
    "    }\n",
    "\n",
    "    gset <- getGEO(dataset, GSEMatrix=TRUE, getGPL=FALSE)\n",
    "    metadata_files[[dataset]] <- list()\n",
    "\n",
    "    n_platforms <- length(gset)\n",
    "    for(i in c(1:n_platforms)){\n",
    "        metadata <- pData(gset[[i]]) %>% as.data.frame()\n",
    "        write.table(metadata %>% as.data.frame() %>% rownames_to_column(\"Sample_geo_ID\"), \n",
    "            file = paste0(\"before/\", dataset, \"/intermediate/\", i, \"_metadata.tsv\"), sep = \"\\t\", row.names = F,quote = FALSE)\n",
    "\n",
    "        metadata_files[[dataset]][[i]] <- paste0(\"before/\", dataset, \"/intermediate/\", i, \"_metadata.tsv\")\n",
    "        if(is.null(samples_IDs)){\n",
    "            samples_IDs <- metadata %>% rownames()\n",
    "        }else{\n",
    "            # add new samples, but without duplicates\n",
    "            samples_IDs <- c(samples_IDs, metadata %>% rownames()) %>% unique()\n",
    "        }\n",
    "    }\n",
    "}"
   ]
  },
  {
   "cell_type": "markdown",
   "metadata": {},
   "source": [
    "## Read and preprocess metadata"
   ]
  },
  {
   "cell_type": "code",
   "execution_count": 5,
   "metadata": {
    "vscode": {
     "languageId": "r"
    }
   },
   "outputs": [],
   "source": [
    "prepare_GSE6008 <- function(metadata){\n",
    "    metadata <- metadata %>%\n",
    "        # remove all columns with mutation in colname\n",
    "        select(-c(grep(\"mutation\", colnames(metadata), value = T))) %>%\n",
    "        select(-c(grep(\"characteristics_ch1\", colnames(metadata), value = T))) %>%\n",
    "        select(-c(\"CEL_file_name:ch1\", \"P53_immunohistochemistry:ch1\", \"B-canenin_nuclear_accumulation:ch1\", \"PTEN_immunohistochemistry:ch1\")) %>%\n",
    "        select(-c(\"title\")) %>%\n",
    "        rename(\"tissue\" = \"source_name_ch1\", \"Grade\" = \"grade:ch1\", \"Stage\" = \"stage:ch1\", \"Tumor_Type\" = \"Tumor_Type:ch1\") %>%\n",
    "        mutate(\n",
    "            Status = ifelse(grepl(\"Normal\", tissue), \"normal\", \"ovarian tumour\"),\n",
    "            Grade2 = ifelse(Grade == 1, \"Low\", ifelse(Grade == 2 | Grade == 3 | Grade == \"2-3\", \"High\", NA)),\n",
    "            Stage = ifelse(Stage == \"N/A\", NA, toupper(gsub(\" \", \"\", Stage))),\n",
    "            Grade = ifelse(Grade == \"N/A\", NA, Grade),\n",
    "            Tumor_Type = ifelse(Tumor_Type == \"N/A\", NA, Tumor_Type),\n",
    "        ) %>%\n",
    "        mutate(\n",
    "            HistSubtypes = ifelse(grepl(\"Serous\", Tumor_Type) & Grade2 == \"High\", \"high-grade serous carcinoma\",\n",
    "                ifelse(grepl(\"Serous\", Tumor_Type) & Grade2 == \"Low\", \"low-grade serous carcinoma\",\n",
    "                        ifelse(grepl(\"Endometrioid\", Tumor_Type), \"endometrioid carcinoma\",\n",
    "                            ifelse(grepl(\"Clear_Cell\", Tumor_Type), \"clear cell carcinoma\",\n",
    "                                ifelse(grepl(\"Mucinous\", Tumor_Type), \"mucinous carcinoma\", NA)\n",
    "                            )\n",
    "                        )\n",
    "                    )\n",
    "                 ),\n",
    "            ClinicopathologicSubtypes = ifelse(HistSubtypes == \"high-grade serous carcinoma\", \"Type II\", \"Type I\"),\n",
    "            Stage2 = ifelse(Stage %in% c(\"3A\",\"3C\",\"3B\",\"3\", \"3D\"), \"III\", \n",
    "                ifelse(Stage %in% c(\"1A\",\"1C\", \"1A\", \"1\"), \"I\", \n",
    "                    ifelse(Stage %in% c(\"4\"), \"IV\", \n",
    "                        ifelse(Stage %in% c(\"2B\", \"2C\", \"2A\", \"2\"), \"II\", NA)))),\n",
    "            Stage3 = NA\n",
    "        ) %>%\n",
    "        mutate(HistSubtypes = ifelse(is.na(HistSubtypes), ifelse(Tumor_Type == \"Serous\", \"serous carcinoma\", NA), HistSubtypes)) %>%\n",
    "        select(-c(\"Tumor_Type\", \"description\"))\n",
    "    metadata <- metadata %>%\n",
    "        select(Sample_geo_ID, Status, HistSubtypes, Stage, Grade2, ClinicopathologicSubtypes, everything())\n",
    "    return(metadata)\n",
    "}\n",
    "\n",
    "\n",
    "prepare_GSE26712 <- function(metadata){\n",
    "    \n",
    "    metadata <- metadata %>%\n",
    "        mutate(title = sub(\" .*\", \"\", title)) %>%\n",
    "        rename(\"tissue\" = \"source_name_ch1\", \"Tissue\" = \"tissue:ch1\") %>%\n",
    "        select(-c(\"title\", \"characteristics_ch1\", \"characteristics_ch1.1\", \"characteristics_ch1.2\", \"characteristics_ch1.3\",\n",
    "            \"surgery outcome:ch1\", \"survival years:ch1\"))  %>%\n",
    "        mutate(\n",
    "            Stage = ifelse(grepl(\"Late-stage\", Tissue), \"Late(IIIB–IV)\", NA),\n",
    "            Grade2 = ifelse(grepl(\"high-grade\", Tissue), \"High\", NA),\n",
    "            SubtypeRep = ifelse(grepl(\"high-grade\", Tissue), \"Ser/PapSer\", NA),\n",
    "            Status = ifelse(grepl(\"Normal\", Tissue), \"normal\", \"ovarian tumour\"),\n",
    "            HistSubtypes = ifelse(SubtypeRep == \"Ser/PapSer\", \"high-grade serous carcinoma\", NA)) %>%\n",
    "        mutate(\n",
    "            ClinicopathologicSubtypes = ifelse(HistSubtypes == \"high-grade serous carcinoma\", \"Type II\", \"Type I\"),\n",
    "            Stage2 = Stage,\n",
    "            Stage3 = NA) %>%\n",
    "        select(-c(\"treatment_protocol_ch1\", \"description\", \"Tissue\"))\n",
    "    metadata <- metadata %>% \n",
    "        select(Sample_geo_ID, Status, HistSubtypes, Stage, Grade2, ClinicopathologicSubtypes, everything())\n",
    "        \n",
    "    return(metadata)\n",
    "}\n",
    "\n",
    "prepare_GSE40595 <- function(metadata){\n",
    "    metadata <- metadata %>%\n",
    "        filter(!grepl(\"stroma\", title)) %>%\n",
    "        mutate(\n",
    "            Status = ifelse(grepl(\"Microdissected ovarian surface epthelium\", source_name_ch1), \"normal\", \"ovarian tumour\"),\n",
    "            tissue = \"Ovary\",\n",
    "            HistSubtypes = ifelse(grepl(\"tumor\", source_name_ch1), \"high-grade serous carcinoma\", NA),\n",
    "            Grade2 = ifelse(grepl(\"tumor\", source_name_ch1), \"High\", NA),\n",
    "            ClinicopathologicSubtypes = ifelse(grepl(\"tumor\", source_name_ch1), \"Type II\", NA),\n",
    "            Stage = NA,\n",
    "            Stage2 = NA,\n",
    "            Stage3 = NA\n",
    "        ) %>%\n",
    "        select(-c(\"characteristics_ch1\", \"title\", \"tissue:ch1\", \"description\", \"source_name_ch1\"))\n",
    "    metadata <- metadata %>%\n",
    "        select(Sample_geo_ID, Status, HistSubtypes, Stage, Grade2, ClinicopathologicSubtypes, everything())\n",
    "    return(metadata)\n",
    "}\n",
    "\n",
    "\n",
    "prepare_GSE69428 <- function(metadata){\n",
    "    metadata <- metadata %>%\n",
    "        filter(!grepl(\"FTSC\", title)) %>%\n",
    "        mutate(\n",
    "            Grade2 = ifelse(grepl(\"HGSOC\", title), \"High\", NA),\n",
    "            ClinicopathologicSubtypes = ifelse(grepl(\"HGSOC\", title), \"Type II\", NA),\n",
    "            HistSubtypes = ifelse(grepl(\"HGSOC\", title), \"high-grade serous carcinoma\", NA),\n",
    "            Status = ifelse(grepl(\"normal\", title), \"normal\", \"ovarian tumour\"),\n",
    "            tissue = ifelse(grepl(\"HGSOC\", title), \"serous ovarian cancer\", \"oviduct\"),\n",
    "            Stage = NA,\n",
    "            Stage2 = NA,\n",
    "            Stage3 = NA\n",
    "        ) %>%\n",
    "        select(-c(\"treatment_protocol_ch1\", \"characteristics_ch1.1\", \"characteristics_ch1\", \n",
    "            \"sample type:ch1\", \"source_name_ch1\", \"description\", \"title\", \"tissue:ch1\"))\n",
    "    metadata <- metadata %>%\n",
    "        select(Sample_geo_ID, Status, HistSubtypes, Stage, Grade2, ClinicopathologicSubtypes, everything())\n",
    "    return(metadata)\n",
    "}\n",
    "\n",
    "\n",
    "prepare_GSE38666 <- function(metadata){\n",
    "    metadata <- metadata %>%\n",
    "        filter(!grepl(\"Stroma\", title)) %>%\n",
    "        select(-c(grep(\"characteristics_ch1\", colnames(metadata), value = T))) %>%\n",
    "        rename(\"Stage\" = \"Stage:ch1\", \"tissue\" = \"tissue:ch1\", \"Grade\" = \"grade:ch1\") %>%\n",
    "        mutate(\n",
    "            Status = ifelse(grepl(\"normal\", title), \"normal\", \"ovarian tumour\"),\n",
    "            Stage =  toupper(gsub(\" \", \"\", Stage)),\n",
    "            Grade2 = ifelse(Grade == 1, \"Low\", ifelse(Grade == 2 | Grade == 3, \"High\", NA)),\n",
    "            HistSubtypes = ifelse(Status == \"ovarian tumour\" & Grade2 == \"High\", \"high-grade serous carcinoma\", NA),\n",
    "            ClinicopathologicSubtypes = ifelse(HistSubtypes == \"high-grade serous carcinoma\", \"Type II\", \"Type I\"),\n",
    "            Stage2 = ifelse(Stage %in% c(\"IIIA\",\"IIIC\",\"IIIB\",\"III\", \"IIIB/C\"), \"III\", \n",
    "                ifelse(Stage %in% c(\"IB\",\"IC\", \"IA\"), \"I\", \n",
    "                    ifelse(Stage %in% c(\"III/IV\", \"IIIC/IV\", \"IV\"), \"IV\", \n",
    "                        ifelse(Stage %in% c(\"IIB\", \"IIC\", \"IIA\", \"II\"), \"II\", NA)))),\n",
    "            Stage3 = NA\n",
    "        ) %>%\n",
    "        select(-c(\"source_name_ch1\", \"description\", \"cell type:ch1\", \"title\"))\n",
    "    \n",
    "    metadata <- metadata %>%\n",
    "        select(Sample_geo_ID, Status, HistSubtypes, Stage, Grade2, ClinicopathologicSubtypes, everything())\n",
    "    return(metadata)\n",
    "}\n",
    "\n",
    "\n",
    "\n",
    "prepare_GSE14407 <- function(metadata){\n",
    "    metadata <- metadata %>%\n",
    "        select(-c(grep(\"characteristics_ch1\", colnames(metadata), value = T))) %>%\n",
    "        select(-c(\"biomaterial_provider_ch1\", \"treatment_protocol_ch1\")) %>%\n",
    "        mutate(Stage = ifelse(grepl(\"CEPI\", title), sub(\".*_(.*)_[0-9]*\", \"\\\\1\", title), NA)) %>%\n",
    "        mutate(\n",
    "            Stage = toupper(gsub(\" \", \"\", Stage)),\n",
    "            Status = ifelse(grepl(\"CEPI\", title), \"ovarian tumour\", \"normal\"),\n",
    "            HistSubtypes = ifelse(!grepl(\"OSE\", title), \"high-grade serous carcinoma\", NA),\n",
    "            Grade2 = ifelse(grepl(\"CEPI\", title), \"High\", NA),\n",
    "            ClinicopathologicSubtypes = ifelse(HistSubtypes == \"high-grade serous carcinoma\", \"Type II\", NA),\n",
    "            Stage2 = ifelse(Stage %in% c(\"IIIA\",\"IIIC\",\"IIIB\",\"III\"), \"III\", \n",
    "                ifelse(Stage %in% c(\"IB\",\"IC\", \"IA\"), \"I\", \n",
    "                    ifelse(Stage %in% c(\"IV\"), \"IV\", \n",
    "                        ifelse(Stage %in% c(\"IIB\", \"IIC\", \"IIA\", \"II\"), \"II\", NA)))),\n",
    "            Stage3 = NA\n",
    "        ) %>%\n",
    "        select(-c(\"title\", \"source_name_ch1\", \"description\", \"disease state:ch1\", \"specimen:ch1\"))\n",
    "    metadata <- metadata %>%\n",
    "        select(Sample_geo_ID, Status, HistSubtypes, Stage, Grade2, ClinicopathologicSubtypes, everything())\n",
    "    return(metadata)\n",
    "}"
   ]
  },
  {
   "cell_type": "code",
   "execution_count": 6,
   "metadata": {
    "vscode": {
     "languageId": "r"
    }
   },
   "outputs": [
    {
     "name": "stdout",
     "output_type": "stream",
     "text": [
      "Dataset:  GSE6008 \n",
      "\t\t 1 \n",
      "Dataset:  GSE26712 \n",
      "\t\t 1 \n",
      "Dataset:  GSE40595 \n",
      "\t\t 1 \n",
      "Dataset:  GSE69428 \n",
      "\t\t 1 \n",
      "Dataset:  GSE38666 \n",
      "\t\t 1 \n",
      "Dataset:  GSE14407 \n",
      "\t\t 1 \n"
     ]
    }
   ],
   "source": [
    "metadata_list <- list()\n",
    "\n",
    "for(dataset in c(\n",
    "    \"GSE6008\", \"GSE26712\", \"GSE40595\", \"GSE69428\", \"GSE38666\", \"GSE14407\"\n",
    ")){\n",
    "    cat(\"Dataset: \", dataset, \"\\n\")\n",
    "    for(i in c(1:length(metadata_files[[dataset]]))){\n",
    "        cat(\"\\t\\t\", i, \"\\n\")\n",
    "        metadata_file <- metadata_files[[dataset]][[i]]\n",
    "        metadata <- read_tsv(metadata_file, show_col_types = FALSE)\n",
    "        # check if metadata$type is RNA\n",
    "        if(\"type\" %in% colnames(metadata)){\n",
    "            if(!(\"RNA\" %in% metadata$type)){\n",
    "                cat(\"Not RNA dataset\\n\")\n",
    "        }}\n",
    "\n",
    "        metadata <- metadata %>%\n",
    "            select(-matches(\"^(geo_accession|status|submission_date|last_update_date|type|channel_count|organism_ch1)\")) %>%\n",
    "            select(-matches(\"^(molecule_ch1|taxid_ch1|data_row_count|relation|contact_)\")) %>%\n",
    "            select(-matches(\"^(extract_protocol_ch1|label_ch1|label_protocol_ch1|scan_protocol|hyb_protocol|data_processing)\")) %>%\n",
    "            select(-matches(\"^(growth_protocol_ch1|data_processing.1|patient id:ch1|age:ch1|supplementary_file.1|gender:ch1)\"))\n",
    "        \n",
    "        if (dataset == \"GSE6008\") { metadata_list[[paste0(dataset, \"_\", i)]] <- prepare_GSE6008(metadata) }\n",
    "        if (dataset == \"GSE26712\") { metadata_list[[paste0(dataset, \"_\", i)]] <- prepare_GSE26712(metadata) }\n",
    "        if (dataset == \"GSE40595\") { metadata_list[[paste0(dataset, \"_\", i)]] <- prepare_GSE40595(metadata) }\n",
    "        if (dataset == \"GSE69428\") { metadata_list[[paste0(dataset, \"_\", i)]] <- prepare_GSE69428(metadata) }\n",
    "        if (dataset == \"GSE38666\") { metadata_list[[paste0(dataset, \"_\", i)]] <- prepare_GSE38666(metadata) }\n",
    "        if (dataset == \"GSE14407\") { metadata_list[[paste0(dataset, \"_\", i)]] <- prepare_GSE14407(metadata) }\n",
    "    }\n",
    "}"
   ]
  },
  {
   "cell_type": "markdown",
   "metadata": {},
   "source": [
    "## Save the results"
   ]
  },
  {
   "cell_type": "code",
   "execution_count": 7,
   "metadata": {
    "vscode": {
     "languageId": "r"
    }
   },
   "outputs": [],
   "source": [
    "library(readr)\n",
    "\n",
    "for(dataset in names(metadata_list)){\n",
    "    dataset_path <- gsub(\"_\\\\d$\", \"\", dataset)\n",
    "    # get i from dataset\n",
    "    i <- gsub(\".*_\", \"\", dataset)\n",
    "    write_tsv(metadata_list[[dataset]], paste0(\"before/\", dataset_path, \"/intermediate/\", i, \"_metadata_short.tsv\"))\n",
    "}\n"
   ]
  },
  {
   "cell_type": "code",
   "execution_count": 8,
   "metadata": {
    "vscode": {
     "languageId": "r"
    }
   },
   "outputs": [],
   "source": [
    "# Function to process each dataset\n",
    "process_dataset <- function(dataset) {\n",
    "    # Read the metadata\n",
    "    metadata <- metadata_list[[dataset]]\n",
    "    # Get unique values for each column and format as a single string if multiple\n",
    "    summarized <- metadata %>%\n",
    "        summarise(across(everything(), ~paste(unique(.x), collapse = \"; \"))) %>%\n",
    "        pivot_longer(cols = everything(), names_to = \"column_name\", values_to = \"unique_values\") %>%\n",
    "        pivot_wider(names_from = column_name, values_from = unique_values)\n",
    "    \n",
    "    # Add dataset identifier\n",
    "    summarized <- summarized %>% mutate(dataset = dataset)\n",
    "    summarized$dataset <- as.character(dataset)\n",
    "    # add column with total number of samples per dataset\n",
    "    summarized$number_of_samples <- nrow(metadata)\n",
    "    return(summarized)\n",
    "}\n",
    "\n",
    "# Process all datasets\n",
    "processed_datasets <- map(names(metadata_list), process_dataset)\n",
    "\n",
    "# Combine all processed datasets using full join, handling cases with no common columns\n",
    "final_df <- reduce(processed_datasets, ~full_join(.x, .y, by = intersect(names(.x), names(.y)))) %>%\n",
    "    as.data.frame()\n",
    "\n",
    "# Print or view the final structured dataframe\n",
    "# print(final_df)\n",
    "final_df %>% write_tsv(\"preprocessing_info/metadata_summary.tsv\", col_names = TRUE)"
   ]
  },
  {
   "cell_type": "markdown",
   "metadata": {},
   "source": [
    "# Load the data"
   ]
  },
  {
   "cell_type": "code",
   "execution_count": 9,
   "metadata": {
    "vscode": {
     "languageId": "r"
    }
   },
   "outputs": [
    {
     "name": "stderr",
     "output_type": "stream",
     "text": [
      "\n",
      "Attaching package: ‘affy’\n",
      "\n",
      "\n",
      "The following object is masked from ‘package:lubridate’:\n",
      "\n",
      "    pm\n",
      "\n",
      "\n"
     ]
    }
   ],
   "source": [
    "library(tidyverse)\n",
    "\n",
    "library(affy)\n",
    "library(GEOquery)"
   ]
  },
  {
   "cell_type": "code",
   "execution_count": null,
   "metadata": {
    "vscode": {
     "languageId": "r"
    }
   },
   "outputs": [],
   "source": [
    "# Preparation (in case of errors)\n",
    "# library(makecdfenv)\n",
    "\n",
    "# make.cdf.package(\n",
    "#     \"GPL15048_HuRSTA_2a520709.CDF.gz\",\n",
    "#     packagename = 'hursta2a520709cdf',\n",
    "#     # package.path = \"./\",\n",
    "#     species = \"Homo_sapiens\",\n",
    "#     cdf.path = \"before/GSE66957_RAW/\",\n",
    "#     compress = TRUE)\n",
    "\n",
    "# system(\"R CMD INSTALL hursta2a520709cdf\", intern = TRUE)"
   ]
  },
  {
   "cell_type": "code",
   "execution_count": 10,
   "metadata": {
    "vscode": {
     "languageId": "r"
    }
   },
   "outputs": [
    {
     "name": "stdout",
     "output_type": "stream",
     "text": [
      "Processing for dataset: GSE6008"
     ]
    },
    {
     "name": "stderr",
     "output_type": "stream",
     "text": [
      "Warning message:\n",
      "“replacing previous import ‘AnnotationDbi::tail’ by ‘utils::tail’ when loading ‘hgu133acdf’”\n",
      "Warning message:\n",
      "“replacing previous import ‘AnnotationDbi::head’ by ‘utils::head’ when loading ‘hgu133acdf’”\n",
      "\n",
      "\n"
     ]
    },
    {
     "name": "stdout",
     "output_type": "stream",
     "text": [
      "Background correcting\n",
      "Normalizing\n",
      "Calculating Expression\n",
      "Processing for dataset: GSE26712Background correcting\n",
      "Normalizing\n",
      "Calculating Expression\n",
      "Processing for dataset: GSE40595"
     ]
    },
    {
     "name": "stderr",
     "output_type": "stream",
     "text": [
      "Warning message:\n",
      "“replacing previous import ‘AnnotationDbi::tail’ by ‘utils::tail’ when loading ‘hgu133plus2cdf’”\n",
      "Warning message:\n",
      "“replacing previous import ‘AnnotationDbi::head’ by ‘utils::head’ when loading ‘hgu133plus2cdf’”\n",
      "\n",
      "\n",
      "\n",
      "Attaching package: ‘hgu133plus2cdf’\n",
      "\n",
      "\n",
      "The following objects are masked from ‘package:hgu133acdf’:\n",
      "\n",
      "    i2xy, xy2i\n",
      "\n",
      "\n"
     ]
    },
    {
     "name": "stdout",
     "output_type": "stream",
     "text": [
      "Background correcting\n",
      "Normalizing\n",
      "Calculating Expression\n",
      "Processing for dataset: GSE69428Background correcting\n",
      "Normalizing\n",
      "Calculating Expression\n",
      "Processing for dataset: GSE38666Background correcting\n",
      "Normalizing\n",
      "Calculating Expression\n",
      "Processing for dataset: GSE14407Background correcting\n",
      "Normalizing\n",
      "Calculating Expression\n"
     ]
    }
   ],
   "source": [
    "options(timeout = max(300, getOption(\"timeout\")))\n",
    "options(download.file.method.GEOquery = \"wget\")\n",
    "\n",
    "for(dataset in c(\n",
    "    \"GSE6008\", \"GSE26712\", \"GSE40595\", \"GSE69428\", \"GSE38666\", \"GSE14407\"\n",
    "    )){                   \n",
    "    \n",
    "    cat('Processing for dataset:', dataset)\n",
    "    \n",
    "    if (file.exists(paste0(\"before/\", dataset, \"/\", dataset,\"_RAW.tar\"))) {\n",
    "        untar(\n",
    "            paste0(\"before/\", dataset,\"/\", dataset, \"_RAW.tar\"), \n",
    "            exdir = paste0(\"before/\", dataset, \"_RAW\")\n",
    "        )\n",
    "    } else {\n",
    "        getGEOSuppFiles(dataset, baseDir=\"before\")\n",
    "        untar(\n",
    "            paste0(\"before/\", dataset,\"/\", dataset, \"_RAW.tar\"), \n",
    "            exdir = paste0(\"before/\", dataset, \"_RAW\")\n",
    "        )\n",
    "    }\n",
    "\n",
    "    # Save the metadata\n",
    "    # gset <- getGEO(dataset, GSEMatrix=TRUE, getGPL=FALSE)\n",
    "    gset = c(1)\n",
    "    \n",
    "    for(i in c(1:length(gset))){\n",
    "        metadata <- read.table(paste0(\"before/\", dataset, \"/intermediate/\", i, \"_metadata_short.tsv\"), header = TRUE, sep = \"\\t\")\n",
    "        platform_files <- sub(\".*/\", \"\", metadata$supplementary_file)\n",
    "        \n",
    "        # if any file contains \"txt.gz\" ending, remove them from the list\n",
    "        if(any(grepl(\"txt.gz\", platform_files))){\n",
    "            platform_files <- platform_files[!grepl(\"txt.gz\", platform_files)]\n",
    "            cat(\"Removed txt.gz files from the list. CHECK THE DATASET!\")\n",
    "        }\n",
    "        \n",
    "        platform_files_list <- paste0(\"before/\", dataset, \"_RAW/\", platform_files)\n",
    "\n",
    "        filenames <- as.character(unlist(platform_files_list))\n",
    "        rawData <- ReadAffy(\n",
    "            filenames = unlist(filenames),\n",
    "            # celfile.path = paste0(\"before/\", dataset, \"_RAW\"), \n",
    "            verbose = FALSE)\n",
    "\n",
    "        # Prepare sample names\n",
    "        sample_names <- sampleNames(rawData)\n",
    "        sample_names <- sub(\"_.*\", \"\", sample_names)\n",
    "        sample_names <- sub(\".CEL.gz$\", \"\", sample_names)\n",
    "\n",
    "        # Normalize the data\n",
    "        normalizedData <- rma(rawData)\n",
    "        expr_data <- exprs(normalizedData)\n",
    "    \n",
    "        # Save the normalized data\n",
    "        rownames(expr_data) <- featureNames(normalizedData)\n",
    "        colnames(expr_data) <- sample_names\n",
    "        write.table(expr_data %>% as.data.frame() %>% rownames_to_column(\"row_ID\"), \n",
    "            file = paste0(\"before/\", dataset, \"/intermediate/\", i, \"_expr.tsv\"), sep = \"\\t\", row.names = F, quote = FALSE)\n",
    "        \n",
    "    }\n",
    "}\n",
    "\n",
    "# remove all *_RAW folders from before\n",
    "system(\"rm -r before/*_RAW\")"
   ]
  },
  {
   "cell_type": "markdown",
   "metadata": {},
   "source": [
    "## Preprocess the data"
   ]
  },
  {
   "cell_type": "code",
   "execution_count": 11,
   "metadata": {
    "vscode": {
     "languageId": "r"
    }
   },
   "outputs": [
    {
     "name": "stderr",
     "output_type": "stream",
     "text": [
      "Loading required package: dynamicTreeCut\n",
      "\n"
     ]
    },
    {
     "name": "stderr",
     "output_type": "stream",
     "text": [
      "Loading required package: fastcluster\n",
      "\n",
      "\n",
      "Attaching package: ‘fastcluster’\n",
      "\n",
      "\n",
      "The following object is masked from ‘package:stats’:\n",
      "\n",
      "    hclust\n",
      "\n",
      "\n",
      "\n",
      "\n",
      "\n",
      "Attaching package: ‘WGCNA’\n",
      "\n",
      "\n",
      "The following object is masked from ‘package:stats’:\n",
      "\n",
      "    cor\n",
      "\n",
      "\n"
     ]
    }
   ],
   "source": [
    "library(tidyverse)\n",
    "library(WGCNA)"
   ]
  },
  {
   "cell_type": "code",
   "execution_count": 12,
   "metadata": {
    "vscode": {
     "languageId": "r"
    }
   },
   "outputs": [],
   "source": [
    "platform_ids_list <- c()\n",
    "\n",
    "for(dataset in c(\n",
    "    \"GSE6008\", \"GSE26712\", \"GSE40595\", \"GSE69428\", \"GSE38666\", \"GSE14407\"\n",
    "    )){\n",
    "    if(dataset == \"GSE131978\" | dataset == \"GSE68928\"){ \n",
    "        subsets_len <- c(1, 2)\n",
    "    } else {subsets_len <- c(1) }\n",
    "\n",
    "    for(i in subsets_len){\n",
    "        #read the expression data and metadata file\n",
    "        metadata <- read.table(paste0(\"before/\", dataset, \"/intermediate/\", i, \"_metadata_short.tsv\"), header = TRUE, sep = \"\\t\")\n",
    "        platform_name <- metadata$platform_id %>% unique()\n",
    "        platform_ids_list <- c(platform_ids_list, platform_name) %>% unique()\n",
    "    }\n",
    "}"
   ]
  },
  {
   "cell_type": "code",
   "execution_count": 13,
   "metadata": {
    "vscode": {
     "languageId": "r"
    }
   },
   "outputs": [
    {
     "data": {
      "text/html": [
       "<style>\n",
       ".list-inline {list-style: none; margin:0; padding: 0}\n",
       ".list-inline>li {display: inline-block}\n",
       ".list-inline>li:not(:last-child)::after {content: \"\\00b7\"; padding: 0 .5ex}\n",
       "</style>\n",
       "<ol class=list-inline><li>'GPL96'</li><li>'GPL570'</li></ol>\n"
      ],
      "text/latex": [
       "\\begin{enumerate*}\n",
       "\\item 'GPL96'\n",
       "\\item 'GPL570'\n",
       "\\end{enumerate*}\n"
      ],
      "text/markdown": [
       "1. 'GPL96'\n",
       "2. 'GPL570'\n",
       "\n",
       "\n"
      ],
      "text/plain": [
       "[1] \"GPL96\"  \"GPL570\""
      ]
     },
     "metadata": {},
     "output_type": "display_data"
    }
   ],
   "source": [
    "platform_ids_list"
   ]
  },
  {
   "cell_type": "code",
   "execution_count": 14,
   "metadata": {
    "vscode": {
     "languageId": "r"
    }
   },
   "outputs": [
    {
     "name": "stdout",
     "output_type": "stream",
     "text": [
      "Processing GPL96 \n",
      "Processing GPL570 \n"
     ]
    }
   ],
   "source": [
    "libraries_list <- list()\n",
    "\n",
    "parse_triple <- function(x, delimiter = \" /// \") {\n",
    "    parts <- strsplit(x, delimiter)[[1]]\n",
    "    # parts <- sort(parts)\n",
    "    return(parts[1])\n",
    "}\n",
    "\n",
    "\n",
    "for (lib_name in platform_ids_list){\n",
    "    cat(\"Processing\", lib_name, \"\\n\")\n",
    "    lib_df <- read_tsv(paste0(\"preprocessing_info/libraries/\", lib_name, \".txt\"), comment=\"#\", show_col_types = FALSE)\n",
    "    \n",
    "    if(lib_name %in% c(\"GPL570\", \"GPL96\")){\n",
    "        lib_df <- lib_df %>% \n",
    "                  select(ID, GB_ACC, `Gene Symbol`, ENTREZ_GENE_ID) %>%\n",
    "                  rename(GeneSymbol = `Gene Symbol`) %>%\n",
    "                  mutate(GeneSymbol = sapply(GeneSymbol, parse_triple, delimiter = \" /// \"),\n",
    "                         ENTREZ_GENE_ID = sapply(ENTREZ_GENE_ID, parse_triple, delimiter = \" /// \"))\n",
    "    }\n",
    "\n",
    "    lib_df <- lib_df[!duplicated(lib_df$ID),]\n",
    "    libraries_list[[lib_name]] <- lib_df\n",
    "}"
   ]
  },
  {
   "cell_type": "code",
   "execution_count": 15,
   "metadata": {
    "vscode": {
     "languageId": "r"
    }
   },
   "outputs": [
    {
     "name": "stdout",
     "output_type": "stream",
     "text": [
      "GPL96 \n",
      "\u001b[90m# A tibble: 1 × 4\u001b[39m\n",
      "     ID GB_ACC GeneSymbol ENTREZ_GENE_ID\n",
      "  \u001b[3m\u001b[90m<int>\u001b[39m\u001b[23m  \u001b[3m\u001b[90m<int>\u001b[39m\u001b[23m      \u001b[3m\u001b[90m<int>\u001b[39m\u001b[23m          \u001b[3m\u001b[90m<int>\u001b[39m\u001b[23m\n",
      "\u001b[90m1\u001b[39m \u001b[4m2\u001b[24m\u001b[4m2\u001b[24m283  \u001b[4m2\u001b[24m\u001b[4m1\u001b[24m129      \u001b[4m1\u001b[24m\u001b[4m3\u001b[24m238          \u001b[4m1\u001b[24m\u001b[4m2\u001b[24m938\n",
      "GPL570 \n",
      "\u001b[90m# A tibble: 1 × 4\u001b[39m\n",
      "     ID GB_ACC GeneSymbol ENTREZ_GENE_ID\n",
      "  \u001b[3m\u001b[90m<int>\u001b[39m\u001b[23m  \u001b[3m\u001b[90m<int>\u001b[39m\u001b[23m      \u001b[3m\u001b[90m<int>\u001b[39m\u001b[23m          \u001b[3m\u001b[90m<int>\u001b[39m\u001b[23m\n",
      "\u001b[90m1\u001b[39m \u001b[4m5\u001b[24m\u001b[4m4\u001b[24m675  \u001b[4m5\u001b[24m\u001b[4m1\u001b[24m277      \u001b[4m2\u001b[24m\u001b[4m2\u001b[24m881          \u001b[4m2\u001b[24m\u001b[4m1\u001b[24m181\n"
     ]
    }
   ],
   "source": [
    "for(lib_name in names(libraries_list)){\n",
    "    #print len of unqiue values of each column\n",
    "    cat(lib_name, \"\\n\")\n",
    "    print(libraries_list[[lib_name]] %>% summarise(across(everything(), ~length(unique(.x)))))\n",
    "}"
   ]
  },
  {
   "cell_type": "code",
   "execution_count": 16,
   "metadata": {
    "vscode": {
     "languageId": "r"
    }
   },
   "outputs": [
    {
     "data": {
      "text/html": [
       "21129"
      ],
      "text/latex": [
       "21129"
      ],
      "text/markdown": [
       "21129"
      ],
      "text/plain": [
       "[1] 21129"
      ]
     },
     "metadata": {},
     "output_type": "display_data"
    },
    {
     "data": {
      "text/html": [
       "13238"
      ],
      "text/latex": [
       "13238"
      ],
      "text/markdown": [
       "13238"
      ],
      "text/plain": [
       "[1] 13238"
      ]
     },
     "metadata": {},
     "output_type": "display_data"
    },
    {
     "data": {
      "text/html": [
       "12938"
      ],
      "text/latex": [
       "12938"
      ],
      "text/markdown": [
       "12938"
      ],
      "text/plain": [
       "[1] 12938"
      ]
     },
     "metadata": {},
     "output_type": "display_data"
    }
   ],
   "source": [
    "length(intersect(unique(libraries_list[[\"GPL570\"]]$GB_ACC), unique(libraries_list[[\"GPL96\"]]$GB_ACC)))\n",
    "length(intersect(unique(libraries_list[[\"GPL570\"]]$GeneSymbol), unique(libraries_list[[\"GPL96\"]]$GeneSymbol)))\n",
    "length(intersect(unique(libraries_list[[\"GPL570\"]]$ENTREZ_GENE_ID), unique(libraries_list[[\"GPL96\"]]$ENTREZ_GENE_ID)))"
   ]
  },
  {
   "cell_type": "markdown",
   "metadata": {},
   "source": []
  },
  {
   "cell_type": "code",
   "execution_count": 17,
   "metadata": {
    "vscode": {
     "languageId": "r"
    }
   },
   "outputs": [
    {
     "name": "stdout",
     "output_type": "stream",
     "text": [
      "\n",
      "\n",
      "Processing for dataset: GSE6008 \n",
      "Loaded the data, shape of metadata: 103 12 shape of expr_data: 22283 104 \n",
      "After filtering, shape of expr_data: 22215 103 \n",
      "After collapsing rows (Entrez IDs), shape of expr_data: 21128 103 \n",
      "\n",
      "\n",
      "Processing for dataset: GSE26712 \n",
      "Loaded the data, shape of metadata: 195 12 shape of expr_data: 22283 196 \n",
      "After filtering, shape of expr_data: 22215 195 \n",
      "After collapsing rows (Entrez IDs), shape of expr_data: 21128 195 \n",
      "\n",
      "\n",
      "Processing for dataset: GSE40595 \n",
      "Loaded the data, shape of metadata: 38 11 shape of expr_data: 54675 39 \n",
      "After filtering, shape of expr_data: 54613 38 \n",
      "After collapsing rows (Entrez IDs), shape of expr_data: 51276 38 \n",
      "\n",
      "\n",
      "Processing for dataset: GSE69428 \n",
      "Loaded the data, shape of metadata: 20 11 shape of expr_data: 54675 21 \n",
      "After filtering, shape of expr_data: 54613 20 \n",
      "After collapsing rows (Entrez IDs), shape of expr_data: 51276 20 \n",
      "\n",
      "\n",
      "Processing for dataset: GSE38666 \n",
      "Loaded the data, shape of metadata: 30 12 shape of expr_data: 54675 31 \n",
      "After filtering, shape of expr_data: 54613 30 \n",
      "After collapsing rows (Entrez IDs), shape of expr_data: 51276 30 \n",
      "\n",
      "\n",
      "Processing for dataset: GSE14407 \n",
      "Loaded the data, shape of metadata: 24 10 shape of expr_data: 54675 25 \n",
      "After filtering, shape of expr_data: 54613 24 \n",
      "After collapsing rows (Entrez IDs), shape of expr_data: 51276 24 \n"
     ]
    }
   ],
   "source": [
    "platfrom_list <- list()\n",
    "\n",
    "for(dataset in c(\n",
    "    \"GSE6008\", \"GSE26712\", \"GSE40595\", \"GSE69428\", \"GSE38666\", \"GSE14407\"\n",
    "    )){\n",
    "    \n",
    "    cat('\\n\\nProcessing for dataset:', dataset, \"\\n\")\n",
    "    if(dataset == \"GSE131978\" | dataset == \"GSE68928\"){ \n",
    "        subsets_len <- c(1, 2)\n",
    "    } else {subsets_len <- c(1) }\n",
    "\n",
    "    for(i in subsets_len){\n",
    "        #read the expression data and metadata file\n",
    "        metadata <- read.table(paste0(\"before/\", dataset, \"/intermediate/\", i, \"_metadata_short.tsv\"), header = TRUE, sep = \"\\t\")\n",
    "        expr_data <- read.table(paste0(\"before/\", dataset, \"/intermediate/\", i, \"_expr.tsv\"), header = TRUE, sep = \"\\t\")\n",
    "        cat('Loaded the data, shape of metadata:', dim(metadata), 'shape of expr_data:', dim(expr_data), '\\n')\n",
    "\n",
    "        platform_name <- metadata$platform_id %>% unique()\n",
    "\n",
    "        # MaxVar# Collapse to GB_ACC\n",
    "        gene_names <- libraries_list[[platform_name]]\n",
    "        gene_names <- gene_names[!is.na(gene_names$GB_ACC),]\n",
    "        expr_data_2 <- expr_data %>% filter(row_ID %in% gene_names$ID) %>% column_to_rownames(\"row_ID\")\n",
    "        cat('After filtering, shape of expr_data:', dim(expr_data_2), '\\n')\n",
    "\n",
    "        expr_data_ENTREZ <- WGCNA::collapseRows(\n",
    "            expr_data_2, \n",
    "            rowGroup = gene_names$GB_ACC, \n",
    "            rowID = gene_names$ID,\n",
    "            method=\"maxRowVariance\", connectivityBasedCollapsing=FALSE,\n",
    "            methodFunction=NULL, connectivityPower=1,\n",
    "            selectFewestMissing=TRUE, thresholdCombine=NA)$datETcollapsed\n",
    "        cat('After collapsing rows (Entrez IDs), shape of expr_data:', dim(expr_data_ENTREZ), '\\n')\n",
    "        # save to file\n",
    "        write.table(expr_data_ENTREZ %>% as.data.frame() %>% rownames_to_column(\"row_ID\"), \n",
    "            file = paste0(\"before/\", dataset, \"/intermediate/expr_GBacc_MaxVar.tsv\"), sep = \"\\t\", row.names = F, quote = FALSE)\n",
    "\n",
    "}}"
   ]
  },
  {
   "cell_type": "code",
   "execution_count": 18,
   "metadata": {
    "vscode": {
     "languageId": "r"
    }
   },
   "outputs": [
    {
     "name": "stdout",
     "output_type": "stream",
     "text": [
      "\n",
      "Processing for dataset: GSE6008 \n",
      "\n",
      "Processing for dataset: GSE26712 \n",
      "\n",
      "Processing for dataset: GSE40595 \n",
      "\n",
      "Processing for dataset: GSE69428 \n",
      "\n",
      "Processing for dataset: GSE38666 \n",
      "\n",
      "Processing for dataset: GSE14407 \n"
     ]
    }
   ],
   "source": [
    "GB_ACC_id_lists <- list()\n",
    "\n",
    "for(dataset in c(\n",
    "    \"GSE6008\", \"GSE26712\", \"GSE40595\", \"GSE69428\", \"GSE38666\", \"GSE14407\"\n",
    "    )){                   \n",
    "    \n",
    "    cat('\\nProcessing for dataset:', dataset, \"\\n\")\n",
    "    if(dataset == \"GSE131978\" | dataset == \"GSE68928\"){ \n",
    "        subsets_len <- c(1, 2)\n",
    "    } else {subsets_len <- c(1) }\n",
    "\n",
    "    for(i in subsets_len){\n",
    "        # read data\n",
    "        expr_data <- read.table(paste0(\"before/\", dataset, \"/intermediate/expr_GBacc_MaxVar.tsv\"), header = TRUE, sep = \"\\t\")\n",
    "        # get the  names\n",
    "        GB_ACC_id_lists[[paste0(dataset, \"_\", i)]] <- expr_data$row_ID\n",
    "    }\n",
    "} "
   ]
  },
  {
   "cell_type": "code",
   "execution_count": 19,
   "metadata": {
    "vscode": {
     "languageId": "r"
    }
   },
   "outputs": [
    {
     "name": "stderr",
     "output_type": "stream",
     "text": [
      "\n",
      "Attaching package: ‘jsonlite’\n",
      "\n",
      "\n",
      "The following object is masked from ‘package:purrr’:\n",
      "\n",
      "    flatten\n",
      "\n",
      "\n"
     ]
    }
   ],
   "source": [
    "library(jsonlite)\n",
    "\n",
    "write_json(GB_ACC_id_lists, \"preprocessing_info/GBacc_IDs.json\")"
   ]
  }
 ],
 "metadata": {
  "kernelspec": {
   "display_name": "R",
   "language": "R",
   "name": "ir"
  },
  "language_info": {
   "codemirror_mode": "r",
   "file_extension": ".r",
   "mimetype": "text/x-r-source",
   "name": "R",
   "pygments_lexer": "r",
   "version": "4.3.2"
  }
 },
 "nbformat": 4,
 "nbformat_minor": 2
}
