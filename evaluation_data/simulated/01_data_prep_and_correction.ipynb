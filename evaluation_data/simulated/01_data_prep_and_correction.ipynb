{
 "cells": [
  {
   "cell_type": "code",
   "execution_count": 1,
   "metadata": {
    "vscode": {
     "languageId": "r"
    }
   },
   "outputs": [
    {
     "name": "stderr",
     "output_type": "stream",
     "text": [
      "Warning message:\n",
      "“package ‘tidyverse’ was built under R version 4.2.2”\n",
      "Warning message:\n",
      "“package ‘ggplot2’ was built under R version 4.2.3”\n",
      "Warning message:\n",
      "“package ‘tibble’ was built under R version 4.2.3”\n",
      "Warning message:\n",
      "“package ‘readr’ was built under R version 4.2.2”\n",
      "Warning message:\n",
      "“package ‘forcats’ was built under R version 4.2.2”\n",
      "── \u001b[1mAttaching core tidyverse packages\u001b[22m ──────────────────────── tidyverse 2.0.0 ──\n",
      "\u001b[32m✔\u001b[39m \u001b[34mdplyr    \u001b[39m 1.1.4     \u001b[32m✔\u001b[39m \u001b[34mreadr    \u001b[39m 2.1.4\n",
      "\u001b[32m✔\u001b[39m \u001b[34mforcats  \u001b[39m 1.0.0     \u001b[32m✔\u001b[39m \u001b[34mstringr  \u001b[39m 1.5.1\n",
      "\u001b[32m✔\u001b[39m \u001b[34mggplot2  \u001b[39m 3.4.2     \u001b[32m✔\u001b[39m \u001b[34mtibble   \u001b[39m 3.2.1\n",
      "\u001b[32m✔\u001b[39m \u001b[34mlubridate\u001b[39m 1.9.3     \u001b[32m✔\u001b[39m \u001b[34mtidyr    \u001b[39m 1.3.1\n",
      "\u001b[32m✔\u001b[39m \u001b[34mpurrr    \u001b[39m 1.0.2     \n",
      "── \u001b[1mConflicts\u001b[22m ────────────────────────────────────────── tidyverse_conflicts() ──\n",
      "\u001b[31m✖\u001b[39m \u001b[34mdplyr\u001b[39m::\u001b[32mfilter()\u001b[39m masks \u001b[34mstats\u001b[39m::filter()\n",
      "\u001b[31m✖\u001b[39m \u001b[34mdplyr\u001b[39m::\u001b[32mlag()\u001b[39m    masks \u001b[34mstats\u001b[39m::lag()\n",
      "\u001b[36mℹ\u001b[39m Use the conflicted package (\u001b[3m\u001b[34m<http://conflicted.r-lib.org/>\u001b[39m\u001b[23m) to force all conflicts to become errors\n",
      "Warning message:\n",
      "“package ‘gridExtra’ was built under R version 4.2.3”\n",
      "\n",
      "Attaching package: ‘gridExtra’\n",
      "\n",
      "\n",
      "The following object is masked from ‘package:dplyr’:\n",
      "\n",
      "    combine\n",
      "\n",
      "\n",
      "Warning message:\n",
      "“package ‘umap’ was built under R version 4.2.3”\n",
      "Warning message:\n",
      "“package ‘ggsci’ was built under R version 4.2.3”\n",
      "Warning message:\n",
      "“package ‘viridis’ was built under R version 4.2.3”\n",
      "Loading required package: viridisLite\n",
      "\n",
      "Warning message:\n",
      "“package ‘viridisLite’ was built under R version 4.2.3”\n"
     ]
    }
   ],
   "source": [
    "library(tidyverse)\n",
    "\n",
    "source(\"../../evaluation_utils/plots_eda.R\")"
   ]
  },
  {
   "cell_type": "code",
   "execution_count": 2,
   "metadata": {
    "vscode": {
     "languageId": "r"
    }
   },
   "outputs": [],
   "source": [
    "plots_multiple <- function(intensities, metadata, name){\n",
    "    pca_plot_study <- pca_plot(\n",
    "        intensities, metadata, \n",
    "        title = name,\n",
    "        quantitative_col_name = 'file',\n",
    "        col_col = \"lab\", shape_col = \"A\")\n",
    "\n",
    "    boxplot <- boxplot_plot_groupped(\n",
    "        intensities, metadata, \n",
    "        title = name,\n",
    "        color_col = 'lab', quantitativeColumnName = 'file', \n",
    "        path = '')\n",
    "\n",
    "    density_plot <- plotIntensityDensity(\n",
    "        intensities, metadata, \n",
    "        quantitativeColumnName = 'file', \n",
    "        colorColumnName = 'lab',\n",
    "        title = name)\n",
    "\n",
    "    layout <- pca_plot_study /\n",
    "                boxplot /\n",
    "                density_plot\n",
    "\n",
    "    return(layout)\n",
    "}\n"
   ]
  },
  {
   "cell_type": "markdown",
   "metadata": {},
   "source": [
    "# Load data"
   ]
  },
  {
   "cell_type": "code",
   "execution_count": 3,
   "metadata": {
    "vscode": {
     "languageId": "r"
    }
   },
   "outputs": [
    {
     "name": "stdout",
     "output_type": "stream",
     "text": [
      "[1] \"Mode: balanced Intensities: 6000 Metadata: 600\"\n",
      "[2] \"Mode: balanced Intensities: 601 Metadata: 3\"   \n",
      "[1] \"Mode: mild_imbalanced Intensities: 6000 Metadata: 600\"\n",
      "[2] \"Mode: mild_imbalanced Intensities: 601 Metadata: 3\"   \n",
      "[1] \"Mode: strong_imbalanced Intensities: 6000 Metadata: 600\"\n",
      "[2] \"Mode: strong_imbalanced Intensities: 601 Metadata: 3\"   \n"
     ]
    }
   ],
   "source": [
    "simulated_data <- list()\n",
    "\n",
    "for(mode in c(\"balanced\", \"mild_imbalanced\", \"strong_imbalanced\")){\n",
    "\n",
    "    mode_intensities <- NULL\n",
    "    mode_metadata <- NULL\n",
    "\n",
    "    for(lab in c(\"lab1\", \"lab2\", \"lab3\")){\n",
    "        path_to_data <- paste0(mode, \"/before/\", lab, \"/\")\n",
    "        intensities <- read.csv(paste0(path_to_data, \"intensities.tsv\"), sep = \"\\t\") %>%\n",
    "            rownames_to_column(\"file\") %>%\n",
    "            as.data.frame()\n",
    "        metadata <- read.csv(paste0(path_to_data, \"design.tsv\"), sep = \"\\t\") %>%\n",
    "            as.data.frame()\n",
    "        \n",
    "        metadata$lab <- lab\n",
    "\n",
    "        if (is.null(mode_intensities)){\n",
    "            mode_intensities <- intensities\n",
    "            mode_metadata <- metadata\n",
    "        } else {\n",
    "            mode_intensities <- merge(mode_intensities, intensities, \n",
    "                                   by = \"file\", all = TRUE)\n",
    "            mode_metadata <- rbind(mode_metadata, metadata)\n",
    "        }\n",
    "    }\n",
    "\n",
    "    print(paste0(\"Mode: \", mode\n",
    "                , \" Intensities: \", dim(mode_intensities)\n",
    "                , \" Metadata: \", dim(mode_metadata)))\n",
    "\n",
    "\n",
    "    mode_intensities <- mode_intensities %>%\n",
    "        column_to_rownames(\"file\")\n",
    "    # sort intensities rows by prt.1, prt.2, prt.3, ...\n",
    "    mode_intensities <- mode_intensities[paste0(\"prt\", order(rownames(mode_intensities))), ]\n",
    "\n",
    "    # write to file\n",
    "    write.table(mode_intensities %>% rownames_to_column(\"file\"),\n",
    "        file = paste0(mode, \"/all_intensities.tsv\"), sep = \"\\t\", quote = FALSE, row.names = FALSE)\n",
    "    write.table(mode_metadata, file = paste0(mode, \"/all_metadata.tsv\"), sep = \"\\t\", quote = FALSE)\n",
    "\n",
    "    mode_metadata$file <- rownames(mode_metadata)\n",
    "    mode_intensities <- mode_intensities[, mode_metadata$file]\n",
    "\n",
    "    simulated_data[[mode]] <- list(intensities = mode_intensities, metadata = mode_metadata)\n",
    "}"
   ]
  },
  {
   "cell_type": "code",
   "execution_count": 4,
   "metadata": {
    "vscode": {
     "languageId": "r"
    }
   },
   "outputs": [
    {
     "name": "stderr",
     "output_type": "stream",
     "text": [
      "Warning message:\n",
      "“\u001b[1m\u001b[22m`aes_string()` was deprecated in ggplot2 3.0.0.\n",
      "\u001b[36mℹ\u001b[39m Please use tidy evaluation idioms with `aes()`.\n",
      "\u001b[36mℹ\u001b[39m See also `vignette(\"ggplot2-in-packages\")` for more information.”\n",
      "No id variables; using all as measure variables\n",
      "\n"
     ]
    },
    {
     "name": "stdout",
     "output_type": "stream",
     "text": [
      "[1] \"Saved plots for mode: balanced\"\n"
     ]
    },
    {
     "name": "stderr",
     "output_type": "stream",
     "text": [
      "No id variables; using all as measure variables\n",
      "\n"
     ]
    },
    {
     "name": "stdout",
     "output_type": "stream",
     "text": [
      "[1] \"Saved plots for mode: mild_imbalanced\"\n"
     ]
    },
    {
     "name": "stderr",
     "output_type": "stream",
     "text": [
      "No id variables; using all as measure variables\n",
      "\n"
     ]
    },
    {
     "name": "stdout",
     "output_type": "stream",
     "text": [
      "[1] \"Saved plots for mode: strong_imbalanced\"\n"
     ]
    }
   ],
   "source": [
    "for (mode in c(\"balanced\", \"mild_imbalanced\", \"strong_imbalanced\")){\n",
    "\n",
    "    data_for_plot <- simulated_data[[mode]]$intensities\n",
    "    # replace NA with 0\n",
    "    data_for_plot[is.na(data_for_plot)] <- 0\n",
    "\n",
    "\n",
    "    meta <- simulated_data[[mode]]$metadata\n",
    "    meta <- meta %>% mutate(A = as.factor(A))\n",
    "\n",
    "    layout <- plots_multiple(\n",
    "        # plot first 100 rows\n",
    "        data_for_plot[1:200,],\n",
    "        meta, \n",
    "        mode)\n",
    "\n",
    "    ggsave(\n",
    "        paste0(mode, \"/plots/before_plots.png\"), \n",
    "        plot = layout, width = 8, height = 12)\n",
    "\n",
    "    print(paste0(\"Saved plots for mode: \", mode))\n",
    "}"
   ]
  },
  {
   "cell_type": "markdown",
   "metadata": {},
   "source": [
    "# Correction"
   ]
  },
  {
   "cell_type": "code",
   "execution_count": 6,
   "metadata": {
    "vscode": {
     "languageId": "r"
    }
   },
   "outputs": [
    {
     "name": "stdout",
     "output_type": "stream",
     "text": [
      "[1] \"Saved corrected intensities for mode: balanced\"\n"
     ]
    },
    {
     "name": "stderr",
     "output_type": "stream",
     "text": [
      "No id variables; using all as measure variables\n",
      "\n"
     ]
    },
    {
     "name": "stdout",
     "output_type": "stream",
     "text": [
      "[1] \"Saved corrected intensities for mode: mild_imbalanced\"\n"
     ]
    },
    {
     "name": "stderr",
     "output_type": "stream",
     "text": [
      "No id variables; using all as measure variables\n",
      "\n"
     ]
    },
    {
     "name": "stdout",
     "output_type": "stream",
     "text": [
      "[1] \"Saved corrected intensities for mode: strong_imbalanced\"\n"
     ]
    },
    {
     "name": "stderr",
     "output_type": "stream",
     "text": [
      "No id variables; using all as measure variables\n",
      "\n"
     ]
    }
   ],
   "source": [
    "for (mode in c(\"balanced\", \"mild_imbalanced\", \"strong_imbalanced\")){\n",
    "\n",
    "    metadata <- simulated_data[[mode]]$metadata\n",
    "    intensities <- simulated_data[[mode]]$intensities\n",
    "    intensities <- intensities[, metadata$file]\n",
    "\n",
    "    metadata <- metadata %>%\n",
    "        mutate(A = as.factor(A), lab = as.factor(lab))\n",
    "\n",
    "    design <- model.matrix(~ A, metadata)\n",
    "    colnames(design) <- c(\"Intercept\", \"A\")\n",
    "\n",
    "    intensities_corrected <- limma::removeBatchEffect(\n",
    "        intensities, \n",
    "        metadata$lab, \n",
    "        design = design) %>% as.data.frame()\n",
    "\n",
    "    # write to file\n",
    "    write.table(intensities_corrected %>% rownames_to_column(\"file\"),\n",
    "                paste0(mode, \"/after/intensities_R_corrected.tsv\"), sep = \"\\t\", quote = FALSE, row.names = FALSE)\n",
    "\n",
    "    print(paste0(\"Saved corrected intensities for mode: \", mode))\n",
    "    \n",
    "    # plot\n",
    "    intensities_corrected[is.na(intensities_corrected)] <- 0\n",
    "    layout <- plots_multiple(\n",
    "        intensities_corrected[1:200,],\n",
    "        metadata, \n",
    "        paste0(mode, \" R corrected\"))\n",
    "    ggsave(\n",
    "        paste0(mode, \"/plots/afterR_plots.png\"), \n",
    "        plot = layout, width = 8, height = 12)\n",
    "\n",
    "\n",
    "}"
   ]
  },
  {
   "cell_type": "code",
   "execution_count": null,
   "metadata": {
    "vscode": {
     "languageId": "r"
    }
   },
   "outputs": [],
   "source": []
  }
 ],
 "metadata": {
  "kernelspec": {
   "display_name": "R",
   "language": "R",
   "name": "ir"
  },
  "language_info": {
   "codemirror_mode": "r",
   "file_extension": ".r",
   "mimetype": "text/x-r-source",
   "name": "R",
   "pygments_lexer": "r",
   "version": "4.2.0"
  }
 },
 "nbformat": 4,
 "nbformat_minor": 2
}
