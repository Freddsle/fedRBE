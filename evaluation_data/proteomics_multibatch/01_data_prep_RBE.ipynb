{
 "cells": [
  {
   "cell_type": "code",
   "execution_count": 1,
   "metadata": {
    "vscode": {
     "languageId": "r"
    }
   },
   "outputs": [
    {
     "name": "stderr",
     "output_type": "stream",
     "text": [
      "── \u001b[1mAttaching core tidyverse packages\u001b[22m ──────────────────────── tidyverse 2.0.0 ──\n",
      "\u001b[32m✔\u001b[39m \u001b[34mdplyr    \u001b[39m 1.1.4     \u001b[32m✔\u001b[39m \u001b[34mreadr    \u001b[39m 2.1.5\n",
      "\u001b[32m✔\u001b[39m \u001b[34mforcats  \u001b[39m 1.0.0     \u001b[32m✔\u001b[39m \u001b[34mstringr  \u001b[39m 1.5.1\n",
      "\u001b[32m✔\u001b[39m \u001b[34mggplot2  \u001b[39m 3.5.1     \u001b[32m✔\u001b[39m \u001b[34mtibble   \u001b[39m 3.2.1\n",
      "\u001b[32m✔\u001b[39m \u001b[34mlubridate\u001b[39m 1.9.3     \u001b[32m✔\u001b[39m \u001b[34mtidyr    \u001b[39m 1.3.1\n",
      "\u001b[32m✔\u001b[39m \u001b[34mpurrr    \u001b[39m 1.0.2     \n",
      "── \u001b[1mConflicts\u001b[22m ────────────────────────────────────────── tidyverse_conflicts() ──\n",
      "\u001b[31m✖\u001b[39m \u001b[34mdplyr\u001b[39m::\u001b[32mfilter()\u001b[39m masks \u001b[34mstats\u001b[39m::filter()\n",
      "\u001b[31m✖\u001b[39m \u001b[34mdplyr\u001b[39m::\u001b[32mlag()\u001b[39m    masks \u001b[34mstats\u001b[39m::lag()\n",
      "\u001b[36mℹ\u001b[39m Use the conflicted package (\u001b[3m\u001b[34m<http://conflicted.r-lib.org/>\u001b[39m\u001b[23m) to force all conflicts to become errors\n",
      "\n",
      "Attaching package: ‘gridExtra’\n",
      "\n",
      "\n",
      "The following object is masked from ‘package:dplyr’:\n",
      "\n",
      "    combine\n",
      "\n",
      "\n",
      "Loading required package: viridisLite\n",
      "\n",
      "\n",
      "Attaching package: ‘data.table’\n",
      "\n",
      "\n",
      "The following objects are masked from ‘package:lubridate’:\n",
      "\n",
      "    hour, isoweek, mday, minute, month, quarter, second, wday, week,\n",
      "    yday, year\n",
      "\n",
      "\n",
      "The following objects are masked from ‘package:dplyr’:\n",
      "\n",
      "    between, first, last\n",
      "\n",
      "\n",
      "The following object is masked from ‘package:purrr’:\n",
      "\n",
      "    transpose\n",
      "\n",
      "\n"
     ]
    }
   ],
   "source": [
    "library(tidyverse)\n",
    "library(grid)\n",
    "library(gridExtra)\n",
    "\n",
    "source(\"../../evaluation_utils/plots_eda.R\")\n",
    "source(\"../../evaluation_utils/filtering.R\")"
   ]
  },
  {
   "cell_type": "code",
   "execution_count": 2,
   "metadata": {
    "vscode": {
     "languageId": "r"
    }
   },
   "outputs": [],
   "source": [
    "plots_multiple <- function(intensities, metadata, name){\n",
    "    pca_plot_study <- pca_plot(\n",
    "        intensities, metadata, \n",
    "        title = name,\n",
    "        quantitative_col_name = 'file',\n",
    "        col_col = \"lab\", shape_col = \"condition\")\n",
    "\n",
    "    pca_plot_class <- pca_plot(\n",
    "        intensities, metadata, \n",
    "        title = name,\n",
    "        quantitative_col_name = 'file',\n",
    "        shape_col = \"lab\", col_col = \"condition\")\n",
    "\n",
    "    boxplot <- boxplot_plot(\n",
    "        intensities, metadata, \n",
    "        title = name,\n",
    "        color_col = 'lab', quantitativeColumnName = 'file', \n",
    "        path = '')\n",
    "\n",
    "    density_plot <- plotIntensityDensity(\n",
    "        intensities, metadata, \n",
    "        quantitativeColumnName = 'file', \n",
    "        colorColumnName = 'lab',\n",
    "        title = name)\n",
    "\n",
    "    layout <- (pca_plot_class | pca_plot_study) /\n",
    "                boxplot /\n",
    "                density_plot\n",
    "\n",
    "    return(layout)\n",
    "}\n"
   ]
  },
  {
   "cell_type": "markdown",
   "metadata": {},
   "source": [
    "## Load data"
   ]
  },
  {
   "cell_type": "code",
   "execution_count": 3,
   "metadata": {
    "vscode": {
     "languageId": "r"
    }
   },
   "outputs": [
    {
     "data": {
      "text/html": [
       "<style>\n",
       ".list-inline {list-style: none; margin:0; padding: 0}\n",
       ".list-inline>li {display: inline-block}\n",
       ".list-inline>li:not(:last-child)::after {content: \"\\00b7\"; padding: 0 .5ex}\n",
       "</style>\n",
       "<ol class=list-inline><li>118</li><li>3</li></ol>\n"
      ],
      "text/latex": [
       "\\begin{enumerate*}\n",
       "\\item 118\n",
       "\\item 3\n",
       "\\end{enumerate*}\n"
      ],
      "text/markdown": [
       "1. 118\n",
       "2. 3\n",
       "\n",
       "\n"
      ],
      "text/plain": [
       "[1] 118   3"
      ]
     },
     "metadata": {},
     "output_type": "display_data"
    },
    {
     "data": {
      "text/html": [
       "<style>\n",
       ".list-inline {list-style: none; margin:0; padding: 0}\n",
       ".list-inline>li {display: inline-block}\n",
       ".list-inline>li:not(:last-child)::after {content: \"\\00b7\"; padding: 0 .5ex}\n",
       "</style>\n",
       "<ol class=list-inline><li>3059</li><li>118</li></ol>\n"
      ],
      "text/latex": [
       "\\begin{enumerate*}\n",
       "\\item 3059\n",
       "\\item 118\n",
       "\\end{enumerate*}\n"
      ],
      "text/markdown": [
       "1. 3059\n",
       "2. 118\n",
       "\n",
       "\n"
      ],
      "text/plain": [
       "[1] 3059  118"
      ]
     },
     "metadata": {},
     "output_type": "display_data"
    },
    {
     "data": {
      "text/html": [
       "<style>\n",
       ".list-inline {list-style: none; margin:0; padding: 0}\n",
       ".list-inline>li {display: inline-block}\n",
       ".list-inline>li:not(:last-child)::after {content: \"\\00b7\"; padding: 0 .5ex}\n",
       "</style>\n",
       "<ol class=list-inline><li>3059</li><li>118</li></ol>\n"
      ],
      "text/latex": [
       "\\begin{enumerate*}\n",
       "\\item 3059\n",
       "\\item 118\n",
       "\\end{enumerate*}\n"
      ],
      "text/markdown": [
       "1. 3059\n",
       "2. 118\n",
       "\n",
       "\n"
      ],
      "text/plain": [
       "[1] 3059  118"
      ]
     },
     "metadata": {},
     "output_type": "display_data"
    }
   ],
   "source": [
    "path_to_data <- paste0(\"before/\")\n",
    "\n",
    "metadata <- read.csv(paste0(path_to_data, \"initial_data/central_batch_info.tsv\"), sep = \"\\t\") %>%\n",
    "    column_to_rownames('rowname') %>% \n",
    "    as.data.frame() #%>%\n",
    "    # mutate(file = gsub(\"X\", \"\", file))\n",
    "dim(metadata)\n",
    "rownames(metadata) <- metadata$file\n",
    "\n",
    "intensities <- read.csv(paste0(path_to_data, \"initial_data/central_intensities.tsv\"), sep = \"\\t\", row.names = 1)\n",
    "# change X in the beginning of the column names to empty string\n",
    "colnames(intensities) <- gsub(\"^X\", \"\", colnames(intensities))\n",
    "colnames(intensities) <- gsub(\"\\\\.\", \"-\", colnames(intensities))\n",
    "intensities <- intensities %>% as.data.frame()\n",
    "\n",
    "dim(intensities)\n",
    "intensities_raw <- intensities[, metadata$file]\n",
    "intensities <- log2(intensities_raw)\n",
    "dim(intensities)\n",
    "\n",
    "write.table(intensities %>% rownames_to_column(\"Protein\"), file = paste0(path_to_data, \"/central_intensities_log_UNION.tsv\"), sep = \"\\t\", quote = T, row.names = F)"
   ]
  },
  {
   "cell_type": "code",
   "execution_count": 8,
   "metadata": {
    "vscode": {
     "languageId": "r"
    }
   },
   "outputs": [
    {
     "name": "stderr",
     "output_type": "stream",
     "text": [
      "\u001b[1m\u001b[22m`summarise()` has grouped output by 'center'. You can override using the\n",
      "`.groups` argument.\n"
     ]
    },
    {
     "data": {
      "text/html": [
       "<table class=\"dataframe\">\n",
       "<caption>A grouped_df: 5 × 3</caption>\n",
       "<thead>\n",
       "\t<tr><th scope=col>center</th><th scope=col>lab</th><th scope=col>n</th></tr>\n",
       "\t<tr><th scope=col>&lt;chr&gt;</th><th scope=col>&lt;chr&gt;</th><th scope=col>&lt;int&gt;</th></tr>\n",
       "</thead>\n",
       "<tbody>\n",
       "\t<tr><td>center1</td><td>lab_A</td><td>24</td></tr>\n",
       "\t<tr><td>center1</td><td>lab_B</td><td>23</td></tr>\n",
       "\t<tr><td>center2</td><td>lab_C</td><td>23</td></tr>\n",
       "\t<tr><td>center2</td><td>lab_D</td><td>24</td></tr>\n",
       "\t<tr><td>center3</td><td>lab_E</td><td>24</td></tr>\n",
       "</tbody>\n",
       "</table>\n"
      ],
      "text/latex": [
       "A grouped\\_df: 5 × 3\n",
       "\\begin{tabular}{lll}\n",
       " center & lab & n\\\\\n",
       " <chr> & <chr> & <int>\\\\\n",
       "\\hline\n",
       "\t center1 & lab\\_A & 24\\\\\n",
       "\t center1 & lab\\_B & 23\\\\\n",
       "\t center2 & lab\\_C & 23\\\\\n",
       "\t center2 & lab\\_D & 24\\\\\n",
       "\t center3 & lab\\_E & 24\\\\\n",
       "\\end{tabular}\n"
      ],
      "text/markdown": [
       "\n",
       "A grouped_df: 5 × 3\n",
       "\n",
       "| center &lt;chr&gt; | lab &lt;chr&gt; | n &lt;int&gt; |\n",
       "|---|---|---|\n",
       "| center1 | lab_A | 24 |\n",
       "| center1 | lab_B | 23 |\n",
       "| center2 | lab_C | 23 |\n",
       "| center2 | lab_D | 24 |\n",
       "| center3 | lab_E | 24 |\n",
       "\n"
      ],
      "text/plain": [
       "  center  lab   n \n",
       "1 center1 lab_A 24\n",
       "2 center1 lab_B 23\n",
       "3 center2 lab_C 23\n",
       "4 center2 lab_D 24\n",
       "5 center3 lab_E 24"
      ]
     },
     "metadata": {},
     "output_type": "display_data"
    }
   ],
   "source": [
    "metadata <- metadata %>% \n",
    "    mutate(center = ifelse(lab %in% c(\"lab_A\", \"lab_B\"), \"center1\", \n",
    "                        ifelse(lab %in% c(\"lab_C\", \"lab_D\"), \"center2\", \"center3\"))) \n",
    "    \n",
    "    \n",
    "metadata %>% select(center, lab, condition) %>%\n",
    "    group_by(center, lab) %>%\n",
    "    summarise(n = n())\n"
   ]
  },
  {
   "cell_type": "code",
   "execution_count": 9,
   "metadata": {
    "vscode": {
     "languageId": "r"
    }
   },
   "outputs": [
    {
     "name": "stderr",
     "output_type": "stream",
     "text": [
      "\u001b[1m\u001b[22m`summarise()` has grouped output by 'center', 'lab'. You can override using the\n",
      "`.groups` argument.\n"
     ]
    },
    {
     "data": {
      "text/html": [
       "<table class=\"dataframe\">\n",
       "<caption>A grouped_df: 10 × 4</caption>\n",
       "<thead>\n",
       "\t<tr><th scope=col>center</th><th scope=col>lab</th><th scope=col>condition</th><th scope=col>n</th></tr>\n",
       "\t<tr><th scope=col>&lt;chr&gt;</th><th scope=col>&lt;chr&gt;</th><th scope=col>&lt;chr&gt;</th><th scope=col>&lt;int&gt;</th></tr>\n",
       "</thead>\n",
       "<tbody>\n",
       "\t<tr><td>center1</td><td>lab_A</td><td>Glu</td><td>12</td></tr>\n",
       "\t<tr><td>center1</td><td>lab_A</td><td>Pyr</td><td>12</td></tr>\n",
       "\t<tr><td>center1</td><td>lab_B</td><td>Glu</td><td>11</td></tr>\n",
       "\t<tr><td>center1</td><td>lab_B</td><td>Pyr</td><td>12</td></tr>\n",
       "\t<tr><td>center2</td><td>lab_C</td><td>Glu</td><td>12</td></tr>\n",
       "\t<tr><td>center2</td><td>lab_C</td><td>Pyr</td><td>11</td></tr>\n",
       "\t<tr><td>center2</td><td>lab_D</td><td>Glu</td><td>12</td></tr>\n",
       "\t<tr><td>center2</td><td>lab_D</td><td>Pyr</td><td>12</td></tr>\n",
       "\t<tr><td>center3</td><td>lab_E</td><td>Glu</td><td>12</td></tr>\n",
       "\t<tr><td>center3</td><td>lab_E</td><td>Pyr</td><td>12</td></tr>\n",
       "</tbody>\n",
       "</table>\n"
      ],
      "text/latex": [
       "A grouped\\_df: 10 × 4\n",
       "\\begin{tabular}{llll}\n",
       " center & lab & condition & n\\\\\n",
       " <chr> & <chr> & <chr> & <int>\\\\\n",
       "\\hline\n",
       "\t center1 & lab\\_A & Glu & 12\\\\\n",
       "\t center1 & lab\\_A & Pyr & 12\\\\\n",
       "\t center1 & lab\\_B & Glu & 11\\\\\n",
       "\t center1 & lab\\_B & Pyr & 12\\\\\n",
       "\t center2 & lab\\_C & Glu & 12\\\\\n",
       "\t center2 & lab\\_C & Pyr & 11\\\\\n",
       "\t center2 & lab\\_D & Glu & 12\\\\\n",
       "\t center2 & lab\\_D & Pyr & 12\\\\\n",
       "\t center3 & lab\\_E & Glu & 12\\\\\n",
       "\t center3 & lab\\_E & Pyr & 12\\\\\n",
       "\\end{tabular}\n"
      ],
      "text/markdown": [
       "\n",
       "A grouped_df: 10 × 4\n",
       "\n",
       "| center &lt;chr&gt; | lab &lt;chr&gt; | condition &lt;chr&gt; | n &lt;int&gt; |\n",
       "|---|---|---|---|\n",
       "| center1 | lab_A | Glu | 12 |\n",
       "| center1 | lab_A | Pyr | 12 |\n",
       "| center1 | lab_B | Glu | 11 |\n",
       "| center1 | lab_B | Pyr | 12 |\n",
       "| center2 | lab_C | Glu | 12 |\n",
       "| center2 | lab_C | Pyr | 11 |\n",
       "| center2 | lab_D | Glu | 12 |\n",
       "| center2 | lab_D | Pyr | 12 |\n",
       "| center3 | lab_E | Glu | 12 |\n",
       "| center3 | lab_E | Pyr | 12 |\n",
       "\n"
      ],
      "text/plain": [
       "   center  lab   condition n \n",
       "1  center1 lab_A Glu       12\n",
       "2  center1 lab_A Pyr       12\n",
       "3  center1 lab_B Glu       11\n",
       "4  center1 lab_B Pyr       12\n",
       "5  center2 lab_C Glu       12\n",
       "6  center2 lab_C Pyr       11\n",
       "7  center2 lab_D Glu       12\n",
       "8  center2 lab_D Pyr       12\n",
       "9  center3 lab_E Glu       12\n",
       "10 center3 lab_E Pyr       12"
      ]
     },
     "metadata": {},
     "output_type": "display_data"
    }
   ],
   "source": [
    "metadata %>% \n",
    "    select(center, lab, condition) %>%\n",
    "    group_by(center, lab, condition) %>%\n",
    "    summarise(n = n()) "
   ]
  },
  {
   "cell_type": "code",
   "execution_count": 11,
   "metadata": {
    "vscode": {
     "languageId": "r"
    }
   },
   "outputs": [
    {
     "name": "stdout",
     "output_type": "stream",
     "text": [
      "Center:  center1  removed  135  rows with all NA values\n",
      "Before:  3059  After:  2924 \n",
      "Filtering by center - two not-NA per center\n",
      "\tBefore filtering: 2924 47 \n",
      "\tAfter filtering: 2924 47 \n",
      "Filtering by center - two not-NA per center\n",
      "\tBefore filtering: 2924 47 \n",
      "\tAfter filtering: 2910 47 \n",
      "Center:  center2  removed  118  rows with all NA values\n",
      "Before:  3059  After:  2941 \n",
      "Filtering by center - two not-NA per center\n",
      "\tBefore filtering: 2941 47 \n",
      "\tAfter filtering: 2940 47 \n",
      "Filtering by center - two not-NA per center\n",
      "\tBefore filtering: 2940 47 \n",
      "\tAfter filtering: 2900 47 \n",
      "Center:  center3  removed  658  rows with all NA values\n",
      "Before:  3059  After:  2401 \n",
      "Filtering by center - two not-NA per center\n",
      "\tBefore filtering: 2401 24 \n",
      "\tAfter filtering: 2401 24 \n",
      "Filtering by center - two not-NA per center\n",
      "\tBefore filtering: 2401 24 \n",
      "\tAfter filtering: 2363 24 \n",
      "Joint intensities:  3034 119 \n"
     ]
    }
   ],
   "source": [
    "joint_intensities <- NULL\n",
    "\n",
    "for(center in unique(metadata$center)){\n",
    "    center_metadata <- metadata[metadata$center == center,]\n",
    "    center_intensities <- intensities[, center_metadata$file]\n",
    "\n",
    "    # remove rows with all values NA\n",
    "    intens_filtered <- center_intensities[!apply(is.na(center_intensities), 1, all),]\n",
    "    cat(\"Center: \", center, \" removed \", nrow(center_intensities) - nrow(intens_filtered), \" rows with all NA values\\n\")\n",
    "    cat(\"Before: \", nrow(center_intensities), \" After: \", nrow(intens_filtered), \"\\n\")\n",
    "    \n",
    "    intens_filtered <- filter_per_center(intens_filtered, center_metadata, 'file', unique(center_metadata$center), 'center')\n",
    "    intens_filtered <- filter_per_center(intens_filtered, center_metadata, 'file', unique(center_metadata$condition), 'condition')\n",
    "    center_intensities_filtered <- intens_filtered[, center_metadata$file]\n",
    "    \n",
    "    path_before <- paste(path_to_data, center, \"/\", sep = \"\")\n",
    "\n",
    "    if(!dir.exists(path_before)){\n",
    "        dir.create(path_before)\n",
    "    }\n",
    "    write.table(center_metadata,\n",
    "        file = paste0(path_before, \"/intermediate/metadata.tsv\"), sep = \"\\t\", quote = T, row.names = F, col.names = T)\n",
    "    write.table(center_intensities_filtered %>% rownames_to_column('rowname'),\n",
    "        file = paste0(path_before, \"intensities_log_UNION.tsv\"), sep = \"\\t\", quote = T, row.names = F, col.names = T)\n",
    "\n",
    "    if(is.null(joint_intensities)){\n",
    "        joint_intensities <- center_intensities_filtered\n",
    "        joint_intensities <- joint_intensities %>% rownames_to_column(\"rowname\")\n",
    "    } else {\n",
    "        center_intensities_filtered <- center_intensities_filtered %>% rownames_to_column(\"rowname\")\n",
    "        \n",
    "        # Union or full join by rownames (index)\n",
    "        joint_intensities <- merge(joint_intensities, center_intensities_filtered, \n",
    "                                   by = \"rowname\", all = TRUE)\n",
    "    }\n",
    "}\n",
    "cat(\"Joint intensities: \", dim(joint_intensities), \"\\n\")\n",
    "intensities <- joint_intensities %>%\n",
    "    column_to_rownames(\"rowname\")"
   ]
  },
  {
   "cell_type": "code",
   "execution_count": 12,
   "metadata": {
    "vscode": {
     "languageId": "r"
    }
   },
   "outputs": [
    {
     "name": "stderr",
     "output_type": "stream",
     "text": [
      "Warning message:\n",
      "“\u001b[1m\u001b[22m`aes_string()` was deprecated in ggplot2 3.0.0.\n",
      "\u001b[36mℹ\u001b[39m Please use tidy evaluation idioms with `aes()`.\n",
      "\u001b[36mℹ\u001b[39m See also `vignette(\"ggplot2-in-packages\")` for more information.”\n",
      "No id variables; using all as measure variables\n",
      "\n",
      "Warning message:\n",
      "“\u001b[1m\u001b[22mRemoved 49366 rows containing non-finite outside the scale range\n",
      "(`stat_boxplot()`).”\n",
      "Warning message:\n",
      "“\u001b[1m\u001b[22mRemoved 49366 rows containing non-finite outside the scale range\n",
      "(`stat_summary()`).”\n",
      "Warning message:\n",
      "“\u001b[1m\u001b[22mRemoved 49366 rows containing non-finite outside the scale range\n",
      "(`stat_density()`).”\n"
     ]
    }
   ],
   "source": [
    "layout <- plots_multiple(intensities, metadata, \"Bacterial dataset, uncorrected\")\n",
    "ggsave(paste0(\"plots/data_plot.png\"), plot = layout, width = 12, height = 15)"
   ]
  },
  {
   "cell_type": "markdown",
   "metadata": {},
   "source": [
    "# Correction"
   ]
  },
  {
   "cell_type": "code",
   "execution_count": 13,
   "metadata": {
    "vscode": {
     "languageId": "r"
    }
   },
   "outputs": [
    {
     "name": "stdout",
     "output_type": "stream",
     "text": [
      "[1] 3034  118\n"
     ]
    },
    {
     "name": "stderr",
     "output_type": "stream",
     "text": [
      "Warning message:\n",
      "“Partial NA coefficients for 784 probe(s)”\n"
     ]
    }
   ],
   "source": [
    "# create design\n",
    "metadata <- metadata %>%\n",
    "    mutate(condition = factor(condition, levels = c(\"Glu\", \"Pyr\")))\n",
    "design= model.matrix(~condition, data = metadata)\n",
    "colnames(design) <- c(\"Intercept\", \"Pyr\")\n",
    "print(dim(intensities))\n",
    "intensities_corrected <- limma::removeBatchEffect(intensities, metadata$lab, design = design) %>% as.data.frame()\n"
   ]
  },
  {
   "cell_type": "code",
   "execution_count": 14,
   "metadata": {
    "vscode": {
     "languageId": "r"
    }
   },
   "outputs": [
    {
     "name": "stderr",
     "output_type": "stream",
     "text": [
      "No id variables; using all as measure variables\n",
      "\n",
      "Warning message:\n",
      "“\u001b[1m\u001b[22mRemoved 49366 rows containing non-finite outside the scale range\n",
      "(`stat_boxplot()`).”\n",
      "Warning message:\n",
      "“\u001b[1m\u001b[22mRemoved 49366 rows containing non-finite outside the scale range\n",
      "(`stat_summary()`).”\n",
      "Warning message:\n",
      "“\u001b[1m\u001b[22mRemoved 49366 rows containing non-finite outside the scale range\n",
      "(`stat_density()`).”\n"
     ]
    }
   ],
   "source": [
    "layout <- plots_multiple(intensities_corrected, metadata, \"Bacterial dataset, R corrected\")\n",
    "ggsave(paste0(\"plots/data_plot_Rcorrected.png\"), plot = layout, width = 12, height = 15)\n"
   ]
  },
  {
   "cell_type": "code",
   "execution_count": 24,
   "metadata": {
    "vscode": {
     "languageId": "r"
    }
   },
   "outputs": [],
   "source": [
    "design <- design %>% as.data.frame()\n",
    "path_to_after_data <- paste0(\"after/\")\n",
    "\n",
    "\n",
    "for(center in unique(metadata$center)){\n",
    "    path_to_before <- paste0(path_to_data, center, \"/\")\n",
    "    path_to_after <- paste0(\"after/\", center, \"/\")\n",
    "\n",
    "    design_center = design[rownames(metadata[metadata$center == center,]),]['Pyr']\n",
    "    design_center$batch <- metadata[metadata$center == center,]$lab\n",
    "    design_center <- design_center[, c('batch', 'Pyr')]\n",
    "\n",
    "    # if(!dir.exists(path_to_after)){\n",
    "    #     dir.create(path_to_after)\n",
    "    # }\n",
    "\n",
    "    write.table(design_center %>% rownames_to_column('file'),\n",
    "        file = paste0(path_to_before, \"design.tsv\"), sep = \"\\t\", quote = T, row.names = F, col.names = T)\n",
    "}\n",
    "\n",
    "write.table(intensities_corrected %>% rownames_to_column('rowname'), \n",
    "    file = paste0(path_to_after_data, \"intensities_log_Rcorrected_UNION.tsv\"), sep = \"\\t\", quote = T, row.names = F, col.names = T)"
   ]
  },
  {
   "cell_type": "code",
   "execution_count": 25,
   "metadata": {
    "vscode": {
     "languageId": "r"
    }
   },
   "outputs": [
    {
     "data": {
      "text/html": [
       "<table class=\"dataframe\">\n",
       "<caption>A data.frame: 24 × 2</caption>\n",
       "<thead>\n",
       "\t<tr><th></th><th scope=col>batch</th><th scope=col>Pyr</th></tr>\n",
       "\t<tr><th></th><th scope=col>&lt;chr&gt;</th><th scope=col>&lt;dbl&gt;</th></tr>\n",
       "</thead>\n",
       "<tbody>\n",
       "\t<tr><th scope=row>CVT09_QC1_LabE_X023</th><td>lab_E</td><td>0</td></tr>\n",
       "\t<tr><th scope=row>CVT09_QC2_LabE_X024</th><td>lab_E</td><td>1</td></tr>\n",
       "\t<tr><th scope=row>CVT09_QC3_LabE_X025</th><td>lab_E</td><td>1</td></tr>\n",
       "\t<tr><th scope=row>CVT09_QC4_LabE_X026</th><td>lab_E</td><td>0</td></tr>\n",
       "\t<tr><th scope=row>CVT09_s3_X002</th><td>lab_E</td><td>1</td></tr>\n",
       "\t<tr><th scope=row>CVT09_s10_X003</th><td>lab_E</td><td>1</td></tr>\n",
       "\t<tr><th scope=row>CVT09_s13_X004</th><td>lab_E</td><td>1</td></tr>\n",
       "\t<tr><th scope=row>CVT09_s16_X005</th><td>lab_E</td><td>1</td></tr>\n",
       "\t<tr><th scope=row>CVT09_s25_X006</th><td>lab_E</td><td>1</td></tr>\n",
       "\t<tr><th scope=row>CVT09_s28_X007</th><td>lab_E</td><td>1</td></tr>\n",
       "\t<tr><th scope=row>CVT09_s31_X008</th><td>lab_E</td><td>1</td></tr>\n",
       "\t<tr><th scope=row>CVT09_s36_X009</th><td>lab_E</td><td>1</td></tr>\n",
       "\t<tr><th scope=row>CVT09_s41_X010</th><td>lab_E</td><td>1</td></tr>\n",
       "\t<tr><th scope=row>CVT09_s50_X011</th><td>lab_E</td><td>1</td></tr>\n",
       "\t<tr><th scope=row>CVT09_s55_X012</th><td>lab_E</td><td>0</td></tr>\n",
       "\t<tr><th scope=row>CVT09_s59_X013</th><td>lab_E</td><td>0</td></tr>\n",
       "\t<tr><th scope=row>CVT09_s61_X014</th><td>lab_E</td><td>0</td></tr>\n",
       "\t<tr><th scope=row>CVT09_s67_X015</th><td>lab_E</td><td>0</td></tr>\n",
       "\t<tr><th scope=row>CVT09_s73_X016</th><td>lab_E</td><td>0</td></tr>\n",
       "\t<tr><th scope=row>CVT09_s77_X017</th><td>lab_E</td><td>0</td></tr>\n",
       "\t<tr><th scope=row>CVT09_s84_X018</th><td>lab_E</td><td>0</td></tr>\n",
       "\t<tr><th scope=row>CVT09_s90_X019</th><td>lab_E</td><td>0</td></tr>\n",
       "\t<tr><th scope=row>CVT09_s93_X020</th><td>lab_E</td><td>0</td></tr>\n",
       "\t<tr><th scope=row>CVT09_s99_X021</th><td>lab_E</td><td>0</td></tr>\n",
       "</tbody>\n",
       "</table>\n"
      ],
      "text/latex": [
       "A data.frame: 24 × 2\n",
       "\\begin{tabular}{r|ll}\n",
       "  & batch & Pyr\\\\\n",
       "  & <chr> & <dbl>\\\\\n",
       "\\hline\n",
       "\tCVT09\\_QC1\\_LabE\\_X023 & lab\\_E & 0\\\\\n",
       "\tCVT09\\_QC2\\_LabE\\_X024 & lab\\_E & 1\\\\\n",
       "\tCVT09\\_QC3\\_LabE\\_X025 & lab\\_E & 1\\\\\n",
       "\tCVT09\\_QC4\\_LabE\\_X026 & lab\\_E & 0\\\\\n",
       "\tCVT09\\_s3\\_X002 & lab\\_E & 1\\\\\n",
       "\tCVT09\\_s10\\_X003 & lab\\_E & 1\\\\\n",
       "\tCVT09\\_s13\\_X004 & lab\\_E & 1\\\\\n",
       "\tCVT09\\_s16\\_X005 & lab\\_E & 1\\\\\n",
       "\tCVT09\\_s25\\_X006 & lab\\_E & 1\\\\\n",
       "\tCVT09\\_s28\\_X007 & lab\\_E & 1\\\\\n",
       "\tCVT09\\_s31\\_X008 & lab\\_E & 1\\\\\n",
       "\tCVT09\\_s36\\_X009 & lab\\_E & 1\\\\\n",
       "\tCVT09\\_s41\\_X010 & lab\\_E & 1\\\\\n",
       "\tCVT09\\_s50\\_X011 & lab\\_E & 1\\\\\n",
       "\tCVT09\\_s55\\_X012 & lab\\_E & 0\\\\\n",
       "\tCVT09\\_s59\\_X013 & lab\\_E & 0\\\\\n",
       "\tCVT09\\_s61\\_X014 & lab\\_E & 0\\\\\n",
       "\tCVT09\\_s67\\_X015 & lab\\_E & 0\\\\\n",
       "\tCVT09\\_s73\\_X016 & lab\\_E & 0\\\\\n",
       "\tCVT09\\_s77\\_X017 & lab\\_E & 0\\\\\n",
       "\tCVT09\\_s84\\_X018 & lab\\_E & 0\\\\\n",
       "\tCVT09\\_s90\\_X019 & lab\\_E & 0\\\\\n",
       "\tCVT09\\_s93\\_X020 & lab\\_E & 0\\\\\n",
       "\tCVT09\\_s99\\_X021 & lab\\_E & 0\\\\\n",
       "\\end{tabular}\n"
      ],
      "text/markdown": [
       "\n",
       "A data.frame: 24 × 2\n",
       "\n",
       "| <!--/--> | batch &lt;chr&gt; | Pyr &lt;dbl&gt; |\n",
       "|---|---|---|\n",
       "| CVT09_QC1_LabE_X023 | lab_E | 0 |\n",
       "| CVT09_QC2_LabE_X024 | lab_E | 1 |\n",
       "| CVT09_QC3_LabE_X025 | lab_E | 1 |\n",
       "| CVT09_QC4_LabE_X026 | lab_E | 0 |\n",
       "| CVT09_s3_X002 | lab_E | 1 |\n",
       "| CVT09_s10_X003 | lab_E | 1 |\n",
       "| CVT09_s13_X004 | lab_E | 1 |\n",
       "| CVT09_s16_X005 | lab_E | 1 |\n",
       "| CVT09_s25_X006 | lab_E | 1 |\n",
       "| CVT09_s28_X007 | lab_E | 1 |\n",
       "| CVT09_s31_X008 | lab_E | 1 |\n",
       "| CVT09_s36_X009 | lab_E | 1 |\n",
       "| CVT09_s41_X010 | lab_E | 1 |\n",
       "| CVT09_s50_X011 | lab_E | 1 |\n",
       "| CVT09_s55_X012 | lab_E | 0 |\n",
       "| CVT09_s59_X013 | lab_E | 0 |\n",
       "| CVT09_s61_X014 | lab_E | 0 |\n",
       "| CVT09_s67_X015 | lab_E | 0 |\n",
       "| CVT09_s73_X016 | lab_E | 0 |\n",
       "| CVT09_s77_X017 | lab_E | 0 |\n",
       "| CVT09_s84_X018 | lab_E | 0 |\n",
       "| CVT09_s90_X019 | lab_E | 0 |\n",
       "| CVT09_s93_X020 | lab_E | 0 |\n",
       "| CVT09_s99_X021 | lab_E | 0 |\n",
       "\n"
      ],
      "text/plain": [
       "                    batch Pyr\n",
       "CVT09_QC1_LabE_X023 lab_E 0  \n",
       "CVT09_QC2_LabE_X024 lab_E 1  \n",
       "CVT09_QC3_LabE_X025 lab_E 1  \n",
       "CVT09_QC4_LabE_X026 lab_E 0  \n",
       "CVT09_s3_X002       lab_E 1  \n",
       "CVT09_s10_X003      lab_E 1  \n",
       "CVT09_s13_X004      lab_E 1  \n",
       "CVT09_s16_X005      lab_E 1  \n",
       "CVT09_s25_X006      lab_E 1  \n",
       "CVT09_s28_X007      lab_E 1  \n",
       "CVT09_s31_X008      lab_E 1  \n",
       "CVT09_s36_X009      lab_E 1  \n",
       "CVT09_s41_X010      lab_E 1  \n",
       "CVT09_s50_X011      lab_E 1  \n",
       "CVT09_s55_X012      lab_E 0  \n",
       "CVT09_s59_X013      lab_E 0  \n",
       "CVT09_s61_X014      lab_E 0  \n",
       "CVT09_s67_X015      lab_E 0  \n",
       "CVT09_s73_X016      lab_E 0  \n",
       "CVT09_s77_X017      lab_E 0  \n",
       "CVT09_s84_X018      lab_E 0  \n",
       "CVT09_s90_X019      lab_E 0  \n",
       "CVT09_s93_X020      lab_E 0  \n",
       "CVT09_s99_X021      lab_E 0  "
      ]
     },
     "metadata": {},
     "output_type": "display_data"
    }
   ],
   "source": [
    "design_center"
   ]
  },
  {
   "cell_type": "code",
   "execution_count": null,
   "metadata": {
    "vscode": {
     "languageId": "r"
    }
   },
   "outputs": [],
   "source": []
  }
 ],
 "metadata": {
  "kernelspec": {
   "display_name": "R",
   "language": "R",
   "name": "ir"
  },
  "language_info": {
   "codemirror_mode": "r",
   "file_extension": ".r",
   "mimetype": "text/x-r-source",
   "name": "R",
   "pygments_lexer": "r",
   "version": "4.3.3"
  }
 },
 "nbformat": 4,
 "nbformat_minor": 2
}
