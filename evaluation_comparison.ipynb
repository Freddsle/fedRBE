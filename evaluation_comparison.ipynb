{
 "cells": [
  {
   "cell_type": "code",
   "execution_count": 124,
   "metadata": {
    "vscode": {
     "languageId": "r"
    }
   },
   "outputs": [],
   "source": [
    "library(tidyverse)"
   ]
  },
  {
   "cell_type": "code",
   "execution_count": 125,
   "metadata": {
    "vscode": {
     "languageId": "r"
    }
   },
   "outputs": [],
   "source": [
    "# MODE = 'Balanced'\n",
    "MODE = 'Imalanced'"
   ]
  },
  {
   "cell_type": "markdown",
   "metadata": {},
   "source": [
    "# plots"
   ]
  },
  {
   "cell_type": "code",
   "execution_count": 126,
   "metadata": {
    "vscode": {
     "languageId": "r"
    }
   },
   "outputs": [],
   "source": [
    "pca_plot <- function(df, batch_info, title, path) {\n",
    "  pca <- prcomp(t(na.omit(df)))\n",
    "  # Plot PCA\n",
    "  pca_df <-\n",
    "    pca$x %>%\n",
    "    as.data.frame() %>%\n",
    "    rownames_to_column(\"file\") %>% \n",
    "    left_join(batch_info,  by = \"file\") \n",
    "  # add % of explained variance\n",
    "  var_expl <- pca$sdev^2 / sum(pca$sdev^2)\n",
    "  names(var_expl) <- paste0(\"PC\", 1:length(var_expl))\n",
    "  # Add the label for the specific point\n",
    "  pca_plot <- pca_df %>%\n",
    "    ggplot(aes(PC1, PC2)) +\n",
    "    geom_point(aes(col=condition, shape=lab), size=2) +\n",
    "    theme_classic() +\n",
    "    labs(title = title,\n",
    "         x = glue::glue(\"PC1 [{round(var_expl['PC1']*100, 2)}%]\"),\n",
    "         y = glue::glue(\"PC2 [{round(var_expl['PC2']*100, 2)}%]\"))\n",
    "\n",
    "  ggsave(path, pca_plot)\n",
    "}"
   ]
  },
  {
   "cell_type": "code",
   "execution_count": 127,
   "metadata": {
    "vscode": {
     "languageId": "r"
    }
   },
   "outputs": [],
   "source": [
    "# boxplot\n",
    "boxplot_pg <- function(protein_matrix, title, path) {\n",
    "  # Reshape data into long format\n",
    "  long_data <- tidyr::gather(protein_matrix, \n",
    "                             key = \"file\", value = \"Intensity\")\n",
    "  # Log tranformed scale\n",
    "  boxplot <- ggplot(long_data, aes(x = file, y = Intensity)) + \n",
    "    geom_boxplot() +\n",
    "    stat_summary(fun = mean, geom = \"point\", shape = 4, size = 1.5, color = \"red\") +\n",
    "    theme_bw() +\n",
    "    theme(axis.text.x = element_text(angle = 90, vjust = 0.5, hjust = 1, size = 5)) +\n",
    "    labs(title = title) \n",
    "\n",
    "  ggsave(path, boxplot, width = 6, height = 6)\n",
    "}"
   ]
  },
  {
   "cell_type": "code",
   "execution_count": 128,
   "metadata": {
    "vscode": {
     "languageId": "r"
    }
   },
   "outputs": [],
   "source": [
    "heatmap_plot <- function(pg_matrix, batch_info, name, plot_name_prefix){\n",
    "    cor_matrix <- cor(na.omit(pg_matrix), use = \"pairwise.complete.obs\")\n",
    "    pheatmap::pheatmap(cor_matrix, \n",
    "                        annotation_col = select(batch_info, c(condition, lab)),\n",
    "                        treeheight_row = 0, treeheight_col = 0, \n",
    "                        fontsize_row = 5, fontsize_col = 5,\n",
    "                        width = 7, height = 7,\n",
    "                        main = paste0(name, ' heatmap'),\n",
    "                        filename = plot_name_prefix)\n",
    "}\n"
   ]
  },
  {
   "cell_type": "code",
   "execution_count": 129,
   "metadata": {
    "vscode": {
     "languageId": "r"
    }
   },
   "outputs": [],
   "source": [
    "plot_three_plots <- function(pg_matrix, batch_info, plot_name_prefix, subname, number){\n",
    "\n",
    "        batch_info <- batch_info %>%\n",
    "                mutate(file = case_when(\n",
    "                lab %in% c('lab_A', 'lab_E') ~ str_split(file, \"_\") %>% \n",
    "                map_chr(~ if (length(.x) == 4) paste(.x[1], .x[2], .x[4], sep = \"_\") else paste(.x[1], .x[2], sep = \"_\")),\n",
    "                \n",
    "                lab == 'lab_C' ~ str_split(file, \"_\") %>% \n",
    "                map_chr(~ paste(.x[5], .x[6], sep = \"_\")),\n",
    "                \n",
    "                lab == 'lab_D' ~ str_split(file, \"_\") %>% \n",
    "                map_chr(~ paste(.x[6], .x[8], sep = \"_\")),\n",
    "                \n",
    "                TRUE ~ file\n",
    "        ))\n",
    "\n",
    "        rownames(batch_info) <- batch_info$file\n",
    "        colnames(pg_matrix) <- batch_info$file\n",
    "\n",
    "\n",
    "        boxplot_pg(pg_matrix, \n",
    "                paste0(subname, ' boxplot'), \n",
    "                paste0(plot_name_prefix, \"_\", subname, \"_\", number, \"_boxplot.png\")\n",
    "        )\n",
    "\n",
    "        pca_plot(pg_matrix,\n",
    "                batch_info, \n",
    "                paste0(subname, ' pca'), \n",
    "                paste0(plot_name_prefix, \"_\", subname, \"_\", number, \"_pca.png\")\n",
    "        )\n",
    "\n",
    "        heatmap_plot(pg_matrix, \n",
    "                batch_info, \n",
    "                subname, \n",
    "                paste0(plot_name_prefix, \"_\", subname, \"_\", number, \"_heatmap.png\")\n",
    "        )\n",
    "\n",
    "}"
   ]
  },
  {
   "cell_type": "code",
   "execution_count": 130,
   "metadata": {
    "vscode": {
     "languageId": "r"
    }
   },
   "outputs": [
    {
     "data": {
      "text/html": [
       "<style>\n",
       ".list-inline {list-style: none; margin:0; padding: 0}\n",
       ".list-inline>li {display: inline-block}\n",
       ".list-inline>li:not(:last-child)::after {content: \"\\00b7\"; padding: 0 .5ex}\n",
       "</style>\n",
       "<ol class=list-inline><li>118</li><li>3</li></ol>\n"
      ],
      "text/latex": [
       "\\begin{enumerate*}\n",
       "\\item 118\n",
       "\\item 3\n",
       "\\end{enumerate*}\n"
      ],
      "text/markdown": [
       "1. 118\n",
       "2. 3\n",
       "\n",
       "\n"
      ],
      "text/plain": [
       "[1] 118   3"
      ]
     },
     "metadata": {},
     "output_type": "display_data"
    },
    {
     "data": {
      "text/html": [
       "<table class=\"dataframe\">\n",
       "<caption>A data.frame: 6 × 3</caption>\n",
       "<thead>\n",
       "\t<tr><th></th><th scope=col>file</th><th scope=col>lab</th><th scope=col>condition</th></tr>\n",
       "\t<tr><th></th><th scope=col>&lt;chr&gt;</th><th scope=col>&lt;fct&gt;</th><th scope=col>&lt;fct&gt;</th></tr>\n",
       "</thead>\n",
       "<tbody>\n",
       "\t<tr><th scope=row>Ref8537_QC1_20230414_1</th><td>Ref8537_QC1_20230414_1</td><td>lab_A</td><td>Pyr</td></tr>\n",
       "\t<tr><th scope=row>Ref8537_QC2_20230414_1</th><td>Ref8537_QC2_20230414_1</td><td>lab_A</td><td>Pyr</td></tr>\n",
       "\t<tr><th scope=row>Ref8537_QC3_20230414_1</th><td>Ref8537_QC3_20230414_1</td><td>lab_A</td><td>Glu</td></tr>\n",
       "\t<tr><th scope=row>Ref8537_QC4_20230414_1</th><td>Ref8537_QC4_20230414_1</td><td>lab_A</td><td>Glu</td></tr>\n",
       "\t<tr><th scope=row>Ref8537_S4_20230414</th><td>Ref8537_S4_20230414   </td><td>lab_A</td><td>Pyr</td></tr>\n",
       "\t<tr><th scope=row>Ref8537_S8_20230414</th><td>Ref8537_S8_20230414   </td><td>lab_A</td><td>Pyr</td></tr>\n",
       "</tbody>\n",
       "</table>\n"
      ],
      "text/latex": [
       "A data.frame: 6 × 3\n",
       "\\begin{tabular}{r|lll}\n",
       "  & file & lab & condition\\\\\n",
       "  & <chr> & <fct> & <fct>\\\\\n",
       "\\hline\n",
       "\tRef8537\\_QC1\\_20230414\\_1 & Ref8537\\_QC1\\_20230414\\_1 & lab\\_A & Pyr\\\\\n",
       "\tRef8537\\_QC2\\_20230414\\_1 & Ref8537\\_QC2\\_20230414\\_1 & lab\\_A & Pyr\\\\\n",
       "\tRef8537\\_QC3\\_20230414\\_1 & Ref8537\\_QC3\\_20230414\\_1 & lab\\_A & Glu\\\\\n",
       "\tRef8537\\_QC4\\_20230414\\_1 & Ref8537\\_QC4\\_20230414\\_1 & lab\\_A & Glu\\\\\n",
       "\tRef8537\\_S4\\_20230414 & Ref8537\\_S4\\_20230414    & lab\\_A & Pyr\\\\\n",
       "\tRef8537\\_S8\\_20230414 & Ref8537\\_S8\\_20230414    & lab\\_A & Pyr\\\\\n",
       "\\end{tabular}\n"
      ],
      "text/markdown": [
       "\n",
       "A data.frame: 6 × 3\n",
       "\n",
       "| <!--/--> | file &lt;chr&gt; | lab &lt;fct&gt; | condition &lt;fct&gt; |\n",
       "|---|---|---|---|\n",
       "| Ref8537_QC1_20230414_1 | Ref8537_QC1_20230414_1 | lab_A | Pyr |\n",
       "| Ref8537_QC2_20230414_1 | Ref8537_QC2_20230414_1 | lab_A | Pyr |\n",
       "| Ref8537_QC3_20230414_1 | Ref8537_QC3_20230414_1 | lab_A | Glu |\n",
       "| Ref8537_QC4_20230414_1 | Ref8537_QC4_20230414_1 | lab_A | Glu |\n",
       "| Ref8537_S4_20230414 | Ref8537_S4_20230414    | lab_A | Pyr |\n",
       "| Ref8537_S8_20230414 | Ref8537_S8_20230414    | lab_A | Pyr |\n",
       "\n"
      ],
      "text/plain": [
       "                       file                   lab   condition\n",
       "Ref8537_QC1_20230414_1 Ref8537_QC1_20230414_1 lab_A Pyr      \n",
       "Ref8537_QC2_20230414_1 Ref8537_QC2_20230414_1 lab_A Pyr      \n",
       "Ref8537_QC3_20230414_1 Ref8537_QC3_20230414_1 lab_A Glu      \n",
       "Ref8537_QC4_20230414_1 Ref8537_QC4_20230414_1 lab_A Glu      \n",
       "Ref8537_S4_20230414    Ref8537_S4_20230414    lab_A Pyr      \n",
       "Ref8537_S8_20230414    Ref8537_S8_20230414    lab_A Pyr      "
      ]
     },
     "metadata": {},
     "output_type": "display_data"
    }
   ],
   "source": [
    "batch_info_ref <- read.csv(paste0(\"/home/yuliya/repos/other/removeBatch/test_data/raw_files_first_\", MODE, \"/bath_info_all.tsv\"), check.names = FALSE, sep=\"\\t\") %>%\n",
    "  column_to_rownames('rowname') %>%\n",
    "  mutate(lab = factor(lab), condition = factor(condition))\n",
    "\n",
    "dim(batch_info_ref)\n",
    "head(batch_info_ref)"
   ]
  },
  {
   "cell_type": "markdown",
   "metadata": {},
   "source": [
    "# Central analysis"
   ]
  },
  {
   "cell_type": "code",
   "execution_count": 131,
   "metadata": {
    "vscode": {
     "languageId": "r"
    }
   },
   "outputs": [
    {
     "data": {
      "text/html": [
       "<style>\n",
       ".list-inline {list-style: none; margin:0; padding: 0}\n",
       ".list-inline>li {display: inline-block}\n",
       ".list-inline>li:not(:last-child)::after {content: \"\\00b7\"; padding: 0 .5ex}\n",
       "</style>\n",
       "<ol class=list-inline><li>2301</li><li>118</li></ol>\n"
      ],
      "text/latex": [
       "\\begin{enumerate*}\n",
       "\\item 2301\n",
       "\\item 118\n",
       "\\end{enumerate*}\n"
      ],
      "text/markdown": [
       "1. 2301\n",
       "2. 118\n",
       "\n",
       "\n"
      ],
      "text/plain": [
       "[1] 2301  118"
      ]
     },
     "metadata": {},
     "output_type": "display_data"
    }
   ],
   "source": [
    "# PG matrix\n",
    "labs_list = c('lab_A', 'lab_B', 'lab_C', 'lab_D' , 'lab_E')  \n",
    "pg_matrix <- NULL\n",
    "\n",
    "for (name in labs_list) {\n",
    "  file_name_prefix <- paste0('/home/yuliya/repos/other/removeBatch/test_data/raw_files_first_', MODE, '/', name)\n",
    "\n",
    "  if(is.null(pg_matrix)){\n",
    "    pg_matrix <- read.csv(paste0(file_name_prefix, '_protein_groups_matrix.tsv'), check.names = FALSE, sep=\"\\t\") \n",
    "  } else {\n",
    "    pg_matrix <- inner_join(pg_matrix, \n",
    "                       read.csv(paste0(file_name_prefix, '_protein_groups_matrix.tsv'), check.names = FALSE, sep=\"\\t\"),\n",
    "                       by = \"rowname\")\n",
    "  }\n",
    "}\n",
    "\n",
    "pg_matrix <- pg_matrix %>% column_to_rownames('rowname')\n",
    "pg_matrix <- log2(pg_matrix + 1)\n",
    "\n",
    "temp_df <- read.csv( paste0(\"results/\", MODE, '/lab_A', \"_intensities_corrected.tsv\"), sep='\\t', row.names = 1,  check.names = FALSE)\n",
    "pg_matrix <- pg_matrix[rownames(temp_df),  batch_info_ref$file]\n",
    "\n",
    "dim(pg_matrix)"
   ]
  },
  {
   "cell_type": "code",
   "execution_count": 132,
   "metadata": {
    "vscode": {
     "languageId": "r"
    }
   },
   "outputs": [
    {
     "name": "stderr",
     "output_type": "stream",
     "text": [
      "Warning message:\n",
      "“\u001b[1m\u001b[22mRemoved 2264 rows containing non-finite values (`stat_boxplot()`).”\n",
      "Warning message:\n",
      "“\u001b[1m\u001b[22mRemoved 2264 rows containing non-finite values (`stat_summary()`).”\n",
      "\u001b[1m\u001b[22mSaving 6.67 x 6.67 in image\n"
     ]
    }
   ],
   "source": [
    "plot_name_prefix <- paste0(\"plots/\", MODE, \"/BEFORE_correction\")\n",
    "subname <- \"A_B_conditions\"\n",
    "number <- \"02\"\n",
    "plot_three_plots(pg_matrix, batch_info_ref, plot_name_prefix, subname, number)\n"
   ]
  },
  {
   "cell_type": "code",
   "execution_count": 133,
   "metadata": {
    "vscode": {
     "languageId": "r"
    }
   },
   "outputs": [],
   "source": [
    "library(limma)\n",
    "\n",
    "design=model.matrix(~condition, data = batch_info_ref)\n",
    "pg_matrix_cured <- removeBatchEffect(pg_matrix, batch=batch_info_ref$lab, design=design) %>% as.data.frame()\n",
    "\n",
    "\n",
    "#write to file\n",
    "pg_matrix_cured %>% \n",
    "  rownames_to_column(\"rowname\") %>% \n",
    "  write.table(paste0('results/', MODE, '/central_cured.csv'),\n",
    "              sep = \"\\t\", quote = FALSE, row.names = FALSE)"
   ]
  },
  {
   "cell_type": "markdown",
   "metadata": {},
   "source": [
    "# data\n",
    "## central"
   ]
  },
  {
   "cell_type": "code",
   "execution_count": 134,
   "metadata": {
    "vscode": {
     "languageId": "r"
    }
   },
   "outputs": [
    {
     "data": {
      "text/html": [
       "<style>\n",
       ".list-inline {list-style: none; margin:0; padding: 0}\n",
       ".list-inline>li {display: inline-block}\n",
       ".list-inline>li:not(:last-child)::after {content: \"\\00b7\"; padding: 0 .5ex}\n",
       "</style>\n",
       "<ol class=list-inline><li>2301</li><li>118</li></ol>\n"
      ],
      "text/latex": [
       "\\begin{enumerate*}\n",
       "\\item 2301\n",
       "\\item 118\n",
       "\\end{enumerate*}\n"
      ],
      "text/markdown": [
       "1. 2301\n",
       "2. 118\n",
       "\n",
       "\n"
      ],
      "text/plain": [
       "[1] 2301  118"
      ]
     },
     "metadata": {},
     "output_type": "display_data"
    },
    {
     "data": {
      "text/html": [
       "<table class=\"dataframe\">\n",
       "<caption>A data.frame: 6 × 118</caption>\n",
       "<thead>\n",
       "\t<tr><th></th><th scope=col>Ref8537_QC1_20230414_1</th><th scope=col>Ref8537_QC2_20230414_1</th><th scope=col>Ref8537_QC3_20230414_1</th><th scope=col>Ref8537_QC4_20230414_1</th><th scope=col>Ref8537_S4_20230414</th><th scope=col>Ref8537_S8_20230414</th><th scope=col>Ref8537_S11_20230414</th><th scope=col>Ref8537_S18_20230414</th><th scope=col>Ref8537_S21_20230414</th><th scope=col>Ref8537_S26_20230414</th><th scope=col>⋯</th><th scope=col>CVT09_s55_X012</th><th scope=col>CVT09_s59_X013</th><th scope=col>CVT09_s61_X014</th><th scope=col>CVT09_s67_X015</th><th scope=col>CVT09_s73_X016</th><th scope=col>CVT09_s77_X017</th><th scope=col>CVT09_s84_X018</th><th scope=col>CVT09_s90_X019</th><th scope=col>CVT09_s93_X020</th><th scope=col>CVT09_s99_X021</th></tr>\n",
       "\t<tr><th></th><th scope=col>&lt;dbl&gt;</th><th scope=col>&lt;dbl&gt;</th><th scope=col>&lt;dbl&gt;</th><th scope=col>&lt;dbl&gt;</th><th scope=col>&lt;dbl&gt;</th><th scope=col>&lt;dbl&gt;</th><th scope=col>&lt;dbl&gt;</th><th scope=col>&lt;dbl&gt;</th><th scope=col>&lt;dbl&gt;</th><th scope=col>&lt;dbl&gt;</th><th scope=col>⋯</th><th scope=col>&lt;dbl&gt;</th><th scope=col>&lt;dbl&gt;</th><th scope=col>&lt;dbl&gt;</th><th scope=col>&lt;dbl&gt;</th><th scope=col>&lt;dbl&gt;</th><th scope=col>&lt;dbl&gt;</th><th scope=col>&lt;dbl&gt;</th><th scope=col>&lt;dbl&gt;</th><th scope=col>&lt;dbl&gt;</th><th scope=col>&lt;dbl&gt;</th></tr>\n",
       "</thead>\n",
       "<tbody>\n",
       "\t<tr><th scope=row>A5A614</th><td>18.07099</td><td>17.76463</td><td>17.64577</td><td>16.94823</td><td>18.20704</td><td>18.27645</td><td>17.90497</td><td>17.33893</td><td>18.00480</td><td>17.77114</td><td>⋯</td><td>17.45591</td><td>16.93699</td><td>17.52851</td><td>17.44239</td><td>17.37857</td><td>17.00767</td><td>17.20953</td><td>17.32060</td><td>17.87804</td><td>17.01073</td></tr>\n",
       "\t<tr><th scope=row>O32583</th><td>18.78144</td><td>19.05467</td><td>18.63023</td><td>17.69929</td><td>18.90511</td><td>18.45085</td><td>19.05067</td><td>19.22559</td><td>17.73292</td><td>18.85344</td><td>⋯</td><td>      NA</td><td>      NA</td><td>      NA</td><td>18.01100</td><td>18.83517</td><td>      NA</td><td>      NA</td><td>      NA</td><td>      NA</td><td>      NA</td></tr>\n",
       "\t<tr><th scope=row>P00350</th><td>25.19155</td><td>25.22207</td><td>25.39769</td><td>25.43547</td><td>25.39256</td><td>25.31223</td><td>25.22300</td><td>25.24609</td><td>25.09993</td><td>25.26596</td><td>⋯</td><td>25.47001</td><td>25.52584</td><td>25.46983</td><td>25.48417</td><td>25.49854</td><td>25.49312</td><td>25.44433</td><td>25.47370</td><td>25.44254</td><td>25.46852</td></tr>\n",
       "\t<tr><th scope=row>P00363</th><td>23.46546</td><td>23.54727</td><td>23.54287</td><td>23.39659</td><td>23.45058</td><td>23.39754</td><td>22.79700</td><td>23.25775</td><td>23.56995</td><td>23.25670</td><td>⋯</td><td>23.17544</td><td>23.05606</td><td>22.88735</td><td>23.10673</td><td>23.25947</td><td>23.07996</td><td>23.07850</td><td>23.16906</td><td>23.22231</td><td>23.04852</td></tr>\n",
       "\t<tr><th scope=row>P00370</th><td>24.55231</td><td>24.47656</td><td>25.15931</td><td>25.00830</td><td>24.45746</td><td>24.41053</td><td>24.29427</td><td>24.37286</td><td>24.45943</td><td>24.16747</td><td>⋯</td><td>24.89058</td><td>24.88225</td><td>24.82133</td><td>24.74489</td><td>24.93798</td><td>24.91890</td><td>24.85230</td><td>24.89195</td><td>24.99446</td><td>24.73179</td></tr>\n",
       "\t<tr><th scope=row>P00393</th><td>22.70775</td><td>22.75656</td><td>22.63729</td><td>22.74035</td><td>22.48436</td><td>22.72246</td><td>22.80867</td><td>22.36757</td><td>21.78038</td><td>22.54088</td><td>⋯</td><td>22.64727</td><td>22.53190</td><td>22.70562</td><td>22.53526</td><td>22.55108</td><td>22.65813</td><td>22.65711</td><td>22.60783</td><td>22.59191</td><td>22.72622</td></tr>\n",
       "</tbody>\n",
       "</table>\n"
      ],
      "text/latex": [
       "A data.frame: 6 × 118\n",
       "\\begin{tabular}{r|lllllllllllllllllllll}\n",
       "  & Ref8537\\_QC1\\_20230414\\_1 & Ref8537\\_QC2\\_20230414\\_1 & Ref8537\\_QC3\\_20230414\\_1 & Ref8537\\_QC4\\_20230414\\_1 & Ref8537\\_S4\\_20230414 & Ref8537\\_S8\\_20230414 & Ref8537\\_S11\\_20230414 & Ref8537\\_S18\\_20230414 & Ref8537\\_S21\\_20230414 & Ref8537\\_S26\\_20230414 & ⋯ & CVT09\\_s55\\_X012 & CVT09\\_s59\\_X013 & CVT09\\_s61\\_X014 & CVT09\\_s67\\_X015 & CVT09\\_s73\\_X016 & CVT09\\_s77\\_X017 & CVT09\\_s84\\_X018 & CVT09\\_s90\\_X019 & CVT09\\_s93\\_X020 & CVT09\\_s99\\_X021\\\\\n",
       "  & <dbl> & <dbl> & <dbl> & <dbl> & <dbl> & <dbl> & <dbl> & <dbl> & <dbl> & <dbl> & ⋯ & <dbl> & <dbl> & <dbl> & <dbl> & <dbl> & <dbl> & <dbl> & <dbl> & <dbl> & <dbl>\\\\\n",
       "\\hline\n",
       "\tA5A614 & 18.07099 & 17.76463 & 17.64577 & 16.94823 & 18.20704 & 18.27645 & 17.90497 & 17.33893 & 18.00480 & 17.77114 & ⋯ & 17.45591 & 16.93699 & 17.52851 & 17.44239 & 17.37857 & 17.00767 & 17.20953 & 17.32060 & 17.87804 & 17.01073\\\\\n",
       "\tO32583 & 18.78144 & 19.05467 & 18.63023 & 17.69929 & 18.90511 & 18.45085 & 19.05067 & 19.22559 & 17.73292 & 18.85344 & ⋯ &       NA &       NA &       NA & 18.01100 & 18.83517 &       NA &       NA &       NA &       NA &       NA\\\\\n",
       "\tP00350 & 25.19155 & 25.22207 & 25.39769 & 25.43547 & 25.39256 & 25.31223 & 25.22300 & 25.24609 & 25.09993 & 25.26596 & ⋯ & 25.47001 & 25.52584 & 25.46983 & 25.48417 & 25.49854 & 25.49312 & 25.44433 & 25.47370 & 25.44254 & 25.46852\\\\\n",
       "\tP00363 & 23.46546 & 23.54727 & 23.54287 & 23.39659 & 23.45058 & 23.39754 & 22.79700 & 23.25775 & 23.56995 & 23.25670 & ⋯ & 23.17544 & 23.05606 & 22.88735 & 23.10673 & 23.25947 & 23.07996 & 23.07850 & 23.16906 & 23.22231 & 23.04852\\\\\n",
       "\tP00370 & 24.55231 & 24.47656 & 25.15931 & 25.00830 & 24.45746 & 24.41053 & 24.29427 & 24.37286 & 24.45943 & 24.16747 & ⋯ & 24.89058 & 24.88225 & 24.82133 & 24.74489 & 24.93798 & 24.91890 & 24.85230 & 24.89195 & 24.99446 & 24.73179\\\\\n",
       "\tP00393 & 22.70775 & 22.75656 & 22.63729 & 22.74035 & 22.48436 & 22.72246 & 22.80867 & 22.36757 & 21.78038 & 22.54088 & ⋯ & 22.64727 & 22.53190 & 22.70562 & 22.53526 & 22.55108 & 22.65813 & 22.65711 & 22.60783 & 22.59191 & 22.72622\\\\\n",
       "\\end{tabular}\n"
      ],
      "text/markdown": [
       "\n",
       "A data.frame: 6 × 118\n",
       "\n",
       "| <!--/--> | Ref8537_QC1_20230414_1 &lt;dbl&gt; | Ref8537_QC2_20230414_1 &lt;dbl&gt; | Ref8537_QC3_20230414_1 &lt;dbl&gt; | Ref8537_QC4_20230414_1 &lt;dbl&gt; | Ref8537_S4_20230414 &lt;dbl&gt; | Ref8537_S8_20230414 &lt;dbl&gt; | Ref8537_S11_20230414 &lt;dbl&gt; | Ref8537_S18_20230414 &lt;dbl&gt; | Ref8537_S21_20230414 &lt;dbl&gt; | Ref8537_S26_20230414 &lt;dbl&gt; | ⋯ ⋯ | CVT09_s55_X012 &lt;dbl&gt; | CVT09_s59_X013 &lt;dbl&gt; | CVT09_s61_X014 &lt;dbl&gt; | CVT09_s67_X015 &lt;dbl&gt; | CVT09_s73_X016 &lt;dbl&gt; | CVT09_s77_X017 &lt;dbl&gt; | CVT09_s84_X018 &lt;dbl&gt; | CVT09_s90_X019 &lt;dbl&gt; | CVT09_s93_X020 &lt;dbl&gt; | CVT09_s99_X021 &lt;dbl&gt; |\n",
       "|---|---|---|---|---|---|---|---|---|---|---|---|---|---|---|---|---|---|---|---|---|---|\n",
       "| A5A614 | 18.07099 | 17.76463 | 17.64577 | 16.94823 | 18.20704 | 18.27645 | 17.90497 | 17.33893 | 18.00480 | 17.77114 | ⋯ | 17.45591 | 16.93699 | 17.52851 | 17.44239 | 17.37857 | 17.00767 | 17.20953 | 17.32060 | 17.87804 | 17.01073 |\n",
       "| O32583 | 18.78144 | 19.05467 | 18.63023 | 17.69929 | 18.90511 | 18.45085 | 19.05067 | 19.22559 | 17.73292 | 18.85344 | ⋯ |       NA |       NA |       NA | 18.01100 | 18.83517 |       NA |       NA |       NA |       NA |       NA |\n",
       "| P00350 | 25.19155 | 25.22207 | 25.39769 | 25.43547 | 25.39256 | 25.31223 | 25.22300 | 25.24609 | 25.09993 | 25.26596 | ⋯ | 25.47001 | 25.52584 | 25.46983 | 25.48417 | 25.49854 | 25.49312 | 25.44433 | 25.47370 | 25.44254 | 25.46852 |\n",
       "| P00363 | 23.46546 | 23.54727 | 23.54287 | 23.39659 | 23.45058 | 23.39754 | 22.79700 | 23.25775 | 23.56995 | 23.25670 | ⋯ | 23.17544 | 23.05606 | 22.88735 | 23.10673 | 23.25947 | 23.07996 | 23.07850 | 23.16906 | 23.22231 | 23.04852 |\n",
       "| P00370 | 24.55231 | 24.47656 | 25.15931 | 25.00830 | 24.45746 | 24.41053 | 24.29427 | 24.37286 | 24.45943 | 24.16747 | ⋯ | 24.89058 | 24.88225 | 24.82133 | 24.74489 | 24.93798 | 24.91890 | 24.85230 | 24.89195 | 24.99446 | 24.73179 |\n",
       "| P00393 | 22.70775 | 22.75656 | 22.63729 | 22.74035 | 22.48436 | 22.72246 | 22.80867 | 22.36757 | 21.78038 | 22.54088 | ⋯ | 22.64727 | 22.53190 | 22.70562 | 22.53526 | 22.55108 | 22.65813 | 22.65711 | 22.60783 | 22.59191 | 22.72622 |\n",
       "\n"
      ],
      "text/plain": [
       "       Ref8537_QC1_20230414_1 Ref8537_QC2_20230414_1 Ref8537_QC3_20230414_1\n",
       "A5A614 18.07099               17.76463               17.64577              \n",
       "O32583 18.78144               19.05467               18.63023              \n",
       "P00350 25.19155               25.22207               25.39769              \n",
       "P00363 23.46546               23.54727               23.54287              \n",
       "P00370 24.55231               24.47656               25.15931              \n",
       "P00393 22.70775               22.75656               22.63729              \n",
       "       Ref8537_QC4_20230414_1 Ref8537_S4_20230414 Ref8537_S8_20230414\n",
       "A5A614 16.94823               18.20704            18.27645           \n",
       "O32583 17.69929               18.90511            18.45085           \n",
       "P00350 25.43547               25.39256            25.31223           \n",
       "P00363 23.39659               23.45058            23.39754           \n",
       "P00370 25.00830               24.45746            24.41053           \n",
       "P00393 22.74035               22.48436            22.72246           \n",
       "       Ref8537_S11_20230414 Ref8537_S18_20230414 Ref8537_S21_20230414\n",
       "A5A614 17.90497             17.33893             18.00480            \n",
       "O32583 19.05067             19.22559             17.73292            \n",
       "P00350 25.22300             25.24609             25.09993            \n",
       "P00363 22.79700             23.25775             23.56995            \n",
       "P00370 24.29427             24.37286             24.45943            \n",
       "P00393 22.80867             22.36757             21.78038            \n",
       "       Ref8537_S26_20230414 ⋯ CVT09_s55_X012 CVT09_s59_X013 CVT09_s61_X014\n",
       "A5A614 17.77114             ⋯ 17.45591       16.93699       17.52851      \n",
       "O32583 18.85344             ⋯       NA             NA             NA      \n",
       "P00350 25.26596             ⋯ 25.47001       25.52584       25.46983      \n",
       "P00363 23.25670             ⋯ 23.17544       23.05606       22.88735      \n",
       "P00370 24.16747             ⋯ 24.89058       24.88225       24.82133      \n",
       "P00393 22.54088             ⋯ 22.64727       22.53190       22.70562      \n",
       "       CVT09_s67_X015 CVT09_s73_X016 CVT09_s77_X017 CVT09_s84_X018\n",
       "A5A614 17.44239       17.37857       17.00767       17.20953      \n",
       "O32583 18.01100       18.83517             NA             NA      \n",
       "P00350 25.48417       25.49854       25.49312       25.44433      \n",
       "P00363 23.10673       23.25947       23.07996       23.07850      \n",
       "P00370 24.74489       24.93798       24.91890       24.85230      \n",
       "P00393 22.53526       22.55108       22.65813       22.65711      \n",
       "       CVT09_s90_X019 CVT09_s93_X020 CVT09_s99_X021\n",
       "A5A614 17.32060       17.87804       17.01073      \n",
       "O32583       NA             NA             NA      \n",
       "P00350 25.47370       25.44254       25.46852      \n",
       "P00363 23.16906       23.22231       23.04852      \n",
       "P00370 24.89195       24.99446       24.73179      \n",
       "P00393 22.60783       22.59191       22.72622      "
      ]
     },
     "metadata": {},
     "output_type": "display_data"
    }
   ],
   "source": [
    "cured_central <- read.csv(paste0('results/', MODE, '/central_cured.csv'), sep='\\t', row.names = 1,  check.names = FALSE)\n",
    "dim(cured_central)\n",
    "head(cured_central)"
   ]
  },
  {
   "cell_type": "code",
   "execution_count": 135,
   "metadata": {
    "vscode": {
     "languageId": "r"
    }
   },
   "outputs": [
    {
     "name": "stderr",
     "output_type": "stream",
     "text": [
      "Warning message:\n",
      "“\u001b[1m\u001b[22mRemoved 2264 rows containing non-finite values (`stat_boxplot()`).”\n",
      "Warning message:\n",
      "“\u001b[1m\u001b[22mRemoved 2264 rows containing non-finite values (`stat_summary()`).”\n",
      "\u001b[1m\u001b[22mSaving 6.67 x 6.67 in image\n"
     ]
    }
   ],
   "source": [
    "plot_name_prefix <- paste0(\"plots/\", MODE, \"/R_after_correction\")\n",
    "subname <- \"A_B_conditions\"\n",
    "number <- \"02\"\n",
    "plot_three_plots(cured_central, batch_info_ref, plot_name_prefix, subname, number)\n"
   ]
  },
  {
   "cell_type": "markdown",
   "metadata": {},
   "source": [
    "## federated"
   ]
  },
  {
   "cell_type": "code",
   "execution_count": 136,
   "metadata": {
    "vscode": {
     "languageId": "r"
    }
   },
   "outputs": [
    {
     "data": {
      "text/html": [
       "<style>\n",
       ".list-inline {list-style: none; margin:0; padding: 0}\n",
       ".list-inline>li {display: inline-block}\n",
       ".list-inline>li:not(:last-child)::after {content: \"\\00b7\"; padding: 0 .5ex}\n",
       "</style>\n",
       "<ol class=list-inline><li>2301</li><li>118</li></ol>\n"
      ],
      "text/latex": [
       "\\begin{enumerate*}\n",
       "\\item 2301\n",
       "\\item 118\n",
       "\\end{enumerate*}\n"
      ],
      "text/markdown": [
       "1. 2301\n",
       "2. 118\n",
       "\n",
       "\n"
      ],
      "text/plain": [
       "[1] 2301  118"
      ]
     },
     "metadata": {},
     "output_type": "display_data"
    },
    {
     "data": {
      "text/html": [
       "<table class=\"dataframe\">\n",
       "<caption>A data.frame: 6 × 118</caption>\n",
       "<thead>\n",
       "\t<tr><th></th><th scope=col>Ref8537_QC1_20230414_1</th><th scope=col>Ref8537_QC2_20230414_1</th><th scope=col>Ref8537_QC3_20230414_1</th><th scope=col>Ref8537_QC4_20230414_1</th><th scope=col>Ref8537_S4_20230414</th><th scope=col>Ref8537_S8_20230414</th><th scope=col>Ref8537_S11_20230414</th><th scope=col>Ref8537_S18_20230414</th><th scope=col>Ref8537_S21_20230414</th><th scope=col>Ref8537_S26_20230414</th><th scope=col>⋯</th><th scope=col>CVT09_s55_X012</th><th scope=col>CVT09_s59_X013</th><th scope=col>CVT09_s61_X014</th><th scope=col>CVT09_s67_X015</th><th scope=col>CVT09_s73_X016</th><th scope=col>CVT09_s77_X017</th><th scope=col>CVT09_s84_X018</th><th scope=col>CVT09_s90_X019</th><th scope=col>CVT09_s93_X020</th><th scope=col>CVT09_s99_X021</th></tr>\n",
       "\t<tr><th></th><th scope=col>&lt;dbl&gt;</th><th scope=col>&lt;dbl&gt;</th><th scope=col>&lt;dbl&gt;</th><th scope=col>&lt;dbl&gt;</th><th scope=col>&lt;dbl&gt;</th><th scope=col>&lt;dbl&gt;</th><th scope=col>&lt;dbl&gt;</th><th scope=col>&lt;dbl&gt;</th><th scope=col>&lt;dbl&gt;</th><th scope=col>&lt;dbl&gt;</th><th scope=col>⋯</th><th scope=col>&lt;dbl&gt;</th><th scope=col>&lt;dbl&gt;</th><th scope=col>&lt;dbl&gt;</th><th scope=col>&lt;dbl&gt;</th><th scope=col>&lt;dbl&gt;</th><th scope=col>&lt;dbl&gt;</th><th scope=col>&lt;dbl&gt;</th><th scope=col>&lt;dbl&gt;</th><th scope=col>&lt;dbl&gt;</th><th scope=col>&lt;dbl&gt;</th></tr>\n",
       "</thead>\n",
       "<tbody>\n",
       "\t<tr><th scope=row>A5A614</th><td>18.07099</td><td>17.76463</td><td>17.64577</td><td>16.94823</td><td>18.20704</td><td>18.27645</td><td>17.90497</td><td>17.33893</td><td>18.00480</td><td>17.77114</td><td>⋯</td><td>17.45591</td><td>16.93699</td><td>17.52851</td><td>17.44239</td><td>17.37857</td><td>17.00767</td><td>17.20953</td><td>17.32060</td><td>17.87804</td><td>17.01073</td></tr>\n",
       "\t<tr><th scope=row>O32583</th><td>18.78144</td><td>19.05467</td><td>18.63023</td><td>17.69929</td><td>18.90511</td><td>18.45085</td><td>19.05067</td><td>19.22559</td><td>17.73292</td><td>18.85344</td><td>⋯</td><td>      NA</td><td>      NA</td><td>      NA</td><td>18.01100</td><td>18.83517</td><td>      NA</td><td>      NA</td><td>      NA</td><td>      NA</td><td>      NA</td></tr>\n",
       "\t<tr><th scope=row>P00350</th><td>25.19155</td><td>25.22207</td><td>25.39769</td><td>25.43547</td><td>25.39256</td><td>25.31223</td><td>25.22300</td><td>25.24609</td><td>25.09993</td><td>25.26596</td><td>⋯</td><td>25.47001</td><td>25.52584</td><td>25.46983</td><td>25.48417</td><td>25.49854</td><td>25.49312</td><td>25.44433</td><td>25.47370</td><td>25.44254</td><td>25.46852</td></tr>\n",
       "\t<tr><th scope=row>P00363</th><td>23.46546</td><td>23.54727</td><td>23.54287</td><td>23.39659</td><td>23.45058</td><td>23.39754</td><td>22.79700</td><td>23.25775</td><td>23.56995</td><td>23.25670</td><td>⋯</td><td>23.17544</td><td>23.05606</td><td>22.88735</td><td>23.10673</td><td>23.25947</td><td>23.07996</td><td>23.07850</td><td>23.16906</td><td>23.22231</td><td>23.04852</td></tr>\n",
       "\t<tr><th scope=row>P00370</th><td>24.55231</td><td>24.47656</td><td>25.15931</td><td>25.00830</td><td>24.45746</td><td>24.41053</td><td>24.29427</td><td>24.37286</td><td>24.45943</td><td>24.16747</td><td>⋯</td><td>24.89058</td><td>24.88225</td><td>24.82133</td><td>24.74489</td><td>24.93798</td><td>24.91890</td><td>24.85230</td><td>24.89195</td><td>24.99446</td><td>24.73179</td></tr>\n",
       "\t<tr><th scope=row>P00393</th><td>22.70775</td><td>22.75656</td><td>22.63729</td><td>22.74035</td><td>22.48436</td><td>22.72246</td><td>22.80867</td><td>22.36757</td><td>21.78038</td><td>22.54088</td><td>⋯</td><td>22.64727</td><td>22.53190</td><td>22.70562</td><td>22.53526</td><td>22.55108</td><td>22.65813</td><td>22.65711</td><td>22.60783</td><td>22.59191</td><td>22.72622</td></tr>\n",
       "</tbody>\n",
       "</table>\n"
      ],
      "text/latex": [
       "A data.frame: 6 × 118\n",
       "\\begin{tabular}{r|lllllllllllllllllllll}\n",
       "  & Ref8537\\_QC1\\_20230414\\_1 & Ref8537\\_QC2\\_20230414\\_1 & Ref8537\\_QC3\\_20230414\\_1 & Ref8537\\_QC4\\_20230414\\_1 & Ref8537\\_S4\\_20230414 & Ref8537\\_S8\\_20230414 & Ref8537\\_S11\\_20230414 & Ref8537\\_S18\\_20230414 & Ref8537\\_S21\\_20230414 & Ref8537\\_S26\\_20230414 & ⋯ & CVT09\\_s55\\_X012 & CVT09\\_s59\\_X013 & CVT09\\_s61\\_X014 & CVT09\\_s67\\_X015 & CVT09\\_s73\\_X016 & CVT09\\_s77\\_X017 & CVT09\\_s84\\_X018 & CVT09\\_s90\\_X019 & CVT09\\_s93\\_X020 & CVT09\\_s99\\_X021\\\\\n",
       "  & <dbl> & <dbl> & <dbl> & <dbl> & <dbl> & <dbl> & <dbl> & <dbl> & <dbl> & <dbl> & ⋯ & <dbl> & <dbl> & <dbl> & <dbl> & <dbl> & <dbl> & <dbl> & <dbl> & <dbl> & <dbl>\\\\\n",
       "\\hline\n",
       "\tA5A614 & 18.07099 & 17.76463 & 17.64577 & 16.94823 & 18.20704 & 18.27645 & 17.90497 & 17.33893 & 18.00480 & 17.77114 & ⋯ & 17.45591 & 16.93699 & 17.52851 & 17.44239 & 17.37857 & 17.00767 & 17.20953 & 17.32060 & 17.87804 & 17.01073\\\\\n",
       "\tO32583 & 18.78144 & 19.05467 & 18.63023 & 17.69929 & 18.90511 & 18.45085 & 19.05067 & 19.22559 & 17.73292 & 18.85344 & ⋯ &       NA &       NA &       NA & 18.01100 & 18.83517 &       NA &       NA &       NA &       NA &       NA\\\\\n",
       "\tP00350 & 25.19155 & 25.22207 & 25.39769 & 25.43547 & 25.39256 & 25.31223 & 25.22300 & 25.24609 & 25.09993 & 25.26596 & ⋯ & 25.47001 & 25.52584 & 25.46983 & 25.48417 & 25.49854 & 25.49312 & 25.44433 & 25.47370 & 25.44254 & 25.46852\\\\\n",
       "\tP00363 & 23.46546 & 23.54727 & 23.54287 & 23.39659 & 23.45058 & 23.39754 & 22.79700 & 23.25775 & 23.56995 & 23.25670 & ⋯ & 23.17544 & 23.05606 & 22.88735 & 23.10673 & 23.25947 & 23.07996 & 23.07850 & 23.16906 & 23.22231 & 23.04852\\\\\n",
       "\tP00370 & 24.55231 & 24.47656 & 25.15931 & 25.00830 & 24.45746 & 24.41053 & 24.29427 & 24.37286 & 24.45943 & 24.16747 & ⋯ & 24.89058 & 24.88225 & 24.82133 & 24.74489 & 24.93798 & 24.91890 & 24.85230 & 24.89195 & 24.99446 & 24.73179\\\\\n",
       "\tP00393 & 22.70775 & 22.75656 & 22.63729 & 22.74035 & 22.48436 & 22.72246 & 22.80867 & 22.36757 & 21.78038 & 22.54088 & ⋯ & 22.64727 & 22.53190 & 22.70562 & 22.53526 & 22.55108 & 22.65813 & 22.65711 & 22.60783 & 22.59191 & 22.72622\\\\\n",
       "\\end{tabular}\n"
      ],
      "text/markdown": [
       "\n",
       "A data.frame: 6 × 118\n",
       "\n",
       "| <!--/--> | Ref8537_QC1_20230414_1 &lt;dbl&gt; | Ref8537_QC2_20230414_1 &lt;dbl&gt; | Ref8537_QC3_20230414_1 &lt;dbl&gt; | Ref8537_QC4_20230414_1 &lt;dbl&gt; | Ref8537_S4_20230414 &lt;dbl&gt; | Ref8537_S8_20230414 &lt;dbl&gt; | Ref8537_S11_20230414 &lt;dbl&gt; | Ref8537_S18_20230414 &lt;dbl&gt; | Ref8537_S21_20230414 &lt;dbl&gt; | Ref8537_S26_20230414 &lt;dbl&gt; | ⋯ ⋯ | CVT09_s55_X012 &lt;dbl&gt; | CVT09_s59_X013 &lt;dbl&gt; | CVT09_s61_X014 &lt;dbl&gt; | CVT09_s67_X015 &lt;dbl&gt; | CVT09_s73_X016 &lt;dbl&gt; | CVT09_s77_X017 &lt;dbl&gt; | CVT09_s84_X018 &lt;dbl&gt; | CVT09_s90_X019 &lt;dbl&gt; | CVT09_s93_X020 &lt;dbl&gt; | CVT09_s99_X021 &lt;dbl&gt; |\n",
       "|---|---|---|---|---|---|---|---|---|---|---|---|---|---|---|---|---|---|---|---|---|---|\n",
       "| A5A614 | 18.07099 | 17.76463 | 17.64577 | 16.94823 | 18.20704 | 18.27645 | 17.90497 | 17.33893 | 18.00480 | 17.77114 | ⋯ | 17.45591 | 16.93699 | 17.52851 | 17.44239 | 17.37857 | 17.00767 | 17.20953 | 17.32060 | 17.87804 | 17.01073 |\n",
       "| O32583 | 18.78144 | 19.05467 | 18.63023 | 17.69929 | 18.90511 | 18.45085 | 19.05067 | 19.22559 | 17.73292 | 18.85344 | ⋯ |       NA |       NA |       NA | 18.01100 | 18.83517 |       NA |       NA |       NA |       NA |       NA |\n",
       "| P00350 | 25.19155 | 25.22207 | 25.39769 | 25.43547 | 25.39256 | 25.31223 | 25.22300 | 25.24609 | 25.09993 | 25.26596 | ⋯ | 25.47001 | 25.52584 | 25.46983 | 25.48417 | 25.49854 | 25.49312 | 25.44433 | 25.47370 | 25.44254 | 25.46852 |\n",
       "| P00363 | 23.46546 | 23.54727 | 23.54287 | 23.39659 | 23.45058 | 23.39754 | 22.79700 | 23.25775 | 23.56995 | 23.25670 | ⋯ | 23.17544 | 23.05606 | 22.88735 | 23.10673 | 23.25947 | 23.07996 | 23.07850 | 23.16906 | 23.22231 | 23.04852 |\n",
       "| P00370 | 24.55231 | 24.47656 | 25.15931 | 25.00830 | 24.45746 | 24.41053 | 24.29427 | 24.37286 | 24.45943 | 24.16747 | ⋯ | 24.89058 | 24.88225 | 24.82133 | 24.74489 | 24.93798 | 24.91890 | 24.85230 | 24.89195 | 24.99446 | 24.73179 |\n",
       "| P00393 | 22.70775 | 22.75656 | 22.63729 | 22.74035 | 22.48436 | 22.72246 | 22.80867 | 22.36757 | 21.78038 | 22.54088 | ⋯ | 22.64727 | 22.53190 | 22.70562 | 22.53526 | 22.55108 | 22.65813 | 22.65711 | 22.60783 | 22.59191 | 22.72622 |\n",
       "\n"
      ],
      "text/plain": [
       "       Ref8537_QC1_20230414_1 Ref8537_QC2_20230414_1 Ref8537_QC3_20230414_1\n",
       "A5A614 18.07099               17.76463               17.64577              \n",
       "O32583 18.78144               19.05467               18.63023              \n",
       "P00350 25.19155               25.22207               25.39769              \n",
       "P00363 23.46546               23.54727               23.54287              \n",
       "P00370 24.55231               24.47656               25.15931              \n",
       "P00393 22.70775               22.75656               22.63729              \n",
       "       Ref8537_QC4_20230414_1 Ref8537_S4_20230414 Ref8537_S8_20230414\n",
       "A5A614 16.94823               18.20704            18.27645           \n",
       "O32583 17.69929               18.90511            18.45085           \n",
       "P00350 25.43547               25.39256            25.31223           \n",
       "P00363 23.39659               23.45058            23.39754           \n",
       "P00370 25.00830               24.45746            24.41053           \n",
       "P00393 22.74035               22.48436            22.72246           \n",
       "       Ref8537_S11_20230414 Ref8537_S18_20230414 Ref8537_S21_20230414\n",
       "A5A614 17.90497             17.33893             18.00480            \n",
       "O32583 19.05067             19.22559             17.73292            \n",
       "P00350 25.22300             25.24609             25.09993            \n",
       "P00363 22.79700             23.25775             23.56995            \n",
       "P00370 24.29427             24.37286             24.45943            \n",
       "P00393 22.80867             22.36757             21.78038            \n",
       "       Ref8537_S26_20230414 ⋯ CVT09_s55_X012 CVT09_s59_X013 CVT09_s61_X014\n",
       "A5A614 17.77114             ⋯ 17.45591       16.93699       17.52851      \n",
       "O32583 18.85344             ⋯       NA             NA             NA      \n",
       "P00350 25.26596             ⋯ 25.47001       25.52584       25.46983      \n",
       "P00363 23.25670             ⋯ 23.17544       23.05606       22.88735      \n",
       "P00370 24.16747             ⋯ 24.89058       24.88225       24.82133      \n",
       "P00393 22.54088             ⋯ 22.64727       22.53190       22.70562      \n",
       "       CVT09_s67_X015 CVT09_s73_X016 CVT09_s77_X017 CVT09_s84_X018\n",
       "A5A614 17.44239       17.37857       17.00767       17.20953      \n",
       "O32583 18.01100       18.83517             NA             NA      \n",
       "P00350 25.48417       25.49854       25.49312       25.44433      \n",
       "P00363 23.10673       23.25947       23.07996       23.07850      \n",
       "P00370 24.74489       24.93798       24.91890       24.85230      \n",
       "P00393 22.53526       22.55108       22.65813       22.65711      \n",
       "       CVT09_s90_X019 CVT09_s93_X020 CVT09_s99_X021\n",
       "A5A614 17.32060       17.87804       17.01073      \n",
       "O32583       NA             NA             NA      \n",
       "P00350 25.47370       25.44254       25.46852      \n",
       "P00363 23.16906       23.22231       23.04852      \n",
       "P00370 24.89195       24.99446       24.73179      \n",
       "P00393 22.60783       22.59191       22.72622      "
      ]
     },
     "metadata": {},
     "output_type": "display_data"
    }
   ],
   "source": [
    "cohorts <- c('lab_A', 'lab_B', 'lab_C', 'lab_D', 'lab_E')\n",
    "\n",
    "cured_federated <- NULL\n",
    "\n",
    "for(c in cohorts) {\n",
    "  file_path <- paste0(\"results/\", MODE, \"/\", c, \"_intensities_corrected.tsv\")\n",
    "  temp_df <- read.csv(file_path, sep='\\t', row.names = 1,  check.names = FALSE)\n",
    "\n",
    "  # Combine the dataframes\n",
    "  if (is.null(cured_federated)) {\n",
    "    cured_federated <- temp_df\n",
    "  } else {\n",
    "    cured_federated <- cbind(cured_federated, temp_df)\n",
    "  }\n",
    "}\n",
    "\n",
    "cured_federated <- cured_federated[rownames(cured_central), batch_info_ref$file]\n",
    "dim(cured_federated)\n",
    "head(cured_federated)"
   ]
  },
  {
   "cell_type": "code",
   "execution_count": 137,
   "metadata": {
    "vscode": {
     "languageId": "r"
    }
   },
   "outputs": [
    {
     "name": "stderr",
     "output_type": "stream",
     "text": [
      "Warning message:\n",
      "“\u001b[1m\u001b[22mRemoved 2264 rows containing non-finite values (`stat_boxplot()`).”\n",
      "Warning message:\n",
      "“\u001b[1m\u001b[22mRemoved 2264 rows containing non-finite values (`stat_summary()`).”\n",
      "\u001b[1m\u001b[22mSaving 6.67 x 6.67 in image\n"
     ]
    }
   ],
   "source": [
    "plot_name_prefix <- paste0(\"plots/\", MODE, \"/FED_after_correction\")\n",
    "subname <- \"A_B_conditions\"\n",
    "number <- \"03\"\n",
    "plot_three_plots(cured_federated, batch_info_ref, plot_name_prefix, subname, number)\n"
   ]
  },
  {
   "cell_type": "markdown",
   "metadata": {},
   "source": [
    "## comparison "
   ]
  },
  {
   "cell_type": "code",
   "execution_count": 138,
   "metadata": {
    "vscode": {
     "languageId": "r"
    }
   },
   "outputs": [
    {
     "data": {
      "text/html": [
       "<style>\n",
       ".list-inline {list-style: none; margin:0; padding: 0}\n",
       ".list-inline>li {display: inline-block}\n",
       ".list-inline>li:not(:last-child)::after {content: \"\\00b7\"; padding: 0 .5ex}\n",
       "</style>\n",
       "<ol class=list-inline><li>2301</li><li>118</li></ol>\n"
      ],
      "text/latex": [
       "\\begin{enumerate*}\n",
       "\\item 2301\n",
       "\\item 118\n",
       "\\end{enumerate*}\n"
      ],
      "text/markdown": [
       "1. 2301\n",
       "2. 118\n",
       "\n",
       "\n"
      ],
      "text/plain": [
       "[1] 2301  118"
      ]
     },
     "metadata": {},
     "output_type": "display_data"
    },
    {
     "data": {
      "text/html": [
       "<style>\n",
       ".list-inline {list-style: none; margin:0; padding: 0}\n",
       ".list-inline>li {display: inline-block}\n",
       ".list-inline>li:not(:last-child)::after {content: \"\\00b7\"; padding: 0 .5ex}\n",
       "</style>\n",
       "<ol class=list-inline><li>2301</li><li>118</li></ol>\n"
      ],
      "text/latex": [
       "\\begin{enumerate*}\n",
       "\\item 2301\n",
       "\\item 118\n",
       "\\end{enumerate*}\n"
      ],
      "text/markdown": [
       "1. 2301\n",
       "2. 118\n",
       "\n",
       "\n"
      ],
      "text/plain": [
       "[1] 2301  118"
      ]
     },
     "metadata": {},
     "output_type": "display_data"
    }
   ],
   "source": [
    "dim(cured_central)\n",
    "dim(cured_federated)"
   ]
  },
  {
   "cell_type": "code",
   "execution_count": 139,
   "metadata": {
    "vscode": {
     "languageId": "r"
    }
   },
   "outputs": [
    {
     "data": {
      "text/html": [
       "TRUE"
      ],
      "text/latex": [
       "TRUE"
      ],
      "text/markdown": [
       "TRUE"
      ],
      "text/plain": [
       "[1] TRUE"
      ]
     },
     "metadata": {},
     "output_type": "display_data"
    }
   ],
   "source": [
    "# identical?\n",
    "identical(round(cured_central, 6), round(cured_federated, 6))"
   ]
  },
  {
   "cell_type": "code",
   "execution_count": 140,
   "metadata": {
    "vscode": {
     "languageId": "r"
    }
   },
   "outputs": [
    {
     "data": {
      "text/html": [
       "TRUE"
      ],
      "text/latex": [
       "TRUE"
      ],
      "text/markdown": [
       "TRUE"
      ],
      "text/plain": [
       "[1] TRUE"
      ]
     },
     "metadata": {},
     "output_type": "display_data"
    }
   ],
   "source": [
    "# Check Row-by-Row and Column-by-Column Equality\n",
    "all.equal(cured_central, cured_federated)\n"
   ]
  },
  {
   "cell_type": "code",
   "execution_count": 141,
   "metadata": {
    "vscode": {
     "languageId": "r"
    }
   },
   "outputs": [
    {
     "data": {
      "text/html": [
       "2.50825908292344e-14"
      ],
      "text/latex": [
       "2.50825908292344e-14"
      ],
      "text/markdown": [
       "2.50825908292344e-14"
      ],
      "text/plain": [
       "[1] 2.508259e-14"
      ]
     },
     "metadata": {},
     "output_type": "display_data"
    }
   ],
   "source": [
    "# Calculate the mean of the absolute differences, removing NA's\n",
    "difference <- cured_central - cured_federated\n",
    "abs_difference <- abs(difference)\n",
    "mean_abs_difference <- mean(apply(abs_difference, c(1, 2), mean, na.rm = TRUE), na.rm = TRUE)\n",
    "mean_abs_difference"
   ]
  },
  {
   "cell_type": "code",
   "execution_count": null,
   "metadata": {
    "vscode": {
     "languageId": "r"
    }
   },
   "outputs": [],
   "source": []
  },
  {
   "cell_type": "code",
   "execution_count": null,
   "metadata": {
    "vscode": {
     "languageId": "r"
    }
   },
   "outputs": [],
   "source": []
  },
  {
   "cell_type": "code",
   "execution_count": null,
   "metadata": {
    "vscode": {
     "languageId": "r"
    }
   },
   "outputs": [],
   "source": []
  },
  {
   "cell_type": "code",
   "execution_count": null,
   "metadata": {
    "vscode": {
     "languageId": "r"
    }
   },
   "outputs": [],
   "source": []
  },
  {
   "cell_type": "code",
   "execution_count": null,
   "metadata": {
    "vscode": {
     "languageId": "r"
    }
   },
   "outputs": [],
   "source": []
  }
 ],
 "metadata": {
  "kernelspec": {
   "display_name": "R",
   "language": "R",
   "name": "ir"
  },
  "language_info": {
   "codemirror_mode": "r",
   "file_extension": ".r",
   "mimetype": "text/x-r-source",
   "name": "R",
   "pygments_lexer": "r",
   "version": "4.2.0"
  },
  "orig_nbformat": 4
 },
 "nbformat": 4,
 "nbformat_minor": 2
}
