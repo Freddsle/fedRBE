{
 "cells": [
  {
   "cell_type": "code",
   "execution_count": 6,
   "metadata": {
    "vscode": {
     "languageId": "r"
    }
   },
   "outputs": [],
   "source": [
    "library(tidyverse)"
   ]
  },
  {
   "cell_type": "code",
   "execution_count": 7,
   "metadata": {
    "vscode": {
     "languageId": "r"
    }
   },
   "outputs": [],
   "source": [
    "MODE = 'Balanced'\n",
    "# MODE = 'Imalanced'\n",
    "MODE_TWO = paste0(MODE, '_nocov')\n",
    "# MODE_TWO = MODE"
   ]
  },
  {
   "cell_type": "markdown",
   "metadata": {},
   "source": [
    "# plots"
   ]
  },
  {
   "cell_type": "code",
   "execution_count": 8,
   "metadata": {
    "vscode": {
     "languageId": "r"
    }
   },
   "outputs": [],
   "source": [
    "pca_plot <- function(df, batch_info, title, path) {\n",
    "  pca <- prcomp(t(na.omit(df)))\n",
    "  # Plot PCA\n",
    "  pca_df <-\n",
    "    pca$x %>%\n",
    "    as.data.frame() %>%\n",
    "    rownames_to_column(\"file\") %>% \n",
    "    left_join(batch_info,  by = \"file\") \n",
    "  # add % of explained variance\n",
    "  var_expl <- pca$sdev^2 / sum(pca$sdev^2)\n",
    "  names(var_expl) <- paste0(\"PC\", 1:length(var_expl))\n",
    "  # Add the label for the specific point\n",
    "  pca_plot <- pca_df %>%\n",
    "    ggplot(aes(PC1, PC2)) +\n",
    "    geom_point(aes(col=condition, shape=lab), size=2) +\n",
    "    theme_classic() +\n",
    "    labs(title = title,\n",
    "         x = glue::glue(\"PC1 [{round(var_expl['PC1']*100, 2)}%]\"),\n",
    "         y = glue::glue(\"PC2 [{round(var_expl['PC2']*100, 2)}%]\"))\n",
    "\n",
    "  ggsave(path, pca_plot)\n",
    "}"
   ]
  },
  {
   "cell_type": "code",
   "execution_count": 9,
   "metadata": {
    "vscode": {
     "languageId": "r"
    }
   },
   "outputs": [],
   "source": [
    "# boxplot\n",
    "boxplot_pg <- function(protein_matrix, title, path) {\n",
    "  # Reshape data into long format\n",
    "  long_data <- tidyr::gather(protein_matrix, \n",
    "                             key = \"file\", value = \"Intensity\")\n",
    "  # Log tranformed scale\n",
    "  boxplot <- ggplot(long_data, aes(x = file, y = Intensity)) + \n",
    "    geom_boxplot() +\n",
    "    stat_summary(fun = mean, geom = \"point\", shape = 4, size = 1.5, color = \"red\") +\n",
    "    theme_bw() +\n",
    "    theme(axis.text.x = element_text(angle = 90, vjust = 0.5, hjust = 1, size = 5)) +\n",
    "    labs(title = title) \n",
    "\n",
    "  ggsave(path, boxplot, width = 6, height = 6)\n",
    "}"
   ]
  },
  {
   "cell_type": "code",
   "execution_count": 10,
   "metadata": {
    "vscode": {
     "languageId": "r"
    }
   },
   "outputs": [],
   "source": [
    "heatmap_plot <- function(pg_matrix, batch_info, name, plot_name_prefix){\n",
    "    cor_matrix <- cor(na.omit(pg_matrix), use = \"pairwise.complete.obs\")\n",
    "    pheatmap::pheatmap(cor_matrix, \n",
    "                        annotation_col = select(batch_info, c(condition, lab)),\n",
    "                        treeheight_row = 0, treeheight_col = 0, \n",
    "                        fontsize_row = 5, fontsize_col = 5,\n",
    "                        width = 7, height = 7,\n",
    "                        main = paste0(name, ' heatmap'),\n",
    "                        filename = plot_name_prefix)\n",
    "}\n"
   ]
  },
  {
   "cell_type": "code",
   "execution_count": 11,
   "metadata": {
    "vscode": {
     "languageId": "r"
    }
   },
   "outputs": [],
   "source": [
    "plot_three_plots <- function(pg_matrix, batch_info, plot_name_prefix, subname, number){\n",
    "\n",
    "        batch_info <- batch_info %>%\n",
    "                mutate(file = case_when(\n",
    "                lab %in% c('lab_A', 'lab_E') ~ str_split(file, \"_\") %>% \n",
    "                map_chr(~ if (length(.x) == 4) paste(.x[1], .x[2], .x[4], sep = \"_\") else paste(.x[1], .x[2], sep = \"_\")),\n",
    "                \n",
    "                lab == 'lab_C' ~ str_split(file, \"_\") %>% \n",
    "                map_chr(~ paste(.x[5], .x[6], sep = \"_\")),\n",
    "                \n",
    "                lab == 'lab_D' ~ str_split(file, \"_\") %>% \n",
    "                map_chr(~ paste(.x[6], .x[8], sep = \"_\")),\n",
    "                \n",
    "                TRUE ~ file\n",
    "        ))\n",
    "\n",
    "        rownames(batch_info) <- batch_info$file\n",
    "        colnames(pg_matrix) <- batch_info$file\n",
    "\n",
    "\n",
    "        boxplot_pg(pg_matrix, \n",
    "                paste0(subname, ' boxplot'), \n",
    "                paste0(plot_name_prefix, \"_\", subname, \"_\", number, \"_boxplot.png\")\n",
    "        )\n",
    "\n",
    "        pca_plot(pg_matrix,\n",
    "                batch_info, \n",
    "                paste0(subname, ' pca'), \n",
    "                paste0(plot_name_prefix, \"_\", subname, \"_\", number, \"_pca.png\")\n",
    "        )\n",
    "\n",
    "        heatmap_plot(pg_matrix, \n",
    "                batch_info, \n",
    "                subname, \n",
    "                paste0(plot_name_prefix, \"_\", subname, \"_\", number, \"_heatmap.png\")\n",
    "        )\n",
    "\n",
    "}"
   ]
  },
  {
   "cell_type": "code",
   "execution_count": 12,
   "metadata": {
    "vscode": {
     "languageId": "r"
    }
   },
   "outputs": [
    {
     "data": {
      "text/html": [
       "<style>\n",
       ".list-inline {list-style: none; margin:0; padding: 0}\n",
       ".list-inline>li {display: inline-block}\n",
       ".list-inline>li:not(:last-child)::after {content: \"\\00b7\"; padding: 0 .5ex}\n",
       "</style>\n",
       "<ol class=list-inline><li>81</li><li>3</li></ol>\n"
      ],
      "text/latex": [
       "\\begin{enumerate*}\n",
       "\\item 81\n",
       "\\item 3\n",
       "\\end{enumerate*}\n"
      ],
      "text/markdown": [
       "1. 81\n",
       "2. 3\n",
       "\n",
       "\n"
      ],
      "text/plain": [
       "[1] 81  3"
      ]
     },
     "metadata": {},
     "output_type": "display_data"
    },
    {
     "data": {
      "text/html": [
       "<table class=\"dataframe\">\n",
       "<caption>A data.frame: 6 × 3</caption>\n",
       "<thead>\n",
       "\t<tr><th></th><th scope=col>file</th><th scope=col>lab</th><th scope=col>condition</th></tr>\n",
       "\t<tr><th></th><th scope=col>&lt;chr&gt;</th><th scope=col>&lt;fct&gt;</th><th scope=col>&lt;fct&gt;</th></tr>\n",
       "</thead>\n",
       "<tbody>\n",
       "\t<tr><th scope=row>Ref8537_QC1_20230414_1</th><td>Ref8537_QC1_20230414_1</td><td>lab_A</td><td>Pyr</td></tr>\n",
       "\t<tr><th scope=row>Ref8537_QC2_20230414_1</th><td>Ref8537_QC2_20230414_1</td><td>lab_A</td><td>Pyr</td></tr>\n",
       "\t<tr><th scope=row>Ref8537_QC3_20230414_1</th><td>Ref8537_QC3_20230414_1</td><td>lab_A</td><td>Glu</td></tr>\n",
       "\t<tr><th scope=row>Ref8537_QC4_20230414_1</th><td>Ref8537_QC4_20230414_1</td><td>lab_A</td><td>Glu</td></tr>\n",
       "\t<tr><th scope=row>Ref8537_S4_20230414</th><td>Ref8537_S4_20230414   </td><td>lab_A</td><td>Pyr</td></tr>\n",
       "\t<tr><th scope=row>Ref8537_S8_20230414</th><td>Ref8537_S8_20230414   </td><td>lab_A</td><td>Pyr</td></tr>\n",
       "</tbody>\n",
       "</table>\n"
      ],
      "text/latex": [
       "A data.frame: 6 × 3\n",
       "\\begin{tabular}{r|lll}\n",
       "  & file & lab & condition\\\\\n",
       "  & <chr> & <fct> & <fct>\\\\\n",
       "\\hline\n",
       "\tRef8537\\_QC1\\_20230414\\_1 & Ref8537\\_QC1\\_20230414\\_1 & lab\\_A & Pyr\\\\\n",
       "\tRef8537\\_QC2\\_20230414\\_1 & Ref8537\\_QC2\\_20230414\\_1 & lab\\_A & Pyr\\\\\n",
       "\tRef8537\\_QC3\\_20230414\\_1 & Ref8537\\_QC3\\_20230414\\_1 & lab\\_A & Glu\\\\\n",
       "\tRef8537\\_QC4\\_20230414\\_1 & Ref8537\\_QC4\\_20230414\\_1 & lab\\_A & Glu\\\\\n",
       "\tRef8537\\_S4\\_20230414 & Ref8537\\_S4\\_20230414    & lab\\_A & Pyr\\\\\n",
       "\tRef8537\\_S8\\_20230414 & Ref8537\\_S8\\_20230414    & lab\\_A & Pyr\\\\\n",
       "\\end{tabular}\n"
      ],
      "text/markdown": [
       "\n",
       "A data.frame: 6 × 3\n",
       "\n",
       "| <!--/--> | file &lt;chr&gt; | lab &lt;fct&gt; | condition &lt;fct&gt; |\n",
       "|---|---|---|---|\n",
       "| Ref8537_QC1_20230414_1 | Ref8537_QC1_20230414_1 | lab_A | Pyr |\n",
       "| Ref8537_QC2_20230414_1 | Ref8537_QC2_20230414_1 | lab_A | Pyr |\n",
       "| Ref8537_QC3_20230414_1 | Ref8537_QC3_20230414_1 | lab_A | Glu |\n",
       "| Ref8537_QC4_20230414_1 | Ref8537_QC4_20230414_1 | lab_A | Glu |\n",
       "| Ref8537_S4_20230414 | Ref8537_S4_20230414    | lab_A | Pyr |\n",
       "| Ref8537_S8_20230414 | Ref8537_S8_20230414    | lab_A | Pyr |\n",
       "\n"
      ],
      "text/plain": [
       "                       file                   lab   condition\n",
       "Ref8537_QC1_20230414_1 Ref8537_QC1_20230414_1 lab_A Pyr      \n",
       "Ref8537_QC2_20230414_1 Ref8537_QC2_20230414_1 lab_A Pyr      \n",
       "Ref8537_QC3_20230414_1 Ref8537_QC3_20230414_1 lab_A Glu      \n",
       "Ref8537_QC4_20230414_1 Ref8537_QC4_20230414_1 lab_A Glu      \n",
       "Ref8537_S4_20230414    Ref8537_S4_20230414    lab_A Pyr      \n",
       "Ref8537_S8_20230414    Ref8537_S8_20230414    lab_A Pyr      "
      ]
     },
     "metadata": {},
     "output_type": "display_data"
    }
   ],
   "source": [
    "batch_info_ref <- read.csv(paste0(\"/home/yuliya/repos/other/removeBatch/test_data/raw_files_first_\", MODE, \"/bath_info_all.tsv\"), check.names = FALSE, sep=\"\\t\") %>%\n",
    "  column_to_rownames('rowname') %>%\n",
    "  mutate(lab = factor(lab), condition = factor(condition))\n",
    "\n",
    "dim(batch_info_ref)\n",
    "head(batch_info_ref)"
   ]
  },
  {
   "cell_type": "markdown",
   "metadata": {},
   "source": [
    "# Central analysis"
   ]
  },
  {
   "cell_type": "code",
   "execution_count": 13,
   "metadata": {
    "vscode": {
     "languageId": "r"
    }
   },
   "outputs": [
    {
     "data": {
      "text/html": [
       "<style>\n",
       ".list-inline {list-style: none; margin:0; padding: 0}\n",
       ".list-inline>li {display: inline-block}\n",
       ".list-inline>li:not(:last-child)::after {content: \"\\00b7\"; padding: 0 .5ex}\n",
       "</style>\n",
       "<ol class=list-inline><li>2301</li><li>81</li></ol>\n"
      ],
      "text/latex": [
       "\\begin{enumerate*}\n",
       "\\item 2301\n",
       "\\item 81\n",
       "\\end{enumerate*}\n"
      ],
      "text/markdown": [
       "1. 2301\n",
       "2. 81\n",
       "\n",
       "\n"
      ],
      "text/plain": [
       "[1] 2301   81"
      ]
     },
     "metadata": {},
     "output_type": "display_data"
    }
   ],
   "source": [
    "# PG matrix\n",
    "labs_list = c('lab_A', 'lab_B', 'lab_C', 'lab_D' , 'lab_E')  \n",
    "pg_matrix <- NULL\n",
    "\n",
    "for (name in labs_list) {\n",
    "  file_name_prefix <- paste0('/home/yuliya/repos/other/removeBatch/test_data/raw_files_first_', MODE, '/', name)\n",
    "\n",
    "  if(is.null(pg_matrix)){\n",
    "    pg_matrix <- read.csv(paste0(file_name_prefix, '_protein_groups_matrix.tsv'), check.names = FALSE, sep=\"\\t\") \n",
    "  } else {\n",
    "    pg_matrix <- inner_join(pg_matrix, \n",
    "                       read.csv(paste0(file_name_prefix, '_protein_groups_matrix.tsv'), check.names = FALSE, sep=\"\\t\"),\n",
    "                       by = \"rowname\")\n",
    "  }\n",
    "}\n",
    "\n",
    "pg_matrix <- pg_matrix %>% column_to_rownames('rowname')\n",
    "pg_matrix <- log2(pg_matrix + 1)\n",
    "\n",
    "# temp_df <- read.csv( paste0(\"results/\", MODE, '/lab_A', \"_intensities_corrected.tsv\"), sep='\\t', row.names = 1,  check.names = FALSE)\n",
    "# pg_matrix <- pg_matrix[rownames(temp_df),  batch_info_ref$file]\n",
    "pg_matrix <- pg_matrix[,  batch_info_ref$file]\n",
    "\n",
    "dim(pg_matrix)"
   ]
  },
  {
   "cell_type": "code",
   "execution_count": 14,
   "metadata": {
    "vscode": {
     "languageId": "r"
    }
   },
   "outputs": [
    {
     "name": "stderr",
     "output_type": "stream",
     "text": [
      "Warning message:\n",
      "“\u001b[1m\u001b[22mRemoved 1472 rows containing non-finite values (`stat_boxplot()`).”\n",
      "Warning message:\n",
      "“\u001b[1m\u001b[22mRemoved 1472 rows containing non-finite values (`stat_summary()`).”\n",
      "\u001b[1m\u001b[22mSaving 6.67 x 6.67 in image\n"
     ]
    }
   ],
   "source": [
    "plot_name_prefix <- paste0(\"plots/\", MODE_TWO, \"/BEFORE_correction\")\n",
    "subname <- \"A_B_conditions\"\n",
    "number <- \"02\"\n",
    "plot_three_plots(pg_matrix, batch_info_ref, plot_name_prefix, subname, number)\n"
   ]
  },
  {
   "cell_type": "code",
   "execution_count": 16,
   "metadata": {
    "vscode": {
     "languageId": "r"
    }
   },
   "outputs": [
    {
     "data": {
      "text/html": [
       "<style>\n",
       ".list-inline {list-style: none; margin:0; padding: 0}\n",
       ".list-inline>li {display: inline-block}\n",
       ".list-inline>li:not(:last-child)::after {content: \"\\00b7\"; padding: 0 .5ex}\n",
       "</style>\n",
       "<ol class=list-inline><li>2301</li><li>81</li></ol>\n"
      ],
      "text/latex": [
       "\\begin{enumerate*}\n",
       "\\item 2301\n",
       "\\item 81\n",
       "\\end{enumerate*}\n"
      ],
      "text/markdown": [
       "1. 2301\n",
       "2. 81\n",
       "\n",
       "\n"
      ],
      "text/plain": [
       "[1] 2301   81"
      ]
     },
     "metadata": {},
     "output_type": "display_data"
    }
   ],
   "source": [
    "library(limma)\n",
    "\n",
    "# design=model.matrix(~condition, data = batch_info_ref)\n",
    "# pg_matrix_cured <- removeBatchEffect(pg_matrix, batch=batch_info_ref$lab, design=design) %>% as.data.frame()\n",
    "pg_matrix_cured <- removeBatchEffect(pg_matrix, batch=batch_info_ref$lab) %>% as.data.frame()\n",
    "\n",
    "\n",
    "#write to file\n",
    "pg_matrix_cured %>% \n",
    "  rownames_to_column(\"rowname\") %>% \n",
    "  write.table(paste0('results/', MODE_TWO, '/central_cured.csv'),\n",
    "              sep = \"\\t\", quote = FALSE, row.names = FALSE)\n",
    "\n",
    "dim(pg_matrix_cured)"
   ]
  },
  {
   "cell_type": "markdown",
   "metadata": {},
   "source": [
    "# data\n",
    "## central"
   ]
  },
  {
   "cell_type": "code",
   "execution_count": 17,
   "metadata": {
    "vscode": {
     "languageId": "r"
    }
   },
   "outputs": [
    {
     "data": {
      "text/html": [
       "<style>\n",
       ".list-inline {list-style: none; margin:0; padding: 0}\n",
       ".list-inline>li {display: inline-block}\n",
       ".list-inline>li:not(:last-child)::after {content: \"\\00b7\"; padding: 0 .5ex}\n",
       "</style>\n",
       "<ol class=list-inline><li>2301</li><li>81</li></ol>\n"
      ],
      "text/latex": [
       "\\begin{enumerate*}\n",
       "\\item 2301\n",
       "\\item 81\n",
       "\\end{enumerate*}\n"
      ],
      "text/markdown": [
       "1. 2301\n",
       "2. 81\n",
       "\n",
       "\n"
      ],
      "text/plain": [
       "[1] 2301   81"
      ]
     },
     "metadata": {},
     "output_type": "display_data"
    },
    {
     "data": {
      "text/html": [
       "<table class=\"dataframe\">\n",
       "<caption>A data.frame: 6 × 81</caption>\n",
       "<thead>\n",
       "\t<tr><th></th><th scope=col>Ref8537_QC1_20230414_1</th><th scope=col>Ref8537_QC2_20230414_1</th><th scope=col>Ref8537_QC3_20230414_1</th><th scope=col>Ref8537_QC4_20230414_1</th><th scope=col>Ref8537_S4_20230414</th><th scope=col>Ref8537_S8_20230414</th><th scope=col>Ref8537_S11_20230414</th><th scope=col>Ref8537_S18_20230414</th><th scope=col>Ref8537_S21_20230414</th><th scope=col>Ref8537_S26_20230414</th><th scope=col>⋯</th><th scope=col>CVT09_s25_X006</th><th scope=col>CVT09_s28_X007</th><th scope=col>CVT09_s31_X008</th><th scope=col>CVT09_s36_X009</th><th scope=col>CVT09_s41_X010</th><th scope=col>CVT09_s59_X013</th><th scope=col>CVT09_s61_X014</th><th scope=col>CVT09_s73_X016</th><th scope=col>CVT09_s84_X018</th><th scope=col>CVT09_s93_X020</th></tr>\n",
       "\t<tr><th></th><th scope=col>&lt;dbl&gt;</th><th scope=col>&lt;dbl&gt;</th><th scope=col>&lt;dbl&gt;</th><th scope=col>&lt;dbl&gt;</th><th scope=col>&lt;dbl&gt;</th><th scope=col>&lt;dbl&gt;</th><th scope=col>&lt;dbl&gt;</th><th scope=col>&lt;dbl&gt;</th><th scope=col>&lt;dbl&gt;</th><th scope=col>&lt;dbl&gt;</th><th scope=col>⋯</th><th scope=col>&lt;dbl&gt;</th><th scope=col>&lt;dbl&gt;</th><th scope=col>&lt;dbl&gt;</th><th scope=col>&lt;dbl&gt;</th><th scope=col>&lt;dbl&gt;</th><th scope=col>&lt;dbl&gt;</th><th scope=col>&lt;dbl&gt;</th><th scope=col>&lt;dbl&gt;</th><th scope=col>&lt;dbl&gt;</th><th scope=col>&lt;dbl&gt;</th></tr>\n",
       "</thead>\n",
       "<tbody>\n",
       "\t<tr><th scope=row>P0A8D6</th><td>21.53906</td><td>21.47999</td><td>21.35298</td><td>21.42296</td><td>21.38708</td><td>21.42679</td><td>21.61248</td><td>21.31955</td><td>21.04806</td><td>21.35049</td><td>⋯</td><td>21.45216</td><td>21.49386</td><td>21.53507</td><td>21.24040</td><td>21.26634</td><td>21.18392</td><td>21.26768</td><td>21.16703</td><td>21.31542</td><td>21.13339</td></tr>\n",
       "\t<tr><th scope=row>P0AAX3</th><td>19.74532</td><td>19.75818</td><td>20.67724</td><td>20.27436</td><td>19.83848</td><td>19.39265</td><td>18.96252</td><td>19.56970</td><td>20.53163</td><td>19.93006</td><td>⋯</td><td>19.43260</td><td>19.88589</td><td>19.89370</td><td>19.80521</td><td>19.86551</td><td>21.17522</td><td>20.85025</td><td>20.65165</td><td>21.04656</td><td>20.52732</td></tr>\n",
       "\t<tr><th scope=row>P00959</th><td>23.35176</td><td>23.42021</td><td>23.61553</td><td>23.69256</td><td>23.34740</td><td>23.39790</td><td>23.28755</td><td>23.13318</td><td>22.92499</td><td>23.30205</td><td>⋯</td><td>23.22424</td><td>23.10805</td><td>23.09847</td><td>23.48500</td><td>23.42763</td><td>23.68962</td><td>23.67627</td><td>23.74420</td><td>23.71391</td><td>23.69579</td></tr>\n",
       "\t<tr><th scope=row>P0AEQ1</th><td>20.91692</td><td>20.80512</td><td>19.54067</td><td>19.61048</td><td>21.21183</td><td>21.07712</td><td>20.81611</td><td>20.91952</td><td>21.68973</td><td>21.30193</td><td>⋯</td><td>20.83636</td><td>20.88250</td><td>20.82481</td><td>20.68226</td><td>20.66431</td><td>19.78983</td><td>19.97801</td><td>19.77275</td><td>19.69974</td><td>19.62681</td></tr>\n",
       "\t<tr><th scope=row>P25738</th><td>23.16835</td><td>22.57489</td><td>22.53451</td><td>22.30098</td><td>24.12289</td><td>23.87931</td><td>23.90141</td><td>23.58926</td><td>23.35995</td><td>23.86318</td><td>⋯</td><td>23.67415</td><td>23.63801</td><td>23.77404</td><td>23.22189</td><td>23.18048</td><td>22.63059</td><td>23.16712</td><td>22.90152</td><td>22.61635</td><td>22.80023</td></tr>\n",
       "\t<tr><th scope=row>P64596</th><td>22.66786</td><td>22.42444</td><td>22.06219</td><td>22.16543</td><td>22.78653</td><td>22.74092</td><td>22.68579</td><td>22.63808</td><td>23.01979</td><td>22.63787</td><td>⋯</td><td>22.65854</td><td>22.53766</td><td>22.53421</td><td>22.77303</td><td>22.71680</td><td>22.45179</td><td>22.36571</td><td>22.43304</td><td>22.41174</td><td>22.48665</td></tr>\n",
       "</tbody>\n",
       "</table>\n"
      ],
      "text/latex": [
       "A data.frame: 6 × 81\n",
       "\\begin{tabular}{r|lllllllllllllllllllll}\n",
       "  & Ref8537\\_QC1\\_20230414\\_1 & Ref8537\\_QC2\\_20230414\\_1 & Ref8537\\_QC3\\_20230414\\_1 & Ref8537\\_QC4\\_20230414\\_1 & Ref8537\\_S4\\_20230414 & Ref8537\\_S8\\_20230414 & Ref8537\\_S11\\_20230414 & Ref8537\\_S18\\_20230414 & Ref8537\\_S21\\_20230414 & Ref8537\\_S26\\_20230414 & ⋯ & CVT09\\_s25\\_X006 & CVT09\\_s28\\_X007 & CVT09\\_s31\\_X008 & CVT09\\_s36\\_X009 & CVT09\\_s41\\_X010 & CVT09\\_s59\\_X013 & CVT09\\_s61\\_X014 & CVT09\\_s73\\_X016 & CVT09\\_s84\\_X018 & CVT09\\_s93\\_X020\\\\\n",
       "  & <dbl> & <dbl> & <dbl> & <dbl> & <dbl> & <dbl> & <dbl> & <dbl> & <dbl> & <dbl> & ⋯ & <dbl> & <dbl> & <dbl> & <dbl> & <dbl> & <dbl> & <dbl> & <dbl> & <dbl> & <dbl>\\\\\n",
       "\\hline\n",
       "\tP0A8D6 & 21.53906 & 21.47999 & 21.35298 & 21.42296 & 21.38708 & 21.42679 & 21.61248 & 21.31955 & 21.04806 & 21.35049 & ⋯ & 21.45216 & 21.49386 & 21.53507 & 21.24040 & 21.26634 & 21.18392 & 21.26768 & 21.16703 & 21.31542 & 21.13339\\\\\n",
       "\tP0AAX3 & 19.74532 & 19.75818 & 20.67724 & 20.27436 & 19.83848 & 19.39265 & 18.96252 & 19.56970 & 20.53163 & 19.93006 & ⋯ & 19.43260 & 19.88589 & 19.89370 & 19.80521 & 19.86551 & 21.17522 & 20.85025 & 20.65165 & 21.04656 & 20.52732\\\\\n",
       "\tP00959 & 23.35176 & 23.42021 & 23.61553 & 23.69256 & 23.34740 & 23.39790 & 23.28755 & 23.13318 & 22.92499 & 23.30205 & ⋯ & 23.22424 & 23.10805 & 23.09847 & 23.48500 & 23.42763 & 23.68962 & 23.67627 & 23.74420 & 23.71391 & 23.69579\\\\\n",
       "\tP0AEQ1 & 20.91692 & 20.80512 & 19.54067 & 19.61048 & 21.21183 & 21.07712 & 20.81611 & 20.91952 & 21.68973 & 21.30193 & ⋯ & 20.83636 & 20.88250 & 20.82481 & 20.68226 & 20.66431 & 19.78983 & 19.97801 & 19.77275 & 19.69974 & 19.62681\\\\\n",
       "\tP25738 & 23.16835 & 22.57489 & 22.53451 & 22.30098 & 24.12289 & 23.87931 & 23.90141 & 23.58926 & 23.35995 & 23.86318 & ⋯ & 23.67415 & 23.63801 & 23.77404 & 23.22189 & 23.18048 & 22.63059 & 23.16712 & 22.90152 & 22.61635 & 22.80023\\\\\n",
       "\tP64596 & 22.66786 & 22.42444 & 22.06219 & 22.16543 & 22.78653 & 22.74092 & 22.68579 & 22.63808 & 23.01979 & 22.63787 & ⋯ & 22.65854 & 22.53766 & 22.53421 & 22.77303 & 22.71680 & 22.45179 & 22.36571 & 22.43304 & 22.41174 & 22.48665\\\\\n",
       "\\end{tabular}\n"
      ],
      "text/markdown": [
       "\n",
       "A data.frame: 6 × 81\n",
       "\n",
       "| <!--/--> | Ref8537_QC1_20230414_1 &lt;dbl&gt; | Ref8537_QC2_20230414_1 &lt;dbl&gt; | Ref8537_QC3_20230414_1 &lt;dbl&gt; | Ref8537_QC4_20230414_1 &lt;dbl&gt; | Ref8537_S4_20230414 &lt;dbl&gt; | Ref8537_S8_20230414 &lt;dbl&gt; | Ref8537_S11_20230414 &lt;dbl&gt; | Ref8537_S18_20230414 &lt;dbl&gt; | Ref8537_S21_20230414 &lt;dbl&gt; | Ref8537_S26_20230414 &lt;dbl&gt; | ⋯ ⋯ | CVT09_s25_X006 &lt;dbl&gt; | CVT09_s28_X007 &lt;dbl&gt; | CVT09_s31_X008 &lt;dbl&gt; | CVT09_s36_X009 &lt;dbl&gt; | CVT09_s41_X010 &lt;dbl&gt; | CVT09_s59_X013 &lt;dbl&gt; | CVT09_s61_X014 &lt;dbl&gt; | CVT09_s73_X016 &lt;dbl&gt; | CVT09_s84_X018 &lt;dbl&gt; | CVT09_s93_X020 &lt;dbl&gt; |\n",
       "|---|---|---|---|---|---|---|---|---|---|---|---|---|---|---|---|---|---|---|---|---|---|\n",
       "| P0A8D6 | 21.53906 | 21.47999 | 21.35298 | 21.42296 | 21.38708 | 21.42679 | 21.61248 | 21.31955 | 21.04806 | 21.35049 | ⋯ | 21.45216 | 21.49386 | 21.53507 | 21.24040 | 21.26634 | 21.18392 | 21.26768 | 21.16703 | 21.31542 | 21.13339 |\n",
       "| P0AAX3 | 19.74532 | 19.75818 | 20.67724 | 20.27436 | 19.83848 | 19.39265 | 18.96252 | 19.56970 | 20.53163 | 19.93006 | ⋯ | 19.43260 | 19.88589 | 19.89370 | 19.80521 | 19.86551 | 21.17522 | 20.85025 | 20.65165 | 21.04656 | 20.52732 |\n",
       "| P00959 | 23.35176 | 23.42021 | 23.61553 | 23.69256 | 23.34740 | 23.39790 | 23.28755 | 23.13318 | 22.92499 | 23.30205 | ⋯ | 23.22424 | 23.10805 | 23.09847 | 23.48500 | 23.42763 | 23.68962 | 23.67627 | 23.74420 | 23.71391 | 23.69579 |\n",
       "| P0AEQ1 | 20.91692 | 20.80512 | 19.54067 | 19.61048 | 21.21183 | 21.07712 | 20.81611 | 20.91952 | 21.68973 | 21.30193 | ⋯ | 20.83636 | 20.88250 | 20.82481 | 20.68226 | 20.66431 | 19.78983 | 19.97801 | 19.77275 | 19.69974 | 19.62681 |\n",
       "| P25738 | 23.16835 | 22.57489 | 22.53451 | 22.30098 | 24.12289 | 23.87931 | 23.90141 | 23.58926 | 23.35995 | 23.86318 | ⋯ | 23.67415 | 23.63801 | 23.77404 | 23.22189 | 23.18048 | 22.63059 | 23.16712 | 22.90152 | 22.61635 | 22.80023 |\n",
       "| P64596 | 22.66786 | 22.42444 | 22.06219 | 22.16543 | 22.78653 | 22.74092 | 22.68579 | 22.63808 | 23.01979 | 22.63787 | ⋯ | 22.65854 | 22.53766 | 22.53421 | 22.77303 | 22.71680 | 22.45179 | 22.36571 | 22.43304 | 22.41174 | 22.48665 |\n",
       "\n"
      ],
      "text/plain": [
       "       Ref8537_QC1_20230414_1 Ref8537_QC2_20230414_1 Ref8537_QC3_20230414_1\n",
       "P0A8D6 21.53906               21.47999               21.35298              \n",
       "P0AAX3 19.74532               19.75818               20.67724              \n",
       "P00959 23.35176               23.42021               23.61553              \n",
       "P0AEQ1 20.91692               20.80512               19.54067              \n",
       "P25738 23.16835               22.57489               22.53451              \n",
       "P64596 22.66786               22.42444               22.06219              \n",
       "       Ref8537_QC4_20230414_1 Ref8537_S4_20230414 Ref8537_S8_20230414\n",
       "P0A8D6 21.42296               21.38708            21.42679           \n",
       "P0AAX3 20.27436               19.83848            19.39265           \n",
       "P00959 23.69256               23.34740            23.39790           \n",
       "P0AEQ1 19.61048               21.21183            21.07712           \n",
       "P25738 22.30098               24.12289            23.87931           \n",
       "P64596 22.16543               22.78653            22.74092           \n",
       "       Ref8537_S11_20230414 Ref8537_S18_20230414 Ref8537_S21_20230414\n",
       "P0A8D6 21.61248             21.31955             21.04806            \n",
       "P0AAX3 18.96252             19.56970             20.53163            \n",
       "P00959 23.28755             23.13318             22.92499            \n",
       "P0AEQ1 20.81611             20.91952             21.68973            \n",
       "P25738 23.90141             23.58926             23.35995            \n",
       "P64596 22.68579             22.63808             23.01979            \n",
       "       Ref8537_S26_20230414 ⋯ CVT09_s25_X006 CVT09_s28_X007 CVT09_s31_X008\n",
       "P0A8D6 21.35049             ⋯ 21.45216       21.49386       21.53507      \n",
       "P0AAX3 19.93006             ⋯ 19.43260       19.88589       19.89370      \n",
       "P00959 23.30205             ⋯ 23.22424       23.10805       23.09847      \n",
       "P0AEQ1 21.30193             ⋯ 20.83636       20.88250       20.82481      \n",
       "P25738 23.86318             ⋯ 23.67415       23.63801       23.77404      \n",
       "P64596 22.63787             ⋯ 22.65854       22.53766       22.53421      \n",
       "       CVT09_s36_X009 CVT09_s41_X010 CVT09_s59_X013 CVT09_s61_X014\n",
       "P0A8D6 21.24040       21.26634       21.18392       21.26768      \n",
       "P0AAX3 19.80521       19.86551       21.17522       20.85025      \n",
       "P00959 23.48500       23.42763       23.68962       23.67627      \n",
       "P0AEQ1 20.68226       20.66431       19.78983       19.97801      \n",
       "P25738 23.22189       23.18048       22.63059       23.16712      \n",
       "P64596 22.77303       22.71680       22.45179       22.36571      \n",
       "       CVT09_s73_X016 CVT09_s84_X018 CVT09_s93_X020\n",
       "P0A8D6 21.16703       21.31542       21.13339      \n",
       "P0AAX3 20.65165       21.04656       20.52732      \n",
       "P00959 23.74420       23.71391       23.69579      \n",
       "P0AEQ1 19.77275       19.69974       19.62681      \n",
       "P25738 22.90152       22.61635       22.80023      \n",
       "P64596 22.43304       22.41174       22.48665      "
      ]
     },
     "metadata": {},
     "output_type": "display_data"
    }
   ],
   "source": [
    "cured_central <- read.csv(paste0('results/', MODE_TWO, '/central_cured.csv'), sep='\\t', row.names = 1,  check.names = FALSE)\n",
    "cured_central <- cured_central[,  batch_info_ref$file]\n",
    "dim(cured_central)\n",
    "head(cured_central)"
   ]
  },
  {
   "cell_type": "code",
   "execution_count": 18,
   "metadata": {
    "vscode": {
     "languageId": "r"
    }
   },
   "outputs": [
    {
     "name": "stderr",
     "output_type": "stream",
     "text": [
      "Warning message:\n",
      "“\u001b[1m\u001b[22mRemoved 1472 rows containing non-finite values (`stat_boxplot()`).”\n",
      "Warning message:\n",
      "“\u001b[1m\u001b[22mRemoved 1472 rows containing non-finite values (`stat_summary()`).”\n",
      "\u001b[1m\u001b[22mSaving 6.67 x 6.67 in image\n"
     ]
    }
   ],
   "source": [
    "plot_name_prefix <- paste0(\"plots/\", MODE_TWO, \"/R_after_correction\")\n",
    "subname <- \"A_B_conditions\"\n",
    "number <- \"02\"\n",
    "plot_three_plots(cured_central, batch_info_ref, plot_name_prefix, subname, number)\n"
   ]
  },
  {
   "cell_type": "markdown",
   "metadata": {},
   "source": [
    "## federated"
   ]
  },
  {
   "cell_type": "code",
   "execution_count": 19,
   "metadata": {
    "vscode": {
     "languageId": "r"
    }
   },
   "outputs": [
    {
     "data": {
      "text/html": [
       "<style>\n",
       ".list-inline {list-style: none; margin:0; padding: 0}\n",
       ".list-inline>li {display: inline-block}\n",
       ".list-inline>li:not(:last-child)::after {content: \"\\00b7\"; padding: 0 .5ex}\n",
       "</style>\n",
       "<ol class=list-inline><li>2301</li><li>81</li></ol>\n"
      ],
      "text/latex": [
       "\\begin{enumerate*}\n",
       "\\item 2301\n",
       "\\item 81\n",
       "\\end{enumerate*}\n"
      ],
      "text/markdown": [
       "1. 2301\n",
       "2. 81\n",
       "\n",
       "\n"
      ],
      "text/plain": [
       "[1] 2301   81"
      ]
     },
     "metadata": {},
     "output_type": "display_data"
    },
    {
     "data": {
      "text/html": [
       "<table class=\"dataframe\">\n",
       "<caption>A data.frame: 6 × 81</caption>\n",
       "<thead>\n",
       "\t<tr><th></th><th scope=col>Ref8537_QC1_20230414_1</th><th scope=col>Ref8537_QC2_20230414_1</th><th scope=col>Ref8537_QC3_20230414_1</th><th scope=col>Ref8537_QC4_20230414_1</th><th scope=col>Ref8537_S4_20230414</th><th scope=col>Ref8537_S8_20230414</th><th scope=col>Ref8537_S11_20230414</th><th scope=col>Ref8537_S18_20230414</th><th scope=col>Ref8537_S21_20230414</th><th scope=col>Ref8537_S26_20230414</th><th scope=col>⋯</th><th scope=col>CVT09_s25_X006</th><th scope=col>CVT09_s28_X007</th><th scope=col>CVT09_s31_X008</th><th scope=col>CVT09_s36_X009</th><th scope=col>CVT09_s41_X010</th><th scope=col>CVT09_s59_X013</th><th scope=col>CVT09_s61_X014</th><th scope=col>CVT09_s73_X016</th><th scope=col>CVT09_s84_X018</th><th scope=col>CVT09_s93_X020</th></tr>\n",
       "\t<tr><th></th><th scope=col>&lt;dbl&gt;</th><th scope=col>&lt;dbl&gt;</th><th scope=col>&lt;dbl&gt;</th><th scope=col>&lt;dbl&gt;</th><th scope=col>&lt;dbl&gt;</th><th scope=col>&lt;dbl&gt;</th><th scope=col>&lt;dbl&gt;</th><th scope=col>&lt;dbl&gt;</th><th scope=col>&lt;dbl&gt;</th><th scope=col>&lt;dbl&gt;</th><th scope=col>⋯</th><th scope=col>&lt;dbl&gt;</th><th scope=col>&lt;dbl&gt;</th><th scope=col>&lt;dbl&gt;</th><th scope=col>&lt;dbl&gt;</th><th scope=col>&lt;dbl&gt;</th><th scope=col>&lt;dbl&gt;</th><th scope=col>&lt;dbl&gt;</th><th scope=col>&lt;dbl&gt;</th><th scope=col>&lt;dbl&gt;</th><th scope=col>&lt;dbl&gt;</th></tr>\n",
       "</thead>\n",
       "<tbody>\n",
       "\t<tr><th scope=row>P0A8D6</th><td>21.53906</td><td>21.47999</td><td>21.35298</td><td>21.42296</td><td>21.38708</td><td>21.42679</td><td>21.61248</td><td>21.31955</td><td>21.04806</td><td>21.35049</td><td>⋯</td><td>21.45216</td><td>21.49386</td><td>21.53507</td><td>21.24040</td><td>21.26634</td><td>21.18392</td><td>21.26768</td><td>21.16703</td><td>21.31542</td><td>21.13339</td></tr>\n",
       "\t<tr><th scope=row>P0AAX3</th><td>19.74532</td><td>19.75818</td><td>20.67724</td><td>20.27436</td><td>19.83848</td><td>19.39265</td><td>18.96252</td><td>19.56970</td><td>20.53163</td><td>19.93006</td><td>⋯</td><td>19.43260</td><td>19.88589</td><td>19.89370</td><td>19.80521</td><td>19.86551</td><td>21.17522</td><td>20.85025</td><td>20.65165</td><td>21.04656</td><td>20.52732</td></tr>\n",
       "\t<tr><th scope=row>P00959</th><td>23.35176</td><td>23.42021</td><td>23.61553</td><td>23.69256</td><td>23.34740</td><td>23.39790</td><td>23.28755</td><td>23.13318</td><td>22.92499</td><td>23.30205</td><td>⋯</td><td>23.22424</td><td>23.10805</td><td>23.09847</td><td>23.48500</td><td>23.42763</td><td>23.68962</td><td>23.67627</td><td>23.74420</td><td>23.71391</td><td>23.69579</td></tr>\n",
       "\t<tr><th scope=row>P0AEQ1</th><td>20.91692</td><td>20.80512</td><td>19.54067</td><td>19.61048</td><td>21.21183</td><td>21.07712</td><td>20.81611</td><td>20.91952</td><td>21.68973</td><td>21.30193</td><td>⋯</td><td>20.83636</td><td>20.88250</td><td>20.82481</td><td>20.68226</td><td>20.66431</td><td>19.78983</td><td>19.97801</td><td>19.77275</td><td>19.69974</td><td>19.62681</td></tr>\n",
       "\t<tr><th scope=row>P25738</th><td>23.16835</td><td>22.57489</td><td>22.53451</td><td>22.30098</td><td>24.12289</td><td>23.87931</td><td>23.90141</td><td>23.58926</td><td>23.35995</td><td>23.86318</td><td>⋯</td><td>23.67415</td><td>23.63801</td><td>23.77404</td><td>23.22189</td><td>23.18048</td><td>22.63059</td><td>23.16712</td><td>22.90152</td><td>22.61635</td><td>22.80023</td></tr>\n",
       "\t<tr><th scope=row>P64596</th><td>22.66786</td><td>22.42444</td><td>22.06219</td><td>22.16543</td><td>22.78653</td><td>22.74092</td><td>22.68579</td><td>22.63808</td><td>23.01979</td><td>22.63787</td><td>⋯</td><td>22.65854</td><td>22.53766</td><td>22.53421</td><td>22.77303</td><td>22.71680</td><td>22.45179</td><td>22.36571</td><td>22.43304</td><td>22.41174</td><td>22.48665</td></tr>\n",
       "</tbody>\n",
       "</table>\n"
      ],
      "text/latex": [
       "A data.frame: 6 × 81\n",
       "\\begin{tabular}{r|lllllllllllllllllllll}\n",
       "  & Ref8537\\_QC1\\_20230414\\_1 & Ref8537\\_QC2\\_20230414\\_1 & Ref8537\\_QC3\\_20230414\\_1 & Ref8537\\_QC4\\_20230414\\_1 & Ref8537\\_S4\\_20230414 & Ref8537\\_S8\\_20230414 & Ref8537\\_S11\\_20230414 & Ref8537\\_S18\\_20230414 & Ref8537\\_S21\\_20230414 & Ref8537\\_S26\\_20230414 & ⋯ & CVT09\\_s25\\_X006 & CVT09\\_s28\\_X007 & CVT09\\_s31\\_X008 & CVT09\\_s36\\_X009 & CVT09\\_s41\\_X010 & CVT09\\_s59\\_X013 & CVT09\\_s61\\_X014 & CVT09\\_s73\\_X016 & CVT09\\_s84\\_X018 & CVT09\\_s93\\_X020\\\\\n",
       "  & <dbl> & <dbl> & <dbl> & <dbl> & <dbl> & <dbl> & <dbl> & <dbl> & <dbl> & <dbl> & ⋯ & <dbl> & <dbl> & <dbl> & <dbl> & <dbl> & <dbl> & <dbl> & <dbl> & <dbl> & <dbl>\\\\\n",
       "\\hline\n",
       "\tP0A8D6 & 21.53906 & 21.47999 & 21.35298 & 21.42296 & 21.38708 & 21.42679 & 21.61248 & 21.31955 & 21.04806 & 21.35049 & ⋯ & 21.45216 & 21.49386 & 21.53507 & 21.24040 & 21.26634 & 21.18392 & 21.26768 & 21.16703 & 21.31542 & 21.13339\\\\\n",
       "\tP0AAX3 & 19.74532 & 19.75818 & 20.67724 & 20.27436 & 19.83848 & 19.39265 & 18.96252 & 19.56970 & 20.53163 & 19.93006 & ⋯ & 19.43260 & 19.88589 & 19.89370 & 19.80521 & 19.86551 & 21.17522 & 20.85025 & 20.65165 & 21.04656 & 20.52732\\\\\n",
       "\tP00959 & 23.35176 & 23.42021 & 23.61553 & 23.69256 & 23.34740 & 23.39790 & 23.28755 & 23.13318 & 22.92499 & 23.30205 & ⋯ & 23.22424 & 23.10805 & 23.09847 & 23.48500 & 23.42763 & 23.68962 & 23.67627 & 23.74420 & 23.71391 & 23.69579\\\\\n",
       "\tP0AEQ1 & 20.91692 & 20.80512 & 19.54067 & 19.61048 & 21.21183 & 21.07712 & 20.81611 & 20.91952 & 21.68973 & 21.30193 & ⋯ & 20.83636 & 20.88250 & 20.82481 & 20.68226 & 20.66431 & 19.78983 & 19.97801 & 19.77275 & 19.69974 & 19.62681\\\\\n",
       "\tP25738 & 23.16835 & 22.57489 & 22.53451 & 22.30098 & 24.12289 & 23.87931 & 23.90141 & 23.58926 & 23.35995 & 23.86318 & ⋯ & 23.67415 & 23.63801 & 23.77404 & 23.22189 & 23.18048 & 22.63059 & 23.16712 & 22.90152 & 22.61635 & 22.80023\\\\\n",
       "\tP64596 & 22.66786 & 22.42444 & 22.06219 & 22.16543 & 22.78653 & 22.74092 & 22.68579 & 22.63808 & 23.01979 & 22.63787 & ⋯ & 22.65854 & 22.53766 & 22.53421 & 22.77303 & 22.71680 & 22.45179 & 22.36571 & 22.43304 & 22.41174 & 22.48665\\\\\n",
       "\\end{tabular}\n"
      ],
      "text/markdown": [
       "\n",
       "A data.frame: 6 × 81\n",
       "\n",
       "| <!--/--> | Ref8537_QC1_20230414_1 &lt;dbl&gt; | Ref8537_QC2_20230414_1 &lt;dbl&gt; | Ref8537_QC3_20230414_1 &lt;dbl&gt; | Ref8537_QC4_20230414_1 &lt;dbl&gt; | Ref8537_S4_20230414 &lt;dbl&gt; | Ref8537_S8_20230414 &lt;dbl&gt; | Ref8537_S11_20230414 &lt;dbl&gt; | Ref8537_S18_20230414 &lt;dbl&gt; | Ref8537_S21_20230414 &lt;dbl&gt; | Ref8537_S26_20230414 &lt;dbl&gt; | ⋯ ⋯ | CVT09_s25_X006 &lt;dbl&gt; | CVT09_s28_X007 &lt;dbl&gt; | CVT09_s31_X008 &lt;dbl&gt; | CVT09_s36_X009 &lt;dbl&gt; | CVT09_s41_X010 &lt;dbl&gt; | CVT09_s59_X013 &lt;dbl&gt; | CVT09_s61_X014 &lt;dbl&gt; | CVT09_s73_X016 &lt;dbl&gt; | CVT09_s84_X018 &lt;dbl&gt; | CVT09_s93_X020 &lt;dbl&gt; |\n",
       "|---|---|---|---|---|---|---|---|---|---|---|---|---|---|---|---|---|---|---|---|---|---|\n",
       "| P0A8D6 | 21.53906 | 21.47999 | 21.35298 | 21.42296 | 21.38708 | 21.42679 | 21.61248 | 21.31955 | 21.04806 | 21.35049 | ⋯ | 21.45216 | 21.49386 | 21.53507 | 21.24040 | 21.26634 | 21.18392 | 21.26768 | 21.16703 | 21.31542 | 21.13339 |\n",
       "| P0AAX3 | 19.74532 | 19.75818 | 20.67724 | 20.27436 | 19.83848 | 19.39265 | 18.96252 | 19.56970 | 20.53163 | 19.93006 | ⋯ | 19.43260 | 19.88589 | 19.89370 | 19.80521 | 19.86551 | 21.17522 | 20.85025 | 20.65165 | 21.04656 | 20.52732 |\n",
       "| P00959 | 23.35176 | 23.42021 | 23.61553 | 23.69256 | 23.34740 | 23.39790 | 23.28755 | 23.13318 | 22.92499 | 23.30205 | ⋯ | 23.22424 | 23.10805 | 23.09847 | 23.48500 | 23.42763 | 23.68962 | 23.67627 | 23.74420 | 23.71391 | 23.69579 |\n",
       "| P0AEQ1 | 20.91692 | 20.80512 | 19.54067 | 19.61048 | 21.21183 | 21.07712 | 20.81611 | 20.91952 | 21.68973 | 21.30193 | ⋯ | 20.83636 | 20.88250 | 20.82481 | 20.68226 | 20.66431 | 19.78983 | 19.97801 | 19.77275 | 19.69974 | 19.62681 |\n",
       "| P25738 | 23.16835 | 22.57489 | 22.53451 | 22.30098 | 24.12289 | 23.87931 | 23.90141 | 23.58926 | 23.35995 | 23.86318 | ⋯ | 23.67415 | 23.63801 | 23.77404 | 23.22189 | 23.18048 | 22.63059 | 23.16712 | 22.90152 | 22.61635 | 22.80023 |\n",
       "| P64596 | 22.66786 | 22.42444 | 22.06219 | 22.16543 | 22.78653 | 22.74092 | 22.68579 | 22.63808 | 23.01979 | 22.63787 | ⋯ | 22.65854 | 22.53766 | 22.53421 | 22.77303 | 22.71680 | 22.45179 | 22.36571 | 22.43304 | 22.41174 | 22.48665 |\n",
       "\n"
      ],
      "text/plain": [
       "       Ref8537_QC1_20230414_1 Ref8537_QC2_20230414_1 Ref8537_QC3_20230414_1\n",
       "P0A8D6 21.53906               21.47999               21.35298              \n",
       "P0AAX3 19.74532               19.75818               20.67724              \n",
       "P00959 23.35176               23.42021               23.61553              \n",
       "P0AEQ1 20.91692               20.80512               19.54067              \n",
       "P25738 23.16835               22.57489               22.53451              \n",
       "P64596 22.66786               22.42444               22.06219              \n",
       "       Ref8537_QC4_20230414_1 Ref8537_S4_20230414 Ref8537_S8_20230414\n",
       "P0A8D6 21.42296               21.38708            21.42679           \n",
       "P0AAX3 20.27436               19.83848            19.39265           \n",
       "P00959 23.69256               23.34740            23.39790           \n",
       "P0AEQ1 19.61048               21.21183            21.07712           \n",
       "P25738 22.30098               24.12289            23.87931           \n",
       "P64596 22.16543               22.78653            22.74092           \n",
       "       Ref8537_S11_20230414 Ref8537_S18_20230414 Ref8537_S21_20230414\n",
       "P0A8D6 21.61248             21.31955             21.04806            \n",
       "P0AAX3 18.96252             19.56970             20.53163            \n",
       "P00959 23.28755             23.13318             22.92499            \n",
       "P0AEQ1 20.81611             20.91952             21.68973            \n",
       "P25738 23.90141             23.58926             23.35995            \n",
       "P64596 22.68579             22.63808             23.01979            \n",
       "       Ref8537_S26_20230414 ⋯ CVT09_s25_X006 CVT09_s28_X007 CVT09_s31_X008\n",
       "P0A8D6 21.35049             ⋯ 21.45216       21.49386       21.53507      \n",
       "P0AAX3 19.93006             ⋯ 19.43260       19.88589       19.89370      \n",
       "P00959 23.30205             ⋯ 23.22424       23.10805       23.09847      \n",
       "P0AEQ1 21.30193             ⋯ 20.83636       20.88250       20.82481      \n",
       "P25738 23.86318             ⋯ 23.67415       23.63801       23.77404      \n",
       "P64596 22.63787             ⋯ 22.65854       22.53766       22.53421      \n",
       "       CVT09_s36_X009 CVT09_s41_X010 CVT09_s59_X013 CVT09_s61_X014\n",
       "P0A8D6 21.24040       21.26634       21.18392       21.26768      \n",
       "P0AAX3 19.80521       19.86551       21.17522       20.85025      \n",
       "P00959 23.48500       23.42763       23.68962       23.67627      \n",
       "P0AEQ1 20.68226       20.66431       19.78983       19.97801      \n",
       "P25738 23.22189       23.18048       22.63059       23.16712      \n",
       "P64596 22.77303       22.71680       22.45179       22.36571      \n",
       "       CVT09_s73_X016 CVT09_s84_X018 CVT09_s93_X020\n",
       "P0A8D6 21.16703       21.31542       21.13339      \n",
       "P0AAX3 20.65165       21.04656       20.52732      \n",
       "P00959 23.74420       23.71391       23.69579      \n",
       "P0AEQ1 19.77275       19.69974       19.62681      \n",
       "P25738 22.90152       22.61635       22.80023      \n",
       "P64596 22.43304       22.41174       22.48665      "
      ]
     },
     "metadata": {},
     "output_type": "display_data"
    }
   ],
   "source": [
    "cohorts <- c('lab_A', 'lab_B', 'lab_C', 'lab_D', 'lab_E')\n",
    "\n",
    "cured_federated <- NULL\n",
    "\n",
    "for(c in cohorts) {\n",
    "  file_path <- paste0(\"results/\", MODE_TWO, \"/\", c, \"_intensities_corrected.tsv\")\n",
    "  temp_df <- read.csv(file_path, sep='\\t', row.names = 1,  check.names = FALSE)\n",
    "\n",
    "  # Combine the dataframes\n",
    "  if (is.null(cured_federated)) {\n",
    "    cured_federated <- temp_df\n",
    "  } else {\n",
    "    cured_federated <- cbind(cured_federated, temp_df)\n",
    "  }\n",
    "}\n",
    "\n",
    "cured_federated <- cured_federated[rownames(cured_central), batch_info_ref$file]\n",
    "dim(cured_federated)\n",
    "head(cured_federated)"
   ]
  },
  {
   "cell_type": "code",
   "execution_count": 20,
   "metadata": {
    "vscode": {
     "languageId": "r"
    }
   },
   "outputs": [
    {
     "name": "stderr",
     "output_type": "stream",
     "text": [
      "Warning message:\n",
      "“\u001b[1m\u001b[22mRemoved 1538 rows containing non-finite values (`stat_boxplot()`).”\n",
      "Warning message:\n",
      "“\u001b[1m\u001b[22mRemoved 1538 rows containing non-finite values (`stat_summary()`).”\n",
      "\u001b[1m\u001b[22mSaving 6.67 x 6.67 in image\n"
     ]
    }
   ],
   "source": [
    "plot_name_prefix <- paste0(\"plots/\", MODE_TWO, \"/FED_after_correction\")\n",
    "subname <- \"A_B_conditions\"\n",
    "number <- \"03\"\n",
    "plot_three_plots(cured_federated, batch_info_ref, plot_name_prefix, subname, number)\n"
   ]
  },
  {
   "cell_type": "markdown",
   "metadata": {},
   "source": [
    "## comparison "
   ]
  },
  {
   "cell_type": "code",
   "execution_count": 21,
   "metadata": {
    "vscode": {
     "languageId": "r"
    }
   },
   "outputs": [
    {
     "data": {
      "text/html": [
       "<style>\n",
       ".list-inline {list-style: none; margin:0; padding: 0}\n",
       ".list-inline>li {display: inline-block}\n",
       ".list-inline>li:not(:last-child)::after {content: \"\\00b7\"; padding: 0 .5ex}\n",
       "</style>\n",
       "<ol class=list-inline><li>2301</li><li>81</li></ol>\n"
      ],
      "text/latex": [
       "\\begin{enumerate*}\n",
       "\\item 2301\n",
       "\\item 81\n",
       "\\end{enumerate*}\n"
      ],
      "text/markdown": [
       "1. 2301\n",
       "2. 81\n",
       "\n",
       "\n"
      ],
      "text/plain": [
       "[1] 2301   81"
      ]
     },
     "metadata": {},
     "output_type": "display_data"
    },
    {
     "data": {
      "text/html": [
       "<style>\n",
       ".list-inline {list-style: none; margin:0; padding: 0}\n",
       ".list-inline>li {display: inline-block}\n",
       ".list-inline>li:not(:last-child)::after {content: \"\\00b7\"; padding: 0 .5ex}\n",
       "</style>\n",
       "<ol class=list-inline><li>2301</li><li>81</li></ol>\n"
      ],
      "text/latex": [
       "\\begin{enumerate*}\n",
       "\\item 2301\n",
       "\\item 81\n",
       "\\end{enumerate*}\n"
      ],
      "text/markdown": [
       "1. 2301\n",
       "2. 81\n",
       "\n",
       "\n"
      ],
      "text/plain": [
       "[1] 2301   81"
      ]
     },
     "metadata": {},
     "output_type": "display_data"
    }
   ],
   "source": [
    "dim(cured_central)\n",
    "dim(cured_federated)"
   ]
  },
  {
   "cell_type": "code",
   "execution_count": 22,
   "metadata": {
    "vscode": {
     "languageId": "r"
    }
   },
   "outputs": [
    {
     "data": {
      "text/html": [
       "FALSE"
      ],
      "text/latex": [
       "FALSE"
      ],
      "text/markdown": [
       "FALSE"
      ],
      "text/plain": [
       "[1] FALSE"
      ]
     },
     "metadata": {},
     "output_type": "display_data"
    }
   ],
   "source": [
    "# identical?\n",
    "identical(round(cured_central, 2), round(cured_federated, 2))"
   ]
  },
  {
   "cell_type": "code",
   "execution_count": 23,
   "metadata": {
    "vscode": {
     "languageId": "r"
    }
   },
   "outputs": [
    {
     "data": {
      "text/html": [
       "<style>\n",
       ".list-inline {list-style: none; margin:0; padding: 0}\n",
       ".list-inline>li {display: inline-block}\n",
       ".list-inline>li:not(:last-child)::after {content: \"\\00b7\"; padding: 0 .5ex}\n",
       "</style>\n",
       "<ol class=list-inline><li>'Attributes: &lt; Component “row.names”: 1 string mismatch &gt;'</li><li>'Component “Ref8537_QC1_20230414_1”: \\'is.NA\\' value mismatch: 10 in current 9 in target'</li><li>'Component “Ref8537_QC2_20230414_1”: \\'is.NA\\' value mismatch: 11 in current 10 in target'</li><li>'Component “Ref8537_QC3_20230414_1”: \\'is.NA\\' value mismatch: 39 in current 38 in target'</li><li>'Component “Ref8537_QC4_20230414_1”: \\'is.NA\\' value mismatch: 27 in current 26 in target'</li><li>'Component “Ref8537_S4_20230414”: \\'is.NA\\' value mismatch: 23 in current 22 in target'</li><li>'Component “Ref8537_S8_20230414”: \\'is.NA\\' value mismatch: 21 in current 20 in target'</li><li>'Component “Ref8537_S11_20230414”: \\'is.NA\\' value mismatch: 14 in current 13 in target'</li><li>'Component “Ref8537_S18_20230414”: \\'is.NA\\' value mismatch: 27 in current 26 in target'</li><li>'Component “Ref8537_S21_20230414”: \\'is.NA\\' value mismatch: 33 in current 32 in target'</li><li>'Component “Ref8537_S26_20230414”: \\'is.NA\\' value mismatch: 21 in current 20 in target'</li><li>'Component “Ref8537_S35_20230414”: \\'is.NA\\' value mismatch: 13 in current 12 in target'</li><li>'Component “Ref8537_S45_20230414”: \\'is.NA\\' value mismatch: 15 in current 14 in target'</li><li>'Component “Ref8537_S49_20230414”: \\'is.NA\\' value mismatch: 12 in current 11 in target'</li><li>'Component “Ref8537_S52_20230414”: \\'is.NA\\' value mismatch: 38 in current 37 in target'</li><li>'Component “Ref8537_S60_20230414”: \\'is.NA\\' value mismatch: 33 in current 32 in target'</li><li>'Component “Ref8537_S65_20230414”: \\'is.NA\\' value mismatch: 26 in current 25 in target'</li><li>'Component “Ref8537_S69_20230414”: \\'is.NA\\' value mismatch: 36 in current 35 in target'</li><li>'Component “Ref8537_S75_20230414”: \\'is.NA\\' value mismatch: 24 in current 23 in target'</li><li>'Component “Ref8537_S79_20230414”: \\'is.NA\\' value mismatch: 27 in current 26 in target'</li><li>'Component “Ref8537_S82_20230414”: \\'is.NA\\' value mismatch: 29 in current 28 in target'</li><li>'Component “Ref8537_S88_20230414”: \\'is.NA\\' value mismatch: 39 in current 38 in target'</li><li>'Component “Ref8537_S94_20230414”: \\'is.NA\\' value mismatch: 26 in current 25 in target'</li><li>'Component “Ref8537_S100_20230414”: \\'is.NA\\' value mismatch: 29 in current 28 in target'</li><li>'Component “Clinspect_E_coli_A_QC1_Slot1-6_1_8640”: \\'is.NA\\' value mismatch: 5 in current 4 in target'</li><li>'Component “Clinspect_E_coli_A_QC2_Slot1-15_1_8649”: \\'is.NA\\' value mismatch: 9 in current 8 in target'</li><li>'Component “Clinspect_E_coli_A_S5_Slot1-7_1_8641”: \\'is.NA\\' value mismatch: 7 in current 6 in target'</li><li>'Component “Clinspect_E_coli_A_S7_Slot1-24_1_8673”: \\'is.NA\\' value mismatch: 10 in current 9 in target'</li><li>'Component “Clinspect_E_coli_A_S20_Slot1-20_1_8669”: \\'is.NA\\' value mismatch: 11 in current 10 in target'</li><li>'Component “Clinspect_E_coli_A_S23_Slot1-8_1_8642”: \\'is.NA\\' value mismatch: 24 in current 23 in target'</li><li>'Component “Clinspect_E_coli_A_S34_Slot1-18_1_8666”: \\'is.NA\\' value mismatch: 9 in current 8 in target'</li><li>'Component “Clinspect_E_coli_A_S42_Slot1-21_1_8670”: \\'is.NA\\' value mismatch: 2 in current 1 in target'</li><li>'Component “Clinspect_E_coli_A_S47_Slot1-14_1_8648”: \\'is.NA\\' value mismatch: 11 in current 10 in target'</li><li>'Component “Clinspect_E_coli_B_QC3_Slot1-23_1_8672”: \\'is.NA\\' value mismatch: 47 in current 46 in target'</li><li>'Component “Clinspect_E_coli_B_S53_Slot1-22_1_8671”: \\'is.NA\\' value mismatch: 21 in current 20 in target'</li><li>'Component “Clinspect_E_coli_B_S66_Slot1-13_1_8647”: \\'is.NA\\' value mismatch: 52 in current 51 in target'</li><li>'Component “Clinspect_E_coli_B_S91_Slot1-25_1_8674”: \\'is.NA\\' value mismatch: 27 in current 26 in target'</li><li>'Component “BBM_673_P283_01_VEB_001_R4”: \\'is.NA\\' value mismatch: 6 in current 5 in target'</li><li>'Component “BBM_673_P283_01_VEB_002_R3”: \\'is.NA\\' value mismatch: 4 in current 3 in target'</li><li>'Component “BBM_673_P283_01_VEB_003_R3”: \\'is.NA\\' value mismatch: 11 in current 10 in target'</li><li>'Component “BBM_673_P283_01_VEB_004_R3”: \\'is.NA\\' value mismatch: 5 in current 4 in target'</li><li>'Component “BBM_673_P283_01_VEB_005_R3”: \\'is.NA\\' value mismatch: 7 in current 6 in target'</li><li>'Component “BBM_673_P283_01_VEB_006_R2”: \\'is.NA\\' value mismatch: 7 in current 6 in target'</li><li>'Component “BBM_673_P283_01_VEB_007_R2”: \\'is.NA\\' value mismatch: 8 in current 7 in target'</li><li>'Component “BBM_673_P283_01_VEB_009_R2”: \\'is.NA\\' value mismatch: 13 in current 12 in target'</li><li>'Component “BBM_673_P283_01_VEB_010_R2”: \\'is.NA\\' value mismatch: 6 in current 5 in target'</li><li>'Component “BBM_673_P283_01_VEB_011_R2”: \\'is.NA\\' value mismatch: 3 in current 2 in target'</li><li>'Component “BBM_673_P283_01_VEB_012_R2”: \\'is.NA\\' value mismatch: 4 in current 3 in target'</li><li>'Component “BBM_673_P283_01_VEB_013_R2”: \\'is.NA\\' value mismatch: 29 in current 28 in target'</li><li>'Component “BBM_673_P283_01_VEB_019_R2”: \\'is.NA\\' value mismatch: 19 in current 18 in target'</li><li>'Component “BBM_673_P283_01_VEB_023_R3”: \\'is.NA\\' value mismatch: 16 in current 15 in target'</li><li>'Component “20230516_EXPL1_LiSc_SA_S610_RT_25_s2”: \\'is.NA\\' value mismatch: 3 in current 2 in target'</li><li>'Component “20230516_EXPL1_LiSc_SA_S610_RT_27_s12”: \\'is.NA\\' value mismatch: 1 in current 0 in target'</li><li>'Component “20230516_EXPL1_LiSc_SA_S610_RT_30_s30”: \\'is.NA\\' value mismatch: 2 in current 1 in target'</li><li>'Component “20230516_EXPL1_LiSc_SA_S610_RT_32_s38”: \\'is.NA\\' value mismatch: 2 in current 1 in target'</li><li>'Component “20230516_EXPL1_LiSc_SA_S610_RT_35_s51”: \\'is.NA\\' value mismatch: 7 in current 6 in target'</li><li>'Component “20230516_EXPL1_LiSc_SA_S610_RT_36_s56”: \\'is.NA\\' value mismatch: 7 in current 6 in target'</li><li>'Component “20230516_EXPL1_LiSc_SA_S610_RT_37_s63”: \\'is.NA\\' value mismatch: 12 in current 11 in target'</li><li>'Component “20230516_EXPL1_LiSc_SA_S610_RT_38_s68”: \\'is.NA\\' value mismatch: 6 in current 5 in target'</li><li>'Component “20230516_EXPL1_LiSc_SA_S610_RT_39_s72”: \\'is.NA\\' value mismatch: 4 in current 3 in target'</li><li>'Component “20230516_EXPL1_LiSc_SA_S610_RT_40_s80”: \\'is.NA\\' value mismatch: 5 in current 4 in target'</li><li>'Component “20230516_EXPL1_LiSc_SA_S610_RT_41_s81”: \\'is.NA\\' value mismatch: 10 in current 9 in target'</li><li>'Component “20230516_EXPL1_LiSc_SA_S610_RT_42_s89”: \\'is.NA\\' value mismatch: 9 in current 8 in target'</li><li>'Component “20230516_EXPL1_LiSc_SA_S610_RT_43_s92”: \\'is.NA\\' value mismatch: 10 in current 9 in target'</li><li>'Component “20230516_EXPL1_LiSc_SA_S610_RT_44_s96”: \\'is.NA\\' value mismatch: 13 in current 12 in target'</li><li>'Component “20230516_EXPL1_LiSc_SA_S610_RT_45_QC1_LabD”: \\'is.NA\\' value mismatch: 1 in current 0 in target'</li><li>'Component “CVT09_s73_X016”: \\'is.NA\\' value mismatch: 41 in current 40 in target'</li></ol>\n"
      ],
      "text/latex": [
       "\\begin{enumerate*}\n",
       "\\item 'Attributes: < Component “row.names”: 1 string mismatch >'\n",
       "\\item 'Component “Ref8537\\_QC1\\_20230414\\_1”: \\textbackslash{}'is.NA\\textbackslash{}' value mismatch: 10 in current 9 in target'\n",
       "\\item 'Component “Ref8537\\_QC2\\_20230414\\_1”: \\textbackslash{}'is.NA\\textbackslash{}' value mismatch: 11 in current 10 in target'\n",
       "\\item 'Component “Ref8537\\_QC3\\_20230414\\_1”: \\textbackslash{}'is.NA\\textbackslash{}' value mismatch: 39 in current 38 in target'\n",
       "\\item 'Component “Ref8537\\_QC4\\_20230414\\_1”: \\textbackslash{}'is.NA\\textbackslash{}' value mismatch: 27 in current 26 in target'\n",
       "\\item 'Component “Ref8537\\_S4\\_20230414”: \\textbackslash{}'is.NA\\textbackslash{}' value mismatch: 23 in current 22 in target'\n",
       "\\item 'Component “Ref8537\\_S8\\_20230414”: \\textbackslash{}'is.NA\\textbackslash{}' value mismatch: 21 in current 20 in target'\n",
       "\\item 'Component “Ref8537\\_S11\\_20230414”: \\textbackslash{}'is.NA\\textbackslash{}' value mismatch: 14 in current 13 in target'\n",
       "\\item 'Component “Ref8537\\_S18\\_20230414”: \\textbackslash{}'is.NA\\textbackslash{}' value mismatch: 27 in current 26 in target'\n",
       "\\item 'Component “Ref8537\\_S21\\_20230414”: \\textbackslash{}'is.NA\\textbackslash{}' value mismatch: 33 in current 32 in target'\n",
       "\\item 'Component “Ref8537\\_S26\\_20230414”: \\textbackslash{}'is.NA\\textbackslash{}' value mismatch: 21 in current 20 in target'\n",
       "\\item 'Component “Ref8537\\_S35\\_20230414”: \\textbackslash{}'is.NA\\textbackslash{}' value mismatch: 13 in current 12 in target'\n",
       "\\item 'Component “Ref8537\\_S45\\_20230414”: \\textbackslash{}'is.NA\\textbackslash{}' value mismatch: 15 in current 14 in target'\n",
       "\\item 'Component “Ref8537\\_S49\\_20230414”: \\textbackslash{}'is.NA\\textbackslash{}' value mismatch: 12 in current 11 in target'\n",
       "\\item 'Component “Ref8537\\_S52\\_20230414”: \\textbackslash{}'is.NA\\textbackslash{}' value mismatch: 38 in current 37 in target'\n",
       "\\item 'Component “Ref8537\\_S60\\_20230414”: \\textbackslash{}'is.NA\\textbackslash{}' value mismatch: 33 in current 32 in target'\n",
       "\\item 'Component “Ref8537\\_S65\\_20230414”: \\textbackslash{}'is.NA\\textbackslash{}' value mismatch: 26 in current 25 in target'\n",
       "\\item 'Component “Ref8537\\_S69\\_20230414”: \\textbackslash{}'is.NA\\textbackslash{}' value mismatch: 36 in current 35 in target'\n",
       "\\item 'Component “Ref8537\\_S75\\_20230414”: \\textbackslash{}'is.NA\\textbackslash{}' value mismatch: 24 in current 23 in target'\n",
       "\\item 'Component “Ref8537\\_S79\\_20230414”: \\textbackslash{}'is.NA\\textbackslash{}' value mismatch: 27 in current 26 in target'\n",
       "\\item 'Component “Ref8537\\_S82\\_20230414”: \\textbackslash{}'is.NA\\textbackslash{}' value mismatch: 29 in current 28 in target'\n",
       "\\item 'Component “Ref8537\\_S88\\_20230414”: \\textbackslash{}'is.NA\\textbackslash{}' value mismatch: 39 in current 38 in target'\n",
       "\\item 'Component “Ref8537\\_S94\\_20230414”: \\textbackslash{}'is.NA\\textbackslash{}' value mismatch: 26 in current 25 in target'\n",
       "\\item 'Component “Ref8537\\_S100\\_20230414”: \\textbackslash{}'is.NA\\textbackslash{}' value mismatch: 29 in current 28 in target'\n",
       "\\item 'Component “Clinspect\\_E\\_coli\\_A\\_QC1\\_Slot1-6\\_1\\_8640”: \\textbackslash{}'is.NA\\textbackslash{}' value mismatch: 5 in current 4 in target'\n",
       "\\item 'Component “Clinspect\\_E\\_coli\\_A\\_QC2\\_Slot1-15\\_1\\_8649”: \\textbackslash{}'is.NA\\textbackslash{}' value mismatch: 9 in current 8 in target'\n",
       "\\item 'Component “Clinspect\\_E\\_coli\\_A\\_S5\\_Slot1-7\\_1\\_8641”: \\textbackslash{}'is.NA\\textbackslash{}' value mismatch: 7 in current 6 in target'\n",
       "\\item 'Component “Clinspect\\_E\\_coli\\_A\\_S7\\_Slot1-24\\_1\\_8673”: \\textbackslash{}'is.NA\\textbackslash{}' value mismatch: 10 in current 9 in target'\n",
       "\\item 'Component “Clinspect\\_E\\_coli\\_A\\_S20\\_Slot1-20\\_1\\_8669”: \\textbackslash{}'is.NA\\textbackslash{}' value mismatch: 11 in current 10 in target'\n",
       "\\item 'Component “Clinspect\\_E\\_coli\\_A\\_S23\\_Slot1-8\\_1\\_8642”: \\textbackslash{}'is.NA\\textbackslash{}' value mismatch: 24 in current 23 in target'\n",
       "\\item 'Component “Clinspect\\_E\\_coli\\_A\\_S34\\_Slot1-18\\_1\\_8666”: \\textbackslash{}'is.NA\\textbackslash{}' value mismatch: 9 in current 8 in target'\n",
       "\\item 'Component “Clinspect\\_E\\_coli\\_A\\_S42\\_Slot1-21\\_1\\_8670”: \\textbackslash{}'is.NA\\textbackslash{}' value mismatch: 2 in current 1 in target'\n",
       "\\item 'Component “Clinspect\\_E\\_coli\\_A\\_S47\\_Slot1-14\\_1\\_8648”: \\textbackslash{}'is.NA\\textbackslash{}' value mismatch: 11 in current 10 in target'\n",
       "\\item 'Component “Clinspect\\_E\\_coli\\_B\\_QC3\\_Slot1-23\\_1\\_8672”: \\textbackslash{}'is.NA\\textbackslash{}' value mismatch: 47 in current 46 in target'\n",
       "\\item 'Component “Clinspect\\_E\\_coli\\_B\\_S53\\_Slot1-22\\_1\\_8671”: \\textbackslash{}'is.NA\\textbackslash{}' value mismatch: 21 in current 20 in target'\n",
       "\\item 'Component “Clinspect\\_E\\_coli\\_B\\_S66\\_Slot1-13\\_1\\_8647”: \\textbackslash{}'is.NA\\textbackslash{}' value mismatch: 52 in current 51 in target'\n",
       "\\item 'Component “Clinspect\\_E\\_coli\\_B\\_S91\\_Slot1-25\\_1\\_8674”: \\textbackslash{}'is.NA\\textbackslash{}' value mismatch: 27 in current 26 in target'\n",
       "\\item 'Component “BBM\\_673\\_P283\\_01\\_VEB\\_001\\_R4”: \\textbackslash{}'is.NA\\textbackslash{}' value mismatch: 6 in current 5 in target'\n",
       "\\item 'Component “BBM\\_673\\_P283\\_01\\_VEB\\_002\\_R3”: \\textbackslash{}'is.NA\\textbackslash{}' value mismatch: 4 in current 3 in target'\n",
       "\\item 'Component “BBM\\_673\\_P283\\_01\\_VEB\\_003\\_R3”: \\textbackslash{}'is.NA\\textbackslash{}' value mismatch: 11 in current 10 in target'\n",
       "\\item 'Component “BBM\\_673\\_P283\\_01\\_VEB\\_004\\_R3”: \\textbackslash{}'is.NA\\textbackslash{}' value mismatch: 5 in current 4 in target'\n",
       "\\item 'Component “BBM\\_673\\_P283\\_01\\_VEB\\_005\\_R3”: \\textbackslash{}'is.NA\\textbackslash{}' value mismatch: 7 in current 6 in target'\n",
       "\\item 'Component “BBM\\_673\\_P283\\_01\\_VEB\\_006\\_R2”: \\textbackslash{}'is.NA\\textbackslash{}' value mismatch: 7 in current 6 in target'\n",
       "\\item 'Component “BBM\\_673\\_P283\\_01\\_VEB\\_007\\_R2”: \\textbackslash{}'is.NA\\textbackslash{}' value mismatch: 8 in current 7 in target'\n",
       "\\item 'Component “BBM\\_673\\_P283\\_01\\_VEB\\_009\\_R2”: \\textbackslash{}'is.NA\\textbackslash{}' value mismatch: 13 in current 12 in target'\n",
       "\\item 'Component “BBM\\_673\\_P283\\_01\\_VEB\\_010\\_R2”: \\textbackslash{}'is.NA\\textbackslash{}' value mismatch: 6 in current 5 in target'\n",
       "\\item 'Component “BBM\\_673\\_P283\\_01\\_VEB\\_011\\_R2”: \\textbackslash{}'is.NA\\textbackslash{}' value mismatch: 3 in current 2 in target'\n",
       "\\item 'Component “BBM\\_673\\_P283\\_01\\_VEB\\_012\\_R2”: \\textbackslash{}'is.NA\\textbackslash{}' value mismatch: 4 in current 3 in target'\n",
       "\\item 'Component “BBM\\_673\\_P283\\_01\\_VEB\\_013\\_R2”: \\textbackslash{}'is.NA\\textbackslash{}' value mismatch: 29 in current 28 in target'\n",
       "\\item 'Component “BBM\\_673\\_P283\\_01\\_VEB\\_019\\_R2”: \\textbackslash{}'is.NA\\textbackslash{}' value mismatch: 19 in current 18 in target'\n",
       "\\item 'Component “BBM\\_673\\_P283\\_01\\_VEB\\_023\\_R3”: \\textbackslash{}'is.NA\\textbackslash{}' value mismatch: 16 in current 15 in target'\n",
       "\\item 'Component “20230516\\_EXPL1\\_LiSc\\_SA\\_S610\\_RT\\_25\\_s2”: \\textbackslash{}'is.NA\\textbackslash{}' value mismatch: 3 in current 2 in target'\n",
       "\\item 'Component “20230516\\_EXPL1\\_LiSc\\_SA\\_S610\\_RT\\_27\\_s12”: \\textbackslash{}'is.NA\\textbackslash{}' value mismatch: 1 in current 0 in target'\n",
       "\\item 'Component “20230516\\_EXPL1\\_LiSc\\_SA\\_S610\\_RT\\_30\\_s30”: \\textbackslash{}'is.NA\\textbackslash{}' value mismatch: 2 in current 1 in target'\n",
       "\\item 'Component “20230516\\_EXPL1\\_LiSc\\_SA\\_S610\\_RT\\_32\\_s38”: \\textbackslash{}'is.NA\\textbackslash{}' value mismatch: 2 in current 1 in target'\n",
       "\\item 'Component “20230516\\_EXPL1\\_LiSc\\_SA\\_S610\\_RT\\_35\\_s51”: \\textbackslash{}'is.NA\\textbackslash{}' value mismatch: 7 in current 6 in target'\n",
       "\\item 'Component “20230516\\_EXPL1\\_LiSc\\_SA\\_S610\\_RT\\_36\\_s56”: \\textbackslash{}'is.NA\\textbackslash{}' value mismatch: 7 in current 6 in target'\n",
       "\\item 'Component “20230516\\_EXPL1\\_LiSc\\_SA\\_S610\\_RT\\_37\\_s63”: \\textbackslash{}'is.NA\\textbackslash{}' value mismatch: 12 in current 11 in target'\n",
       "\\item 'Component “20230516\\_EXPL1\\_LiSc\\_SA\\_S610\\_RT\\_38\\_s68”: \\textbackslash{}'is.NA\\textbackslash{}' value mismatch: 6 in current 5 in target'\n",
       "\\item 'Component “20230516\\_EXPL1\\_LiSc\\_SA\\_S610\\_RT\\_39\\_s72”: \\textbackslash{}'is.NA\\textbackslash{}' value mismatch: 4 in current 3 in target'\n",
       "\\item 'Component “20230516\\_EXPL1\\_LiSc\\_SA\\_S610\\_RT\\_40\\_s80”: \\textbackslash{}'is.NA\\textbackslash{}' value mismatch: 5 in current 4 in target'\n",
       "\\item 'Component “20230516\\_EXPL1\\_LiSc\\_SA\\_S610\\_RT\\_41\\_s81”: \\textbackslash{}'is.NA\\textbackslash{}' value mismatch: 10 in current 9 in target'\n",
       "\\item 'Component “20230516\\_EXPL1\\_LiSc\\_SA\\_S610\\_RT\\_42\\_s89”: \\textbackslash{}'is.NA\\textbackslash{}' value mismatch: 9 in current 8 in target'\n",
       "\\item 'Component “20230516\\_EXPL1\\_LiSc\\_SA\\_S610\\_RT\\_43\\_s92”: \\textbackslash{}'is.NA\\textbackslash{}' value mismatch: 10 in current 9 in target'\n",
       "\\item 'Component “20230516\\_EXPL1\\_LiSc\\_SA\\_S610\\_RT\\_44\\_s96”: \\textbackslash{}'is.NA\\textbackslash{}' value mismatch: 13 in current 12 in target'\n",
       "\\item 'Component “20230516\\_EXPL1\\_LiSc\\_SA\\_S610\\_RT\\_45\\_QC1\\_LabD”: \\textbackslash{}'is.NA\\textbackslash{}' value mismatch: 1 in current 0 in target'\n",
       "\\item 'Component “CVT09\\_s73\\_X016”: \\textbackslash{}'is.NA\\textbackslash{}' value mismatch: 41 in current 40 in target'\n",
       "\\end{enumerate*}\n"
      ],
      "text/markdown": [
       "1. 'Attributes: &lt; Component “row.names”: 1 string mismatch &gt;'\n",
       "2. 'Component “Ref8537_QC1_20230414_1”: \\'is.NA\\' value mismatch: 10 in current 9 in target'\n",
       "3. 'Component “Ref8537_QC2_20230414_1”: \\'is.NA\\' value mismatch: 11 in current 10 in target'\n",
       "4. 'Component “Ref8537_QC3_20230414_1”: \\'is.NA\\' value mismatch: 39 in current 38 in target'\n",
       "5. 'Component “Ref8537_QC4_20230414_1”: \\'is.NA\\' value mismatch: 27 in current 26 in target'\n",
       "6. 'Component “Ref8537_S4_20230414”: \\'is.NA\\' value mismatch: 23 in current 22 in target'\n",
       "7. 'Component “Ref8537_S8_20230414”: \\'is.NA\\' value mismatch: 21 in current 20 in target'\n",
       "8. 'Component “Ref8537_S11_20230414”: \\'is.NA\\' value mismatch: 14 in current 13 in target'\n",
       "9. 'Component “Ref8537_S18_20230414”: \\'is.NA\\' value mismatch: 27 in current 26 in target'\n",
       "10. 'Component “Ref8537_S21_20230414”: \\'is.NA\\' value mismatch: 33 in current 32 in target'\n",
       "11. 'Component “Ref8537_S26_20230414”: \\'is.NA\\' value mismatch: 21 in current 20 in target'\n",
       "12. 'Component “Ref8537_S35_20230414”: \\'is.NA\\' value mismatch: 13 in current 12 in target'\n",
       "13. 'Component “Ref8537_S45_20230414”: \\'is.NA\\' value mismatch: 15 in current 14 in target'\n",
       "14. 'Component “Ref8537_S49_20230414”: \\'is.NA\\' value mismatch: 12 in current 11 in target'\n",
       "15. 'Component “Ref8537_S52_20230414”: \\'is.NA\\' value mismatch: 38 in current 37 in target'\n",
       "16. 'Component “Ref8537_S60_20230414”: \\'is.NA\\' value mismatch: 33 in current 32 in target'\n",
       "17. 'Component “Ref8537_S65_20230414”: \\'is.NA\\' value mismatch: 26 in current 25 in target'\n",
       "18. 'Component “Ref8537_S69_20230414”: \\'is.NA\\' value mismatch: 36 in current 35 in target'\n",
       "19. 'Component “Ref8537_S75_20230414”: \\'is.NA\\' value mismatch: 24 in current 23 in target'\n",
       "20. 'Component “Ref8537_S79_20230414”: \\'is.NA\\' value mismatch: 27 in current 26 in target'\n",
       "21. 'Component “Ref8537_S82_20230414”: \\'is.NA\\' value mismatch: 29 in current 28 in target'\n",
       "22. 'Component “Ref8537_S88_20230414”: \\'is.NA\\' value mismatch: 39 in current 38 in target'\n",
       "23. 'Component “Ref8537_S94_20230414”: \\'is.NA\\' value mismatch: 26 in current 25 in target'\n",
       "24. 'Component “Ref8537_S100_20230414”: \\'is.NA\\' value mismatch: 29 in current 28 in target'\n",
       "25. 'Component “Clinspect_E_coli_A_QC1_Slot1-6_1_8640”: \\'is.NA\\' value mismatch: 5 in current 4 in target'\n",
       "26. 'Component “Clinspect_E_coli_A_QC2_Slot1-15_1_8649”: \\'is.NA\\' value mismatch: 9 in current 8 in target'\n",
       "27. 'Component “Clinspect_E_coli_A_S5_Slot1-7_1_8641”: \\'is.NA\\' value mismatch: 7 in current 6 in target'\n",
       "28. 'Component “Clinspect_E_coli_A_S7_Slot1-24_1_8673”: \\'is.NA\\' value mismatch: 10 in current 9 in target'\n",
       "29. 'Component “Clinspect_E_coli_A_S20_Slot1-20_1_8669”: \\'is.NA\\' value mismatch: 11 in current 10 in target'\n",
       "30. 'Component “Clinspect_E_coli_A_S23_Slot1-8_1_8642”: \\'is.NA\\' value mismatch: 24 in current 23 in target'\n",
       "31. 'Component “Clinspect_E_coli_A_S34_Slot1-18_1_8666”: \\'is.NA\\' value mismatch: 9 in current 8 in target'\n",
       "32. 'Component “Clinspect_E_coli_A_S42_Slot1-21_1_8670”: \\'is.NA\\' value mismatch: 2 in current 1 in target'\n",
       "33. 'Component “Clinspect_E_coli_A_S47_Slot1-14_1_8648”: \\'is.NA\\' value mismatch: 11 in current 10 in target'\n",
       "34. 'Component “Clinspect_E_coli_B_QC3_Slot1-23_1_8672”: \\'is.NA\\' value mismatch: 47 in current 46 in target'\n",
       "35. 'Component “Clinspect_E_coli_B_S53_Slot1-22_1_8671”: \\'is.NA\\' value mismatch: 21 in current 20 in target'\n",
       "36. 'Component “Clinspect_E_coli_B_S66_Slot1-13_1_8647”: \\'is.NA\\' value mismatch: 52 in current 51 in target'\n",
       "37. 'Component “Clinspect_E_coli_B_S91_Slot1-25_1_8674”: \\'is.NA\\' value mismatch: 27 in current 26 in target'\n",
       "38. 'Component “BBM_673_P283_01_VEB_001_R4”: \\'is.NA\\' value mismatch: 6 in current 5 in target'\n",
       "39. 'Component “BBM_673_P283_01_VEB_002_R3”: \\'is.NA\\' value mismatch: 4 in current 3 in target'\n",
       "40. 'Component “BBM_673_P283_01_VEB_003_R3”: \\'is.NA\\' value mismatch: 11 in current 10 in target'\n",
       "41. 'Component “BBM_673_P283_01_VEB_004_R3”: \\'is.NA\\' value mismatch: 5 in current 4 in target'\n",
       "42. 'Component “BBM_673_P283_01_VEB_005_R3”: \\'is.NA\\' value mismatch: 7 in current 6 in target'\n",
       "43. 'Component “BBM_673_P283_01_VEB_006_R2”: \\'is.NA\\' value mismatch: 7 in current 6 in target'\n",
       "44. 'Component “BBM_673_P283_01_VEB_007_R2”: \\'is.NA\\' value mismatch: 8 in current 7 in target'\n",
       "45. 'Component “BBM_673_P283_01_VEB_009_R2”: \\'is.NA\\' value mismatch: 13 in current 12 in target'\n",
       "46. 'Component “BBM_673_P283_01_VEB_010_R2”: \\'is.NA\\' value mismatch: 6 in current 5 in target'\n",
       "47. 'Component “BBM_673_P283_01_VEB_011_R2”: \\'is.NA\\' value mismatch: 3 in current 2 in target'\n",
       "48. 'Component “BBM_673_P283_01_VEB_012_R2”: \\'is.NA\\' value mismatch: 4 in current 3 in target'\n",
       "49. 'Component “BBM_673_P283_01_VEB_013_R2”: \\'is.NA\\' value mismatch: 29 in current 28 in target'\n",
       "50. 'Component “BBM_673_P283_01_VEB_019_R2”: \\'is.NA\\' value mismatch: 19 in current 18 in target'\n",
       "51. 'Component “BBM_673_P283_01_VEB_023_R3”: \\'is.NA\\' value mismatch: 16 in current 15 in target'\n",
       "52. 'Component “20230516_EXPL1_LiSc_SA_S610_RT_25_s2”: \\'is.NA\\' value mismatch: 3 in current 2 in target'\n",
       "53. 'Component “20230516_EXPL1_LiSc_SA_S610_RT_27_s12”: \\'is.NA\\' value mismatch: 1 in current 0 in target'\n",
       "54. 'Component “20230516_EXPL1_LiSc_SA_S610_RT_30_s30”: \\'is.NA\\' value mismatch: 2 in current 1 in target'\n",
       "55. 'Component “20230516_EXPL1_LiSc_SA_S610_RT_32_s38”: \\'is.NA\\' value mismatch: 2 in current 1 in target'\n",
       "56. 'Component “20230516_EXPL1_LiSc_SA_S610_RT_35_s51”: \\'is.NA\\' value mismatch: 7 in current 6 in target'\n",
       "57. 'Component “20230516_EXPL1_LiSc_SA_S610_RT_36_s56”: \\'is.NA\\' value mismatch: 7 in current 6 in target'\n",
       "58. 'Component “20230516_EXPL1_LiSc_SA_S610_RT_37_s63”: \\'is.NA\\' value mismatch: 12 in current 11 in target'\n",
       "59. 'Component “20230516_EXPL1_LiSc_SA_S610_RT_38_s68”: \\'is.NA\\' value mismatch: 6 in current 5 in target'\n",
       "60. 'Component “20230516_EXPL1_LiSc_SA_S610_RT_39_s72”: \\'is.NA\\' value mismatch: 4 in current 3 in target'\n",
       "61. 'Component “20230516_EXPL1_LiSc_SA_S610_RT_40_s80”: \\'is.NA\\' value mismatch: 5 in current 4 in target'\n",
       "62. 'Component “20230516_EXPL1_LiSc_SA_S610_RT_41_s81”: \\'is.NA\\' value mismatch: 10 in current 9 in target'\n",
       "63. 'Component “20230516_EXPL1_LiSc_SA_S610_RT_42_s89”: \\'is.NA\\' value mismatch: 9 in current 8 in target'\n",
       "64. 'Component “20230516_EXPL1_LiSc_SA_S610_RT_43_s92”: \\'is.NA\\' value mismatch: 10 in current 9 in target'\n",
       "65. 'Component “20230516_EXPL1_LiSc_SA_S610_RT_44_s96”: \\'is.NA\\' value mismatch: 13 in current 12 in target'\n",
       "66. 'Component “20230516_EXPL1_LiSc_SA_S610_RT_45_QC1_LabD”: \\'is.NA\\' value mismatch: 1 in current 0 in target'\n",
       "67. 'Component “CVT09_s73_X016”: \\'is.NA\\' value mismatch: 41 in current 40 in target'\n",
       "\n",
       "\n"
      ],
      "text/plain": [
       " [1] \"Attributes: < Component “row.names”: 1 string mismatch >\"                                                \n",
       " [2] \"Component “Ref8537_QC1_20230414_1”: 'is.NA' value mismatch: 10 in current 9 in target\"                   \n",
       " [3] \"Component “Ref8537_QC2_20230414_1”: 'is.NA' value mismatch: 11 in current 10 in target\"                  \n",
       " [4] \"Component “Ref8537_QC3_20230414_1”: 'is.NA' value mismatch: 39 in current 38 in target\"                  \n",
       " [5] \"Component “Ref8537_QC4_20230414_1”: 'is.NA' value mismatch: 27 in current 26 in target\"                  \n",
       " [6] \"Component “Ref8537_S4_20230414”: 'is.NA' value mismatch: 23 in current 22 in target\"                     \n",
       " [7] \"Component “Ref8537_S8_20230414”: 'is.NA' value mismatch: 21 in current 20 in target\"                     \n",
       " [8] \"Component “Ref8537_S11_20230414”: 'is.NA' value mismatch: 14 in current 13 in target\"                    \n",
       " [9] \"Component “Ref8537_S18_20230414”: 'is.NA' value mismatch: 27 in current 26 in target\"                    \n",
       "[10] \"Component “Ref8537_S21_20230414”: 'is.NA' value mismatch: 33 in current 32 in target\"                    \n",
       "[11] \"Component “Ref8537_S26_20230414”: 'is.NA' value mismatch: 21 in current 20 in target\"                    \n",
       "[12] \"Component “Ref8537_S35_20230414”: 'is.NA' value mismatch: 13 in current 12 in target\"                    \n",
       "[13] \"Component “Ref8537_S45_20230414”: 'is.NA' value mismatch: 15 in current 14 in target\"                    \n",
       "[14] \"Component “Ref8537_S49_20230414”: 'is.NA' value mismatch: 12 in current 11 in target\"                    \n",
       "[15] \"Component “Ref8537_S52_20230414”: 'is.NA' value mismatch: 38 in current 37 in target\"                    \n",
       "[16] \"Component “Ref8537_S60_20230414”: 'is.NA' value mismatch: 33 in current 32 in target\"                    \n",
       "[17] \"Component “Ref8537_S65_20230414”: 'is.NA' value mismatch: 26 in current 25 in target\"                    \n",
       "[18] \"Component “Ref8537_S69_20230414”: 'is.NA' value mismatch: 36 in current 35 in target\"                    \n",
       "[19] \"Component “Ref8537_S75_20230414”: 'is.NA' value mismatch: 24 in current 23 in target\"                    \n",
       "[20] \"Component “Ref8537_S79_20230414”: 'is.NA' value mismatch: 27 in current 26 in target\"                    \n",
       "[21] \"Component “Ref8537_S82_20230414”: 'is.NA' value mismatch: 29 in current 28 in target\"                    \n",
       "[22] \"Component “Ref8537_S88_20230414”: 'is.NA' value mismatch: 39 in current 38 in target\"                    \n",
       "[23] \"Component “Ref8537_S94_20230414”: 'is.NA' value mismatch: 26 in current 25 in target\"                    \n",
       "[24] \"Component “Ref8537_S100_20230414”: 'is.NA' value mismatch: 29 in current 28 in target\"                   \n",
       "[25] \"Component “Clinspect_E_coli_A_QC1_Slot1-6_1_8640”: 'is.NA' value mismatch: 5 in current 4 in target\"     \n",
       "[26] \"Component “Clinspect_E_coli_A_QC2_Slot1-15_1_8649”: 'is.NA' value mismatch: 9 in current 8 in target\"    \n",
       "[27] \"Component “Clinspect_E_coli_A_S5_Slot1-7_1_8641”: 'is.NA' value mismatch: 7 in current 6 in target\"      \n",
       "[28] \"Component “Clinspect_E_coli_A_S7_Slot1-24_1_8673”: 'is.NA' value mismatch: 10 in current 9 in target\"    \n",
       "[29] \"Component “Clinspect_E_coli_A_S20_Slot1-20_1_8669”: 'is.NA' value mismatch: 11 in current 10 in target\"  \n",
       "[30] \"Component “Clinspect_E_coli_A_S23_Slot1-8_1_8642”: 'is.NA' value mismatch: 24 in current 23 in target\"   \n",
       "[31] \"Component “Clinspect_E_coli_A_S34_Slot1-18_1_8666”: 'is.NA' value mismatch: 9 in current 8 in target\"    \n",
       "[32] \"Component “Clinspect_E_coli_A_S42_Slot1-21_1_8670”: 'is.NA' value mismatch: 2 in current 1 in target\"    \n",
       "[33] \"Component “Clinspect_E_coli_A_S47_Slot1-14_1_8648”: 'is.NA' value mismatch: 11 in current 10 in target\"  \n",
       "[34] \"Component “Clinspect_E_coli_B_QC3_Slot1-23_1_8672”: 'is.NA' value mismatch: 47 in current 46 in target\"  \n",
       "[35] \"Component “Clinspect_E_coli_B_S53_Slot1-22_1_8671”: 'is.NA' value mismatch: 21 in current 20 in target\"  \n",
       "[36] \"Component “Clinspect_E_coli_B_S66_Slot1-13_1_8647”: 'is.NA' value mismatch: 52 in current 51 in target\"  \n",
       "[37] \"Component “Clinspect_E_coli_B_S91_Slot1-25_1_8674”: 'is.NA' value mismatch: 27 in current 26 in target\"  \n",
       "[38] \"Component “BBM_673_P283_01_VEB_001_R4”: 'is.NA' value mismatch: 6 in current 5 in target\"                \n",
       "[39] \"Component “BBM_673_P283_01_VEB_002_R3”: 'is.NA' value mismatch: 4 in current 3 in target\"                \n",
       "[40] \"Component “BBM_673_P283_01_VEB_003_R3”: 'is.NA' value mismatch: 11 in current 10 in target\"              \n",
       "[41] \"Component “BBM_673_P283_01_VEB_004_R3”: 'is.NA' value mismatch: 5 in current 4 in target\"                \n",
       "[42] \"Component “BBM_673_P283_01_VEB_005_R3”: 'is.NA' value mismatch: 7 in current 6 in target\"                \n",
       "[43] \"Component “BBM_673_P283_01_VEB_006_R2”: 'is.NA' value mismatch: 7 in current 6 in target\"                \n",
       "[44] \"Component “BBM_673_P283_01_VEB_007_R2”: 'is.NA' value mismatch: 8 in current 7 in target\"                \n",
       "[45] \"Component “BBM_673_P283_01_VEB_009_R2”: 'is.NA' value mismatch: 13 in current 12 in target\"              \n",
       "[46] \"Component “BBM_673_P283_01_VEB_010_R2”: 'is.NA' value mismatch: 6 in current 5 in target\"                \n",
       "[47] \"Component “BBM_673_P283_01_VEB_011_R2”: 'is.NA' value mismatch: 3 in current 2 in target\"                \n",
       "[48] \"Component “BBM_673_P283_01_VEB_012_R2”: 'is.NA' value mismatch: 4 in current 3 in target\"                \n",
       "[49] \"Component “BBM_673_P283_01_VEB_013_R2”: 'is.NA' value mismatch: 29 in current 28 in target\"              \n",
       "[50] \"Component “BBM_673_P283_01_VEB_019_R2”: 'is.NA' value mismatch: 19 in current 18 in target\"              \n",
       "[51] \"Component “BBM_673_P283_01_VEB_023_R3”: 'is.NA' value mismatch: 16 in current 15 in target\"              \n",
       "[52] \"Component “20230516_EXPL1_LiSc_SA_S610_RT_25_s2”: 'is.NA' value mismatch: 3 in current 2 in target\"      \n",
       "[53] \"Component “20230516_EXPL1_LiSc_SA_S610_RT_27_s12”: 'is.NA' value mismatch: 1 in current 0 in target\"     \n",
       "[54] \"Component “20230516_EXPL1_LiSc_SA_S610_RT_30_s30”: 'is.NA' value mismatch: 2 in current 1 in target\"     \n",
       "[55] \"Component “20230516_EXPL1_LiSc_SA_S610_RT_32_s38”: 'is.NA' value mismatch: 2 in current 1 in target\"     \n",
       "[56] \"Component “20230516_EXPL1_LiSc_SA_S610_RT_35_s51”: 'is.NA' value mismatch: 7 in current 6 in target\"     \n",
       "[57] \"Component “20230516_EXPL1_LiSc_SA_S610_RT_36_s56”: 'is.NA' value mismatch: 7 in current 6 in target\"     \n",
       "[58] \"Component “20230516_EXPL1_LiSc_SA_S610_RT_37_s63”: 'is.NA' value mismatch: 12 in current 11 in target\"   \n",
       "[59] \"Component “20230516_EXPL1_LiSc_SA_S610_RT_38_s68”: 'is.NA' value mismatch: 6 in current 5 in target\"     \n",
       "[60] \"Component “20230516_EXPL1_LiSc_SA_S610_RT_39_s72”: 'is.NA' value mismatch: 4 in current 3 in target\"     \n",
       "[61] \"Component “20230516_EXPL1_LiSc_SA_S610_RT_40_s80”: 'is.NA' value mismatch: 5 in current 4 in target\"     \n",
       "[62] \"Component “20230516_EXPL1_LiSc_SA_S610_RT_41_s81”: 'is.NA' value mismatch: 10 in current 9 in target\"    \n",
       "[63] \"Component “20230516_EXPL1_LiSc_SA_S610_RT_42_s89”: 'is.NA' value mismatch: 9 in current 8 in target\"     \n",
       "[64] \"Component “20230516_EXPL1_LiSc_SA_S610_RT_43_s92”: 'is.NA' value mismatch: 10 in current 9 in target\"    \n",
       "[65] \"Component “20230516_EXPL1_LiSc_SA_S610_RT_44_s96”: 'is.NA' value mismatch: 13 in current 12 in target\"   \n",
       "[66] \"Component “20230516_EXPL1_LiSc_SA_S610_RT_45_QC1_LabD”: 'is.NA' value mismatch: 1 in current 0 in target\"\n",
       "[67] \"Component “CVT09_s73_X016”: 'is.NA' value mismatch: 41 in current 40 in target\"                          "
      ]
     },
     "metadata": {},
     "output_type": "display_data"
    }
   ],
   "source": [
    "# Check Row-by-Row and Column-by-Column Equality\n",
    "all.equal(round(cured_central, 2), round(cured_federated, 2))\n"
   ]
  },
  {
   "cell_type": "code",
   "execution_count": 24,
   "metadata": {
    "vscode": {
     "languageId": "r"
    }
   },
   "outputs": [
    {
     "data": {
      "text/html": [
       "2.50541051982178e-14"
      ],
      "text/latex": [
       "2.50541051982178e-14"
      ],
      "text/markdown": [
       "2.50541051982178e-14"
      ],
      "text/plain": [
       "[1] 2.505411e-14"
      ]
     },
     "metadata": {},
     "output_type": "display_data"
    }
   ],
   "source": [
    "# Calculate the mean of the absolute differences, removing NA's\n",
    "difference <- cured_central - cured_federated\n",
    "abs_difference <- abs(difference)\n",
    "mean_abs_difference <- mean(apply(abs_difference, c(1, 2), mean, na.rm = TRUE), na.rm = TRUE)\n",
    "mean_abs_difference"
   ]
  },
  {
   "cell_type": "code",
   "execution_count": null,
   "metadata": {
    "vscode": {
     "languageId": "r"
    }
   },
   "outputs": [],
   "source": []
  }
 ],
 "metadata": {
  "kernelspec": {
   "display_name": "R",
   "language": "R",
   "name": "ir"
  },
  "language_info": {
   "codemirror_mode": "r",
   "file_extension": ".r",
   "mimetype": "text/x-r-source",
   "name": "R",
   "pygments_lexer": "r",
   "version": "4.2.0"
  },
  "orig_nbformat": 4
 },
 "nbformat": 4,
 "nbformat_minor": 2
}
