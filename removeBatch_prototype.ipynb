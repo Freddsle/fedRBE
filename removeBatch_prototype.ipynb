{
 "cells": [
  {
   "cell_type": "code",
   "execution_count": 21,
   "metadata": {},
   "outputs": [],
   "source": [
    "import pandas as pd\n",
    "import numpy as np\n",
    "\n",
    "from scipy import linalg"
   ]
  },
  {
   "cell_type": "code",
   "execution_count": 22,
   "metadata": {},
   "outputs": [],
   "source": [
    "from server import Server\n",
    "from client import Client"
   ]
  },
  {
   "cell_type": "code",
   "execution_count": 23,
   "metadata": {},
   "outputs": [],
   "source": [
    "MODE = 'Balanced'\n",
    "# MODE = 'Imalanced'\n",
    "MODE_TWO = MODE + '_nocov'\n",
    "# MODE_TWO = MODE "
   ]
  },
  {
   "cell_type": "code",
   "execution_count": 24,
   "metadata": {},
   "outputs": [],
   "source": [
    "# defined by each participant\n",
    "data_dir = './test_data/raw_files_first_' + MODE  # path to data folder\n",
    "\n",
    "\n",
    "cohorts = [\"lab_A\", \"lab_B\", \"lab_C\", \"lab_D\", \"lab_E\"]\n",
    "\n",
    "# defined by the coordinator\n",
    "covariates = [] #['Pyr']  # covariates in linear model (use only one if there is two conditions)\n",
    "# covariates = []\n",
    "experiment_type = \"DIA\"  # if \"TMT\" then TMT data are expected and do additional checks, if \"DIA\" then DIA data are expected wothout additional checks."
   ]
  },
  {
   "cell_type": "code",
   "execution_count": 25,
   "metadata": {},
   "outputs": [],
   "source": [
    "# initialize the server\n",
    "server = Server(covariates)\n",
    "store_clients = {}"
   ]
  },
  {
   "cell_type": "code",
   "execution_count": 26,
   "metadata": {},
   "outputs": [
    {
     "name": "stderr",
     "output_type": "stream",
     "text": [
      "11-Jan-24 19:16:52 - root - INFO - Client lab_A: Log2(x+1) transformed intensities.\n",
      "11-Jan-24 19:16:52 - root - INFO - Client lab_A: Loaded 24 samples and 2568 proteins.\n",
      "11-Jan-24 19:16:52 - root - INFO - Server: joined client  lab_A\n",
      "11-Jan-24 19:16:52 - root - INFO - Client lab_B: Log2(x+1) transformed intensities.\n",
      "11-Jan-24 19:16:52 - root - INFO - Client lab_B: Loaded 13 samples and 2806 proteins.\n",
      "11-Jan-24 19:16:52 - root - INFO - Server: joined client  lab_B\n",
      "11-Jan-24 19:16:52 - root - INFO - Client lab_C: Log2(x+1) transformed intensities.\n",
      "11-Jan-24 19:16:52 - root - INFO - Client lab_C: Loaded 14 samples and 2790 proteins.\n",
      "11-Jan-24 19:16:52 - root - INFO - Server: joined client  lab_C\n",
      "11-Jan-24 19:16:52 - root - INFO - Client lab_D: Log2(x+1) transformed intensities.\n",
      "11-Jan-24 19:16:52 - root - INFO - Client lab_D: Loaded 15 samples and 2824 proteins.\n",
      "11-Jan-24 19:16:52 - root - INFO - Server: joined client  lab_D\n",
      "11-Jan-24 19:16:52 - root - INFO - Client lab_E: Log2(x+1) transformed intensities.\n",
      "11-Jan-24 19:16:52 - root - INFO - Client lab_E: Loaded 15 samples and 2423 proteins.\n",
      "11-Jan-24 19:16:52 - root - INFO - Server: joined client  lab_E\n"
     ]
    },
    {
     "name": "stdout",
     "output_type": "stream",
     "text": [
      "Client lab_A is joining\n",
      "Samples in lab_A data: 24\n",
      "Protein groups in lab_A data:  2568\n",
      "Client lab_B is joining\n",
      "Samples in lab_B data: 13\n",
      "Protein groups in lab_B data:  2806\n",
      "Client lab_C is joining\n",
      "Samples in lab_C data: 14\n",
      "Protein groups in lab_C data:  2790\n",
      "Client lab_D is joining\n",
      "Samples in lab_D data: 15\n",
      "Protein groups in lab_D data:  2824\n",
      "Client lab_E is joining\n",
      "Samples in lab_E data: 15\n",
      "Protein groups in lab_E data:  2423\n",
      "===== Clients joined =====\n",
      "Client names: ['lab_A', 'lab_B', 'lab_C', 'lab_D', 'lab_E']\n",
      "Samples per client: [24, 13, 14, 15, 15]\n",
      "Covariates: []\n",
      "Stored protein group names: 2300\n",
      "Samples in total: 81\n"
     ]
    }
   ],
   "source": [
    "# clinets are joining\n",
    "for cohort_name in cohorts:\n",
    "    # matrix of intensities\n",
    "    intensity_file_path = f\"{data_dir}/{cohort_name}_protein_groups_matrix.tsv\"\n",
    "    # design matrix\n",
    "    annotation_file_path = f\"{data_dir}/{cohort_name}_design.tsv\"\n",
    "\n",
    "    client = Client(\n",
    "        cohort_name,\n",
    "        intensity_file_path,\n",
    "        annotation_file_path,\n",
    "        experiment_type\n",
    "    )\n",
    "\n",
    "    print(f\"Client {client.cohort_name} is joining\")\n",
    "    print(f\"Samples in {client.cohort_name} data: {len(client.sample_names)}\")\n",
    "    print(f\"Protein groups in {client.cohort_name} data:  {len(client.prot_names)}\")\n",
    "\n",
    "    store_clients[client.cohort_name] = client\n",
    "    # join client\n",
    "    server.join_client(client)\n",
    "\n",
    "print(\"===== Clients joined =====\")\n",
    "print(\"Client names:\", server.client_names)\n",
    "print(\"Samples per client:\", server.n_samples_per_cli)\n",
    "print(\"Covariates:\", server.covariates)\n",
    "print(\"Stored protein group names:\", len(server.stored_features))\n",
    "N = np.sum(server.n_samples_per_cli)  # total number of samples\n",
    "print(\"Samples in total:\", N)\n",
    "\n",
    "\n",
    "# TMT prints:\n",
    "# print(\"TMT-plexes per client:\", server.n_tmt_per_cli)\n",
    "# Ntmt = np.sum(server.n_tmt_per_cli)\n",
    "# print(\"TMT-plexes in total:\", Ntmt)"
   ]
  },
  {
   "cell_type": "code",
   "execution_count": 27,
   "metadata": {},
   "outputs": [],
   "source": [
    "# # Exclude P31068 from the list server.stored_features\n",
    "# server.stored_features.remove(\"P31068\")\n"
   ]
  },
  {
   "cell_type": "code",
   "execution_count": 28,
   "metadata": {},
   "outputs": [
    {
     "data": {
      "text/html": [
       "<div>\n",
       "<style scoped>\n",
       "    .dataframe tbody tr th:only-of-type {\n",
       "        vertical-align: middle;\n",
       "    }\n",
       "\n",
       "    .dataframe tbody tr th {\n",
       "        vertical-align: top;\n",
       "    }\n",
       "\n",
       "    .dataframe thead th {\n",
       "        text-align: right;\n",
       "    }\n",
       "</style>\n",
       "<table border=\"1\" class=\"dataframe\">\n",
       "  <thead>\n",
       "    <tr style=\"text-align: right;\">\n",
       "      <th></th>\n",
       "      <th>CVT09_QC3_LabE_X025</th>\n",
       "      <th>CVT09_s3_X002</th>\n",
       "      <th>CVT09_s10_X003</th>\n",
       "      <th>CVT09_s13_X004</th>\n",
       "      <th>CVT09_s16_X005</th>\n",
       "      <th>CVT09_s25_X006</th>\n",
       "      <th>CVT09_s28_X007</th>\n",
       "      <th>CVT09_s31_X008</th>\n",
       "      <th>CVT09_s36_X009</th>\n",
       "      <th>CVT09_s41_X010</th>\n",
       "      <th>CVT09_s59_X013</th>\n",
       "      <th>CVT09_s61_X014</th>\n",
       "      <th>CVT09_s73_X016</th>\n",
       "      <th>CVT09_s84_X018</th>\n",
       "      <th>CVT09_s93_X020</th>\n",
       "    </tr>\n",
       "    <tr>\n",
       "      <th>rowname</th>\n",
       "      <th></th>\n",
       "      <th></th>\n",
       "      <th></th>\n",
       "      <th></th>\n",
       "      <th></th>\n",
       "      <th></th>\n",
       "      <th></th>\n",
       "      <th></th>\n",
       "      <th></th>\n",
       "      <th></th>\n",
       "      <th></th>\n",
       "      <th></th>\n",
       "      <th></th>\n",
       "      <th></th>\n",
       "      <th></th>\n",
       "    </tr>\n",
       "  </thead>\n",
       "  <tbody>\n",
       "    <tr>\n",
       "      <th>P0ADA1</th>\n",
       "      <td>20.832956</td>\n",
       "      <td>20.708330</td>\n",
       "      <td>20.826531</td>\n",
       "      <td>20.688345</td>\n",
       "      <td>20.876203</td>\n",
       "      <td>20.682322</td>\n",
       "      <td>20.802885</td>\n",
       "      <td>20.797734</td>\n",
       "      <td>20.613864</td>\n",
       "      <td>20.857994</td>\n",
       "      <td>20.648859</td>\n",
       "      <td>20.539442</td>\n",
       "      <td>20.452319</td>\n",
       "      <td>20.554284</td>\n",
       "      <td>20.448845</td>\n",
       "    </tr>\n",
       "    <tr>\n",
       "      <th>P0A8D6</th>\n",
       "      <td>21.719072</td>\n",
       "      <td>21.634510</td>\n",
       "      <td>21.752018</td>\n",
       "      <td>21.591101</td>\n",
       "      <td>21.643421</td>\n",
       "      <td>21.662239</td>\n",
       "      <td>21.703940</td>\n",
       "      <td>21.745151</td>\n",
       "      <td>21.450477</td>\n",
       "      <td>21.476415</td>\n",
       "      <td>21.394004</td>\n",
       "      <td>21.477760</td>\n",
       "      <td>21.377105</td>\n",
       "      <td>21.525501</td>\n",
       "      <td>21.343467</td>\n",
       "    </tr>\n",
       "    <tr>\n",
       "      <th>P06993</th>\n",
       "      <td>19.283362</td>\n",
       "      <td>19.235112</td>\n",
       "      <td>19.138732</td>\n",
       "      <td>19.347161</td>\n",
       "      <td>19.089872</td>\n",
       "      <td>19.556955</td>\n",
       "      <td>19.272650</td>\n",
       "      <td>19.220116</td>\n",
       "      <td>19.235278</td>\n",
       "      <td>18.965302</td>\n",
       "      <td>19.639554</td>\n",
       "      <td>19.378284</td>\n",
       "      <td>19.544995</td>\n",
       "      <td>19.658079</td>\n",
       "      <td>19.686124</td>\n",
       "    </tr>\n",
       "    <tr>\n",
       "      <th>P00959</th>\n",
       "      <td>22.918466</td>\n",
       "      <td>23.050364</td>\n",
       "      <td>22.649941</td>\n",
       "      <td>23.035286</td>\n",
       "      <td>22.940258</td>\n",
       "      <td>22.888636</td>\n",
       "      <td>22.772447</td>\n",
       "      <td>22.762872</td>\n",
       "      <td>23.149398</td>\n",
       "      <td>23.092034</td>\n",
       "      <td>23.354017</td>\n",
       "      <td>23.340674</td>\n",
       "      <td>23.408598</td>\n",
       "      <td>23.378315</td>\n",
       "      <td>23.360194</td>\n",
       "    </tr>\n",
       "    <tr>\n",
       "      <th>P0AEQ1</th>\n",
       "      <td>20.028021</td>\n",
       "      <td>20.060272</td>\n",
       "      <td>20.220696</td>\n",
       "      <td>20.047682</td>\n",
       "      <td>20.039499</td>\n",
       "      <td>19.983555</td>\n",
       "      <td>20.029693</td>\n",
       "      <td>19.972000</td>\n",
       "      <td>19.829458</td>\n",
       "      <td>19.811508</td>\n",
       "      <td>18.937029</td>\n",
       "      <td>19.125204</td>\n",
       "      <td>18.919943</td>\n",
       "      <td>18.846932</td>\n",
       "      <td>18.774008</td>\n",
       "    </tr>\n",
       "  </tbody>\n",
       "</table>\n",
       "</div>"
      ],
      "text/plain": [
       "         CVT09_QC3_LabE_X025  CVT09_s3_X002  CVT09_s10_X003  CVT09_s13_X004  \\\n",
       "rowname                                                                       \n",
       "P0ADA1             20.832956      20.708330       20.826531       20.688345   \n",
       "P0A8D6             21.719072      21.634510       21.752018       21.591101   \n",
       "P06993             19.283362      19.235112       19.138732       19.347161   \n",
       "P00959             22.918466      23.050364       22.649941       23.035286   \n",
       "P0AEQ1             20.028021      20.060272       20.220696       20.047682   \n",
       "\n",
       "         CVT09_s16_X005  CVT09_s25_X006  CVT09_s28_X007  CVT09_s31_X008  \\\n",
       "rowname                                                                   \n",
       "P0ADA1        20.876203       20.682322       20.802885       20.797734   \n",
       "P0A8D6        21.643421       21.662239       21.703940       21.745151   \n",
       "P06993        19.089872       19.556955       19.272650       19.220116   \n",
       "P00959        22.940258       22.888636       22.772447       22.762872   \n",
       "P0AEQ1        20.039499       19.983555       20.029693       19.972000   \n",
       "\n",
       "         CVT09_s36_X009  CVT09_s41_X010  CVT09_s59_X013  CVT09_s61_X014  \\\n",
       "rowname                                                                   \n",
       "P0ADA1        20.613864       20.857994       20.648859       20.539442   \n",
       "P0A8D6        21.450477       21.476415       21.394004       21.477760   \n",
       "P06993        19.235278       18.965302       19.639554       19.378284   \n",
       "P00959        23.149398       23.092034       23.354017       23.340674   \n",
       "P0AEQ1        19.829458       19.811508       18.937029       19.125204   \n",
       "\n",
       "         CVT09_s73_X016  CVT09_s84_X018  CVT09_s93_X020  \n",
       "rowname                                                  \n",
       "P0ADA1        20.452319       20.554284       20.448845  \n",
       "P0A8D6        21.377105       21.525501       21.343467  \n",
       "P06993        19.544995       19.658079       19.686124  \n",
       "P00959        23.408598       23.378315       23.360194  \n",
       "P0AEQ1        18.919943       18.846932       18.774008  "
      ]
     },
     "execution_count": 28,
     "metadata": {},
     "output_type": "execute_result"
    }
   ],
   "source": [
    "client.intensities.head(5)"
   ]
  },
  {
   "cell_type": "code",
   "execution_count": 29,
   "metadata": {},
   "outputs": [
    {
     "name": "stderr",
     "output_type": "stream",
     "text": [
      "11-Jan-24 19:16:52 - root - INFO - Client lab_A: Validated 24 samples and 2300 proteins.\n",
      "11-Jan-24 19:16:52 - root - INFO - Client lab_A: Design matrix created.\n",
      "11-Jan-24 19:16:52 - root - INFO - Client lab_A: Design matrix columns: ['intercept' 'lab_A' 'lab_B' 'lab_C' 'lab_D']\n",
      "11-Jan-24 19:16:52 - root - INFO - Client lab_B: Validated 13 samples and 2300 proteins.\n",
      "11-Jan-24 19:16:52 - root - INFO - Client lab_B: Design matrix created.\n",
      "11-Jan-24 19:16:52 - root - INFO - Client lab_B: Design matrix columns: ['intercept' 'lab_A' 'lab_B' 'lab_C' 'lab_D']\n",
      "11-Jan-24 19:16:52 - root - INFO - Client lab_C: Validated 14 samples and 2300 proteins.\n",
      "11-Jan-24 19:16:52 - root - INFO - Client lab_C: Design matrix created.\n",
      "11-Jan-24 19:16:52 - root - INFO - Client lab_C: Design matrix columns: ['intercept' 'lab_A' 'lab_B' 'lab_C' 'lab_D']\n",
      "11-Jan-24 19:16:52 - root - INFO - Client lab_D: Validated 15 samples and 2300 proteins.\n",
      "11-Jan-24 19:16:52 - root - INFO - Client lab_D: Design matrix created.\n",
      "11-Jan-24 19:16:52 - root - INFO - Client lab_D: Design matrix columns: ['intercept' 'lab_A' 'lab_B' 'lab_C' 'lab_D']\n",
      "11-Jan-24 19:16:52 - root - INFO - Client lab_E: Validated 15 samples and 2300 proteins.\n",
      "11-Jan-24 19:16:52 - root - INFO - Client lab_E: Design matrix created.\n",
      "11-Jan-24 19:16:52 - root - INFO - Client lab_E: Design matrix columns: ['intercept' 'lab_A' 'lab_B' 'lab_C' 'lab_D']\n"
     ]
    },
    {
     "name": "stdout",
     "output_type": "stream",
     "text": [
      "Samples in lab_A data: 24\n",
      "Protein groups in lab_A data:  2300\n",
      "Samples in lab_B data: 13\n",
      "Protein groups in lab_B data:  2300\n",
      "Samples in lab_C data: 14\n",
      "Protein groups in lab_C data:  2300\n",
      "Samples in lab_D data: 15\n",
      "Protein groups in lab_D data:  2300\n",
      "Samples in lab_E data: 15\n",
      "Protein groups in lab_E data:  2300\n",
      "[]\n",
      "['intercept', 'lab_A', 'lab_B', 'lab_C', 'lab_D']\n"
     ]
    }
   ],
   "source": [
    "# Cleaning inputs\n",
    "for c in cohorts:\n",
    "    client = store_clients[c]\n",
    "    client.validate_inputs(server.stored_features, server.variables)\n",
    "    # add cohort effect columns to each design matrix\n",
    "    # add 1 column less than the number of cohorts\n",
    "    client.create_design(server.client_names[:-1])\n",
    "\n",
    "    print(f\"Samples in {client.cohort_name} data: {len(client.sample_names)}\")\n",
    "    print(f\"Protein groups in {client.cohort_name} data:  {len(client.prot_names)}\")\n",
    "\n",
    "# add cohort columns to the list of confounders on the server side\n",
    "print(server.variables)\n",
    "server.variables = ['intercept'] + server.client_names[:-1] + server.variables\n",
    "print(server.variables)"
   ]
  },
  {
   "cell_type": "code",
   "execution_count": 30,
   "metadata": {},
   "outputs": [
    {
     "data": {
      "text/plain": [
       "['lab_B', 'lab_C', 'lab_D', 'lab_E']"
      ]
     },
     "execution_count": 30,
     "metadata": {},
     "output_type": "execute_result"
    }
   ],
   "source": [
    "server.client_names[1:]"
   ]
  },
  {
   "cell_type": "code",
   "execution_count": 31,
   "metadata": {},
   "outputs": [
    {
     "data": {
      "text/html": [
       "<div>\n",
       "<style scoped>\n",
       "    .dataframe tbody tr th:only-of-type {\n",
       "        vertical-align: middle;\n",
       "    }\n",
       "\n",
       "    .dataframe tbody tr th {\n",
       "        vertical-align: top;\n",
       "    }\n",
       "\n",
       "    .dataframe thead th {\n",
       "        text-align: right;\n",
       "    }\n",
       "</style>\n",
       "<table border=\"1\" class=\"dataframe\">\n",
       "  <thead>\n",
       "    <tr style=\"text-align: right;\">\n",
       "      <th></th>\n",
       "      <th>intercept</th>\n",
       "      <th>lab_A</th>\n",
       "      <th>lab_B</th>\n",
       "      <th>lab_C</th>\n",
       "      <th>lab_D</th>\n",
       "    </tr>\n",
       "    <tr>\n",
       "      <th>rowname</th>\n",
       "      <th></th>\n",
       "      <th></th>\n",
       "      <th></th>\n",
       "      <th></th>\n",
       "      <th></th>\n",
       "    </tr>\n",
       "  </thead>\n",
       "  <tbody>\n",
       "    <tr>\n",
       "      <th>CVT09_QC3_LabE_X025</th>\n",
       "      <td>1.0</td>\n",
       "      <td>-1</td>\n",
       "      <td>-1</td>\n",
       "      <td>-1</td>\n",
       "      <td>-1</td>\n",
       "    </tr>\n",
       "    <tr>\n",
       "      <th>CVT09_s3_X002</th>\n",
       "      <td>1.0</td>\n",
       "      <td>-1</td>\n",
       "      <td>-1</td>\n",
       "      <td>-1</td>\n",
       "      <td>-1</td>\n",
       "    </tr>\n",
       "    <tr>\n",
       "      <th>CVT09_s10_X003</th>\n",
       "      <td>1.0</td>\n",
       "      <td>-1</td>\n",
       "      <td>-1</td>\n",
       "      <td>-1</td>\n",
       "      <td>-1</td>\n",
       "    </tr>\n",
       "    <tr>\n",
       "      <th>CVT09_s13_X004</th>\n",
       "      <td>1.0</td>\n",
       "      <td>-1</td>\n",
       "      <td>-1</td>\n",
       "      <td>-1</td>\n",
       "      <td>-1</td>\n",
       "    </tr>\n",
       "    <tr>\n",
       "      <th>CVT09_s16_X005</th>\n",
       "      <td>1.0</td>\n",
       "      <td>-1</td>\n",
       "      <td>-1</td>\n",
       "      <td>-1</td>\n",
       "      <td>-1</td>\n",
       "    </tr>\n",
       "    <tr>\n",
       "      <th>CVT09_s25_X006</th>\n",
       "      <td>1.0</td>\n",
       "      <td>-1</td>\n",
       "      <td>-1</td>\n",
       "      <td>-1</td>\n",
       "      <td>-1</td>\n",
       "    </tr>\n",
       "    <tr>\n",
       "      <th>CVT09_s28_X007</th>\n",
       "      <td>1.0</td>\n",
       "      <td>-1</td>\n",
       "      <td>-1</td>\n",
       "      <td>-1</td>\n",
       "      <td>-1</td>\n",
       "    </tr>\n",
       "    <tr>\n",
       "      <th>CVT09_s31_X008</th>\n",
       "      <td>1.0</td>\n",
       "      <td>-1</td>\n",
       "      <td>-1</td>\n",
       "      <td>-1</td>\n",
       "      <td>-1</td>\n",
       "    </tr>\n",
       "    <tr>\n",
       "      <th>CVT09_s36_X009</th>\n",
       "      <td>1.0</td>\n",
       "      <td>-1</td>\n",
       "      <td>-1</td>\n",
       "      <td>-1</td>\n",
       "      <td>-1</td>\n",
       "    </tr>\n",
       "    <tr>\n",
       "      <th>CVT09_s41_X010</th>\n",
       "      <td>1.0</td>\n",
       "      <td>-1</td>\n",
       "      <td>-1</td>\n",
       "      <td>-1</td>\n",
       "      <td>-1</td>\n",
       "    </tr>\n",
       "    <tr>\n",
       "      <th>CVT09_s59_X013</th>\n",
       "      <td>1.0</td>\n",
       "      <td>-1</td>\n",
       "      <td>-1</td>\n",
       "      <td>-1</td>\n",
       "      <td>-1</td>\n",
       "    </tr>\n",
       "    <tr>\n",
       "      <th>CVT09_s61_X014</th>\n",
       "      <td>1.0</td>\n",
       "      <td>-1</td>\n",
       "      <td>-1</td>\n",
       "      <td>-1</td>\n",
       "      <td>-1</td>\n",
       "    </tr>\n",
       "    <tr>\n",
       "      <th>CVT09_s73_X016</th>\n",
       "      <td>1.0</td>\n",
       "      <td>-1</td>\n",
       "      <td>-1</td>\n",
       "      <td>-1</td>\n",
       "      <td>-1</td>\n",
       "    </tr>\n",
       "    <tr>\n",
       "      <th>CVT09_s84_X018</th>\n",
       "      <td>1.0</td>\n",
       "      <td>-1</td>\n",
       "      <td>-1</td>\n",
       "      <td>-1</td>\n",
       "      <td>-1</td>\n",
       "    </tr>\n",
       "    <tr>\n",
       "      <th>CVT09_s93_X020</th>\n",
       "      <td>1.0</td>\n",
       "      <td>-1</td>\n",
       "      <td>-1</td>\n",
       "      <td>-1</td>\n",
       "      <td>-1</td>\n",
       "    </tr>\n",
       "  </tbody>\n",
       "</table>\n",
       "</div>"
      ],
      "text/plain": [
       "                     intercept  lab_A  lab_B  lab_C  lab_D\n",
       "rowname                                                   \n",
       "CVT09_QC3_LabE_X025        1.0     -1     -1     -1     -1\n",
       "CVT09_s3_X002              1.0     -1     -1     -1     -1\n",
       "CVT09_s10_X003             1.0     -1     -1     -1     -1\n",
       "CVT09_s13_X004             1.0     -1     -1     -1     -1\n",
       "CVT09_s16_X005             1.0     -1     -1     -1     -1\n",
       "CVT09_s25_X006             1.0     -1     -1     -1     -1\n",
       "CVT09_s28_X007             1.0     -1     -1     -1     -1\n",
       "CVT09_s31_X008             1.0     -1     -1     -1     -1\n",
       "CVT09_s36_X009             1.0     -1     -1     -1     -1\n",
       "CVT09_s41_X010             1.0     -1     -1     -1     -1\n",
       "CVT09_s59_X013             1.0     -1     -1     -1     -1\n",
       "CVT09_s61_X014             1.0     -1     -1     -1     -1\n",
       "CVT09_s73_X016             1.0     -1     -1     -1     -1\n",
       "CVT09_s84_X018             1.0     -1     -1     -1     -1\n",
       "CVT09_s93_X020             1.0     -1     -1     -1     -1"
      ]
     },
     "execution_count": 31,
     "metadata": {},
     "output_type": "execute_result"
    }
   ],
   "source": [
    "store_clients['lab_E'].design"
   ]
  },
  {
   "cell_type": "code",
   "execution_count": 32,
   "metadata": {},
   "outputs": [
    {
     "data": {
      "text/plain": [
       "(2300, 15)"
      ]
     },
     "execution_count": 32,
     "metadata": {},
     "output_type": "execute_result"
    }
   ],
   "source": [
    "client.intensities.shape"
   ]
  },
  {
   "cell_type": "code",
   "execution_count": 33,
   "metadata": {},
   "outputs": [
    {
     "name": "stdout",
     "output_type": "stream",
     "text": [
      "Samples in lab_A data: 24, protein groups: 2300\n",
      "Samples in lab_B data: 13, protein groups: 2300\n",
      "Samples in lab_C data: 14, protein groups: 2300\n",
      "Samples in lab_D data: 15, protein groups: 2300\n",
      "Samples in lab_E data: 15, protein groups: 2300\n"
     ]
    }
   ],
   "source": [
    "# Keeping only shared proteins\n",
    "for c in cohorts:\n",
    "    client = store_clients[c]\n",
    "    client.prot_names = server.stored_features\n",
    "    client.intensities = client.intensities.loc[client.prot_names, :]\n",
    "    #client.counts = client.counts.loc[client.prot_names, :]\n",
    "    print(f\"Samples in {client.cohort_name} data: {len(client.sample_names)}, protein groups: {len(client.prot_names)}\")"
   ]
  },
  {
   "cell_type": "markdown",
   "metadata": {},
   "source": [
    "## 6). Limma - removeBatchEffects"
   ]
  },
  {
   "cell_type": "code",
   "execution_count": 34,
   "metadata": {},
   "outputs": [],
   "source": [
    "### 1) computes XtX, XtY, beta and stdev\n",
    "XtX_list = []\n",
    "XtY_list = []\n",
    "\n",
    "server.n_samples_per_cli = []"
   ]
  },
  {
   "cell_type": "code",
   "execution_count": 35,
   "metadata": {},
   "outputs": [
    {
     "name": "stdout",
     "output_type": "stream",
     "text": [
      "Client lab_A has 24 samples\n",
      "(2300, 5, 5)\n",
      "(2300, 5)\n",
      "Client lab_B has 13 samples\n",
      "(2300, 5, 5)\n",
      "(2300, 5)\n",
      "Client lab_C has 14 samples\n",
      "(2300, 5, 5)\n",
      "(2300, 5)\n",
      "Client lab_D has 15 samples\n",
      "(2300, 5, 5)\n",
      "(2300, 5)\n",
      "Client lab_E has 15 samples\n",
      "(2300, 5, 5)\n",
      "(2300, 5)\n"
     ]
    }
   ],
   "source": [
    "for c in cohorts:\n",
    "    client = store_clients[c]\n",
    "    client.sample_names = client.design.index.values\n",
    "    # sort intensities by sample names and proteins\n",
    "    client.intensities = client.intensities.loc[client.prot_names, client.sample_names]\n",
    "    client.n_samples = len(client.sample_names)\n",
    "    \n",
    "    XtX, XtY = client.compute_XtX_XtY()\n",
    "    XtX_list.append(XtX)\n",
    "    XtY_list.append(XtY)\n",
    "\n",
    "    print(f\"Client {client.cohort_name} has {client.n_samples} samples\")\n",
    "    print(XtX.shape)\n",
    "    print(XtY.shape)"
   ]
  },
  {
   "cell_type": "code",
   "execution_count": 36,
   "metadata": {},
   "outputs": [
    {
     "data": {
      "text/plain": [
       "[(2300,), (2300,), (2300,), (2300,), (2300,)]"
      ]
     },
     "execution_count": 36,
     "metadata": {},
     "output_type": "execute_result"
    }
   ],
   "source": [
    "[(len(sublist), len(sublist[0])) if isinstance(sublist, list) else (len(sublist),) for sublist in XtX_list]"
   ]
  },
  {
   "cell_type": "code",
   "execution_count": 37,
   "metadata": {},
   "outputs": [
    {
     "name": "stderr",
     "output_type": "stream",
     "text": [
      "11-Jan-24 19:16:53 - root - INFO - Server: computing global beta and beta stdev, k = 5, n = 2300\n"
     ]
    }
   ],
   "source": [
    "server.compute_beta_and_beta_stdev(XtX_list, XtY_list)"
   ]
  },
  {
   "cell_type": "markdown",
   "metadata": {},
   "source": [
    "## use beta (coefficients) to correct batch effects"
   ]
  },
  {
   "cell_type": "code",
   "execution_count": 38,
   "metadata": {},
   "outputs": [
    {
     "data": {
      "text/plain": [
       "array([[17.85603314,  2.74016121, -5.89320207,  2.84647022,  1.43492513],\n",
       "       [19.02495288,  4.58768995, -5.10249833,  2.86902293,  0.06741085],\n",
       "       [25.32093529,  2.85266558, -5.10174982,  1.64930341,  0.91632211],\n",
       "       ...,\n",
       "       [18.48808868,  1.75966314, -4.91697978,  1.10717321, -0.34642961],\n",
       "       [20.42682665,  3.7185432 , -2.58735193,  1.46178296,  0.41259323],\n",
       "       [19.79164679,  2.09787317, -4.17860247,  2.19175616,  0.38571412]])"
      ]
     },
     "execution_count": 38,
     "metadata": {},
     "output_type": "execute_result"
    }
   ],
   "source": [
    "server.beta"
   ]
  },
  {
   "cell_type": "code",
   "execution_count": 39,
   "metadata": {},
   "outputs": [
    {
     "name": "stderr",
     "output_type": "stream",
     "text": [
      "11-Jan-24 19:16:53 - root - INFO - Client lab_A:\tBatch effects removed.\n",
      "11-Jan-24 19:16:53 - root - INFO - Client lab_B:\tBatch effects removed.\n",
      "11-Jan-24 19:16:53 - root - INFO - Client lab_C:\tBatch effects removed.\n",
      "11-Jan-24 19:16:53 - root - INFO - Client lab_D:\tBatch effects removed.\n",
      "11-Jan-24 19:16:53 - root - INFO - Client lab_E:\tBatch effects removed.\n"
     ]
    }
   ],
   "source": [
    "# pg_matrix - beta %*% t(batch)\n",
    "\n",
    "for c in cohorts:\n",
    "    client = store_clients[c]\n",
    "    client.remove_batch_effects(server.beta)\n",
    "    "
   ]
  },
  {
   "cell_type": "code",
   "execution_count": 40,
   "metadata": {},
   "outputs": [],
   "source": [
    "for c in cohorts:\n",
    "    client = store_clients[c]\n",
    "    client.intensities_corrected.to_csv(f'results/{MODE_TWO}/{c}_intensities_corrected.tsv', sep='\\t')"
   ]
  },
  {
   "cell_type": "code",
   "execution_count": null,
   "metadata": {},
   "outputs": [],
   "source": []
  },
  {
   "cell_type": "code",
   "execution_count": null,
   "metadata": {},
   "outputs": [],
   "source": []
  }
 ],
 "metadata": {
  "kernelspec": {
   "display_name": "deqms_fed",
   "language": "python",
   "name": "python3"
  },
  "language_info": {
   "codemirror_mode": {
    "name": "ipython",
    "version": 3
   },
   "file_extension": ".py",
   "mimetype": "text/x-python",
   "name": "python",
   "nbconvert_exporter": "python",
   "pygments_lexer": "ipython3",
   "version": "3.11.4"
  },
  "orig_nbformat": 4
 },
 "nbformat": 4,
 "nbformat_minor": 2
}
