{
 "cells": [
  {
   "cell_type": "code",
   "execution_count": 20,
   "metadata": {},
   "outputs": [],
   "source": [
    "import pandas as pd\n",
    "import numpy as np\n",
    "\n",
    "from scipy import linalg"
   ]
  },
  {
   "cell_type": "code",
   "execution_count": 21,
   "metadata": {},
   "outputs": [],
   "source": [
    "from server import Server\n",
    "from client import Client"
   ]
  },
  {
   "cell_type": "code",
   "execution_count": 22,
   "metadata": {},
   "outputs": [],
   "source": [
    "# defined by each participant\n",
    "data_dir = 'test_data/raw_files'  # path to data folder\n",
    "cohorts = [\"lab_A\", \"lab_C\", \"lab_D\", \"lab_E\"]\n",
    "\n",
    "\n",
    "# defined by the coordinator\n",
    "covariates = []  # covariates in linear model\n",
    "experiment_type = \"DIA\"  # if \"TMT\" then TMT data are expected and do additional checks, if \"DIA\" then DIA data are expected wothout additional checks."
   ]
  },
  {
   "cell_type": "code",
   "execution_count": 23,
   "metadata": {},
   "outputs": [],
   "source": [
    "# initialize the server\n",
    "server = Server(covariates)\n",
    "store_clients = {}"
   ]
  },
  {
   "cell_type": "code",
   "execution_count": 24,
   "metadata": {},
   "outputs": [
    {
     "name": "stderr",
     "output_type": "stream",
     "text": [
      "09-Aug-23 13:38:07 - root - INFO - Client lab_A: Log2(x+1) transformed intensities.\n",
      "09-Aug-23 13:38:07 - root - INFO - Client lab_A: Loaded 28 samples and 2627 proteins.\n",
      "09-Aug-23 13:38:07 - root - INFO - Server: joined client  lab_A\n",
      "09-Aug-23 13:38:07 - root - INFO - Client lab_C: Log2(x+1) transformed intensities.\n",
      "09-Aug-23 13:38:07 - root - INFO - Client lab_C: Loaded 23 samples and 2885 proteins.\n",
      "09-Aug-23 13:38:07 - root - INFO - Server: joined client  lab_C\n",
      "09-Aug-23 13:38:07 - root - INFO - Client lab_D: Log2(x+1) transformed intensities.\n",
      "09-Aug-23 13:38:07 - root - INFO - Client lab_D: Loaded 24 samples and 2922 proteins.\n",
      "09-Aug-23 13:38:07 - root - INFO - Server: joined client  lab_D\n",
      "09-Aug-23 13:38:07 - root - INFO - Client lab_E: Log2(x+1) transformed intensities.\n",
      "09-Aug-23 13:38:07 - root - INFO - Client lab_E: Loaded 24 samples and 2457 proteins.\n",
      "09-Aug-23 13:38:07 - root - INFO - Server: joined client  lab_E\n"
     ]
    },
    {
     "name": "stdout",
     "output_type": "stream",
     "text": [
      "Client lab_A is joining\n",
      "Samples in lab_A data: 28\n",
      "Protein groups in lab_A data:  2627\n",
      "Client lab_C is joining\n",
      "Samples in lab_C data: 23\n",
      "Protein groups in lab_C data:  2885\n",
      "Client lab_D is joining\n",
      "Samples in lab_D data: 24\n",
      "Protein groups in lab_D data:  2922\n",
      "Client lab_E is joining\n",
      "Samples in lab_E data: 24\n",
      "Protein groups in lab_E data:  2457\n",
      "===== Clients joined =====\n",
      "Client names: ['lab_A', 'lab_C', 'lab_D', 'lab_E']\n",
      "Samples per client: [28, 23, 24, 24]\n",
      "Covariates: []\n",
      "Stored protein group names: 2336\n",
      "Samples in total: 99\n"
     ]
    }
   ],
   "source": [
    "# clinets are joining\n",
    "for cohort_name in cohorts:\n",
    "    # matrix of intensities\n",
    "    intensity_file_path = f\"{data_dir}/{cohort_name}_protein_groups_matrix.tsv\"\n",
    "    # design matrix\n",
    "    #annotation_file_path = f\"{data_dir}/{cohort_name}_design.tsv\"\n",
    "\n",
    "    client = Client(\n",
    "        cohort_name,\n",
    "        intensity_file_path,\n",
    "        # annotation_file_path,\n",
    "        experiment_type\n",
    "    )\n",
    "\n",
    "    print(f\"Client {client.cohort_name} is joining\")\n",
    "    print(f\"Samples in {client.cohort_name} data: {len(client.sample_names)}\")\n",
    "    print(f\"Protein groups in {client.cohort_name} data:  {len(client.prot_names)}\")\n",
    "\n",
    "    store_clients[client.cohort_name] = client\n",
    "    # join client\n",
    "    server.join_client(client)\n",
    "\n",
    "print(\"===== Clients joined =====\")\n",
    "print(\"Client names:\", server.client_names)\n",
    "print(\"Samples per client:\", server.n_samples_per_cli)\n",
    "#print(\"Target classes:\", server.target_classes)\n",
    "print(\"Covariates:\", server.covariates)\n",
    "print(\"Stored protein group names:\", len(server.stored_features))\n",
    "N = np.sum(server.n_samples_per_cli)  # total number of samples\n",
    "print(\"Samples in total:\", N)\n",
    "\n",
    "\n",
    "# TMT prints:\n",
    "# print(\"TMT-plexes per client:\", server.n_tmt_per_cli)\n",
    "# Ntmt = np.sum(server.n_tmt_per_cli)\n",
    "# print(\"TMT-plexes in total:\", Ntmt)"
   ]
  },
  {
   "cell_type": "code",
   "execution_count": 25,
   "metadata": {},
   "outputs": [
    {
     "data": {
      "text/html": [
       "<div>\n",
       "<style scoped>\n",
       "    .dataframe tbody tr th:only-of-type {\n",
       "        vertical-align: middle;\n",
       "    }\n",
       "\n",
       "    .dataframe tbody tr th {\n",
       "        vertical-align: top;\n",
       "    }\n",
       "\n",
       "    .dataframe thead th {\n",
       "        text-align: right;\n",
       "    }\n",
       "</style>\n",
       "<table border=\"1\" class=\"dataframe\">\n",
       "  <thead>\n",
       "    <tr style=\"text-align: right;\">\n",
       "      <th></th>\n",
       "      <th>CVT09_QC1_LabE_X023</th>\n",
       "      <th>CVT09_QC2_LabE_X024</th>\n",
       "      <th>CVT09_QC3_LabE_X025</th>\n",
       "      <th>CVT09_QC4_LabE_X026</th>\n",
       "      <th>CVT09_s3_X002</th>\n",
       "      <th>CVT09_s10_X003</th>\n",
       "      <th>CVT09_s13_X004</th>\n",
       "      <th>CVT09_s16_X005</th>\n",
       "      <th>CVT09_s25_X006</th>\n",
       "      <th>CVT09_s28_X007</th>\n",
       "      <th>...</th>\n",
       "      <th>CVT09_s55_X012</th>\n",
       "      <th>CVT09_s59_X013</th>\n",
       "      <th>CVT09_s61_X014</th>\n",
       "      <th>CVT09_s67_X015</th>\n",
       "      <th>CVT09_s73_X016</th>\n",
       "      <th>CVT09_s77_X017</th>\n",
       "      <th>CVT09_s84_X018</th>\n",
       "      <th>CVT09_s90_X019</th>\n",
       "      <th>CVT09_s93_X020</th>\n",
       "      <th>CVT09_s99_X021</th>\n",
       "    </tr>\n",
       "    <tr>\n",
       "      <th>rowname</th>\n",
       "      <th></th>\n",
       "      <th></th>\n",
       "      <th></th>\n",
       "      <th></th>\n",
       "      <th></th>\n",
       "      <th></th>\n",
       "      <th></th>\n",
       "      <th></th>\n",
       "      <th></th>\n",
       "      <th></th>\n",
       "      <th></th>\n",
       "      <th></th>\n",
       "      <th></th>\n",
       "      <th></th>\n",
       "      <th></th>\n",
       "      <th></th>\n",
       "      <th></th>\n",
       "      <th></th>\n",
       "      <th></th>\n",
       "      <th></th>\n",
       "      <th></th>\n",
       "    </tr>\n",
       "  </thead>\n",
       "  <tbody>\n",
       "    <tr>\n",
       "      <th>P0ADA1</th>\n",
       "      <td>20.530068</td>\n",
       "      <td>20.800517</td>\n",
       "      <td>20.832956</td>\n",
       "      <td>20.472747</td>\n",
       "      <td>20.708330</td>\n",
       "      <td>20.826531</td>\n",
       "      <td>20.688345</td>\n",
       "      <td>20.876203</td>\n",
       "      <td>20.682322</td>\n",
       "      <td>20.802885</td>\n",
       "      <td>...</td>\n",
       "      <td>20.557822</td>\n",
       "      <td>20.648859</td>\n",
       "      <td>20.539442</td>\n",
       "      <td>20.485333</td>\n",
       "      <td>20.452319</td>\n",
       "      <td>20.535641</td>\n",
       "      <td>20.554284</td>\n",
       "      <td>20.505225</td>\n",
       "      <td>20.448845</td>\n",
       "      <td>20.492617</td>\n",
       "    </tr>\n",
       "    <tr>\n",
       "      <th>P0A8D6</th>\n",
       "      <td>21.469675</td>\n",
       "      <td>21.583280</td>\n",
       "      <td>21.719072</td>\n",
       "      <td>21.281608</td>\n",
       "      <td>21.634510</td>\n",
       "      <td>21.752018</td>\n",
       "      <td>21.591101</td>\n",
       "      <td>21.643421</td>\n",
       "      <td>21.662239</td>\n",
       "      <td>21.703940</td>\n",
       "      <td>...</td>\n",
       "      <td>21.381643</td>\n",
       "      <td>21.394004</td>\n",
       "      <td>21.477760</td>\n",
       "      <td>21.278157</td>\n",
       "      <td>21.377105</td>\n",
       "      <td>21.382044</td>\n",
       "      <td>21.525501</td>\n",
       "      <td>21.327597</td>\n",
       "      <td>21.343467</td>\n",
       "      <td>21.494742</td>\n",
       "    </tr>\n",
       "    <tr>\n",
       "      <th>P06993</th>\n",
       "      <td>19.617815</td>\n",
       "      <td>19.208911</td>\n",
       "      <td>19.283362</td>\n",
       "      <td>19.727261</td>\n",
       "      <td>19.235112</td>\n",
       "      <td>19.138732</td>\n",
       "      <td>19.347161</td>\n",
       "      <td>19.089872</td>\n",
       "      <td>19.556955</td>\n",
       "      <td>19.272650</td>\n",
       "      <td>...</td>\n",
       "      <td>19.523981</td>\n",
       "      <td>19.639554</td>\n",
       "      <td>19.378284</td>\n",
       "      <td>19.511807</td>\n",
       "      <td>19.544995</td>\n",
       "      <td>19.767097</td>\n",
       "      <td>19.658079</td>\n",
       "      <td>19.772695</td>\n",
       "      <td>19.686124</td>\n",
       "      <td>19.769605</td>\n",
       "    </tr>\n",
       "    <tr>\n",
       "      <th>P00959</th>\n",
       "      <td>23.359671</td>\n",
       "      <td>22.980434</td>\n",
       "      <td>22.918466</td>\n",
       "      <td>23.366544</td>\n",
       "      <td>23.050364</td>\n",
       "      <td>22.649941</td>\n",
       "      <td>23.035286</td>\n",
       "      <td>22.940258</td>\n",
       "      <td>22.888636</td>\n",
       "      <td>22.772447</td>\n",
       "      <td>...</td>\n",
       "      <td>23.355228</td>\n",
       "      <td>23.354017</td>\n",
       "      <td>23.340674</td>\n",
       "      <td>23.430777</td>\n",
       "      <td>23.408598</td>\n",
       "      <td>23.392416</td>\n",
       "      <td>23.378315</td>\n",
       "      <td>23.429526</td>\n",
       "      <td>23.360194</td>\n",
       "      <td>23.374592</td>\n",
       "    </tr>\n",
       "    <tr>\n",
       "      <th>P0AEQ1</th>\n",
       "      <td>18.931439</td>\n",
       "      <td>20.103046</td>\n",
       "      <td>20.028021</td>\n",
       "      <td>18.638796</td>\n",
       "      <td>20.060272</td>\n",
       "      <td>20.220696</td>\n",
       "      <td>20.047682</td>\n",
       "      <td>20.039499</td>\n",
       "      <td>19.983555</td>\n",
       "      <td>20.029693</td>\n",
       "      <td>...</td>\n",
       "      <td>18.903261</td>\n",
       "      <td>18.937029</td>\n",
       "      <td>19.125204</td>\n",
       "      <td>18.791735</td>\n",
       "      <td>18.919943</td>\n",
       "      <td>19.001499</td>\n",
       "      <td>18.846932</td>\n",
       "      <td>18.860851</td>\n",
       "      <td>18.774008</td>\n",
       "      <td>18.949787</td>\n",
       "    </tr>\n",
       "  </tbody>\n",
       "</table>\n",
       "<p>5 rows × 24 columns</p>\n",
       "</div>"
      ],
      "text/plain": [
       "         CVT09_QC1_LabE_X023  CVT09_QC2_LabE_X024  CVT09_QC3_LabE_X025  \\\n",
       "rowname                                                                  \n",
       "P0ADA1             20.530068            20.800517            20.832956   \n",
       "P0A8D6             21.469675            21.583280            21.719072   \n",
       "P06993             19.617815            19.208911            19.283362   \n",
       "P00959             23.359671            22.980434            22.918466   \n",
       "P0AEQ1             18.931439            20.103046            20.028021   \n",
       "\n",
       "         CVT09_QC4_LabE_X026  CVT09_s3_X002  CVT09_s10_X003  CVT09_s13_X004  \\\n",
       "rowname                                                                       \n",
       "P0ADA1             20.472747      20.708330       20.826531       20.688345   \n",
       "P0A8D6             21.281608      21.634510       21.752018       21.591101   \n",
       "P06993             19.727261      19.235112       19.138732       19.347161   \n",
       "P00959             23.366544      23.050364       22.649941       23.035286   \n",
       "P0AEQ1             18.638796      20.060272       20.220696       20.047682   \n",
       "\n",
       "         CVT09_s16_X005  CVT09_s25_X006  CVT09_s28_X007  ...  CVT09_s55_X012  \\\n",
       "rowname                                                  ...                   \n",
       "P0ADA1        20.876203       20.682322       20.802885  ...       20.557822   \n",
       "P0A8D6        21.643421       21.662239       21.703940  ...       21.381643   \n",
       "P06993        19.089872       19.556955       19.272650  ...       19.523981   \n",
       "P00959        22.940258       22.888636       22.772447  ...       23.355228   \n",
       "P0AEQ1        20.039499       19.983555       20.029693  ...       18.903261   \n",
       "\n",
       "         CVT09_s59_X013  CVT09_s61_X014  CVT09_s67_X015  CVT09_s73_X016  \\\n",
       "rowname                                                                   \n",
       "P0ADA1        20.648859       20.539442       20.485333       20.452319   \n",
       "P0A8D6        21.394004       21.477760       21.278157       21.377105   \n",
       "P06993        19.639554       19.378284       19.511807       19.544995   \n",
       "P00959        23.354017       23.340674       23.430777       23.408598   \n",
       "P0AEQ1        18.937029       19.125204       18.791735       18.919943   \n",
       "\n",
       "         CVT09_s77_X017  CVT09_s84_X018  CVT09_s90_X019  CVT09_s93_X020  \\\n",
       "rowname                                                                   \n",
       "P0ADA1        20.535641       20.554284       20.505225       20.448845   \n",
       "P0A8D6        21.382044       21.525501       21.327597       21.343467   \n",
       "P06993        19.767097       19.658079       19.772695       19.686124   \n",
       "P00959        23.392416       23.378315       23.429526       23.360194   \n",
       "P0AEQ1        19.001499       18.846932       18.860851       18.774008   \n",
       "\n",
       "         CVT09_s99_X021  \n",
       "rowname                  \n",
       "P0ADA1        20.492617  \n",
       "P0A8D6        21.494742  \n",
       "P06993        19.769605  \n",
       "P00959        23.374592  \n",
       "P0AEQ1        18.949787  \n",
       "\n",
       "[5 rows x 24 columns]"
      ]
     },
     "execution_count": 25,
     "metadata": {},
     "output_type": "execute_result"
    }
   ],
   "source": [
    "client.intensities.head(5)"
   ]
  },
  {
   "cell_type": "code",
   "execution_count": 26,
   "metadata": {},
   "outputs": [
    {
     "name": "stderr",
     "output_type": "stream",
     "text": [
      "09-Aug-23 13:38:07 - root - INFO - Client lab_A: Validated 28 samples and 2336 proteins.\n",
      "09-Aug-23 13:38:07 - root - INFO - Client lab_C: Validated 23 samples and 2336 proteins.\n",
      "09-Aug-23 13:38:07 - root - INFO - Client lab_D: Validated 24 samples and 2336 proteins.\n",
      "09-Aug-23 13:38:07 - root - INFO - Client lab_E: Validated 24 samples and 2336 proteins.\n"
     ]
    },
    {
     "name": "stdout",
     "output_type": "stream",
     "text": [
      "Samples in lab_A data: 28\n",
      "Protein groups in lab_A data:  2336\n",
      "Samples in lab_C data: 23\n",
      "Protein groups in lab_C data:  2336\n",
      "Samples in lab_D data: 24\n",
      "Protein groups in lab_D data:  2336\n",
      "Samples in lab_E data: 24\n",
      "Protein groups in lab_E data:  2336\n",
      "[]\n",
      "['intercept', 'lab_A', 'lab_C', 'lab_D']\n"
     ]
    }
   ],
   "source": [
    "# Cleaning inputs\n",
    "for c in cohorts:\n",
    "    client = store_clients[c]\n",
    "    client.validate_inputs(server.stored_features, server.variables)\n",
    "    # add cohort effect columns to each design matrix\n",
    "    # add 1 column less than the number of cohorts\n",
    "    client.create_design(server.client_names[:-1])\n",
    "\n",
    "    print(f\"Samples in {client.cohort_name} data: {len(client.sample_names)}\")\n",
    "    print(f\"Protein groups in {client.cohort_name} data:  {len(client.prot_names)}\")\n",
    "\n",
    "# add cohort columns to the list of confounders on the server side\n",
    "print(server.variables)\n",
    "#server.variables = server.variables + ['intercept'] + server.client_names[:-1]\n",
    "server.variables = ['intercept'] + server.client_names[:-1]\n",
    "print(server.variables)"
   ]
  },
  {
   "cell_type": "code",
   "execution_count": 27,
   "metadata": {},
   "outputs": [
    {
     "data": {
      "text/plain": [
       "['lab_C', 'lab_D', 'lab_E']"
      ]
     },
     "execution_count": 27,
     "metadata": {},
     "output_type": "execute_result"
    }
   ],
   "source": [
    "server.client_names[1:]"
   ]
  },
  {
   "cell_type": "code",
   "execution_count": 28,
   "metadata": {},
   "outputs": [
    {
     "data": {
      "text/html": [
       "<div>\n",
       "<style scoped>\n",
       "    .dataframe tbody tr th:only-of-type {\n",
       "        vertical-align: middle;\n",
       "    }\n",
       "\n",
       "    .dataframe tbody tr th {\n",
       "        vertical-align: top;\n",
       "    }\n",
       "\n",
       "    .dataframe thead th {\n",
       "        text-align: right;\n",
       "    }\n",
       "</style>\n",
       "<table border=\"1\" class=\"dataframe\">\n",
       "  <thead>\n",
       "    <tr style=\"text-align: right;\">\n",
       "      <th></th>\n",
       "      <th>intercept</th>\n",
       "      <th>lab_A</th>\n",
       "      <th>lab_C</th>\n",
       "      <th>lab_D</th>\n",
       "    </tr>\n",
       "  </thead>\n",
       "  <tbody>\n",
       "    <tr>\n",
       "      <th>CVT09_QC1_LabE_X023</th>\n",
       "      <td>1.0</td>\n",
       "      <td>-1</td>\n",
       "      <td>-1</td>\n",
       "      <td>-1</td>\n",
       "    </tr>\n",
       "    <tr>\n",
       "      <th>CVT09_QC2_LabE_X024</th>\n",
       "      <td>1.0</td>\n",
       "      <td>-1</td>\n",
       "      <td>-1</td>\n",
       "      <td>-1</td>\n",
       "    </tr>\n",
       "    <tr>\n",
       "      <th>CVT09_QC3_LabE_X025</th>\n",
       "      <td>1.0</td>\n",
       "      <td>-1</td>\n",
       "      <td>-1</td>\n",
       "      <td>-1</td>\n",
       "    </tr>\n",
       "    <tr>\n",
       "      <th>CVT09_QC4_LabE_X026</th>\n",
       "      <td>1.0</td>\n",
       "      <td>-1</td>\n",
       "      <td>-1</td>\n",
       "      <td>-1</td>\n",
       "    </tr>\n",
       "    <tr>\n",
       "      <th>CVT09_s3_X002</th>\n",
       "      <td>1.0</td>\n",
       "      <td>-1</td>\n",
       "      <td>-1</td>\n",
       "      <td>-1</td>\n",
       "    </tr>\n",
       "    <tr>\n",
       "      <th>CVT09_s10_X003</th>\n",
       "      <td>1.0</td>\n",
       "      <td>-1</td>\n",
       "      <td>-1</td>\n",
       "      <td>-1</td>\n",
       "    </tr>\n",
       "    <tr>\n",
       "      <th>CVT09_s13_X004</th>\n",
       "      <td>1.0</td>\n",
       "      <td>-1</td>\n",
       "      <td>-1</td>\n",
       "      <td>-1</td>\n",
       "    </tr>\n",
       "    <tr>\n",
       "      <th>CVT09_s16_X005</th>\n",
       "      <td>1.0</td>\n",
       "      <td>-1</td>\n",
       "      <td>-1</td>\n",
       "      <td>-1</td>\n",
       "    </tr>\n",
       "    <tr>\n",
       "      <th>CVT09_s25_X006</th>\n",
       "      <td>1.0</td>\n",
       "      <td>-1</td>\n",
       "      <td>-1</td>\n",
       "      <td>-1</td>\n",
       "    </tr>\n",
       "    <tr>\n",
       "      <th>CVT09_s28_X007</th>\n",
       "      <td>1.0</td>\n",
       "      <td>-1</td>\n",
       "      <td>-1</td>\n",
       "      <td>-1</td>\n",
       "    </tr>\n",
       "    <tr>\n",
       "      <th>CVT09_s31_X008</th>\n",
       "      <td>1.0</td>\n",
       "      <td>-1</td>\n",
       "      <td>-1</td>\n",
       "      <td>-1</td>\n",
       "    </tr>\n",
       "    <tr>\n",
       "      <th>CVT09_s36_X009</th>\n",
       "      <td>1.0</td>\n",
       "      <td>-1</td>\n",
       "      <td>-1</td>\n",
       "      <td>-1</td>\n",
       "    </tr>\n",
       "    <tr>\n",
       "      <th>CVT09_s41_X010</th>\n",
       "      <td>1.0</td>\n",
       "      <td>-1</td>\n",
       "      <td>-1</td>\n",
       "      <td>-1</td>\n",
       "    </tr>\n",
       "    <tr>\n",
       "      <th>CVT09_s50_X011</th>\n",
       "      <td>1.0</td>\n",
       "      <td>-1</td>\n",
       "      <td>-1</td>\n",
       "      <td>-1</td>\n",
       "    </tr>\n",
       "    <tr>\n",
       "      <th>CVT09_s55_X012</th>\n",
       "      <td>1.0</td>\n",
       "      <td>-1</td>\n",
       "      <td>-1</td>\n",
       "      <td>-1</td>\n",
       "    </tr>\n",
       "    <tr>\n",
       "      <th>CVT09_s59_X013</th>\n",
       "      <td>1.0</td>\n",
       "      <td>-1</td>\n",
       "      <td>-1</td>\n",
       "      <td>-1</td>\n",
       "    </tr>\n",
       "    <tr>\n",
       "      <th>CVT09_s61_X014</th>\n",
       "      <td>1.0</td>\n",
       "      <td>-1</td>\n",
       "      <td>-1</td>\n",
       "      <td>-1</td>\n",
       "    </tr>\n",
       "    <tr>\n",
       "      <th>CVT09_s67_X015</th>\n",
       "      <td>1.0</td>\n",
       "      <td>-1</td>\n",
       "      <td>-1</td>\n",
       "      <td>-1</td>\n",
       "    </tr>\n",
       "    <tr>\n",
       "      <th>CVT09_s73_X016</th>\n",
       "      <td>1.0</td>\n",
       "      <td>-1</td>\n",
       "      <td>-1</td>\n",
       "      <td>-1</td>\n",
       "    </tr>\n",
       "    <tr>\n",
       "      <th>CVT09_s77_X017</th>\n",
       "      <td>1.0</td>\n",
       "      <td>-1</td>\n",
       "      <td>-1</td>\n",
       "      <td>-1</td>\n",
       "    </tr>\n",
       "    <tr>\n",
       "      <th>CVT09_s84_X018</th>\n",
       "      <td>1.0</td>\n",
       "      <td>-1</td>\n",
       "      <td>-1</td>\n",
       "      <td>-1</td>\n",
       "    </tr>\n",
       "    <tr>\n",
       "      <th>CVT09_s90_X019</th>\n",
       "      <td>1.0</td>\n",
       "      <td>-1</td>\n",
       "      <td>-1</td>\n",
       "      <td>-1</td>\n",
       "    </tr>\n",
       "    <tr>\n",
       "      <th>CVT09_s93_X020</th>\n",
       "      <td>1.0</td>\n",
       "      <td>-1</td>\n",
       "      <td>-1</td>\n",
       "      <td>-1</td>\n",
       "    </tr>\n",
       "    <tr>\n",
       "      <th>CVT09_s99_X021</th>\n",
       "      <td>1.0</td>\n",
       "      <td>-1</td>\n",
       "      <td>-1</td>\n",
       "      <td>-1</td>\n",
       "    </tr>\n",
       "  </tbody>\n",
       "</table>\n",
       "</div>"
      ],
      "text/plain": [
       "                     intercept  lab_A  lab_C  lab_D\n",
       "CVT09_QC1_LabE_X023        1.0     -1     -1     -1\n",
       "CVT09_QC2_LabE_X024        1.0     -1     -1     -1\n",
       "CVT09_QC3_LabE_X025        1.0     -1     -1     -1\n",
       "CVT09_QC4_LabE_X026        1.0     -1     -1     -1\n",
       "CVT09_s3_X002              1.0     -1     -1     -1\n",
       "CVT09_s10_X003             1.0     -1     -1     -1\n",
       "CVT09_s13_X004             1.0     -1     -1     -1\n",
       "CVT09_s16_X005             1.0     -1     -1     -1\n",
       "CVT09_s25_X006             1.0     -1     -1     -1\n",
       "CVT09_s28_X007             1.0     -1     -1     -1\n",
       "CVT09_s31_X008             1.0     -1     -1     -1\n",
       "CVT09_s36_X009             1.0     -1     -1     -1\n",
       "CVT09_s41_X010             1.0     -1     -1     -1\n",
       "CVT09_s50_X011             1.0     -1     -1     -1\n",
       "CVT09_s55_X012             1.0     -1     -1     -1\n",
       "CVT09_s59_X013             1.0     -1     -1     -1\n",
       "CVT09_s61_X014             1.0     -1     -1     -1\n",
       "CVT09_s67_X015             1.0     -1     -1     -1\n",
       "CVT09_s73_X016             1.0     -1     -1     -1\n",
       "CVT09_s77_X017             1.0     -1     -1     -1\n",
       "CVT09_s84_X018             1.0     -1     -1     -1\n",
       "CVT09_s90_X019             1.0     -1     -1     -1\n",
       "CVT09_s93_X020             1.0     -1     -1     -1\n",
       "CVT09_s99_X021             1.0     -1     -1     -1"
      ]
     },
     "execution_count": 28,
     "metadata": {},
     "output_type": "execute_result"
    }
   ],
   "source": [
    "store_clients['lab_E'].design"
   ]
  },
  {
   "cell_type": "code",
   "execution_count": 29,
   "metadata": {},
   "outputs": [
    {
     "data": {
      "text/plain": [
       "(2336, 24)"
      ]
     },
     "execution_count": 29,
     "metadata": {},
     "output_type": "execute_result"
    }
   ],
   "source": [
    "client.intensities.shape"
   ]
  },
  {
   "cell_type": "code",
   "execution_count": 30,
   "metadata": {},
   "outputs": [
    {
     "name": "stdout",
     "output_type": "stream",
     "text": [
      "Samples in lab_A data: 28, protein groups: 2336\n",
      "Samples in lab_C data: 23, protein groups: 2336\n",
      "Samples in lab_D data: 24, protein groups: 2336\n",
      "Samples in lab_E data: 24, protein groups: 2336\n"
     ]
    }
   ],
   "source": [
    "# Keeping only shared proteins\n",
    "for c in cohorts:\n",
    "    client = store_clients[c]\n",
    "    client.prot_names = server.stored_features\n",
    "    client.intensities = client.intensities.loc[client.prot_names, :]\n",
    "    #client.counts = client.counts.loc[client.prot_names, :]\n",
    "    print(f\"Samples in {client.cohort_name} data: {len(client.sample_names)}, protein groups: {len(client.prot_names)}\")"
   ]
  },
  {
   "cell_type": "markdown",
   "metadata": {},
   "source": [
    "## 6). Limma - removeBatchEffects"
   ]
  },
  {
   "cell_type": "code",
   "execution_count": 31,
   "metadata": {},
   "outputs": [],
   "source": [
    "### 1) computes XtX, XtY, beta and stdev\n",
    "XtX_list = []\n",
    "XtY_list = []\n",
    "\n",
    "server.n_samples_per_cli = []"
   ]
  },
  {
   "cell_type": "code",
   "execution_count": 32,
   "metadata": {},
   "outputs": [
    {
     "name": "stdout",
     "output_type": "stream",
     "text": [
      "Client lab_A has 28 samples\n",
      "(2336, 4, 4)\n",
      "(2336, 4)\n",
      "Client lab_C has 23 samples\n",
      "(2336, 4, 4)\n",
      "(2336, 4)\n",
      "Client lab_D has 24 samples\n",
      "(2336, 4, 4)\n",
      "(2336, 4)\n",
      "Client lab_E has 24 samples\n",
      "(2336, 4, 4)\n",
      "(2336, 4)\n"
     ]
    }
   ],
   "source": [
    "for c in cohorts:\n",
    "    client = store_clients[c]\n",
    "    client.sample_names = client.design.index.values\n",
    "    # sort intensities by sample names and proteins\n",
    "    client.intensities = client.intensities.loc[client.prot_names, client.sample_names]\n",
    "    client.n_samples = len(client.sample_names)\n",
    "    \n",
    "    XtX, XtY = client.compute_XtX_XtY()\n",
    "    XtX_list.append(XtX)\n",
    "    XtY_list.append(XtY)\n",
    "\n",
    "    print(f\"Client {client.cohort_name} has {client.n_samples} samples\")\n",
    "    print(XtX.shape)\n",
    "    print(XtY.shape)"
   ]
  },
  {
   "cell_type": "code",
   "execution_count": 33,
   "metadata": {},
   "outputs": [
    {
     "data": {
      "text/plain": [
       "[(2336,), (2336,), (2336,), (2336,)]"
      ]
     },
     "execution_count": 33,
     "metadata": {},
     "output_type": "execute_result"
    }
   ],
   "source": [
    "[(len(sublist), len(sublist[0])) if isinstance(sublist, list) else (len(sublist),) for sublist in XtX_list]"
   ]
  },
  {
   "cell_type": "code",
   "execution_count": 34,
   "metadata": {},
   "outputs": [
    {
     "name": "stderr",
     "output_type": "stream",
     "text": [
      "09-Aug-23 13:38:07 - root - INFO - Server: computing global beta and beta stdev, k = 4, n = 2336\n"
     ]
    }
   ],
   "source": [
    "server.compute_beta_and_beta_stdev(XtX_list, XtY_list)"
   ]
  },
  {
   "cell_type": "markdown",
   "metadata": {},
   "source": [
    "## use beta (coefficients) to correct batch effects"
   ]
  },
  {
   "cell_type": "code",
   "execution_count": 36,
   "metadata": {},
   "outputs": [
    {
     "data": {
      "text/plain": [
       "array([[19.21481313,  1.36178262,  1.00308466,  0.16579205],\n",
       "       [20.19725987,  3.41286279,  1.34762323, -1.01484329],\n",
       "       [26.61740886,  1.5563936 ,  0.42833792, -0.4138365 ],\n",
       "       ...,\n",
       "       [19.6274467 ,  0.6382953 , -0.53304546, -1.20620506],\n",
       "       [21.0365222 ,  3.11074624,  0.63488748, -0.07906553],\n",
       "       [20.85901828,  1.06116665,  1.14985227, -0.68655987]])"
      ]
     },
     "execution_count": 36,
     "metadata": {},
     "output_type": "execute_result"
    }
   ],
   "source": [
    "server.beta"
   ]
  },
  {
   "cell_type": "code",
   "execution_count": 37,
   "metadata": {},
   "outputs": [
    {
     "name": "stderr",
     "output_type": "stream",
     "text": [
      "09-Aug-23 13:38:07 - root - INFO - Client lab_A:\tBatch effects removed.\n",
      "09-Aug-23 13:38:07 - root - INFO - Client lab_C:\tBatch effects removed.\n",
      "09-Aug-23 13:38:07 - root - INFO - Client lab_D:\tBatch effects removed.\n",
      "09-Aug-23 13:38:07 - root - INFO - Client lab_E:\tBatch effects removed.\n"
     ]
    }
   ],
   "source": [
    "# pg_matrix - beta %*% t(batch)\n",
    "\n",
    "for c in cohorts:\n",
    "    client = store_clients[c]\n",
    "    client.remove_batch_effects(server.beta[:,1:])\n",
    "    "
   ]
  },
  {
   "cell_type": "code",
   "execution_count": 38,
   "metadata": {},
   "outputs": [],
   "source": [
    "for c in cohorts:\n",
    "    client = store_clients[c]\n",
    "    client.intensities_corrected.to_csv(f'results/{c}_intensities_corrected.tsv', sep='\\t')"
   ]
  },
  {
   "cell_type": "code",
   "execution_count": null,
   "metadata": {},
   "outputs": [],
   "source": []
  }
 ],
 "metadata": {
  "kernelspec": {
   "display_name": "deqms_fed",
   "language": "python",
   "name": "python3"
  },
  "language_info": {
   "codemirror_mode": {
    "name": "ipython",
    "version": 3
   },
   "file_extension": ".py",
   "mimetype": "text/x-python",
   "name": "python",
   "nbconvert_exporter": "python",
   "pygments_lexer": "ipython3",
   "version": "3.10.11"
  },
  "orig_nbformat": 4
 },
 "nbformat": 4,
 "nbformat_minor": 2
}
