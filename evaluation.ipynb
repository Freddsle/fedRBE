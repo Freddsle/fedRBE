{
 "cells": [
  {
   "cell_type": "code",
   "execution_count": 12,
   "metadata": {
    "vscode": {
     "languageId": "r"
    }
   },
   "outputs": [],
   "source": [
    "library(tidyverse)"
   ]
  },
  {
   "cell_type": "markdown",
   "metadata": {},
   "source": [
    "# plots"
   ]
  },
  {
   "cell_type": "code",
   "execution_count": 13,
   "metadata": {
    "vscode": {
     "languageId": "r"
    }
   },
   "outputs": [],
   "source": [
    "pca_plot <- function(df, batch_info, title, path) {\n",
    "  pca <- prcomp(t(na.omit(df)))\n",
    "  # Plot PCA\n",
    "  pca_df <-\n",
    "    pca$x %>%\n",
    "    as.data.frame() %>%\n",
    "    rownames_to_column(\"file\") %>% \n",
    "    left_join(batch_info,  by = \"file\") \n",
    "  # add % of explained variance\n",
    "  var_expl <- pca$sdev^2 / sum(pca$sdev^2)\n",
    "  names(var_expl) <- paste0(\"PC\", 1:length(var_expl))\n",
    "  # Add the label for the specific point\n",
    "  pca_plot <- pca_df %>%\n",
    "    ggplot(aes(PC1, PC2)) +\n",
    "    geom_point(aes(col=condition, shape=lab), size=2) +\n",
    "    theme_classic() +\n",
    "    labs(title = title,\n",
    "         x = glue::glue(\"PC1 [{round(var_expl['PC1']*100, 2)}%]\"),\n",
    "         y = glue::glue(\"PC2 [{round(var_expl['PC2']*100, 2)}%]\"))\n",
    "  \n",
    "   # Check if \"S37\" exists in the pca_df dataframe\n",
    "  if(\"Ref8537_S37\" %in% pca_df$file) {\n",
    "    pca_plot <- pca_plot +\n",
    "      geom_text(data = pca_df[pca_df$file == \"Ref8537_S37\", ], aes(label = 'S37'), vjust = -1)\n",
    "  }\n",
    "\n",
    "  ggsave(path, pca_plot)\n",
    "}"
   ]
  },
  {
   "cell_type": "code",
   "execution_count": 14,
   "metadata": {
    "vscode": {
     "languageId": "r"
    }
   },
   "outputs": [],
   "source": [
    "# boxplot\n",
    "boxplot_pg <- function(protein_matrix, title, path) {\n",
    "  # Reshape data into long format\n",
    "  long_data <- tidyr::gather(protein_matrix, \n",
    "                             key = \"file\", value = \"Intensity\")\n",
    "  # Log tranformed scale\n",
    "  boxplot <- ggplot(long_data, aes(x = file, y = Intensity)) + \n",
    "    geom_boxplot() +\n",
    "    stat_summary(fun = mean, geom = \"point\", shape = 4, size = 1.5, color = \"red\") +\n",
    "    theme_bw() +\n",
    "    theme(axis.text.x = element_text(angle = 90, vjust = 0.5, hjust = 1, size = 5)) +\n",
    "    labs(title = title) \n",
    "\n",
    "  ggsave(path, boxplot, width = 6, height = 6)\n",
    "}"
   ]
  },
  {
   "cell_type": "code",
   "execution_count": 15,
   "metadata": {
    "vscode": {
     "languageId": "r"
    }
   },
   "outputs": [],
   "source": [
    "heatmap_plot <- function(pg_matrix, batch_info, name, plot_name_prefix){\n",
    "    cor_matrix <- cor(na.omit(pg_matrix), use = \"pairwise.complete.obs\")\n",
    "    pheatmap::pheatmap(cor_matrix, \n",
    "                        annotation_col = select(batch_info, c(condition, lab)),\n",
    "                        treeheight_row = 0, treeheight_col = 0, \n",
    "                        fontsize_row = 5, fontsize_col = 5,\n",
    "                        width = 7, height = 7,\n",
    "                        main = paste0(name, ' heatmap'),\n",
    "                        filename = plot_name_prefix)\n",
    "}\n"
   ]
  },
  {
   "cell_type": "code",
   "execution_count": 16,
   "metadata": {
    "vscode": {
     "languageId": "r"
    }
   },
   "outputs": [],
   "source": [
    "plot_three_plots <- function(pg_matrix, batch_info, plot_name_prefix, subname, number){\n",
    "\n",
    "        batch_info <- batch_info %>%\n",
    "                mutate(file = case_when(\n",
    "                lab %in% c('lab_A', 'lab_E') ~ str_split(file, \"_\") %>% \n",
    "                map_chr(~ if (length(.x) == 4) paste(.x[1], .x[2], .x[4], sep = \"_\") else paste(.x[1], .x[2], sep = \"_\")),\n",
    "                \n",
    "                lab == 'lab_C' ~ str_split(file, \"_\") %>% \n",
    "                map_chr(~ paste(.x[5], .x[6], sep = \"_\")),\n",
    "                \n",
    "                lab == 'lab_D' ~ str_split(file, \"_\") %>% \n",
    "                map_chr(~ paste(.x[6], .x[8], sep = \"_\")),\n",
    "                \n",
    "                TRUE ~ file\n",
    "        ))\n",
    "\n",
    "        rownames(batch_info) <- batch_info$file\n",
    "        colnames(pg_matrix) <- batch_info$file\n",
    "\n",
    "\n",
    "        boxplot_pg(pg_matrix, \n",
    "                paste0(subname, ' boxplot'), \n",
    "                paste0(plot_name_prefix, \"_\", subname, \"_\", number, \"_boxplot.png\")\n",
    "        )\n",
    "\n",
    "        pca_plot(pg_matrix,\n",
    "                batch_info, \n",
    "                paste0(subname, ' pca'), \n",
    "                paste0(plot_name_prefix, \"_\", subname, \"_\", number, \"_pca.png\")\n",
    "        )\n",
    "\n",
    "        heatmap_plot(pg_matrix, \n",
    "                batch_info, \n",
    "                subname, \n",
    "                paste0(plot_name_prefix, \"_\", subname, \"_\", number, \"_heatmap.png\")\n",
    "        )\n",
    "\n",
    "}"
   ]
  },
  {
   "cell_type": "code",
   "execution_count": 18,
   "metadata": {
    "vscode": {
     "languageId": "r"
    }
   },
   "outputs": [
    {
     "data": {
      "text/html": [
       "<style>\n",
       ".list-inline {list-style: none; margin:0; padding: 0}\n",
       ".list-inline>li {display: inline-block}\n",
       ".list-inline>li:not(:last-child)::after {content: \"\\00b7\"; padding: 0 .5ex}\n",
       "</style>\n",
       "<ol class=list-inline><li>99</li><li>3</li></ol>\n"
      ],
      "text/latex": [
       "\\begin{enumerate*}\n",
       "\\item 99\n",
       "\\item 3\n",
       "\\end{enumerate*}\n"
      ],
      "text/markdown": [
       "1. 99\n",
       "2. 3\n",
       "\n",
       "\n"
      ],
      "text/plain": [
       "[1] 99  3"
      ]
     },
     "metadata": {},
     "output_type": "display_data"
    },
    {
     "data": {
      "text/html": [
       "<table class=\"dataframe\">\n",
       "<caption>A data.frame: 6 × 3</caption>\n",
       "<thead>\n",
       "\t<tr><th></th><th scope=col>file</th><th scope=col>condition</th><th scope=col>lab</th></tr>\n",
       "\t<tr><th></th><th scope=col>&lt;chr&gt;</th><th scope=col>&lt;fct&gt;</th><th scope=col>&lt;fct&gt;</th></tr>\n",
       "</thead>\n",
       "<tbody>\n",
       "\t<tr><th scope=row>Ref8537_QC1_20230414_1</th><td>Ref8537_QC1_20230414_1</td><td>A_QC</td><td>lab_A</td></tr>\n",
       "\t<tr><th scope=row>Ref8537_QC1_20230414_2</th><td>Ref8537_QC1_20230414_2</td><td>A_QC</td><td>lab_A</td></tr>\n",
       "\t<tr><th scope=row>Ref8537_QC2_20230414_1</th><td>Ref8537_QC2_20230414_1</td><td>A_QC</td><td>lab_A</td></tr>\n",
       "\t<tr><th scope=row>Ref8537_QC2_20230414_2</th><td>Ref8537_QC2_20230414_2</td><td>A_QC</td><td>lab_A</td></tr>\n",
       "\t<tr><th scope=row>Ref8537_QC3_20230414_1</th><td>Ref8537_QC3_20230414_1</td><td>B_QC</td><td>lab_A</td></tr>\n",
       "\t<tr><th scope=row>Ref8537_QC3_20230414_2</th><td>Ref8537_QC3_20230414_2</td><td>B_QC</td><td>lab_A</td></tr>\n",
       "</tbody>\n",
       "</table>\n"
      ],
      "text/latex": [
       "A data.frame: 6 × 3\n",
       "\\begin{tabular}{r|lll}\n",
       "  & file & condition & lab\\\\\n",
       "  & <chr> & <fct> & <fct>\\\\\n",
       "\\hline\n",
       "\tRef8537\\_QC1\\_20230414\\_1 & Ref8537\\_QC1\\_20230414\\_1 & A\\_QC & lab\\_A\\\\\n",
       "\tRef8537\\_QC1\\_20230414\\_2 & Ref8537\\_QC1\\_20230414\\_2 & A\\_QC & lab\\_A\\\\\n",
       "\tRef8537\\_QC2\\_20230414\\_1 & Ref8537\\_QC2\\_20230414\\_1 & A\\_QC & lab\\_A\\\\\n",
       "\tRef8537\\_QC2\\_20230414\\_2 & Ref8537\\_QC2\\_20230414\\_2 & A\\_QC & lab\\_A\\\\\n",
       "\tRef8537\\_QC3\\_20230414\\_1 & Ref8537\\_QC3\\_20230414\\_1 & B\\_QC & lab\\_A\\\\\n",
       "\tRef8537\\_QC3\\_20230414\\_2 & Ref8537\\_QC3\\_20230414\\_2 & B\\_QC & lab\\_A\\\\\n",
       "\\end{tabular}\n"
      ],
      "text/markdown": [
       "\n",
       "A data.frame: 6 × 3\n",
       "\n",
       "| <!--/--> | file &lt;chr&gt; | condition &lt;fct&gt; | lab &lt;fct&gt; |\n",
       "|---|---|---|---|\n",
       "| Ref8537_QC1_20230414_1 | Ref8537_QC1_20230414_1 | A_QC | lab_A |\n",
       "| Ref8537_QC1_20230414_2 | Ref8537_QC1_20230414_2 | A_QC | lab_A |\n",
       "| Ref8537_QC2_20230414_1 | Ref8537_QC2_20230414_1 | A_QC | lab_A |\n",
       "| Ref8537_QC2_20230414_2 | Ref8537_QC2_20230414_2 | A_QC | lab_A |\n",
       "| Ref8537_QC3_20230414_1 | Ref8537_QC3_20230414_1 | B_QC | lab_A |\n",
       "| Ref8537_QC3_20230414_2 | Ref8537_QC3_20230414_2 | B_QC | lab_A |\n",
       "\n"
      ],
      "text/plain": [
       "                       file                   condition lab  \n",
       "Ref8537_QC1_20230414_1 Ref8537_QC1_20230414_1 A_QC      lab_A\n",
       "Ref8537_QC1_20230414_2 Ref8537_QC1_20230414_2 A_QC      lab_A\n",
       "Ref8537_QC2_20230414_1 Ref8537_QC2_20230414_1 A_QC      lab_A\n",
       "Ref8537_QC2_20230414_2 Ref8537_QC2_20230414_2 A_QC      lab_A\n",
       "Ref8537_QC3_20230414_1 Ref8537_QC3_20230414_1 B_QC      lab_A\n",
       "Ref8537_QC3_20230414_2 Ref8537_QC3_20230414_2 B_QC      lab_A"
      ]
     },
     "metadata": {},
     "output_type": "display_data"
    }
   ],
   "source": [
    "batch_info_ref <- read.csv(\"/home/yuliya/repos/cosybio/removeBatch/test_data/batch_info_all_ref.csv\") %>%\n",
    "    mutate(lab = factor(lab), condition = factor(condition))\n",
    "rownames(batch_info_ref) <- batch_info_ref$file\n",
    "dim(batch_info_ref)\n",
    "head(batch_info_ref)"
   ]
  },
  {
   "cell_type": "markdown",
   "metadata": {},
   "source": [
    "# data\n",
    "## central"
   ]
  },
  {
   "cell_type": "code",
   "execution_count": 17,
   "metadata": {
    "vscode": {
     "languageId": "r"
    }
   },
   "outputs": [
    {
     "data": {
      "text/html": [
       "<style>\n",
       ".list-inline {list-style: none; margin:0; padding: 0}\n",
       ".list-inline>li {display: inline-block}\n",
       ".list-inline>li:not(:last-child)::after {content: \"\\00b7\"; padding: 0 .5ex}\n",
       "</style>\n",
       "<ol class=list-inline><li>2336</li><li>99</li></ol>\n"
      ],
      "text/latex": [
       "\\begin{enumerate*}\n",
       "\\item 2336\n",
       "\\item 99\n",
       "\\end{enumerate*}\n"
      ],
      "text/markdown": [
       "1. 2336\n",
       "2. 99\n",
       "\n",
       "\n"
      ],
      "text/plain": [
       "[1] 2336   99"
      ]
     },
     "metadata": {},
     "output_type": "display_data"
    },
    {
     "data": {
      "text/html": [
       "<table class=\"dataframe\">\n",
       "<caption>A data.frame: 6 × 99</caption>\n",
       "<thead>\n",
       "\t<tr><th></th><th scope=col>Ref8537_QC1_20230414_1</th><th scope=col>Ref8537_QC1_20230414_2</th><th scope=col>Ref8537_QC2_20230414_1</th><th scope=col>Ref8537_QC2_20230414_2</th><th scope=col>Ref8537_QC3_20230414_1</th><th scope=col>Ref8537_QC3_20230414_2</th><th scope=col>Ref8537_QC4_20230414_1</th><th scope=col>Ref8537_QC4_20230414_2</th><th scope=col>Ref8537_S4_20230414</th><th scope=col>Ref8537_S8_20230414</th><th scope=col>⋯</th><th scope=col>CVT09_s55_X012</th><th scope=col>CVT09_s59_X013</th><th scope=col>CVT09_s61_X014</th><th scope=col>CVT09_s67_X015</th><th scope=col>CVT09_s73_X016</th><th scope=col>CVT09_s77_X017</th><th scope=col>CVT09_s84_X018</th><th scope=col>CVT09_s90_X019</th><th scope=col>CVT09_s93_X020</th><th scope=col>CVT09_s99_X021</th></tr>\n",
       "\t<tr><th></th><th scope=col>&lt;dbl&gt;</th><th scope=col>&lt;dbl&gt;</th><th scope=col>&lt;dbl&gt;</th><th scope=col>&lt;dbl&gt;</th><th scope=col>&lt;dbl&gt;</th><th scope=col>&lt;dbl&gt;</th><th scope=col>&lt;dbl&gt;</th><th scope=col>&lt;dbl&gt;</th><th scope=col>&lt;dbl&gt;</th><th scope=col>&lt;dbl&gt;</th><th scope=col>⋯</th><th scope=col>&lt;dbl&gt;</th><th scope=col>&lt;dbl&gt;</th><th scope=col>&lt;dbl&gt;</th><th scope=col>&lt;dbl&gt;</th><th scope=col>&lt;dbl&gt;</th><th scope=col>&lt;dbl&gt;</th><th scope=col>&lt;dbl&gt;</th><th scope=col>&lt;dbl&gt;</th><th scope=col>&lt;dbl&gt;</th><th scope=col>&lt;dbl&gt;</th></tr>\n",
       "</thead>\n",
       "<tbody>\n",
       "\t<tr><th scope=row>A5A614</th><td>19.59722</td><td>19.63527</td><td>19.29085</td><td>19.22962</td><td>19.17200</td><td>18.82606</td><td>18.47446</td><td>18.69794</td><td>19.73327</td><td>19.80267</td><td>⋯</td><td>18.89630</td><td>      NA</td><td>18.96889</td><td>18.88278</td><td>18.81896</td><td>18.44805</td><td>18.64991</td><td>      NA</td><td>19.31842</td><td>18.45111</td></tr>\n",
       "\t<tr><th scope=row>O32583</th><td>20.13940</td><td>20.32151</td><td>20.41263</td><td>20.32826</td><td>19.98819</td><td>19.88644</td><td>19.05726</td><td>20.19234</td><td>20.26307</td><td>19.80881</td><td>⋯</td><td>      NA</td><td>      NA</td><td>      NA</td><td>19.15097</td><td>19.97514</td><td>      NA</td><td>      NA</td><td>      NA</td><td>      NA</td><td>      NA</td></tr>\n",
       "\t<tr><th scope=row>P00350</th><td>26.46399</td><td>26.54430</td><td>26.49451</td><td>26.53334</td><td>26.67013</td><td>26.66674</td><td>26.70791</td><td>26.73010</td><td>26.66500</td><td>26.58467</td><td>⋯</td><td>26.74266</td><td>26.79849</td><td>26.74247</td><td>26.75681</td><td>26.77118</td><td>26.76576</td><td>26.71698</td><td>26.74635</td><td>26.71519</td><td>26.74117</td></tr>\n",
       "\t<tr><th scope=row>P00363</th><td>24.18471</td><td>24.19133</td><td>24.26651</td><td>24.25851</td><td>24.26212</td><td>24.31023</td><td>24.11584</td><td>24.11355</td><td>24.16982</td><td>24.11679</td><td>⋯</td><td>23.93092</td><td>23.81155</td><td>23.64283</td><td>23.86221</td><td>24.01495</td><td>23.83545</td><td>23.83399</td><td>23.92455</td><td>23.97780</td><td>23.80401</td></tr>\n",
       "\t<tr><th scope=row>P00370</th><td>25.57339</td><td>25.58858</td><td>25.49763</td><td>25.47360</td><td>26.18039</td><td>26.13536</td><td>26.02937</td><td>25.97825</td><td>25.47854</td><td>25.43161</td><td>⋯</td><td>25.93167</td><td>25.92334</td><td>25.86242</td><td>25.78598</td><td>25.97907</td><td>25.95999</td><td>25.89339</td><td>25.93304</td><td>26.03555</td><td>25.77288</td></tr>\n",
       "\t<tr><th scope=row>P00393</th><td>23.93275</td><td>23.94527</td><td>23.98156</td><td>23.97987</td><td>23.86229</td><td>23.86701</td><td>23.96535</td><td>24.00174</td><td>23.70935</td><td>23.94746</td><td>⋯</td><td>23.89696</td><td>23.78159</td><td>23.95530</td><td>23.78495</td><td>23.80077</td><td>23.90782</td><td>23.90680</td><td>23.85752</td><td>23.84160</td><td>23.97591</td></tr>\n",
       "</tbody>\n",
       "</table>\n"
      ],
      "text/latex": [
       "A data.frame: 6 × 99\n",
       "\\begin{tabular}{r|lllllllllllllllllllll}\n",
       "  & Ref8537\\_QC1\\_20230414\\_1 & Ref8537\\_QC1\\_20230414\\_2 & Ref8537\\_QC2\\_20230414\\_1 & Ref8537\\_QC2\\_20230414\\_2 & Ref8537\\_QC3\\_20230414\\_1 & Ref8537\\_QC3\\_20230414\\_2 & Ref8537\\_QC4\\_20230414\\_1 & Ref8537\\_QC4\\_20230414\\_2 & Ref8537\\_S4\\_20230414 & Ref8537\\_S8\\_20230414 & ⋯ & CVT09\\_s55\\_X012 & CVT09\\_s59\\_X013 & CVT09\\_s61\\_X014 & CVT09\\_s67\\_X015 & CVT09\\_s73\\_X016 & CVT09\\_s77\\_X017 & CVT09\\_s84\\_X018 & CVT09\\_s90\\_X019 & CVT09\\_s93\\_X020 & CVT09\\_s99\\_X021\\\\\n",
       "  & <dbl> & <dbl> & <dbl> & <dbl> & <dbl> & <dbl> & <dbl> & <dbl> & <dbl> & <dbl> & ⋯ & <dbl> & <dbl> & <dbl> & <dbl> & <dbl> & <dbl> & <dbl> & <dbl> & <dbl> & <dbl>\\\\\n",
       "\\hline\n",
       "\tA5A614 & 19.59722 & 19.63527 & 19.29085 & 19.22962 & 19.17200 & 18.82606 & 18.47446 & 18.69794 & 19.73327 & 19.80267 & ⋯ & 18.89630 &       NA & 18.96889 & 18.88278 & 18.81896 & 18.44805 & 18.64991 &       NA & 19.31842 & 18.45111\\\\\n",
       "\tO32583 & 20.13940 & 20.32151 & 20.41263 & 20.32826 & 19.98819 & 19.88644 & 19.05726 & 20.19234 & 20.26307 & 19.80881 & ⋯ &       NA &       NA &       NA & 19.15097 & 19.97514 &       NA &       NA &       NA &       NA &       NA\\\\\n",
       "\tP00350 & 26.46399 & 26.54430 & 26.49451 & 26.53334 & 26.67013 & 26.66674 & 26.70791 & 26.73010 & 26.66500 & 26.58467 & ⋯ & 26.74266 & 26.79849 & 26.74247 & 26.75681 & 26.77118 & 26.76576 & 26.71698 & 26.74635 & 26.71519 & 26.74117\\\\\n",
       "\tP00363 & 24.18471 & 24.19133 & 24.26651 & 24.25851 & 24.26212 & 24.31023 & 24.11584 & 24.11355 & 24.16982 & 24.11679 & ⋯ & 23.93092 & 23.81155 & 23.64283 & 23.86221 & 24.01495 & 23.83545 & 23.83399 & 23.92455 & 23.97780 & 23.80401\\\\\n",
       "\tP00370 & 25.57339 & 25.58858 & 25.49763 & 25.47360 & 26.18039 & 26.13536 & 26.02937 & 25.97825 & 25.47854 & 25.43161 & ⋯ & 25.93167 & 25.92334 & 25.86242 & 25.78598 & 25.97907 & 25.95999 & 25.89339 & 25.93304 & 26.03555 & 25.77288\\\\\n",
       "\tP00393 & 23.93275 & 23.94527 & 23.98156 & 23.97987 & 23.86229 & 23.86701 & 23.96535 & 24.00174 & 23.70935 & 23.94746 & ⋯ & 23.89696 & 23.78159 & 23.95530 & 23.78495 & 23.80077 & 23.90782 & 23.90680 & 23.85752 & 23.84160 & 23.97591\\\\\n",
       "\\end{tabular}\n"
      ],
      "text/markdown": [
       "\n",
       "A data.frame: 6 × 99\n",
       "\n",
       "| <!--/--> | Ref8537_QC1_20230414_1 &lt;dbl&gt; | Ref8537_QC1_20230414_2 &lt;dbl&gt; | Ref8537_QC2_20230414_1 &lt;dbl&gt; | Ref8537_QC2_20230414_2 &lt;dbl&gt; | Ref8537_QC3_20230414_1 &lt;dbl&gt; | Ref8537_QC3_20230414_2 &lt;dbl&gt; | Ref8537_QC4_20230414_1 &lt;dbl&gt; | Ref8537_QC4_20230414_2 &lt;dbl&gt; | Ref8537_S4_20230414 &lt;dbl&gt; | Ref8537_S8_20230414 &lt;dbl&gt; | ⋯ ⋯ | CVT09_s55_X012 &lt;dbl&gt; | CVT09_s59_X013 &lt;dbl&gt; | CVT09_s61_X014 &lt;dbl&gt; | CVT09_s67_X015 &lt;dbl&gt; | CVT09_s73_X016 &lt;dbl&gt; | CVT09_s77_X017 &lt;dbl&gt; | CVT09_s84_X018 &lt;dbl&gt; | CVT09_s90_X019 &lt;dbl&gt; | CVT09_s93_X020 &lt;dbl&gt; | CVT09_s99_X021 &lt;dbl&gt; |\n",
       "|---|---|---|---|---|---|---|---|---|---|---|---|---|---|---|---|---|---|---|---|---|---|\n",
       "| A5A614 | 19.59722 | 19.63527 | 19.29085 | 19.22962 | 19.17200 | 18.82606 | 18.47446 | 18.69794 | 19.73327 | 19.80267 | ⋯ | 18.89630 |       NA | 18.96889 | 18.88278 | 18.81896 | 18.44805 | 18.64991 |       NA | 19.31842 | 18.45111 |\n",
       "| O32583 | 20.13940 | 20.32151 | 20.41263 | 20.32826 | 19.98819 | 19.88644 | 19.05726 | 20.19234 | 20.26307 | 19.80881 | ⋯ |       NA |       NA |       NA | 19.15097 | 19.97514 |       NA |       NA |       NA |       NA |       NA |\n",
       "| P00350 | 26.46399 | 26.54430 | 26.49451 | 26.53334 | 26.67013 | 26.66674 | 26.70791 | 26.73010 | 26.66500 | 26.58467 | ⋯ | 26.74266 | 26.79849 | 26.74247 | 26.75681 | 26.77118 | 26.76576 | 26.71698 | 26.74635 | 26.71519 | 26.74117 |\n",
       "| P00363 | 24.18471 | 24.19133 | 24.26651 | 24.25851 | 24.26212 | 24.31023 | 24.11584 | 24.11355 | 24.16982 | 24.11679 | ⋯ | 23.93092 | 23.81155 | 23.64283 | 23.86221 | 24.01495 | 23.83545 | 23.83399 | 23.92455 | 23.97780 | 23.80401 |\n",
       "| P00370 | 25.57339 | 25.58858 | 25.49763 | 25.47360 | 26.18039 | 26.13536 | 26.02937 | 25.97825 | 25.47854 | 25.43161 | ⋯ | 25.93167 | 25.92334 | 25.86242 | 25.78598 | 25.97907 | 25.95999 | 25.89339 | 25.93304 | 26.03555 | 25.77288 |\n",
       "| P00393 | 23.93275 | 23.94527 | 23.98156 | 23.97987 | 23.86229 | 23.86701 | 23.96535 | 24.00174 | 23.70935 | 23.94746 | ⋯ | 23.89696 | 23.78159 | 23.95530 | 23.78495 | 23.80077 | 23.90782 | 23.90680 | 23.85752 | 23.84160 | 23.97591 |\n",
       "\n"
      ],
      "text/plain": [
       "       Ref8537_QC1_20230414_1 Ref8537_QC1_20230414_2 Ref8537_QC2_20230414_1\n",
       "A5A614 19.59722               19.63527               19.29085              \n",
       "O32583 20.13940               20.32151               20.41263              \n",
       "P00350 26.46399               26.54430               26.49451              \n",
       "P00363 24.18471               24.19133               24.26651              \n",
       "P00370 25.57339               25.58858               25.49763              \n",
       "P00393 23.93275               23.94527               23.98156              \n",
       "       Ref8537_QC2_20230414_2 Ref8537_QC3_20230414_1 Ref8537_QC3_20230414_2\n",
       "A5A614 19.22962               19.17200               18.82606              \n",
       "O32583 20.32826               19.98819               19.88644              \n",
       "P00350 26.53334               26.67013               26.66674              \n",
       "P00363 24.25851               24.26212               24.31023              \n",
       "P00370 25.47360               26.18039               26.13536              \n",
       "P00393 23.97987               23.86229               23.86701              \n",
       "       Ref8537_QC4_20230414_1 Ref8537_QC4_20230414_2 Ref8537_S4_20230414\n",
       "A5A614 18.47446               18.69794               19.73327           \n",
       "O32583 19.05726               20.19234               20.26307           \n",
       "P00350 26.70791               26.73010               26.66500           \n",
       "P00363 24.11584               24.11355               24.16982           \n",
       "P00370 26.02937               25.97825               25.47854           \n",
       "P00393 23.96535               24.00174               23.70935           \n",
       "       Ref8537_S8_20230414 ⋯ CVT09_s55_X012 CVT09_s59_X013 CVT09_s61_X014\n",
       "A5A614 19.80267            ⋯ 18.89630             NA       18.96889      \n",
       "O32583 19.80881            ⋯       NA             NA             NA      \n",
       "P00350 26.58467            ⋯ 26.74266       26.79849       26.74247      \n",
       "P00363 24.11679            ⋯ 23.93092       23.81155       23.64283      \n",
       "P00370 25.43161            ⋯ 25.93167       25.92334       25.86242      \n",
       "P00393 23.94746            ⋯ 23.89696       23.78159       23.95530      \n",
       "       CVT09_s67_X015 CVT09_s73_X016 CVT09_s77_X017 CVT09_s84_X018\n",
       "A5A614 18.88278       18.81896       18.44805       18.64991      \n",
       "O32583 19.15097       19.97514             NA             NA      \n",
       "P00350 26.75681       26.77118       26.76576       26.71698      \n",
       "P00363 23.86221       24.01495       23.83545       23.83399      \n",
       "P00370 25.78598       25.97907       25.95999       25.89339      \n",
       "P00393 23.78495       23.80077       23.90782       23.90680      \n",
       "       CVT09_s90_X019 CVT09_s93_X020 CVT09_s99_X021\n",
       "A5A614       NA       19.31842       18.45111      \n",
       "O32583       NA             NA             NA      \n",
       "P00350 26.74635       26.71519       26.74117      \n",
       "P00363 23.92455       23.97780       23.80401      \n",
       "P00370 25.93304       26.03555       25.77288      \n",
       "P00393 23.85752       23.84160       23.97591      "
      ]
     },
     "metadata": {},
     "output_type": "display_data"
    }
   ],
   "source": [
    "cured_central <- read.csv(\"/home/yuliya/repos/cosybio/removeBatch/results/central_cured.csv\", sep='\\t', row.names = 1)\n",
    "dim(cured_central)\n",
    "head(cured_central)"
   ]
  },
  {
   "cell_type": "code",
   "execution_count": 19,
   "metadata": {
    "vscode": {
     "languageId": "r"
    }
   },
   "outputs": [
    {
     "name": "stderr",
     "output_type": "stream",
     "text": [
      "Warning message:\n",
      "“\u001b[1m\u001b[22mRemoved 4470 rows containing non-finite values (`stat_boxplot()`).”\n",
      "Warning message:\n",
      "“\u001b[1m\u001b[22mRemoved 4470 rows containing non-finite values (`stat_summary()`).”\n",
      "\u001b[1m\u001b[22mSaving 6.67 x 6.67 in image\n"
     ]
    }
   ],
   "source": [
    "plot_name_prefix <- paste0(\"/home/yuliya/repos/cosybio/removeBatch/plots/\", \"R_after_correction\")\n",
    "subname <- \"A_B_conditions\"\n",
    "number <- \"02\"\n",
    "plot_three_plots(cured_central, batch_info_ref, plot_name_prefix, subname, number)\n"
   ]
  },
  {
   "cell_type": "markdown",
   "metadata": {},
   "source": [
    "## federated"
   ]
  },
  {
   "cell_type": "code",
   "execution_count": 32,
   "metadata": {
    "vscode": {
     "languageId": "r"
    }
   },
   "outputs": [
    {
     "data": {
      "text/html": [
       "<style>\n",
       ".list-inline {list-style: none; margin:0; padding: 0}\n",
       ".list-inline>li {display: inline-block}\n",
       ".list-inline>li:not(:last-child)::after {content: \"\\00b7\"; padding: 0 .5ex}\n",
       "</style>\n",
       "<ol class=list-inline><li>2336</li><li>99</li></ol>\n"
      ],
      "text/latex": [
       "\\begin{enumerate*}\n",
       "\\item 2336\n",
       "\\item 99\n",
       "\\end{enumerate*}\n"
      ],
      "text/markdown": [
       "1. 2336\n",
       "2. 99\n",
       "\n",
       "\n"
      ],
      "text/plain": [
       "[1] 2336   99"
      ]
     },
     "metadata": {},
     "output_type": "display_data"
    },
    {
     "data": {
      "text/html": [
       "<table class=\"dataframe\">\n",
       "<caption>A data.frame: 6 × 99</caption>\n",
       "<thead>\n",
       "\t<tr><th></th><th scope=col>Ref8537_QC1_20230414_1</th><th scope=col>Ref8537_QC1_20230414_2</th><th scope=col>Ref8537_QC2_20230414_1</th><th scope=col>Ref8537_QC2_20230414_2</th><th scope=col>Ref8537_QC3_20230414_1</th><th scope=col>Ref8537_QC3_20230414_2</th><th scope=col>Ref8537_QC4_20230414_1</th><th scope=col>Ref8537_QC4_20230414_2</th><th scope=col>Ref8537_S4_20230414</th><th scope=col>Ref8537_S8_20230414</th><th scope=col>⋯</th><th scope=col>CVT09_s55_X012</th><th scope=col>CVT09_s59_X013</th><th scope=col>CVT09_s61_X014</th><th scope=col>CVT09_s67_X015</th><th scope=col>CVT09_s73_X016</th><th scope=col>CVT09_s77_X017</th><th scope=col>CVT09_s84_X018</th><th scope=col>CVT09_s90_X019</th><th scope=col>CVT09_s93_X020</th><th scope=col>CVT09_s99_X021</th></tr>\n",
       "\t<tr><th></th><th scope=col>&lt;dbl&gt;</th><th scope=col>&lt;dbl&gt;</th><th scope=col>&lt;dbl&gt;</th><th scope=col>&lt;dbl&gt;</th><th scope=col>&lt;dbl&gt;</th><th scope=col>&lt;dbl&gt;</th><th scope=col>&lt;dbl&gt;</th><th scope=col>&lt;dbl&gt;</th><th scope=col>&lt;dbl&gt;</th><th scope=col>&lt;dbl&gt;</th><th scope=col>⋯</th><th scope=col>&lt;dbl&gt;</th><th scope=col>&lt;dbl&gt;</th><th scope=col>&lt;dbl&gt;</th><th scope=col>&lt;dbl&gt;</th><th scope=col>&lt;dbl&gt;</th><th scope=col>&lt;dbl&gt;</th><th scope=col>&lt;dbl&gt;</th><th scope=col>&lt;dbl&gt;</th><th scope=col>&lt;dbl&gt;</th><th scope=col>&lt;dbl&gt;</th></tr>\n",
       "</thead>\n",
       "<tbody>\n",
       "\t<tr><th scope=row>A5A614</th><td>19.59722</td><td>19.63527</td><td>19.29085</td><td>19.22962</td><td>19.17200</td><td>18.82606</td><td>18.47446</td><td>18.69794</td><td>19.73327</td><td>19.80267</td><td>⋯</td><td>18.89630</td><td>      NA</td><td>18.96889</td><td>18.88278</td><td>18.81896</td><td>18.44805</td><td>18.64991</td><td>      NA</td><td>19.31842</td><td>18.45111</td></tr>\n",
       "\t<tr><th scope=row>O32583</th><td>20.13940</td><td>20.32151</td><td>20.41263</td><td>20.32826</td><td>19.98819</td><td>19.88644</td><td>19.05726</td><td>20.19234</td><td>20.26307</td><td>19.80881</td><td>⋯</td><td>      NA</td><td>      NA</td><td>      NA</td><td>19.15097</td><td>19.97514</td><td>      NA</td><td>      NA</td><td>      NA</td><td>      NA</td><td>      NA</td></tr>\n",
       "\t<tr><th scope=row>P00350</th><td>26.46399</td><td>26.54430</td><td>26.49451</td><td>26.53334</td><td>26.67013</td><td>26.66674</td><td>26.70791</td><td>26.73010</td><td>26.66500</td><td>26.58467</td><td>⋯</td><td>26.74266</td><td>26.79849</td><td>26.74247</td><td>26.75681</td><td>26.77118</td><td>26.76576</td><td>26.71698</td><td>26.74635</td><td>26.71519</td><td>26.74117</td></tr>\n",
       "\t<tr><th scope=row>P00363</th><td>24.18471</td><td>24.19133</td><td>24.26651</td><td>24.25851</td><td>24.26212</td><td>24.31023</td><td>24.11584</td><td>24.11355</td><td>24.16982</td><td>24.11679</td><td>⋯</td><td>23.93092</td><td>23.81155</td><td>23.64283</td><td>23.86221</td><td>24.01495</td><td>23.83545</td><td>23.83399</td><td>23.92455</td><td>23.97780</td><td>23.80401</td></tr>\n",
       "\t<tr><th scope=row>P00370</th><td>25.57339</td><td>25.58858</td><td>25.49763</td><td>25.47360</td><td>26.18039</td><td>26.13536</td><td>26.02937</td><td>25.97825</td><td>25.47854</td><td>25.43161</td><td>⋯</td><td>25.93167</td><td>25.92334</td><td>25.86242</td><td>25.78598</td><td>25.97907</td><td>25.95999</td><td>25.89339</td><td>25.93304</td><td>26.03555</td><td>25.77288</td></tr>\n",
       "\t<tr><th scope=row>P00393</th><td>23.93275</td><td>23.94527</td><td>23.98156</td><td>23.97987</td><td>23.86229</td><td>23.86701</td><td>23.96535</td><td>24.00174</td><td>23.70935</td><td>23.94746</td><td>⋯</td><td>23.89696</td><td>23.78159</td><td>23.95530</td><td>23.78495</td><td>23.80077</td><td>23.90782</td><td>23.90680</td><td>23.85752</td><td>23.84160</td><td>23.97591</td></tr>\n",
       "</tbody>\n",
       "</table>\n"
      ],
      "text/latex": [
       "A data.frame: 6 × 99\n",
       "\\begin{tabular}{r|lllllllllllllllllllll}\n",
       "  & Ref8537\\_QC1\\_20230414\\_1 & Ref8537\\_QC1\\_20230414\\_2 & Ref8537\\_QC2\\_20230414\\_1 & Ref8537\\_QC2\\_20230414\\_2 & Ref8537\\_QC3\\_20230414\\_1 & Ref8537\\_QC3\\_20230414\\_2 & Ref8537\\_QC4\\_20230414\\_1 & Ref8537\\_QC4\\_20230414\\_2 & Ref8537\\_S4\\_20230414 & Ref8537\\_S8\\_20230414 & ⋯ & CVT09\\_s55\\_X012 & CVT09\\_s59\\_X013 & CVT09\\_s61\\_X014 & CVT09\\_s67\\_X015 & CVT09\\_s73\\_X016 & CVT09\\_s77\\_X017 & CVT09\\_s84\\_X018 & CVT09\\_s90\\_X019 & CVT09\\_s93\\_X020 & CVT09\\_s99\\_X021\\\\\n",
       "  & <dbl> & <dbl> & <dbl> & <dbl> & <dbl> & <dbl> & <dbl> & <dbl> & <dbl> & <dbl> & ⋯ & <dbl> & <dbl> & <dbl> & <dbl> & <dbl> & <dbl> & <dbl> & <dbl> & <dbl> & <dbl>\\\\\n",
       "\\hline\n",
       "\tA5A614 & 19.59722 & 19.63527 & 19.29085 & 19.22962 & 19.17200 & 18.82606 & 18.47446 & 18.69794 & 19.73327 & 19.80267 & ⋯ & 18.89630 &       NA & 18.96889 & 18.88278 & 18.81896 & 18.44805 & 18.64991 &       NA & 19.31842 & 18.45111\\\\\n",
       "\tO32583 & 20.13940 & 20.32151 & 20.41263 & 20.32826 & 19.98819 & 19.88644 & 19.05726 & 20.19234 & 20.26307 & 19.80881 & ⋯ &       NA &       NA &       NA & 19.15097 & 19.97514 &       NA &       NA &       NA &       NA &       NA\\\\\n",
       "\tP00350 & 26.46399 & 26.54430 & 26.49451 & 26.53334 & 26.67013 & 26.66674 & 26.70791 & 26.73010 & 26.66500 & 26.58467 & ⋯ & 26.74266 & 26.79849 & 26.74247 & 26.75681 & 26.77118 & 26.76576 & 26.71698 & 26.74635 & 26.71519 & 26.74117\\\\\n",
       "\tP00363 & 24.18471 & 24.19133 & 24.26651 & 24.25851 & 24.26212 & 24.31023 & 24.11584 & 24.11355 & 24.16982 & 24.11679 & ⋯ & 23.93092 & 23.81155 & 23.64283 & 23.86221 & 24.01495 & 23.83545 & 23.83399 & 23.92455 & 23.97780 & 23.80401\\\\\n",
       "\tP00370 & 25.57339 & 25.58858 & 25.49763 & 25.47360 & 26.18039 & 26.13536 & 26.02937 & 25.97825 & 25.47854 & 25.43161 & ⋯ & 25.93167 & 25.92334 & 25.86242 & 25.78598 & 25.97907 & 25.95999 & 25.89339 & 25.93304 & 26.03555 & 25.77288\\\\\n",
       "\tP00393 & 23.93275 & 23.94527 & 23.98156 & 23.97987 & 23.86229 & 23.86701 & 23.96535 & 24.00174 & 23.70935 & 23.94746 & ⋯ & 23.89696 & 23.78159 & 23.95530 & 23.78495 & 23.80077 & 23.90782 & 23.90680 & 23.85752 & 23.84160 & 23.97591\\\\\n",
       "\\end{tabular}\n"
      ],
      "text/markdown": [
       "\n",
       "A data.frame: 6 × 99\n",
       "\n",
       "| <!--/--> | Ref8537_QC1_20230414_1 &lt;dbl&gt; | Ref8537_QC1_20230414_2 &lt;dbl&gt; | Ref8537_QC2_20230414_1 &lt;dbl&gt; | Ref8537_QC2_20230414_2 &lt;dbl&gt; | Ref8537_QC3_20230414_1 &lt;dbl&gt; | Ref8537_QC3_20230414_2 &lt;dbl&gt; | Ref8537_QC4_20230414_1 &lt;dbl&gt; | Ref8537_QC4_20230414_2 &lt;dbl&gt; | Ref8537_S4_20230414 &lt;dbl&gt; | Ref8537_S8_20230414 &lt;dbl&gt; | ⋯ ⋯ | CVT09_s55_X012 &lt;dbl&gt; | CVT09_s59_X013 &lt;dbl&gt; | CVT09_s61_X014 &lt;dbl&gt; | CVT09_s67_X015 &lt;dbl&gt; | CVT09_s73_X016 &lt;dbl&gt; | CVT09_s77_X017 &lt;dbl&gt; | CVT09_s84_X018 &lt;dbl&gt; | CVT09_s90_X019 &lt;dbl&gt; | CVT09_s93_X020 &lt;dbl&gt; | CVT09_s99_X021 &lt;dbl&gt; |\n",
       "|---|---|---|---|---|---|---|---|---|---|---|---|---|---|---|---|---|---|---|---|---|---|\n",
       "| A5A614 | 19.59722 | 19.63527 | 19.29085 | 19.22962 | 19.17200 | 18.82606 | 18.47446 | 18.69794 | 19.73327 | 19.80267 | ⋯ | 18.89630 |       NA | 18.96889 | 18.88278 | 18.81896 | 18.44805 | 18.64991 |       NA | 19.31842 | 18.45111 |\n",
       "| O32583 | 20.13940 | 20.32151 | 20.41263 | 20.32826 | 19.98819 | 19.88644 | 19.05726 | 20.19234 | 20.26307 | 19.80881 | ⋯ |       NA |       NA |       NA | 19.15097 | 19.97514 |       NA |       NA |       NA |       NA |       NA |\n",
       "| P00350 | 26.46399 | 26.54430 | 26.49451 | 26.53334 | 26.67013 | 26.66674 | 26.70791 | 26.73010 | 26.66500 | 26.58467 | ⋯ | 26.74266 | 26.79849 | 26.74247 | 26.75681 | 26.77118 | 26.76576 | 26.71698 | 26.74635 | 26.71519 | 26.74117 |\n",
       "| P00363 | 24.18471 | 24.19133 | 24.26651 | 24.25851 | 24.26212 | 24.31023 | 24.11584 | 24.11355 | 24.16982 | 24.11679 | ⋯ | 23.93092 | 23.81155 | 23.64283 | 23.86221 | 24.01495 | 23.83545 | 23.83399 | 23.92455 | 23.97780 | 23.80401 |\n",
       "| P00370 | 25.57339 | 25.58858 | 25.49763 | 25.47360 | 26.18039 | 26.13536 | 26.02937 | 25.97825 | 25.47854 | 25.43161 | ⋯ | 25.93167 | 25.92334 | 25.86242 | 25.78598 | 25.97907 | 25.95999 | 25.89339 | 25.93304 | 26.03555 | 25.77288 |\n",
       "| P00393 | 23.93275 | 23.94527 | 23.98156 | 23.97987 | 23.86229 | 23.86701 | 23.96535 | 24.00174 | 23.70935 | 23.94746 | ⋯ | 23.89696 | 23.78159 | 23.95530 | 23.78495 | 23.80077 | 23.90782 | 23.90680 | 23.85752 | 23.84160 | 23.97591 |\n",
       "\n"
      ],
      "text/plain": [
       "       Ref8537_QC1_20230414_1 Ref8537_QC1_20230414_2 Ref8537_QC2_20230414_1\n",
       "A5A614 19.59722               19.63527               19.29085              \n",
       "O32583 20.13940               20.32151               20.41263              \n",
       "P00350 26.46399               26.54430               26.49451              \n",
       "P00363 24.18471               24.19133               24.26651              \n",
       "P00370 25.57339               25.58858               25.49763              \n",
       "P00393 23.93275               23.94527               23.98156              \n",
       "       Ref8537_QC2_20230414_2 Ref8537_QC3_20230414_1 Ref8537_QC3_20230414_2\n",
       "A5A614 19.22962               19.17200               18.82606              \n",
       "O32583 20.32826               19.98819               19.88644              \n",
       "P00350 26.53334               26.67013               26.66674              \n",
       "P00363 24.25851               24.26212               24.31023              \n",
       "P00370 25.47360               26.18039               26.13536              \n",
       "P00393 23.97987               23.86229               23.86701              \n",
       "       Ref8537_QC4_20230414_1 Ref8537_QC4_20230414_2 Ref8537_S4_20230414\n",
       "A5A614 18.47446               18.69794               19.73327           \n",
       "O32583 19.05726               20.19234               20.26307           \n",
       "P00350 26.70791               26.73010               26.66500           \n",
       "P00363 24.11584               24.11355               24.16982           \n",
       "P00370 26.02937               25.97825               25.47854           \n",
       "P00393 23.96535               24.00174               23.70935           \n",
       "       Ref8537_S8_20230414 ⋯ CVT09_s55_X012 CVT09_s59_X013 CVT09_s61_X014\n",
       "A5A614 19.80267            ⋯ 18.89630             NA       18.96889      \n",
       "O32583 19.80881            ⋯       NA             NA             NA      \n",
       "P00350 26.58467            ⋯ 26.74266       26.79849       26.74247      \n",
       "P00363 24.11679            ⋯ 23.93092       23.81155       23.64283      \n",
       "P00370 25.43161            ⋯ 25.93167       25.92334       25.86242      \n",
       "P00393 23.94746            ⋯ 23.89696       23.78159       23.95530      \n",
       "       CVT09_s67_X015 CVT09_s73_X016 CVT09_s77_X017 CVT09_s84_X018\n",
       "A5A614 18.88278       18.81896       18.44805       18.64991      \n",
       "O32583 19.15097       19.97514             NA             NA      \n",
       "P00350 26.75681       26.77118       26.76576       26.71698      \n",
       "P00363 23.86221       24.01495       23.83545       23.83399      \n",
       "P00370 25.78598       25.97907       25.95999       25.89339      \n",
       "P00393 23.78495       23.80077       23.90782       23.90680      \n",
       "       CVT09_s90_X019 CVT09_s93_X020 CVT09_s99_X021\n",
       "A5A614       NA       19.31842       18.45111      \n",
       "O32583       NA             NA             NA      \n",
       "P00350 26.74635       26.71519       26.74117      \n",
       "P00363 23.92455       23.97780       23.80401      \n",
       "P00370 25.93304       26.03555       25.77288      \n",
       "P00393 23.85752       23.84160       23.97591      "
      ]
     },
     "metadata": {},
     "output_type": "display_data"
    }
   ],
   "source": [
    "cohorts <- c('lab_A', 'lab_C', 'lab_D', 'lab_E')\n",
    "\n",
    "cured_federated <- NULL\n",
    "\n",
    "for(c in cohorts) {\n",
    "  file_path <- paste0(\"/home/yuliya/repos/cosybio/removeBatch/results/\", c, \"_intensities_corrected.tsv\")\n",
    "  temp_df <- read.csv(file_path, sep='\\t', row.names = 1)\n",
    "\n",
    "  # Combine the dataframes\n",
    "  if (is.null(cured_federated)) {\n",
    "    cured_federated <- temp_df\n",
    "  } else {\n",
    "    cured_federated <- cbind(cured_federated, temp_df)\n",
    "  }\n",
    "}\n",
    "\n",
    "cured_federated <- cured_federated[rownames(cured_central), colnames(cured_central)]\n",
    "dim(cured_federated)\n",
    "head(cured_federated)"
   ]
  },
  {
   "cell_type": "code",
   "execution_count": 33,
   "metadata": {
    "vscode": {
     "languageId": "r"
    }
   },
   "outputs": [
    {
     "name": "stderr",
     "output_type": "stream",
     "text": [
      "Warning message:\n",
      "“\u001b[1m\u001b[22mRemoved 4470 rows containing non-finite values (`stat_boxplot()`).”\n",
      "Warning message:\n",
      "“\u001b[1m\u001b[22mRemoved 4470 rows containing non-finite values (`stat_summary()`).”\n",
      "\u001b[1m\u001b[22mSaving 6.67 x 6.67 in image\n"
     ]
    }
   ],
   "source": [
    "plot_name_prefix <- paste0(\"/home/yuliya/repos/cosybio/removeBatch/plots/\", \"FED_after_correction\")\n",
    "subname <- \"A_B_conditions\"\n",
    "number <- \"03\"\n",
    "plot_three_plots(cured_federated, batch_info_ref, plot_name_prefix, subname, number)\n"
   ]
  },
  {
   "cell_type": "markdown",
   "metadata": {},
   "source": [
    "## comparison "
   ]
  },
  {
   "cell_type": "code",
   "execution_count": 49,
   "metadata": {
    "vscode": {
     "languageId": "r"
    }
   },
   "outputs": [
    {
     "data": {
      "text/html": [
       "TRUE"
      ],
      "text/latex": [
       "TRUE"
      ],
      "text/markdown": [
       "TRUE"
      ],
      "text/plain": [
       "[1] TRUE"
      ]
     },
     "metadata": {},
     "output_type": "display_data"
    }
   ],
   "source": [
    "# identical?\n",
    "identical(round(cured_central, 6), round(cured_federated, 6))"
   ]
  },
  {
   "cell_type": "code",
   "execution_count": 50,
   "metadata": {
    "vscode": {
     "languageId": "r"
    }
   },
   "outputs": [
    {
     "data": {
      "text/html": [
       "TRUE"
      ],
      "text/latex": [
       "TRUE"
      ],
      "text/markdown": [
       "TRUE"
      ],
      "text/plain": [
       "[1] TRUE"
      ]
     },
     "metadata": {},
     "output_type": "display_data"
    }
   ],
   "source": [
    "# Check Row-by-Row and Column-by-Column Equality\n",
    "all.equal(cured_central, cured_federated)\n"
   ]
  },
  {
   "cell_type": "code",
   "execution_count": 68,
   "metadata": {
    "vscode": {
     "languageId": "r"
    }
   },
   "outputs": [
    {
     "data": {
      "text/html": [
       "3.3262871994264e-14"
      ],
      "text/latex": [
       "3.3262871994264e-14"
      ],
      "text/markdown": [
       "3.3262871994264e-14"
      ],
      "text/plain": [
       "[1] 3.326287e-14"
      ]
     },
     "metadata": {},
     "output_type": "display_data"
    }
   ],
   "source": [
    "# Calculate the mean of the absolute differences, removing NA's\n",
    "difference <- cured_central - cured_federated\n",
    "abs_difference <- abs(difference)\n",
    "mean_abs_difference <- mean(apply(abs_difference, c(1, 2), mean, na.rm = TRUE), na.rm = TRUE)\n",
    "mean_abs_difference"
   ]
  },
  {
   "cell_type": "code",
   "execution_count": null,
   "metadata": {
    "vscode": {
     "languageId": "r"
    }
   },
   "outputs": [],
   "source": []
  }
 ],
 "metadata": {
  "kernelspec": {
   "display_name": "R",
   "language": "R",
   "name": "ir"
  },
  "language_info": {
   "codemirror_mode": "r",
   "file_extension": ".r",
   "mimetype": "text/x-r-source",
   "name": "R",
   "pygments_lexer": "r",
   "version": "4.2.0"
  },
  "orig_nbformat": 4
 },
 "nbformat": 4,
 "nbformat_minor": 2
}
